{
 "cells": [
  {
   "cell_type": "code",
   "execution_count": 1,
   "id": "5ba9c52b-b04a-4285-a676-768fc007bee8",
   "metadata": {},
   "outputs": [],
   "source": [
    "import glob\n",
    "import os\n",
    "import subprocess\n",
    "import numpy as np\n",
    "import pandas as pd\n",
    "import math\n",
    "import time\n",
    "\n",
    "from tqdm import tqdm\n",
    "from pathlib import Path\n",
    "\n",
    "import re"
   ]
  },
  {
   "cell_type": "markdown",
   "id": "08d55b34-48d7-4a12-8bef-167d0365462d",
   "metadata": {},
   "source": [
    "# What's happening here?\n",
    "\n",
    "In this script we will load in all the video's and analyze them using OpenFace. \n",
    "The starting point of the experiment will be read in manually and this will be used to sync the video with the behavioral data. \n",
    "\n",
    "When the behavioral data is loaded in, a subindex for each trial can be made. \n",
    "On this information, averages will be run\n",
    "\n",
    "This information will be stored in a df\n",
    "- Resulting in a ppt x trial dataframe\n",
    "-- Also containing every mean action unit for the duration of exposure ++ Date (from file name)\n",
    "\n"
   ]
  },
  {
   "cell_type": "markdown",
   "id": "0d7afd8a-2448-45b7-aa01-a09e0f56f096",
   "metadata": {},
   "source": [
    "# Set Paths"
   ]
  },
  {
   "cell_type": "code",
   "execution_count": 2,
   "id": "bb32c566-a869-4c4b-a2a5-7f34a59998bb",
   "metadata": {},
   "outputs": [],
   "source": [
    "# Declare all directories:\n",
    "\n",
    "data_dir = Path('Z:/shares/ghepmk_data/2020_Kappen_PMS')\n",
    "\n",
    "# Create all relevant directories\n",
    "date_dir = \"06102021/\"\n",
    "data_all_dir = os.path.join(data_dir, date_dir)\n",
    "data_A_dir = os.path.join(data_dir, Path('10001'))\n",
    "data_B_dir = os.path.join(data_dir, Path('10002'))"
   ]
  },
  {
   "cell_type": "code",
   "execution_count": 10,
   "id": "5a1deb23-ac56-4214-ab8a-5e2e3754c82a",
   "metadata": {},
   "outputs": [],
   "source": [
    "def extract_video(filename: str, moment: str, date: str):\n",
    "    if moment == 'A':\n",
    "        file = data_A_dir + \"\\\\\" + filename\n",
    "        processed_dir = data_A_dir + '\\\\video_features'\n",
    "    elif moment == 'B':\n",
    "        file = data_B_dir + \"\\\\\" + filename\n",
    "        processed_dir = data_B_dir + '\\\\video_features\\\\bugtest2'\n",
    "\n",
    "    if not os.path.isfile(processed_dir + \"\\\\\" + filename[0:-5] + \".csv\"): # Check if the file not yet exists to be savvy about computing power\n",
    "        t = time.time()\n",
    "        # Run OpenSmile\n",
    "    #     subprocess.run(['C:\\\\Users\\\\mitch\\\\OneDrive - UGent\\\\UGent\\\\Topics\\\\Facial\\\\OpenFace_2.2.0_win_x64_new\\\\FeatureExtraction.exe',\n",
    "    #                         '-f', file, '-out_dir', processed_dir, \"-2Dfp\",   \"-3Dfp\", \"-pdmparams\", \"-pose\", \"-aus\", \"-gaze\", \"-hogalign\"])\n",
    "        subprocess.run(['D:\\\\UGent\\\\Topics\\\\Facial\\\\OpenFace_2.2.0_win_x64_new\\\\FeatureExtraction.exe',\n",
    "                            '-f', file, '-out_dir', processed_dir, \"-2Dfp\",   \"-3Dfp\", \"-pdmparams\", \"-pose\", \"-aus\", \"-gaze\", \"-hogalign\"])\n",
    "        if time.time() - t < 120: # check if it took less than 120 (this is an estimate of a good cut-off) seconds to analyze\n",
    "                print(\"Very fast processing video features for: \" + filename + \". Check whether everything has gone well!\")\n",
    "    "
   ]
  },
  {
   "cell_type": "markdown",
   "id": "31a0858d-fff6-4b72-9ca2-58fa9352daa7",
   "metadata": {},
   "source": [
    "# Testmoment A"
   ]
  },
  {
   "cell_type": "code",
   "execution_count": 25,
   "id": "78c5243d-1148-45b2-966d-eb8c01855255",
   "metadata": {},
   "outputs": [],
   "source": [
    "os.chdir(data_A_dir)\n",
    "AVid = glob.glob(\"video_{ParticipantNo*\" + \"*.webm\", recursive = True) # get all webm's in directory\n",
    "AVidID = []\n",
    "CSVy_n = []\n",
    "\n",
    "for index, item in enumerate(AVid):\n",
    "    AVidID.append(AVid[index].split(\"video_{ParticipantNo}_\")[1][0:3])\n",
    "        \n",
    "AVidID = set(AVidID)\n",
    "demographics = pd.read_csv(data_all_dir + \"cleanData.csv\", encoding = \"ISO-8859-1\")"
   ]
  },
  {
   "cell_type": "code",
   "execution_count": 26,
   "id": "364a0767-844c-4ef9-b8f8-d8d68ea9b450",
   "metadata": {},
   "outputs": [],
   "source": [
    "exclude = ['&à&', # Weird shit\n",
    "           '667', # Two files, 16-7 and 12-8. See also behavioral file\n",
    "           '546', # Two files, 12-5 and 1-6. However, didn't get flagged for behavioral data. Check\n",
    "           '661', # Two files, see behavioral file\n",
    "           '517', # Two files, 17-6 and 11-6. Not flagged in behavioral data. Check\n",
    "          ]"
   ]
  },
  {
   "cell_type": "code",
   "execution_count": 27,
   "id": "969819d4-6f8b-427f-95d6-1a7086a09a73",
   "metadata": {
    "scrolled": true,
    "tags": []
   },
   "outputs": [
    {
     "name": "stderr",
     "output_type": "stream",
     "text": [
      "  1%|▉                                                                                 | 3/266 [00:00<00:11, 23.67it/s]"
     ]
    },
    {
     "name": "stdout",
     "output_type": "stream",
     "text": [
      "Currently processing video features for: video_{ParticipantNo}_186_26-11-2020.webm\n",
      "Currently processing video features for: video_{ParticipantNo}_134_3-10-2020.webm\n",
      "Currently processing video features for: video_{ParticipantNo}_274_29-11-2020.webm\n",
      "Currently processing video features for: video_{ParticipantNo}_308_4-12-2020.webm\n",
      "Currently processing video features for: video_{ParticipantNo}_447_5-4-2021.webm\n"
     ]
    },
    {
     "name": "stderr",
     "output_type": "stream",
     "text": [
      "  3%|██▊                                                                               | 9/266 [00:00<00:11, 23.23it/s]"
     ]
    },
    {
     "name": "stdout",
     "output_type": "stream",
     "text": [
      "Currently processing video features for: video_{ParticipantNo}_524_19-5-2021.webm\n",
      "Currently processing video features for: video_{ParticipantNo}_542_21-5-2021.webm\n",
      "Currently processing video features for: video_{ParticipantNo}_579_2-5-2021.webm\n",
      "Currently processing video features for: video_{ParticipantNo}_137_9-11-2020.webm\n",
      "Currently processing video features for: video_{ParticipantNo}_577_22-5-2021.webm\n"
     ]
    },
    {
     "name": "stderr",
     "output_type": "stream",
     "text": [
      "  5%|███▋                                                                             | 12/266 [00:00<00:11, 22.93it/s]"
     ]
    },
    {
     "name": "stdout",
     "output_type": "stream",
     "text": [
      "Currently processing video features for: video_{ParticipantNo}_250_2-12-2020.webm\n",
      "Currently processing video features for: video_{ParticipantNo}_485_17-5-2021.webm\n",
      "Currently processing video features for: video_{ParticipantNo}_610_28-4-2021.webm\n",
      "Currently processing video features for: video_{ParticipantNo}_150_21-5-2021.webm\n",
      "Currently processing video features for: video_{ParticipantNo}_552_12-6-2021.webm\n"
     ]
    },
    {
     "name": "stderr",
     "output_type": "stream",
     "text": [
      "  7%|█████▍                                                                           | 18/266 [00:00<00:10, 22.55it/s]"
     ]
    },
    {
     "name": "stdout",
     "output_type": "stream",
     "text": [
      "Currently processing video features for: video_{ParticipantNo}_461_23-3-2021.webm\n",
      "Currently processing video features for: video_{ParticipantNo}_538_23-5-2021.webm\n",
      "Currently processing video features for: video_{ParticipantNo}_415_1-2-2021.webm\n",
      "Currently processing video features for: video_{ParticipantNo}_676_7-8-2021.webm\n",
      "Currently processing video features for: video_{ParticipantNo}_181_4-12-2020.webm\n"
     ]
    },
    {
     "name": "stderr",
     "output_type": "stream",
     "text": [
      "  9%|███████▎                                                                         | 24/266 [00:01<00:10, 23.03it/s]"
     ]
    },
    {
     "name": "stdout",
     "output_type": "stream",
     "text": [
      "Currently processing video features for: video_{ParticipantNo}_442_16-3-2021.webm\n",
      "Currently processing video features for: video_{ParticipantNo}_588_19-5-2021.webm\n",
      "Currently processing video features for: video_{ParticipantNo}_597_26-5-2021.webm\n",
      "Currently processing video features for: video_{ParticipantNo}_214_27-11-2020.webm\n",
      "Currently processing video features for: video_{ParticipantNo}_653_4-6-2021.webm\n"
     ]
    },
    {
     "name": "stderr",
     "output_type": "stream",
     "text": [
      " 10%|████████▏                                                                        | 27/266 [00:01<00:10, 22.86it/s]"
     ]
    },
    {
     "name": "stdout",
     "output_type": "stream",
     "text": [
      "Currently processing video features for: video_{ParticipantNo}_143_11-11-2020.webm\n",
      "Currently processing video features for: video_{ParticipantNo}_469_19-3-2021.webm\n",
      "Currently processing video features for: video_{ParticipantNo}_283_25-11-2020.webm\n",
      "Currently processing video features for: video_{ParticipantNo}_338_10-12-2020.webm\n",
      "Currently processing video features for: video_{ParticipantNo}_332_9-11-2020.webm\n"
     ]
    },
    {
     "name": "stderr",
     "output_type": "stream",
     "text": [
      " 12%|██████████                                                                       | 33/266 [00:01<00:10, 22.79it/s]"
     ]
    },
    {
     "name": "stdout",
     "output_type": "stream",
     "text": [
      "Currently processing video features for: video_{ParticipantNo}_363_23-1-2021.webm\n",
      "Currently processing video features for: video_{ParticipantNo}_148_2-11-2020.webm\n",
      "Currently processing video features for: video_{ParticipantNo}_416_7-2-2021.webm\n",
      "Currently processing video features for: video_{ParticipantNo}_221_6-11-2020.webm\n",
      "Currently processing video features for: video_{ParticipantNo}_491_14-5-2021.webm\n"
     ]
    },
    {
     "name": "stderr",
     "output_type": "stream",
     "text": [
      " 15%|███████████▉                                                                     | 39/266 [00:01<00:09, 22.77it/s]"
     ]
    },
    {
     "name": "stdout",
     "output_type": "stream",
     "text": [
      "Currently processing video features for: video_{ParticipantNo}_341_16-12-2020.webm\n",
      "Currently processing video features for: video_{ParticipantNo}_387_20-1-2021.webm\n",
      "Currently processing video features for: video_{ParticipantNo}_526_26-4-2021.webm\n",
      "Currently processing video features for: video_{ParticipantNo}_454_18-3-2021.webm\n",
      "Currently processing video features for: video_{ParticipantNo}_645_5-5-2021.webm\n"
     ]
    },
    {
     "name": "stderr",
     "output_type": "stream",
     "text": [
      " 16%|█████████████                                                                    | 43/266 [00:01<00:09, 24.73it/s]"
     ]
    },
    {
     "name": "stdout",
     "output_type": "stream",
     "text": [
      "Currently processing video features for: video_{ParticipantNo}_155_28-10-2020.webm\n",
      "Currently processing video features for: video_{ParticipantNo}_399_11-1-2021.webm\n",
      "Currently processing video features for: video_{ParticipantNo}_564_13-5-2021.webm\n",
      "Currently processing video features for: video_{ParticipantNo}_518_29-4-2021.webm\n"
     ]
    },
    {
     "name": "stderr",
     "output_type": "stream",
     "text": [
      " 17%|██████████████                                                                   | 46/266 [00:02<00:12, 17.82it/s]"
     ]
    },
    {
     "name": "stdout",
     "output_type": "stream",
     "text": [
      "Currently processing video features for: video_{ParticipantNo}_503_19-5-2021.webm\n",
      "Currently processing video features for: video_{ParticipantNo}_551_27-4-2021.webm\n"
     ]
    },
    {
     "name": "stderr",
     "output_type": "stream",
     "text": [
      " 18%|██████████████▉                                                                  | 49/266 [00:02<00:14, 15.28it/s]"
     ]
    },
    {
     "name": "stdout",
     "output_type": "stream",
     "text": [
      "Currently processing video features for: video_{ParticipantNo}_535_7-5-2021.webm\n",
      "Currently processing video features for: video_{ParticipantNo}_247_5-11-2020.webm\n",
      "Currently processing video features for: video_{ParticipantNo}_621_14-6-2021.webm\n"
     ]
    },
    {
     "name": "stderr",
     "output_type": "stream",
     "text": [
      " 19%|███████████████▌                                                                 | 51/266 [00:02<00:16, 13.22it/s]"
     ]
    },
    {
     "name": "stdout",
     "output_type": "stream",
     "text": [
      "Currently processing video features for: video_{ParticipantNo}_335_2-12-2020.webm\n",
      "Currently processing video features for: video_{ParticipantNo}_477_22-4-2021.webm\n",
      "Currently processing video features for: video_{ParticipantNo}_554_7-5-2021.webm\n"
     ]
    },
    {
     "name": "stderr",
     "output_type": "stream",
     "text": [
      " 21%|████████████████▋                                                                | 55/266 [00:02<00:18, 11.21it/s]"
     ]
    },
    {
     "name": "stdout",
     "output_type": "stream",
     "text": [
      "Currently processing video features for: video_{ParticipantNo}_355_8-1-2021.webm\n",
      "Currently processing video features for: video_{ParticipantNo}_548_1-6-2021.webm\n"
     ]
    },
    {
     "name": "stderr",
     "output_type": "stream",
     "text": [
      " 21%|█████████████████▎                                                               | 57/266 [00:03<00:19, 10.68it/s]"
     ]
    },
    {
     "name": "stdout",
     "output_type": "stream",
     "text": [
      "Currently processing video features for: video_{ParticipantNo}_256_5-12-2020.webm\n",
      "Currently processing video features for: video_{ParticipantNo}_342_11-12-2020.webm\n",
      "Currently processing video features for: video_{ParticipantNo}_574_5-5-2021.webm\n",
      "Currently processing video features for: video_{ParticipantNo}_296_11-11-2020.webm\n"
     ]
    },
    {
     "name": "stderr",
     "output_type": "stream",
     "text": [
      " 23%|██████████████████▌                                                              | 61/266 [00:03<00:17, 11.57it/s]"
     ]
    },
    {
     "name": "stdout",
     "output_type": "stream",
     "text": [
      "Currently processing video features for: video_{ParticipantNo}_168_6-11-2020.webm\n",
      "Currently processing video features for: video_{ParticipantNo}_394_28-1-2021.webm\n",
      "Currently processing video features for: video_{ParticipantNo}_409_30-1-2021.webm\n",
      "Currently processing video features for: video_{ParticipantNo}_321_25-11-2020.webm\n"
     ]
    },
    {
     "name": "stderr",
     "output_type": "stream",
     "text": [
      " 24%|███████████████████▊                                                             | 65/266 [00:03<00:19, 10.53it/s]"
     ]
    },
    {
     "name": "stdout",
     "output_type": "stream",
     "text": [
      "Currently processing video features for: video_{ParticipantNo}_124_24-8-2020.webm\n",
      "Currently processing video features for: video_{ParticipantNo}_189_25-11-2020.webm\n",
      "Currently processing video features for: video_{ParticipantNo}_431_6-3-2021.webm\n",
      "Currently processing video features for: video_{ParticipantNo}_441_26-2-2021.webm\n"
     ]
    },
    {
     "name": "stderr",
     "output_type": "stream",
     "text": [
      " 25%|████████████████████▍                                                            | 67/266 [00:04<00:19, 10.25it/s]"
     ]
    },
    {
     "name": "stdout",
     "output_type": "stream",
     "text": [
      "Currently processing video features for: video_{ParticipantNo}_465_25-3-2021.webm\n",
      "Currently processing video features for: video_{ParticipantNo}_229_3-12-2020.webm\n"
     ]
    },
    {
     "name": "stderr",
     "output_type": "stream",
     "text": [
      " 27%|█████████████████████▌                                                           | 71/266 [00:04<00:16, 11.71it/s]"
     ]
    },
    {
     "name": "stdout",
     "output_type": "stream",
     "text": [
      "Currently processing video features for: video_{ParticipantNo}_662_5-6-2021.webm\n",
      "Currently processing video features for: video_{ParticipantNo}_154_30-10-2020.webm\n",
      "Currently processing video features for: video_{ParticipantNo}_207_5-12-2020.webm\n",
      "Currently processing video features for: video_{ParticipantNo}_444_9-4-2021.webm\n",
      "Currently processing video features for: video_{ParticipantNo}_435_26-3-2021.webm\n"
     ]
    },
    {
     "name": "stderr",
     "output_type": "stream",
     "text": [
      " 29%|███████████████████████▍                                                         | 77/266 [00:04<00:12, 15.61it/s]"
     ]
    },
    {
     "name": "stdout",
     "output_type": "stream",
     "text": [
      "Currently processing video features for: video_{ParticipantNo}_466_14-3-2021.webm\n",
      "Currently processing video features for: video_{ParticipantNo}_628_27-5-2021.webm\n",
      "Currently processing video features for: video_{ParticipantNo}_243_2-12-2020.webm\n",
      "Currently processing video features for: video_{ParticipantNo}_329_8-12-2020.webm\n",
      "Currently processing video features for: video_{ParticipantNo}_199_6-11-2020.webm\n"
     ]
    },
    {
     "name": "stderr",
     "output_type": "stream",
     "text": [
      " 32%|█████████████████████████▌                                                       | 84/266 [00:04<00:09, 19.69it/s]"
     ]
    },
    {
     "name": "stdout",
     "output_type": "stream",
     "text": [
      "Currently processing video features for: video_{ParticipantNo}_664_1-7-2021.webm\n",
      "Currently processing video features for: video_{ParticipantNo}_119_6-9-2020.webm\n",
      "Currently processing video features for: video_{ParticipantNo}_293_9-11-2020.webm\n",
      "Currently processing video features for: video_{ParticipantNo}_410_11-2-2021.webm\n",
      "Currently processing video features for: video_{ParticipantNo}_158_26-11-2020.webm\n"
     ]
    },
    {
     "name": "stderr",
     "output_type": "stream",
     "text": [
      " 33%|██████████████████████████▍                                                      | 87/266 [00:05<00:08, 20.53it/s]"
     ]
    },
    {
     "name": "stdout",
     "output_type": "stream",
     "text": [
      "Currently processing video features for: video_{ParticipantNo}_162_6-11-2020.webm\n",
      "Currently processing video features for: video_{ParticipantNo}_278_2-12-2020.webm\n",
      "Currently processing video features for: video_{ParticipantNo}_573_15-5-2021.webm\n",
      "Currently processing video features for: video_{ParticipantNo}_383_10-1-2021.webm\n"
     ]
    },
    {
     "name": "stderr",
     "output_type": "stream",
     "text": [
      " 34%|███████████████████████████▋                                                     | 91/266 [00:41<11:08,  3.82s/it]"
     ]
    },
    {
     "name": "stdout",
     "output_type": "stream",
     "text": [
      "Very fast processing video features for: video_{ParticipantNo}_383_10-1-2021.webm. Check whether everything has gone well!\n",
      "Currently processing video features for: video_{ParticipantNo}_618_24-5-2021.webm\n",
      "Currently processing video features for: video_{ParticipantNo}_650_25-5-2021.webm\n",
      "Currently processing video features for: video_{ParticipantNo}_657_8-6-2021.webm\n",
      "Currently processing video features for: video_{ParticipantNo}_671_16-8-2021.webm\n",
      "Currently processing video features for: video_{ParticipantNo}_428_4-3-2021.webm\n"
     ]
    },
    {
     "name": "stderr",
     "output_type": "stream",
     "text": [
      " 36%|█████████████████████████████▌                                                   | 97/266 [00:41<05:20,  1.89s/it]"
     ]
    },
    {
     "name": "stdout",
     "output_type": "stream",
     "text": [
      "Currently processing video features for: video_{ParticipantNo}_361_16-1-2021.webm\n",
      "Currently processing video features for: video_{ParticipantNo}_489_24-4-2021.webm\n",
      "Currently processing video features for: video_{ParticipantNo}_166_26-11-2020.webm\n",
      "Currently processing video features for: video_{ParticipantNo}_266_27-11-2020.webm\n",
      "Currently processing video features for: video_{ParticipantNo}_362_28-1-2021.webm\n"
     ]
    },
    {
     "name": "stderr",
     "output_type": "stream",
     "text": [
      " 38%|██████████████████████████████                                                  | 100/266 [00:41<03:42,  1.34s/it]"
     ]
    },
    {
     "name": "stdout",
     "output_type": "stream",
     "text": [
      "Currently processing video features for: video_{ParticipantNo}_398_11-2-2021.webm\n",
      "Currently processing video features for: video_{ParticipantNo}_135_12-10-2020.webm\n",
      "Currently processing video features for: video_{ParticipantNo}_502_9-5-2021.webm\n"
     ]
    },
    {
     "name": "stderr",
     "output_type": "stream",
     "text": [
      " 39%|███████████████████████████████▎                                                | 104/266 [01:23<13:39,  5.06s/it]"
     ]
    },
    {
     "name": "stdout",
     "output_type": "stream",
     "text": [
      "Very fast processing video features for: video_{ParticipantNo}_502_9-5-2021.webm. Check whether everything has gone well!\n",
      "Currently processing video features for: video_{ParticipantNo}_350_21-1-2021.webm\n",
      "Currently processing video features for: video_{ParticipantNo}_156_8-11-2020.webm\n",
      "Currently processing video features for: video_{ParticipantNo}_238_7-12-2020.webm\n",
      "Currently processing video features for: video_{ParticipantNo}_507_26-4-2021.webm\n",
      "Currently processing video features for: video_{ParticipantNo}_617_22-5-2021.webm\n"
     ]
    },
    {
     "name": "stderr",
     "output_type": "stream",
     "text": [
      " 41%|█████████████████████████████████                                               | 110/266 [01:23<06:30,  2.50s/it]"
     ]
    },
    {
     "name": "stdout",
     "output_type": "stream",
     "text": [
      "Currently processing video features for: video_{ParticipantNo}_543_13-5-2021.webm\n",
      "Currently processing video features for: video_{ParticipantNo}_640_22-5-2021.webm\n",
      "Currently processing video features for: video_{ParticipantNo}_279_29-11-2020.webm\n",
      "Currently processing video features for: video_{ParticipantNo}_500_16-5-2021.webm\n",
      "Currently processing video features for: video_{ParticipantNo}_529_15-5-2021.webm\n"
     ]
    },
    {
     "name": "stderr",
     "output_type": "stream",
     "text": [
      " 44%|██████████████████████████████████▉                                             | 116/266 [01:24<03:07,  1.25s/it]"
     ]
    },
    {
     "name": "stdout",
     "output_type": "stream",
     "text": [
      "Currently processing video features for: video_{ParticipantNo}_595_29-4-2021.webm\n",
      "Currently processing video features for: video_{ParticipantNo}_281_1-12-2020.webm\n",
      "Currently processing video features for: video_{ParticipantNo}_147_5-2-2021.webm\n",
      "Currently processing video features for: video_{ParticipantNo}_587_28-4-2021.webm\n"
     ]
    },
    {
     "name": "stderr",
     "output_type": "stream",
     "text": [
      " 45%|███████████████████████████████████▊                                            | 119/266 [01:24<02:10,  1.13it/s]"
     ]
    },
    {
     "name": "stdout",
     "output_type": "stream",
     "text": [
      "Currently processing video features for: video_{ParticipantNo}_479_17-5-2021.webm\n",
      "Currently processing video features for: video_{ParticipantNo}_339_2-12-2020.webm\n",
      "Currently processing video features for: video_{ParticipantNo}_282_14-1-2021.webm\n",
      "Currently processing video features for: video_{ParticipantNo}_157_30-11-2020.webm\n",
      "Currently processing video features for: video_{ParticipantNo}_534_9-6-2021.webm\n"
     ]
    },
    {
     "name": "stderr",
     "output_type": "stream",
     "text": [
      " 45%|████████████████████████████████████▍                                           | 121/266 [01:57<13:24,  5.54s/it]"
     ]
    },
    {
     "name": "stdout",
     "output_type": "stream",
     "text": [
      "Very fast processing video features for: video_{ParticipantNo}_534_9-6-2021.webm. Check whether everything has gone well!\n",
      "Currently processing video features for: video_{ParticipantNo}_674_31-8-2021.webm\n"
     ]
    },
    {
     "name": "stderr",
     "output_type": "stream",
     "text": [
      " 47%|███████████████████████████████████▍                                        | 124/266 [43:14<20:37:40, 522.96s/it]"
     ]
    },
    {
     "name": "stdout",
     "output_type": "stream",
     "text": [
      "Currently processing video features for: video_{ParticipantNo}_490_10-5-2021.webm\n",
      "Currently processing video features for: video_{ParticipantNo}_608_4-6-2021.webm\n",
      "Currently processing video features for: video_{ParticipantNo}_511_10-5-2021.webm\n",
      "Currently processing video features for: video_{ParticipantNo}_170_1-11-2020.webm\n",
      "Currently processing video features for: video_{ParticipantNo}_584_16-5-2021.webm\n"
     ]
    },
    {
     "name": "stderr",
     "output_type": "stream",
     "text": [
      " 49%|█████████████████████████████████████▋                                       | 130/266 [43:14<9:40:53, 256.27s/it]"
     ]
    },
    {
     "name": "stdout",
     "output_type": "stream",
     "text": [
      "Currently processing video features for: video_{ParticipantNo}_427_25-2-2021.webm\n",
      "Currently processing video features for: video_{ParticipantNo}_471_18-4-2021.webm\n",
      "Currently processing video features for: video_{ParticipantNo}_615_29-6-2021.webm\n",
      "Currently processing video features for: video_{ParticipantNo}_644_25-5-2021.webm\n",
      "Currently processing video features for: video_{ParticipantNo}_390_9-1-2021.webm\n"
     ]
    },
    {
     "name": "stderr",
     "output_type": "stream",
     "text": [
      " 51%|███████████████████████████████████████▎                                     | 136/266 [43:14<4:32:07, 125.60s/it]"
     ]
    },
    {
     "name": "stdout",
     "output_type": "stream",
     "text": [
      "Currently processing video features for: video_{ParticipantNo}_480_4-4-2021.webm\n",
      "Currently processing video features for: video_{ParticipantNo}_553_8-6-2021.webm\n",
      "Currently processing video features for: video_{ParticipantNo}_197_30-11-2020.webm\n",
      "Currently processing video features for: video_{ParticipantNo}_327_5-12-2020.webm\n"
     ]
    },
    {
     "name": "stderr",
     "output_type": "stream",
     "text": [
      " 52%|████████████████████████████████████████▊                                     | 139/266 [43:15<3:06:07, 87.93s/it]"
     ]
    },
    {
     "name": "stdout",
     "output_type": "stream",
     "text": [
      "Currently processing video features for: video_{ParticipantNo}_607_28-4-2021.webm\n",
      "Currently processing video features for: video_{ParticipantNo}_271_4-12-2020.webm\n",
      "Currently processing video features for: video_{ParticipantNo}_567_8-5-2021.webm\n",
      "Currently processing video features for: video_{ParticipantNo}_571_21-6-2021.webm\n",
      "Currently processing video features for: video_{ParticipantNo}_172_4-12-2020.webm\n"
     ]
    },
    {
     "name": "stderr",
     "output_type": "stream",
     "text": [
      " 55%|██████████████████████████████████████████▌                                   | 145/266 [43:15<1:26:56, 43.11s/it]"
     ]
    },
    {
     "name": "stdout",
     "output_type": "stream",
     "text": [
      "Currently processing video features for: video_{ParticipantNo}_391_19-1-2021.webm\n",
      "Currently processing video features for: video_{ParticipantNo}_609_21-5-2021.webm\n",
      "Currently processing video features for: video_{ParticipantNo}_408_1-2-2021.webm\n",
      "Currently processing video features for: video_{ParticipantNo}_420_25-1-2021.webm\n",
      "Currently processing video features for: video_{ParticipantNo}_258_13-12-2020.webm\n",
      "Currently processing video features for: video_{ParticipantNo}_422_29-1-2021.webm\n",
      "Currently processing video features for: video_{ParticipantNo}_514_16-5-2021.webm\n"
     ]
    },
    {
     "name": "stderr",
     "output_type": "stream",
     "text": [
      " 56%|█████████████████████████████████████████████                                   | 150/266 [43:50<45:34, 23.57s/it]"
     ]
    },
    {
     "name": "stdout",
     "output_type": "stream",
     "text": [
      "Very fast processing video features for: video_{ParticipantNo}_514_16-5-2021.webm. Check whether everything has gone well!\n",
      "Currently processing video features for: video_{ParticipantNo}_307_29-11-2020.webm\n",
      "Currently processing video features for: video_{ParticipantNo}_176_10-12-2020.webm\n",
      "Currently processing video features for: video_{ParticipantNo}_145_1-11-2020.webm\n",
      "Currently processing video features for: video_{ParticipantNo}_290_30-11-2020.webm\n"
     ]
    },
    {
     "name": "stderr",
     "output_type": "stream",
     "text": [
      " 59%|██████████████████████████████████████████████▉                                 | 156/266 [43:50<21:12, 11.57s/it]"
     ]
    },
    {
     "name": "stdout",
     "output_type": "stream",
     "text": [
      "Currently processing video features for: video_{ParticipantNo}_334_7-11-2020.webm\n",
      "Currently processing video features for: video_{ParticipantNo}_392_20-1-2021.webm\n",
      "Currently processing video features for: video_{ParticipantNo}_225_12-11-2020.webm\n",
      "Currently processing video features for: video_{ParticipantNo}_295_8-12-2020.webm\n"
     ]
    },
    {
     "name": "stderr",
     "output_type": "stream",
     "text": [
      " 60%|███████████████████████████████████████████████▊                                | 159/266 [43:50<14:28,  8.11s/it]"
     ]
    },
    {
     "name": "stdout",
     "output_type": "stream",
     "text": [
      "Currently processing video features for: video_{ParticipantNo}_550_30-6-2021.webm\n",
      "Currently processing video features for: video_{ParticipantNo}_589_25-4-2021.webm\n",
      "Currently processing video features for: video_{ParticipantNo}_242_5-11-2020.webm\n",
      "Currently processing video features for: video_{ParticipantNo}_349_6-2-2021.webm\n",
      "Currently processing video features for: video_{ParticipantNo}_544_20-5-2021.webm\n"
     ]
    },
    {
     "name": "stderr",
     "output_type": "stream",
     "text": [
      " 62%|█████████████████████████████████████████████████▌                              | 165/266 [43:50<06:43,  4.00s/it]"
     ]
    },
    {
     "name": "stdout",
     "output_type": "stream",
     "text": [
      "Currently processing video features for: video_{ParticipantNo}_173_2-12-2020.webm\n",
      "Currently processing video features for: video_{ParticipantNo}_445_10-3-2021.webm\n",
      "Currently processing video features for: video_{ParticipantNo}_457_27-3-2021.webm\n",
      "Currently processing video features for: video_{ParticipantNo}_125_6-9-2020.webm\n"
     ]
    },
    {
     "name": "stderr",
     "output_type": "stream",
     "text": [
      " 63%|██████████████████████████████████████████████████▌                             | 168/266 [43:50<04:35,  2.81s/it]"
     ]
    },
    {
     "name": "stdout",
     "output_type": "stream",
     "text": [
      "Currently processing video features for: video_{ParticipantNo}_634_30-5-2021.webm\n",
      "Currently processing video features for: video_{ParticipantNo}_642_5-5-2021.webm\n",
      "Currently processing video features for: video_{ParticipantNo}_622_30-4-2021.webm\n",
      "Currently processing video features for: video_{ParticipantNo}_169_26-11-2020.webm\n",
      "Currently processing video features for: video_{ParticipantNo}_270_30-11-2020.webm\n",
      "Currently processing video features for: video_{ParticipantNo}_467_15-3-2021.webm\n"
     ]
    },
    {
     "name": "stderr",
     "output_type": "stream",
     "text": [
      " 65%|████████████████████████████████████████████████████▎                           | 174/266 [44:24<05:41,  3.71s/it]"
     ]
    },
    {
     "name": "stdout",
     "output_type": "stream",
     "text": [
      "Very fast processing video features for: video_{ParticipantNo}_467_15-3-2021.webm. Check whether everything has gone well!\n",
      "Currently processing video features for: video_{ParticipantNo}_481_29-4-2021.webm\n",
      "Currently processing video features for: video_{ParticipantNo}_575_11-5-2021.webm\n",
      "Currently processing video features for: video_{ParticipantNo}_262_15-1-2021.webm\n",
      "Currently processing video features for: video_{ParticipantNo}_522_16-6-2021.webm\n",
      "Currently processing video features for: video_{ParticipantNo}_407_8-2-2021.webm\n"
     ]
    },
    {
     "name": "stderr",
     "output_type": "stream",
     "text": [
      " 68%|██████████████████████████████████████████████████████▏                         | 180/266 [44:24<02:38,  1.84s/it]"
     ]
    },
    {
     "name": "stdout",
     "output_type": "stream",
     "text": [
      "Currently processing video features for: video_{ParticipantNo}_537_6-5-2021.webm\n",
      "Currently processing video features for: video_{ParticipantNo}_203_8-11-2020.webm\n",
      "Currently processing video features for: video_{ParticipantNo}_631_16-5-2021.webm\n",
      "Currently processing video features for: video_{ParticipantNo}_285_9-11-2020.webm\n",
      "Currently processing video features for: video_{ParticipantNo}_288_7-11-2020.webm\n"
     ]
    },
    {
     "name": "stderr",
     "output_type": "stream",
     "text": [
      " 70%|████████████████████████████████████████████████████████▏                       | 187/266 [44:24<01:12,  1.09it/s]"
     ]
    },
    {
     "name": "stdout",
     "output_type": "stream",
     "text": [
      "Currently processing video features for: video_{ParticipantNo}_182_5-12-2020.webm\n",
      "Currently processing video features for: video_{ParticipantNo}_487_6-6-2021.webm\n",
      "Currently processing video features for: video_{ParticipantNo}_498_25-5-2021.webm\n",
      "Currently processing video features for: video_{ParticipantNo}_370_11-1-2021.webm\n",
      "Currently processing video features for: video_{ParticipantNo}_219_1-12-2020.webm\n"
     ]
    },
    {
     "name": "stderr",
     "output_type": "stream",
     "text": [
      " 71%|█████████████████████████████████████████████████████████▏                      | 190/266 [44:24<00:49,  1.52it/s]"
     ]
    },
    {
     "name": "stdout",
     "output_type": "stream",
     "text": [
      "Currently processing video features for: video_{ParticipantNo}_659_4-6-2021.webm\n",
      "Currently processing video features for: video_{ParticipantNo}_605_20-5-2021.webm\n",
      "Currently processing video features for: video_{ParticipantNo}_340_10-12-2020.webm\n",
      "Currently processing video features for: video_{ParticipantNo}_294_8-11-2020.webm\n",
      "Currently processing video features for: video_{ParticipantNo}_289_13-12-2020.webm\n",
      "Currently processing video features for: video_{ParticipantNo}_679_30-9-2021.webm\n"
     ]
    },
    {
     "name": "stderr",
     "output_type": "stream",
     "text": [
      " 73%|██████████████████████████████████████████████████████▉                    | 195/266 [1:14:05<2:27:50, 124.94s/it]"
     ]
    },
    {
     "name": "stdout",
     "output_type": "stream",
     "text": [
      "Currently processing video features for: video_{ParticipantNo}_123_28-8-2020.webm\n",
      "Currently processing video features for: video_{ParticipantNo}_596_27-5-2021.webm\n",
      "Currently processing video features for: video_{ParticipantNo}_263_4-12-2020.webm\n",
      "Currently processing video features for: video_{ParticipantNo}_556_2-6-2021.webm\n",
      "Currently processing video features for: video_{ParticipantNo}_211_2-11-2020.webm\n"
     ]
    },
    {
     "name": "stderr",
     "output_type": "stream",
     "text": [
      " 76%|█████████████████████████████████████████████████████████▋                  | 202/266 [1:14:05<1:05:19, 61.24s/it]"
     ]
    },
    {
     "name": "stdout",
     "output_type": "stream",
     "text": [
      "Currently processing video features for: video_{ParticipantNo}_179_12-12-2020.webm\n",
      "Currently processing video features for: video_{ParticipantNo}_436_21-3-2021.webm\n",
      "Currently processing video features for: video_{ParticipantNo}_649_28-5-2021.webm\n",
      "Currently processing video features for: video_{ParticipantNo}_446_28-3-2021.webm\n",
      "Currently processing video features for: video_{ParticipantNo}_569_21-5-2021.webm\n"
     ]
    },
    {
     "name": "stderr",
     "output_type": "stream",
     "text": [
      " 78%|████████████████████████████████████████████████████████████▉                 | 208/266 [1:14:05<29:01, 30.03s/it]"
     ]
    },
    {
     "name": "stdout",
     "output_type": "stream",
     "text": [
      "Currently processing video features for: video_{ParticipantNo}_402_3-2-2021.webm\n",
      "Currently processing video features for: video_{ParticipantNo}_560_6-5-2021.webm\n",
      "Currently processing video features for: video_{ParticipantNo}_326_16-12-2020.webm\n",
      "Currently processing video features for: video_{ParticipantNo}_411_1-2-2021.webm\n"
     ]
    },
    {
     "name": "stderr",
     "output_type": "stream",
     "text": [
      " 79%|█████████████████████████████████████████████████████████████▊                | 211/266 [1:14:05<19:16, 21.04s/it]"
     ]
    },
    {
     "name": "stdout",
     "output_type": "stream",
     "text": [
      "Currently processing video features for: video_{ParticipantNo}_512_17-5-2021.webm\n",
      "Currently processing video features for: video_{ParticipantNo}_601_17-5-2021.webm\n",
      "Currently processing video features for: video_{ParticipantNo}_603_27-5-2021.webm\n",
      "Currently processing video features for: video_{ParticipantNo}_638_15-5-2021.webm\n",
      "Currently processing video features for: video_{ParticipantNo}_437_8-3-2021.webm\n"
     ]
    },
    {
     "name": "stderr",
     "output_type": "stream",
     "text": [
      " 82%|███████████████████████████████████████████████████████████████▋              | 217/266 [1:14:05<08:26, 10.33s/it]"
     ]
    },
    {
     "name": "stdout",
     "output_type": "stream",
     "text": [
      "Currently processing video features for: video_{ParticipantNo}_381_6-1-2021.webm\n",
      "Currently processing video features for: video_{ParticipantNo}_496_28-4-2021.webm\n",
      "Currently processing video features for: video_{ParticipantNo}_144_1-11-2020.webm\n",
      "Currently processing video features for: video_{ParticipantNo}_231_30-11-2020.webm\n"
     ]
    },
    {
     "name": "stderr",
     "output_type": "stream",
     "text": [
      " 83%|████████████████████████████████████████████████████████████████▌             | 220/266 [1:14:06<05:33,  7.25s/it]"
     ]
    },
    {
     "name": "stdout",
     "output_type": "stream",
     "text": [
      "Currently processing video features for: video_{ParticipantNo}_499_28-4-2021.webm\n",
      "Currently processing video features for: video_{ParticipantNo}_525_4-6-2021.webm\n",
      "Currently processing video features for: video_{ParticipantNo}_598_2-6-2021.webm\n",
      "Currently processing video features for: video_{ParticipantNo}_194_5-12-2020.webm\n",
      "Currently processing video features for: video_{ParticipantNo}_213_18-12-2020.webm\n"
     ]
    },
    {
     "name": "stderr",
     "output_type": "stream",
     "text": [
      " 85%|██████████████████████████████████████████████████████████████████▎           | 226/266 [1:14:06<02:22,  3.57s/it]"
     ]
    },
    {
     "name": "stdout",
     "output_type": "stream",
     "text": [
      "Currently processing video features for: video_{ParticipantNo}_419_23-2-2021.webm\n",
      "Currently processing video features for: video_{ParticipantNo}_572_28-4-2021.webm\n",
      "Currently processing video features for: video_{ParticipantNo}_315_30-11-2020.webm\n",
      "Currently processing video features for: video_{ParticipantNo}_559_12-5-2021.webm\n"
     ]
    },
    {
     "name": "stderr",
     "output_type": "stream",
     "text": [
      " 86%|███████████████████████████████████████████████████████████████████▏          | 229/266 [1:14:06<01:33,  2.51s/it]"
     ]
    },
    {
     "name": "stdout",
     "output_type": "stream",
     "text": [
      "Currently processing video features for: video_{ParticipantNo}_561_26-4-2021.webm\n",
      "Currently processing video features for: video_{ParticipantNo}_468_17-4-2021.webm\n",
      "Currently processing video features for: video_{ParticipantNo}_639_7-6-2021.webm\n",
      "Currently processing video features for: video_{ParticipantNo}_557_18-6-2021.webm\n",
      "Currently processing video features for: video_{ParticipantNo}_576_2-5-2021.webm\n"
     ]
    },
    {
     "name": "stderr",
     "output_type": "stream",
     "text": [
      " 87%|████████████████████████████████████████████████████████████████████          | 232/266 [1:14:06<01:00,  1.77s/it]"
     ]
    },
    {
     "name": "stdout",
     "output_type": "stream",
     "text": [
      "Currently processing video features for: video_{ParticipantNo}_192_7-11-2020.webm\n",
      "Currently processing video features for: video_{ParticipantNo}_488_25-5-2021.webm\n",
      "Currently processing video features for: video_{ParticipantNo}_583_10-5-2021.webm\n"
     ]
    },
    {
     "name": "stderr",
     "output_type": "stream",
     "text": [
      " 89%|█████████████████████████████████████████████████████████████████████▊        | 238/266 [1:14:09<00:30,  1.09s/it]"
     ]
    },
    {
     "name": "stdout",
     "output_type": "stream",
     "text": [
      "Very fast processing video features for: video_{ParticipantNo}_583_10-5-2021.webm. Check whether everything has gone well!\n",
      "Currently processing video features for: video_{ParticipantNo}_324_11-12-2020.webm\n",
      "Currently processing video features for: video_{ParticipantNo}_127_17-9-2020.webm\n",
      "Currently processing video features for: video_{ParticipantNo}_317_6-12-2020.webm\n",
      "Currently processing video features for: video_{ParticipantNo}_505_17-5-2021.webm\n",
      "Currently processing video features for: video_{ParticipantNo}_382_22-1-2021.webm\n"
     ]
    },
    {
     "name": "stderr",
     "output_type": "stream",
     "text": [
      " 91%|██████████████████████████████████████████████████████████████████████▋       | 241/266 [1:14:09<00:19,  1.29it/s]"
     ]
    },
    {
     "name": "stdout",
     "output_type": "stream",
     "text": [
      "Currently processing video features for: video_{ParticipantNo}_519_17-5-2021.webm\n",
      "Currently processing video features for: video_{ParticipantNo}_586_10-5-2021.webm\n",
      "Currently processing video features for: video_{ParticipantNo}_562_1-5-2021.webm\n",
      "Currently processing video features for: video_{ParticipantNo}_630_14-5-2021.webm\n",
      "Currently processing video features for: video_{ParticipantNo}_458_18-3-2021.webm\n"
     ]
    },
    {
     "name": "stderr",
     "output_type": "stream",
     "text": [
      " 92%|███████████████████████████████████████████████████████████████████████▊      | 245/266 [1:14:10<00:11,  1.80it/s]"
     ]
    },
    {
     "name": "stdout",
     "output_type": "stream",
     "text": [
      "Currently processing video features for: video_{ParticipantNo}_612_5-5-2021.webm\n",
      "Currently processing video features for: video_{ParticipantNo}_521_9-6-2021.webm\n"
     ]
    },
    {
     "name": "stderr",
     "output_type": "stream",
     "text": [
      " 93%|████████████████████████████████████████████████████████████████████████▍     | 247/266 [1:14:43<01:42,  5.41s/it]"
     ]
    },
    {
     "name": "stdout",
     "output_type": "stream",
     "text": [
      "Very fast processing video features for: video_{ParticipantNo}_521_9-6-2021.webm. Check whether everything has gone well!\n",
      "Currently processing video features for: video_{ParticipantNo}_665_28-7-2021.webm\n",
      "Currently processing video features for: video_{ParticipantNo}_678_24-9-2021.webm\n"
     ]
    },
    {
     "name": "stderr",
     "output_type": "stream",
     "text": [
      " 94%|█████████████████████████████████████████████████████████████████████████▌    | 251/266 [1:15:16<01:31,  6.11s/it]"
     ]
    },
    {
     "name": "stdout",
     "output_type": "stream",
     "text": [
      "Very fast processing video features for: video_{ParticipantNo}_678_24-9-2021.webm. Check whether everything has gone well!\n",
      "Currently processing video features for: video_{ParticipantNo}_606_30-4-2021.webm\n",
      "Currently processing video features for: video_{ParticipantNo}_318_28-11-2020.webm\n",
      "Currently processing video features for: video_{ParticipantNo}_291_30-11-2020.webm\n",
      "Currently processing video features for: video_{ParticipantNo}_261_25-1-2021.webm\n",
      "Currently processing video features for: video_{ParticipantNo}_495_13-5-2021.webm\n"
     ]
    },
    {
     "name": "stderr",
     "output_type": "stream",
     "text": [
      " 97%|███████████████████████████████████████████████████████████████████████████▎  | 257/266 [1:16:20<01:07,  7.47s/it]"
     ]
    },
    {
     "name": "stdout",
     "output_type": "stream",
     "text": [
      "Very fast processing video features for: video_{ParticipantNo}_495_13-5-2021.webm. Check whether everything has gone well!\n",
      "Currently processing video features for: video_{ParticipantNo}_515_13-5-2021.webm\n",
      "Currently processing video features for: video_{ParticipantNo}_532_29-5-2021.webm\n",
      "Currently processing video features for: video_{ParticipantNo}_302_3-11-2020.webm\n",
      "Currently processing video features for: video_{ParticipantNo}_414_3-2-2021.webm\n",
      "Currently processing video features for: video_{ParticipantNo}_198_8-12-2020.webm\n"
     ]
    },
    {
     "name": "stderr",
     "output_type": "stream",
     "text": [
      " 99%|█████████████████████████████████████████████████████████████████████████████ | 263/266 [1:16:20<00:11,  3.68s/it]"
     ]
    },
    {
     "name": "stdout",
     "output_type": "stream",
     "text": [
      "Currently processing video features for: video_{ParticipantNo}_516_13-5-2021.webm\n",
      "Currently processing video features for: video_{ParticipantNo}_248_26-11-2020.webm\n",
      "Currently processing video features for: video_{ParticipantNo}_459_19-3-2021.webm\n",
      "Currently processing video features for: video_{ParticipantNo}_580_25-4-2021.webm\n",
      "Currently processing video features for: video_{ParticipantNo}_504_27-5-2021.webm\n"
     ]
    },
    {
     "name": "stderr",
     "output_type": "stream",
     "text": [
      "100%|██████████████████████████████████████████████████████████████████████████████| 266/266 [1:16:20<00:00, 17.22s/it]"
     ]
    },
    {
     "name": "stdout",
     "output_type": "stream",
     "text": [
      "Currently processing video features for: video_{ParticipantNo}_388_17-1-2021.webm\n",
      "Currently processing video features for: video_{ParticipantNo}_105_25-9-2020.webm\n"
     ]
    },
    {
     "name": "stderr",
     "output_type": "stream",
     "text": [
      "\n"
     ]
    }
   ],
   "source": [
    "index = 0\n",
    "for pptnum in tqdm(AVidID): # Loop through all file ID's\n",
    "    if pptnum not in exclude: # Some participants messed up, so skip those. See earlier cell for descriptions of each\n",
    "        index += 1\n",
    "        indices = [i for i, s in enumerate(AVid) if pptnum in s] # Check per pptnum how many files are found\n",
    "        if len(indices) > 1: # if more than one, something is going wrong, figure out\n",
    "            print(\"Too many .webm files for ppt \" + pptnum + \".\")\n",
    "            break\n",
    "        elif len(indices) == 0: # if none, probably only saved before video, so check wCAM\n",
    "            print(\"No .webm files found for ppt \" + pptnum + \".\")\n",
    "        elif len(indices) == 1: # if one, that is perfect, read it\n",
    "#             data = pd.read_csv(ACsv[indices[0]])\n",
    "            filename = AVid[indices[0]]\n",
    "            print(\"Currently processing video features for: \" + filename)\n",
    "            date = re.search(pptnum + '_(.*)webm', filename).group(1)\n",
    "            extract_video(filename, 'A', date)\n",
    "\n",
    "#         break\n",
    "#     if index > 10:\n",
    "#         break"
   ]
  },
  {
   "cell_type": "markdown",
   "id": "4a400a37-c0a4-4799-88b2-df907c907b1a",
   "metadata": {},
   "source": [
    "# Testmoment B"
   ]
  },
  {
   "cell_type": "code",
   "execution_count": 4,
   "id": "422bc000-ff5b-48ad-a58a-a950a06056c7",
   "metadata": {},
   "outputs": [],
   "source": [
    "os.chdir(data_B_dir)\n",
    "BVid = glob.glob(\"video_{ParticipantNo*\" + \"*.webm\", recursive = True) # get all webm's in directory\n",
    "BVidID = []\n",
    "CSVy_n = []\n",
    "\n",
    "for index, item in enumerate(BVid):\n",
    "    BVidID.append(BVid[index].split(\"video_{ParticipantNo}_\")[1][0:3])\n",
    "        \n",
    "BVidID = set(BVidID)\n",
    "demographics = pd.read_csv(data_all_dir + \"cleanData.csv\", encoding = \"ISO-8859-1\")"
   ]
  },
  {
   "cell_type": "code",
   "execution_count": 5,
   "id": "430459c9-d1f9-4be1-bcb2-be032a9759b4",
   "metadata": {},
   "outputs": [],
   "source": [
    "exclude = ['&à&', # Weird shit\n",
    "           '778', # long 778blabla stuff\n",
    "           '405', # Two moments (14-1 and 24-1), no moment A\n",
    "           '_28', # Obviously bad\n",
    "           '14_', # Obv\n",
    "           '100', # Is actually 100000, so delete\n",
    "#            '489', # this bugs for no specific reason.. Get back to this\n",
    "           '667', # 667 is okay, but also a file called 6677, should probably deleted that one\n",
    "           '66_', # weird stuff\n",
    "           '255', # tbd\n",
    "           '488', # 4888 being processed\n",
    "          ]"
   ]
  },
  {
   "cell_type": "code",
   "execution_count": 7,
   "id": "687114d3-6167-4e37-b3f9-0af94a8beef8",
   "metadata": {
    "scrolled": true,
    "tags": []
   },
   "outputs": [
    {
     "name": "stderr",
     "output_type": "stream",
     "text": [
      "  0%|                                                                                          | 0/294 [00:00<?, ?it/s]"
     ]
    },
    {
     "name": "stdout",
     "output_type": "stream",
     "text": [
      "Currently processing video features for: video_{ParticipantNo}_170_9-11-2020.webm\n"
     ]
    },
    {
     "name": "stderr",
     "output_type": "stream",
     "text": [
      "  0%|▎                                                                                 | 1/294 [00:02<13:26,  2.75s/it]"
     ]
    },
    {
     "name": "stdout",
     "output_type": "stream",
     "text": [
      "Currently processing video features for: video_{ParticipantNo}_199_18-11-2020.webm\n"
     ]
    },
    {
     "name": "stderr",
     "output_type": "stream",
     "text": [
      "  3%|██▌                                                                               | 9/294 [00:03<06:48,  1.43s/it]"
     ]
    },
    {
     "name": "stdout",
     "output_type": "stream",
     "text": [
      "Currently processing video features for: video_{ParticipantNo}_177_12-11-2020.webm\n",
      "Currently processing video features for: video_{ParticipantNo}_252_27-11-2020.webm\n",
      "Currently processing video features for: video_{ParticipantNo}_300_28-11-2020.webm\n",
      "Currently processing video features for: video_{ParticipantNo}_227_10-12-2020.webm\n",
      "Currently processing video features for: video_{ParticipantNo}_348_15-12-2020.webm\n",
      "Currently processing video features for: video_{ParticipantNo}_428_18-2-2021.webm\n",
      "Currently processing video features for: video_{ParticipantNo}_124_11-9-2020.webm\n",
      "Currently processing video features for: video_{ParticipantNo}_171_9-11-2020.webm\n",
      "Currently processing video features for: video_{ParticipantNo}_173_18-11-2020.webm\n"
     ]
    },
    {
     "name": "stderr",
     "output_type": "stream",
     "text": [
      "  4%|███▎                                                                             | 12/294 [00:03<04:57,  1.06s/it]"
     ]
    },
    {
     "name": "stdout",
     "output_type": "stream",
     "text": [
      "Currently processing video features for: video_{ParticipantNo}_479_31-5-2021.webm\n",
      "Currently processing video features for: video_{ParticipantNo}_226_5-11-2020.webm\n"
     ]
    },
    {
     "name": "stderr",
     "output_type": "stream",
     "text": [
      "  5%|████▍                                                                            | 16/294 [00:04<02:40,  1.73it/s]"
     ]
    },
    {
     "name": "stdout",
     "output_type": "stream",
     "text": [
      "Currently processing video features for: video_{ParticipantNo}_606_14-5-2021.webm\n",
      "Currently processing video features for: video_{ParticipantNo}_676_22-8-2021.webm\n",
      "Currently processing video features for: video_{ParticipantNo}_564_28-5-2021.webm\n"
     ]
    },
    {
     "name": "stderr",
     "output_type": "stream",
     "text": [
      "  6%|████▉                                                                            | 18/294 [00:04<02:12,  2.09it/s]"
     ]
    },
    {
     "name": "stdout",
     "output_type": "stream",
     "text": [
      "Currently processing video features for: video_{ParticipantNo}_450_30-3-2021.webm\n",
      "Currently processing video features for: video_{ParticipantNo}_251_4-12-2020.webm\n",
      "Currently processing video features for: video_{ParticipantNo}_360_12-1-2021.webm\n",
      "Currently processing video features for: video_{ParticipantNo}_131_2-11-2020.webm\n",
      "Currently processing video features for: video_{ParticipantNo}_403_18-1-2021.webm\n"
     ]
    },
    {
     "name": "stderr",
     "output_type": "stream",
     "text": [
      " 11%|█████████                                                                        | 33/294 [00:05<01:08,  3.83it/s]"
     ]
    },
    {
     "name": "stdout",
     "output_type": "stream",
     "text": [
      "Currently processing video features for: video_{ParticipantNo}_608_20-5-2021.webm\n",
      "Currently processing video features for: video_{ParticipantNo}_616_21-5-2021.webm\n",
      "Currently processing video features for: video_{ParticipantNo}_454_1-4-2021.webm\n",
      "Currently processing video features for: video_{ParticipantNo}_295_22-11-2020.webm\n",
      "Currently processing video features for: video_{ParticipantNo}_273_9-11-2020.webm\n",
      "Currently processing video features for: video_{ParticipantNo}_187_14-11-2020.webm\n",
      "Currently processing video features for: video_{ParticipantNo}_231_18-11-2020.webm\n",
      "Currently processing video features for: video_{ParticipantNo}_663_31-5-2021.webm\n",
      "Currently processing video features for: video_{ParticipantNo}_182_21-11-2020.webm\n",
      "Currently processing video features for: video_{ParticipantNo}_155_12-11-2020.webm\n",
      "Currently processing video features for: video_{ParticipantNo}_499_9-5-2021.webm\n",
      "Currently processing video features for: video_{ParticipantNo}_561_12-5-2021.webm\n",
      "Currently processing video features for: video_{ParticipantNo}_628_13-5-2021.webm\n",
      "Currently processing video features for: video_{ParticipantNo}_601_31-5-2021.webm\n",
      "Currently processing video features for: video_{ParticipantNo}_340_30-11-2020.webm\n",
      "Currently processing video features for: video_{ParticipantNo}_515_29-4-2021.webm\n"
     ]
    },
    {
     "name": "stderr",
     "output_type": "stream",
     "text": [
      " 14%|███████████                                                                      | 40/294 [00:05<00:47,  5.34it/s]"
     ]
    },
    {
     "name": "stdout",
     "output_type": "stream",
     "text": [
      "Currently processing video features for: video_{ParticipantNo}_327_17-11-2020.webm\n",
      "Currently processing video features for: video_{ParticipantNo}_462_29-3-2021.webm\n"
     ]
    },
    {
     "name": "stderr",
     "output_type": "stream",
     "text": [
      " 15%|████████████▍                                                                    | 45/294 [00:06<00:45,  5.48it/s]"
     ]
    },
    {
     "name": "stdout",
     "output_type": "stream",
     "text": [
      "Currently processing video features for: video_{ParticipantNo}_241_11-12-2020.webm\n",
      "Currently processing video features for: video_{ParticipantNo}_550_14-7-2021.webm\n",
      "Currently processing video features for: video_{ParticipantNo}_331_18-11-2020.webm\n",
      "Currently processing video features for: video_{ParticipantNo}_123_7-9-2020.webm\n",
      "Currently processing video features for: video_{ParticipantNo}_239_2-12-2020.webm\n",
      "Currently processing video features for: video_{ParticipantNo}_280_30-11-2020.webm\n"
     ]
    },
    {
     "name": "stderr",
     "output_type": "stream",
     "text": [
      " 17%|█████████████▌                                                                   | 49/294 [00:06<00:40,  6.01it/s]"
     ]
    },
    {
     "name": "stdout",
     "output_type": "stream",
     "text": [
      "Currently processing video features for: video_{ParticipantNo}_269_9-11-2020.webm\n",
      "Currently processing video features for: video_{ParticipantNo}_599_10-5-2021.webm\n",
      "Currently processing video features for: video_{ParticipantNo}_480_18-4-2021.webm\n",
      "Currently processing video features for: video_{ParticipantNo}_524_3-5-2021.webm\n"
     ]
    },
    {
     "name": "stderr",
     "output_type": "stream",
     "text": [
      " 21%|█████████████████▎                                                               | 63/294 [00:07<00:26,  8.72it/s]"
     ]
    },
    {
     "name": "stdout",
     "output_type": "stream",
     "text": [
      "Currently processing video features for: video_{ParticipantNo}_554_24-5-2021.webm\n",
      "Currently processing video features for: video_{ParticipantNo}_562_12-5-2021.webm\n",
      "Currently processing video features for: video_{ParticipantNo}_344_11-12-2020.webm\n",
      "Currently processing video features for: video_{ParticipantNo}_261_7-1-2021.webm\n",
      "Currently processing video features for: video_{ParticipantNo}_437_22-2-2021.webm\n",
      "Currently processing video features for: video_{ParticipantNo}_555_9-5-2021.webm\n",
      "Currently processing video features for: video_{ParticipantNo}_603_13-5-2021.webm\n",
      "Currently processing video features for: video_{ParticipantNo}_266_7-12-2020.webm\n",
      "Currently processing video features for: video_{ParticipantNo}_419_11-2-2021.webm\n",
      "Currently processing video features for: video_{ParticipantNo}_441_10-3-2021.webm\n",
      "Currently processing video features for: video_{ParticipantNo}_223_1-12-2020.webm\n",
      "Currently processing video features for: video_{ParticipantNo}_167_15-11-2020.webm\n",
      "Currently processing video features for: video_{ParticipantNo}_615_14-6-2021.webm\n"
     ]
    },
    {
     "name": "stderr",
     "output_type": "stream",
     "text": [
      " 23%|██████████████████▋                                                              | 68/294 [00:07<00:24,  9.35it/s]"
     ]
    },
    {
     "name": "stdout",
     "output_type": "stream",
     "text": [
      "Currently processing video features for: video_{ParticipantNo}_651_8-5-2021.webm\n",
      "Currently processing video features for: video_{ParticipantNo}_172_19-11-2020.webm\n",
      "Currently processing video features for: video_{ParticipantNo}_402_24-1-2021.webm\n",
      "Currently processing video features for: video_{ParticipantNo}_661_17-6-2021.webm\n"
     ]
    },
    {
     "name": "stderr",
     "output_type": "stream",
     "text": [
      " 27%|██████████████████████                                                           | 80/294 [00:48<15:15,  4.28s/it]"
     ]
    },
    {
     "name": "stdout",
     "output_type": "stream",
     "text": [
      "Very fast processing video features for: video_{ParticipantNo}_661_17-6-2021.webm. Check whether everything has gone well!\n",
      "Currently processing video features for: video_{ParticipantNo}_482_28-4-2021.webm\n",
      "Currently processing video features for: video_{ParticipantNo}_574_17-5-2021.webm\n",
      "Currently processing video features for: video_{ParticipantNo}_333_12-12-2020.webm\n",
      "Currently processing video features for: video_{ParticipantNo}_411_11-2-2021.webm\n",
      "Currently processing video features for: video_{ParticipantNo}_580_11-5-2021.webm\n",
      "Currently processing video features for: video_{ParticipantNo}_503_30-5-2021.webm\n",
      "Currently processing video features for: video_{ParticipantNo}_214_11-12-2020.webm\n",
      "Currently processing video features for: video_{ParticipantNo}_434_4-4-2021.webm\n",
      "Currently processing video features for: video_{ParticipantNo}_491_23-5-2021.webm\n",
      "Currently processing video features for: video_{ParticipantNo}_376_5-2-2021.webm\n",
      "Currently processing video features for: video_{ParticipantNo}_230_7-11-2020.webm\n",
      "Currently processing video features for: video_{ParticipantNo}_521_24-5-2021.webm\n"
     ]
    },
    {
     "name": "stderr",
     "output_type": "stream",
     "text": [
      " 31%|█████████████████████████▎                                                       | 92/294 [01:20<18:37,  5.53s/it]"
     ]
    },
    {
     "name": "stdout",
     "output_type": "stream",
     "text": [
      "Very fast processing video features for: video_{ParticipantNo}_521_24-5-2021.webm. Check whether everything has gone well!\n",
      "Currently processing video features for: video_{ParticipantNo}_650_9-5-2021.webm\n",
      "Currently processing video features for: video_{ParticipantNo}_127_4-10-2020.webm\n",
      "Currently processing video features for: video_{ParticipantNo}_468_2-4-2021.webm\n",
      "Currently processing video features for: video_{ParticipantNo}_590_30-4-2021.webm\n",
      "Currently processing video features for: video_{ParticipantNo}_538_9-5-2021.webm\n",
      "Currently processing video features for: video_{ParticipantNo}_553_25-6-2021.webm\n",
      "Currently processing video features for: video_{ParticipantNo}_560_26-4-2021.webm\n",
      "Currently processing video features for: video_{ParticipantNo}_654_12-5-2021.webm\n",
      "Currently processing video features for: video_{ParticipantNo}_343_2-12-2020.webm\n",
      "Currently processing video features for: video_{ParticipantNo}_253_2-12-2020.webm\n",
      "Currently processing video features for: video_{ParticipantNo}_495_1-5-2021.webm\n",
      "Currently processing video features for: video_{ParticipantNo}_206_2-11-2020.webm\n",
      "Currently processing video features for: video_{ParticipantNo}_161_11-11-2020.webm\n",
      "Currently processing video features for: video_{ParticipantNo}_414_21-1-2021.webm\n",
      "Currently processing video features for: video_{ParticipantNo}_444_27-4-2021.webm\n",
      "Currently processing video features for: video_{ParticipantNo}_216_9-12-2020.webm\n",
      "Currently processing video features for: video_{ParticipantNo}_201_30-11-2020.webm\n",
      "Currently processing video features for: video_{ParticipantNo}_527_28-6-2021.webm\n"
     ]
    },
    {
     "name": "stderr",
     "output_type": "stream",
     "text": [
      " 38%|██████████████████████████████▏                                                 | 111/294 [01:21<08:17,  2.72s/it]"
     ]
    },
    {
     "name": "stdout",
     "output_type": "stream",
     "text": [
      "Currently processing video features for: video_{ParticipantNo}_399_25-1-2021.webm\n",
      "Currently processing video features for: video_{ParticipantNo}_622_14-5-2021.webm\n",
      "Currently processing video features for: video_{ParticipantNo}_296_25-11-2020.webm\n",
      "Currently processing video features for: video_{ParticipantNo}_274_15-12-2020.webm\n",
      "Currently processing video features for: video_{ParticipantNo}_243_18-11-2020.webm\n",
      "Currently processing video features for: video_{ParticipantNo}_304_30-11-2020.webm\n",
      "Currently processing video features for: video_{ParticipantNo}_390_20-1-2021.webm\n",
      "Currently processing video features for: video_{ParticipantNo}_589_8-5-2021.webm\n",
      "Currently processing video features for: video_{ParticipantNo}_180_4-11-2020.webm\n",
      "Currently processing video features for: video_{ParticipantNo}_271_19-11-2020.webm\n",
      "Currently processing video features for: video_{ParticipantNo}_458_1-4-2021.webm\n",
      "Currently processing video features for: video_{ParticipantNo}_380_19-1-2021.webm\n",
      "Currently processing video features for: video_{ParticipantNo}_263_19-11-2020.webm\n",
      "Currently processing video features for: video_{ParticipantNo}_415_16-2-2021.webm\n",
      "Currently processing video features for: video_{ParticipantNo}_466_27-3-2021.webm\n",
      "Currently processing video features for: video_{ParticipantNo}_156_31-10-2020.webm\n",
      "Currently processing video features for: video_{ParticipantNo}_233_4-11-2020.webm\n",
      "Currently processing video features for: video_{ParticipantNo}_477_10-4-2021.webm\n"
     ]
    },
    {
     "name": "stderr",
     "output_type": "stream",
     "text": [
      " 40%|████████████████████████████████▍                                               | 119/294 [01:21<05:34,  1.91s/it]"
     ]
    },
    {
     "name": "stdout",
     "output_type": "stream",
     "text": [
      "Currently processing video features for: video_{ParticipantNo}_678_10-9-2021.webm\n"
     ]
    },
    {
     "name": "stderr",
     "output_type": "stream",
     "text": [
      " 41%|████████████████████████████████▋                                               | 120/294 [01:54<32:47, 11.31s/it]"
     ]
    },
    {
     "name": "stdout",
     "output_type": "stream",
     "text": [
      "Very fast processing video features for: video_{ParticipantNo}_678_10-9-2021.webm. Check whether everything has gone well!\n",
      "Currently processing video features for: video_{ParticipantNo}_159_27-11-2020.webm\n"
     ]
    },
    {
     "name": "stderr",
     "output_type": "stream",
     "text": [
      " 44%|███████████████████████████████████▎                                            | 130/294 [01:55<15:17,  5.59s/it]"
     ]
    },
    {
     "name": "stdout",
     "output_type": "stream",
     "text": [
      "Currently processing video features for: video_{ParticipantNo}_224_5-11-2020.webm\n",
      "Currently processing video features for: video_{ParticipantNo}_588_5-5-2021.webm\n",
      "Currently processing video features for: video_{ParticipantNo}_129_9-10-2020.webm\n",
      "Currently processing video features for: video_{ParticipantNo}_493_26-4-2021.webm\n",
      "Currently processing video features for: video_{ParticipantNo}_410_29-1-2021.webm\n",
      "Currently processing video features for: video_{ParticipantNo}_275_4-11-2020.webm\n",
      "Currently processing video features for: video_{ParticipantNo}_319_9-12-2020.webm\n",
      "Currently processing video features for: video_{ParticipantNo}_456_26-3-2021.webm\n",
      "Currently processing video features for: video_{ParticipantNo}_605_1-6-2021.webm\n",
      "Currently processing video features for: video_{ParticipantNo}_502_22-5-2021.webm\n"
     ]
    },
    {
     "name": "stderr",
     "output_type": "stream",
     "text": [
      " 48%|██████████████████████████████████████                                          | 140/294 [02:30<25:55, 10.10s/it]"
     ]
    },
    {
     "name": "stdout",
     "output_type": "stream",
     "text": [
      "Very fast processing video features for: video_{ParticipantNo}_502_22-5-2021.webm. Check whether everything has gone well!\n",
      "Currently processing video features for: video_{ParticipantNo}_621_2-6-2021.webm\n",
      "Currently processing video features for: video_{ParticipantNo}_256_26-11-2020.webm\n",
      "Currently processing video features for: video_{ParticipantNo}_679_13-9-2021.webm\n",
      "Currently processing video features for: video_{ParticipantNo}_148_17-11-2020.webm\n",
      "Currently processing video features for: video_{ParticipantNo}_260_6-11-2020.webm\n",
      "Currently processing video features for: video_{ParticipantNo}_181_22-11-2020.webm\n",
      "Currently processing video features for: video_{ParticipantNo}_200_11-11-2020.webm\n",
      "Currently processing video features for: video_{ParticipantNo}_642_17-5-2021.webm\n",
      "Currently processing video features for: video_{ParticipantNo}_346_10-1-2021.webm\n",
      "Currently processing video features for: video_{ParticipantNo}_542_9-5-2021.webm\n"
     ]
    },
    {
     "name": "stderr",
     "output_type": "stream",
     "text": [
      " 48%|██████████████████████████████████████▎                                         | 141/294 [03:02<42:56, 16.84s/it]"
     ]
    },
    {
     "name": "stdout",
     "output_type": "stream",
     "text": [
      "Very fast processing video features for: video_{ParticipantNo}_542_9-5-2021.webm. Check whether everything has gone well!\n",
      "Currently processing video features for: video_{ParticipantNo}_504_1-5-2021.webm\n",
      "Currently processing video features for: video_{ParticipantNo}_649_10-6-2021.webm\n"
     ]
    },
    {
     "name": "stderr",
     "output_type": "stream",
     "text": [
      " 49%|██████████████████████████████████████▉                                         | 143/294 [03:38<43:15, 17.19s/it]"
     ]
    },
    {
     "name": "stdout",
     "output_type": "stream",
     "text": [
      "Very fast processing video features for: video_{ParticipantNo}_649_10-6-2021.webm. Check whether everything has gone well!\n",
      "Currently processing video features for: video_{ParticipantNo}_672_30-7-2021.webm\n",
      "Currently processing video features for: video_{ParticipantNo}_383_24-1-2021.webm\n"
     ]
    },
    {
     "name": "stderr",
     "output_type": "stream",
     "text": [
      " 52%|█████████████████████████████████████████▎                                      | 152/294 [04:11<28:09, 11.90s/it]"
     ]
    },
    {
     "name": "stdout",
     "output_type": "stream",
     "text": [
      "Very fast processing video features for: video_{ParticipantNo}_383_24-1-2021.webm. Check whether everything has gone well!\n",
      "Currently processing video features for: video_{ParticipantNo}_445_26-2-2021.webm\n",
      "Currently processing video features for: video_{ParticipantNo}_559_26-5-2021.webm\n",
      "Currently processing video features for: video_{ParticipantNo}_282_2-2-2021.webm\n",
      "Currently processing video features for: video_{ParticipantNo}_178_3-11-2020.webm\n",
      "Currently processing video features for: video_{ParticipantNo}_247_18-11-2020.webm\n",
      "Currently processing video features for: video_{ParticipantNo}_540_17-5-2021.webm\n",
      "Currently processing video features for: video_{ParticipantNo}_408_18-1-2021.webm\n",
      "Currently processing video features for: video_{ParticipantNo}_638_1-5-2021.webm\n"
     ]
    },
    {
     "name": "stderr",
     "output_type": "stream",
     "text": [
      " 56%|████████████████████████████████████████████▋                                   | 164/294 [04:12<12:41,  5.86s/it]"
     ]
    },
    {
     "name": "stdout",
     "output_type": "stream",
     "text": [
      "Currently processing video features for: video_{ParticipantNo}_639_19-5-2021.webm\n",
      "Currently processing video features for: video_{ParticipantNo}_664_14-7-2021.webm\n",
      "Currently processing video features for: video_{ParticipantNo}_211_17-11-2020.webm\n",
      "Currently processing video features for: video_{ParticipantNo}_297_7-11-2020.webm\n",
      "Currently processing video features for: video_{ParticipantNo}_363_6-1-2021.webm\n",
      "Currently processing video features for: video_{ParticipantNo}_246_14-11-2020.webm\n",
      "Currently processing video features for: video_{ParticipantNo}_505_1-5-2021.webm\n",
      "Currently processing video features for: video_{ParticipantNo}_612_16-5-2021.webm\n",
      "Currently processing video features for: video_{ParticipantNo}_671_5-8-2021.webm\n",
      "Currently processing video features for: video_{ParticipantNo}_144_15-11-2020.webm\n",
      "Currently processing video features for: video_{ParticipantNo}_293_22-11-2020.webm\n",
      "Currently processing video features for: video_{ParticipantNo}_302_16-11-2020.webm\n",
      "Currently processing video features for: video_{ParticipantNo}_435_12-3-2021.webm\n",
      "Currently processing video features for: video_{ParticipantNo}_126_13-10-2020.webm\n",
      "Currently processing video features for: video_{ParticipantNo}_534_22-6-2021.webm\n"
     ]
    },
    {
     "name": "stderr",
     "output_type": "stream",
     "text": [
      " 57%|█████████████████████████████████████████████▉                                  | 169/294 [04:46<12:46,  6.13s/it]"
     ]
    },
    {
     "name": "stdout",
     "output_type": "stream",
     "text": [
      "Very fast processing video features for: video_{ParticipantNo}_534_22-6-2021.webm. Check whether everything has gone well!\n",
      "Currently processing video features for: video_{ParticipantNo}_557_31-5-2021.webm\n"
     ]
    },
    {
     "name": "stderr",
     "output_type": "stream",
     "text": [
      " 62%|█████████████████████████████████████████████████▎                              | 181/294 [04:46<05:45,  3.06s/it]"
     ]
    },
    {
     "name": "stdout",
     "output_type": "stream",
     "text": [
      "Currently processing video features for: video_{ParticipantNo}_134_16-10-2020.webm\n",
      "Currently processing video features for: video_{ParticipantNo}_207_22-11-2020.webm\n",
      "Currently processing video features for: video_{ParticipantNo}_168_18-11-2020.webm\n",
      "Currently processing video features for: video_{ParticipantNo}_584_30-4-2021.webm\n",
      "Currently processing video features for: video_{ParticipantNo}_508_18-5-2021.webm\n",
      "Currently processing video features for: video_{ParticipantNo}_657_25-5-2021.webm\n",
      "Currently processing video features for: video_{ParticipantNo}_318_14-11-2020.webm\n",
      "Currently processing video features for: video_{ParticipantNo}_197_13-12-2020.webm\n",
      "Currently processing video features for: video_{ParticipantNo}_610_14-5-2021.webm\n",
      "Currently processing video features for: video_{ParticipantNo}_489_10-5-2021.webm\n",
      "Currently processing video features for: video_{ParticipantNo}_626_24-6-2021.webm\n",
      "Currently processing video features for: video_{ParticipantNo}_250_16-12-2020.webm\n",
      "Currently processing video features for: video_{ParticipantNo}_347_15-1-2021.webm\n",
      "Currently processing video features for: video_{ParticipantNo}_532_19-5-2021.webm\n",
      "Currently processing video features for: video_{ParticipantNo}_659_19-5-2021.webm\n",
      "Currently processing video features for: video_{ParticipantNo}_185_4-12-2020.webm\n",
      "Currently processing video features for: video_{ParticipantNo}_396_10-1-2021.webm\n",
      "Currently processing video features for: video_{ParticipantNo}_165_5-12-2020.webm\n"
     ]
    },
    {
     "name": "stderr",
     "output_type": "stream",
     "text": [
      " 68%|██████████████████████████████████████████████████████▏                         | 199/294 [04:46<02:23,  1.51s/it]"
     ]
    },
    {
     "name": "stdout",
     "output_type": "stream",
     "text": [
      "Currently processing video features for: video_{ParticipantNo}_329_23-11-2020.webm\n",
      "Currently processing video features for: video_{ParticipantNo}_618_11-5-2021.webm\n",
      "Currently processing video features for: video_{ParticipantNo}_576_16-5-2021.webm\n",
      "Currently processing video features for: video_{ParticipantNo}_147_9-11-2020.webm\n",
      "Currently processing video features for: video_{ParticipantNo}_465_13-3-2021.webm\n",
      "Currently processing video features for: video_{ParticipantNo}_481_12-4-2021.webm\n",
      "Currently processing video features for: video_{ParticipantNo}_511_24-5-2021.webm\n",
      "Currently processing video features for: video_{ParticipantNo}_189_8-12-2020.webm\n",
      "Currently processing video features for: video_{ParticipantNo}_294_24-11-2020.webm\n",
      "Currently processing video features for: video_{ParticipantNo}_316_9-12-2020.webm\n",
      "Currently processing video features for: video_{ParticipantNo}_533_17-5-2021.webm\n",
      "Currently processing video features for: video_{ParticipantNo}_544_3-6-2021.webm\n",
      "Currently processing video features for: video_{ParticipantNo}_563_10-5-2021.webm\n",
      "Currently processing video features for: video_{ParticipantNo}_583_25-5-2021.webm\n",
      "Currently processing video features for: video_{ParticipantNo}_106_31-8-2020.webm\n",
      "Currently processing video features for: video_{ParticipantNo}_596_17-5-2021.webm\n",
      "Currently processing video features for: video_{ParticipantNo}_193_3-11-2020.webm\n",
      "Currently processing video features for: video_{ParticipantNo}_665_15-7-2021.webm\n"
     ]
    },
    {
     "name": "stderr",
     "output_type": "stream",
     "text": [
      " 75%|███████████████████████████████████████████████████████████▊                    | 220/294 [04:47<00:55,  1.34it/s]"
     ]
    },
    {
     "name": "stdout",
     "output_type": "stream",
     "text": [
      "Currently processing video features for: video_{ParticipantNo}_99999_11-9-2020.webm\n",
      "Currently processing video features for: video_{ParticipantNo}_350_7-1-2021.webm\n",
      "Currently processing video features for: video_{ParticipantNo}_338_16-1-2021.webm\n",
      "Currently processing video features for: video_{ParticipantNo}_519_1-6-2021.webm\n",
      "Currently processing video features for: video_{ParticipantNo}_140_31-10-2020.webm\n",
      "Currently processing video features for: video_{ParticipantNo}_597_13-6-2021.webm\n",
      "Currently processing video features for: video_{ParticipantNo}_326_2-12-2020.webm\n",
      "Currently processing video features for: video_{ParticipantNo}_135_5-10-2020.webm\n",
      "Currently processing video features for: video_{ParticipantNo}_166_9-11-2020.webm\n",
      "Currently processing video features for: video_{ParticipantNo}_195_4-12-2020.webm\n",
      "Currently processing video features for: video_{ParticipantNo}_222_5-11-2020.webm\n",
      "Currently processing video features for: video_{ParticipantNo}_634_18-5-2021.webm\n",
      "Currently processing video features for: video_{ParticipantNo}_526_3-5-2021.webm\n",
      "Currently processing video features for: video_{ParticipantNo}_549_19-7-2021.webm\n",
      "Currently processing video features for: video_{ParticipantNo}_630_29-5-2021.webm\n",
      "Currently processing video features for: video_{ParticipantNo}_265_8-11-2020.webm\n",
      "Currently processing video features for: video_{ParticipantNo}_119_23-9-2020.webm\n",
      "Currently processing video features for: video_{ParticipantNo}_617_8-5-2021.webm\n"
     ]
    },
    {
     "name": "stderr",
     "output_type": "stream",
     "text": [
      " 81%|████████████████████████████████████████████████████████████████▍               | 237/294 [04:47<00:21,  2.66it/s]"
     ]
    },
    {
     "name": "stdout",
     "output_type": "stream",
     "text": [
      "Currently processing video features for: video_{ParticipantNo}_632_18-5-2021.webm\n",
      "Currently processing video features for: video_{ParticipantNo}_609_1-5-2021.webm\n",
      "Currently processing video features for: video_{ParticipantNo}_490_24-5-2021.webm\n",
      "Currently processing video features for: video_{ParticipantNo}_315_19-11-2020.webm\n",
      "Currently processing video features for: video_{ParticipantNo}_387_3-2-2021.webm\n",
      "Currently processing video features for: video_{ParticipantNo}_349_23-2-2021.webm\n",
      "Currently processing video features for: video_{ParticipantNo}_198_24-11-2020.webm\n",
      "Currently processing video features for: video_{ParticipantNo}_567_25-4-2021.webm\n",
      "Currently processing video features for: video_{ParticipantNo}_157_17-11-2020.webm\n",
      "Currently processing video features for: video_{ParticipantNo}_510_8-5-2021.webm\n",
      "Currently processing video features for: video_{ParticipantNo}_662_23-6-2021.webm\n",
      "Currently processing video features for: video_{ParticipantNo}_242_19-11-2020.webm\n",
      "Currently processing video features for: video_{ParticipantNo}_341_26-11-2020.webm\n",
      "Currently processing video features for: video_{ParticipantNo}_283_11-12-2020.webm\n",
      "Currently processing video features for: video_{ParticipantNo}_286_9-11-2020.webm\n",
      "Currently processing video features for: video_{ParticipantNo}_221_24-11-2020.webm\n",
      "Currently processing video features for: video_{ParticipantNo}_457_12-4-2021.webm\n",
      "Currently processing video features for: video_{ParticipantNo}_487_21-6-2021.webm\n"
     ]
    },
    {
     "name": "stderr",
     "output_type": "stream",
     "text": [
      " 83%|██████████████████████████████████████████████████████████████████▋             | 245/294 [05:20<01:13,  1.50s/it]"
     ]
    },
    {
     "name": "stdout",
     "output_type": "stream",
     "text": [
      "Very fast processing video features for: video_{ParticipantNo}_487_21-6-2021.webm. Check whether everything has gone well!\n",
      "Currently processing video features for: video_{ParticipantNo}_258_29-11-2020.webm\n",
      "Currently processing video features for: video_{ParticipantNo}_163_9-11-2020.webm\n",
      "Currently processing video features for: video_{ParticipantNo}_342_26-12-2020.webm\n"
     ]
    },
    {
     "name": "stderr",
     "output_type": "stream",
     "text": [
      " 84%|███████████████████████████████████████████████████████████████████▍            | 248/294 [05:23<01:01,  1.33s/it]"
     ]
    },
    {
     "name": "stdout",
     "output_type": "stream",
     "text": [
      "Very fast processing video features for: video_{ParticipantNo}_342_26-12-2020.webm. Check whether everything has gone well!\n",
      "Currently processing video features for: video_{ParticipantNo}_154_13-11-2020.webm\n",
      "Currently processing video features for: video_{ParticipantNo}_579_16-5-2021.webm\n",
      "Currently processing video features for: video_{ParticipantNo}_394_11-2-2021.webm\n",
      "Currently processing video features for: video_{ParticipantNo}_594_18-5-2021.webm\n",
      "Currently processing video features for: video_{ParticipantNo}_409_13-2-2021.webm\n"
     ]
    },
    {
     "name": "stderr",
     "output_type": "stream",
     "text": [
      " 89%|███████████████████████████████████████████████████████████████████████▎        | 262/294 [05:23<00:21,  1.50it/s]"
     ]
    },
    {
     "name": "stdout",
     "output_type": "stream",
     "text": [
      "Currently processing video features for: video_{ParticipantNo}_254_25-11-2020.webm\n",
      "Currently processing video features for: video_{ParticipantNo}_478_30-4-2021.webm\n",
      "Currently processing video features for: video_{ParticipantNo}_516_25-4-2021.webm\n",
      "Currently processing video features for: video_{ParticipantNo}_225_27-11-2020.webm\n",
      "Currently processing video features for: video_{ParticipantNo}_640_3-6-2021.webm\n",
      "Currently processing video features for: video_{ParticipantNo}_413_3-2-2021.webm\n",
      "Currently processing video features for: video_{ParticipantNo}_438_15-3-2021.webm\n",
      "Currently processing video features for: video_{ParticipantNo}_290_15-12-2020.webm\n",
      "Currently processing video features for: video_{ParticipantNo}_125_20-9-2020.webm\n",
      "Currently processing video features for: video_{ParticipantNo}_158_15-12-2020.webm\n",
      "Currently processing video features for: video_{ParticipantNo}_420_10-2-2021.webm\n",
      "Currently processing video features for: video_{ParticipantNo}_586_21-5-2021.webm\n",
      "Currently processing video features for: video_{ParticipantNo}_627_30-4-2021.webm\n",
      "Currently processing video features for: video_{ParticipantNo}_674_16-8-2021.webm\n",
      "Currently processing video features for: video_{ParticipantNo}_392_31-1-2021.webm\n",
      "Currently processing video features for: video_{ParticipantNo}_248_9-12-2020.webm\n"
     ]
    },
    {
     "name": "stderr",
     "output_type": "stream",
     "text": [
      " 92%|█████████████████████████████████████████████████████████████████████████▋      | 271/294 [05:23<00:10,  2.13it/s]"
     ]
    },
    {
     "name": "stdout",
     "output_type": "stream",
     "text": [
      "Currently processing video features for: video_{ParticipantNo}_431_20-2-2021.webm\n",
      "Currently processing video features for: video_{ParticipantNo}_467_27-3-2021.webm\n",
      "Currently processing video features for: video_{ParticipantNo}_145_15-11-2020.webm\n",
      "Currently processing video features for: video_{ParticipantNo}_194_19-11-2020.webm\n",
      "Currently processing video features for: video_{ParticipantNo}_423_14-2-2021.webm\n",
      "Currently processing video features for: video_{ParticipantNo}_299_4-11-2020.webm\n"
     ]
    },
    {
     "name": "stderr",
     "output_type": "stream",
     "text": [
      " 96%|████████████████████████████████████████████████████████████████████████████▋   | 282/294 [05:24<00:02,  4.02it/s]"
     ]
    },
    {
     "name": "stdout",
     "output_type": "stream",
     "text": [
      "Currently processing video features for: video_{ParticipantNo}_308_24-11-2020.webm\n",
      "Currently processing video features for: video_{ParticipantNo}_277_6-11-2020.webm\n",
      "Currently processing video features for: video_{ParticipantNo}_587_4-5-2021.webm\n",
      "Currently processing video features for: video_{ParticipantNo}_279_18-11-2020.webm\n",
      "Currently processing video features for: video_{ParticipantNo}_176_26-11-2020.webm\n",
      "Currently processing video features for: video_{ParticipantNo}_323_4-11-2020.webm\n",
      "Currently processing video features for: video_{ParticipantNo}_388_30-1-2021.webm\n",
      "Currently processing video features for: video_{ParticipantNo}_611_27-5-2021.webm\n",
      "Currently processing video features for: video_{ParticipantNo}_215_22-11-2020.webm\n",
      "Currently processing video features for: video_{ParticipantNo}_398_31-1-2021.webm\n",
      "Currently processing video features for: video_{ParticipantNo}_446_15-3-2021.webm\n"
     ]
    },
    {
     "name": "stderr",
     "output_type": "stream",
     "text": [
      " 98%|██████████████████████████████████████████████████████████████████████████████  | 287/294 [05:24<00:01,  5.53it/s]"
     ]
    },
    {
     "name": "stdout",
     "output_type": "stream",
     "text": [
      "Currently processing video features for: video_{ParticipantNo}_169_10-12-2020.webm\n",
      "Currently processing video features for: video_{ParticipantNo}_514_3-5-2021.webm\n",
      "Currently processing video features for: video_{ParticipantNo}_498_8-5-2021.webm\n",
      "Currently processing video features for: video_{ParticipantNo}_303_1-12-2020.webm\n"
     ]
    },
    {
     "name": "stderr",
     "output_type": "stream",
     "text": [
      "100%|████████████████████████████████████████████████████████████████████████████████| 294/294 [05:24<00:00,  1.10s/it]"
     ]
    },
    {
     "name": "stdout",
     "output_type": "stream",
     "text": [
      "Currently processing video features for: video_{ParticipantNo}_330_9-12-2020.webm\n",
      "Currently processing video features for: video_{ParticipantNo}_525_19-5-2021.webm\n",
      "Currently processing video features for: video_{ParticipantNo}_339_18-11-2020.webm\n",
      "Currently processing video features for: video_{ParticipantNo}_537_20-5-2021.webm\n"
     ]
    },
    {
     "name": "stderr",
     "output_type": "stream",
     "text": [
      "\n"
     ]
    }
   ],
   "source": [
    "index = 0\n",
    "for pptnum in tqdm(BVidID): # Loop through all file ID's\n",
    "    if pptnum not in exclude: # Some participants messed up, so skip those. See earlier cell for descriptions of each\n",
    "        index += 1\n",
    "        indices = [i for i, s in enumerate(BVid) if pptnum in s] # Check per pptnum how many files are found\n",
    "        if len(indices) > 1: # if more than one, something is going wrong, figure out\n",
    "            print(\"Too many .webm files for ppt \" + pptnum + \".\")\n",
    "            break\n",
    "        elif len(indices) == 0: # if none, probably only saved before video, so check wCAM\n",
    "            print(\"No .webm files found for ppt \" + pptnum + \".\")\n",
    "        elif len(indices) == 1: # if one, that is perfect, read it\n",
    "#             data = pd.read_csv(ACsv[indices[0]])\n",
    "            filename = BVid[indices[0]]\n",
    "            print(\"Currently processing video features for: \" + filename)\n",
    "            date = re.search(pptnum + '_(.*)webm', filename).group(1)\n",
    "            extract_video(filename, 'B', date)"
   ]
  },
  {
   "cell_type": "code",
   "execution_count": 7,
   "id": "3049e349-2826-4cbf-ac24-70fa2645888f",
   "metadata": {},
   "outputs": [
    {
     "name": "stderr",
     "output_type": "stream",
     "text": [
      " 17%|███████████████▍                                                                         | 51/294 [00:00<?, ?it/s]"
     ]
    },
    {
     "name": "stdout",
     "output_type": "stream",
     "text": [
      "Currently processing video features for: video_{ParticipantNo}_394_11-2-2021.webm\n"
     ]
    },
    {
     "name": "stderr",
     "output_type": "stream",
     "text": [
      "\n"
     ]
    }
   ],
   "source": [
    "index = 0\n",
    "for pptnum in tqdm(BVidID): # Loop through all file ID's\n",
    "    if pptnum == '394':\n",
    "        indices = [i for i, s in enumerate(BVid) if pptnum in s] # Check per pptnum how many files are found\n",
    "        filename = BVid[indices[0]]\n",
    "        print(\"Currently processing video features for: \" + filename)\n",
    "        date = re.search(pptnum + '_(.*)webm', filename).group(1)\n",
    "        break\n",
    "\n",
    "        \n",
    "# extract_video(filename, 'B', date)"
   ]
  },
  {
   "cell_type": "code",
   "execution_count": 11,
   "id": "cf73421a-1334-4fae-a986-24fc0665b58e",
   "metadata": {},
   "outputs": [],
   "source": [
    "extract_video(filename, 'B', date)"
   ]
  },
  {
   "cell_type": "code",
   "execution_count": 10,
   "id": "e6268fdc-dc45-491a-87ee-6c7206a3c3af",
   "metadata": {},
   "outputs": [
    {
     "data": {
      "text/plain": [
       "'video_{ParticipantNo}_4888_10-6-2021.webm'"
      ]
     },
     "execution_count": 10,
     "metadata": {},
     "output_type": "execute_result"
    }
   ],
   "source": [
    "filename"
   ]
  }
 ],
 "metadata": {
  "kernelspec": {
   "display_name": "Python 3 (ipykernel)",
   "language": "python",
   "name": "python3"
  },
  "language_info": {
   "codemirror_mode": {
    "name": "ipython",
    "version": 3
   },
   "file_extension": ".py",
   "mimetype": "text/x-python",
   "name": "python",
   "nbconvert_exporter": "python",
   "pygments_lexer": "ipython3",
   "version": "3.9.6"
  }
 },
 "nbformat": 4,
 "nbformat_minor": 5
}
