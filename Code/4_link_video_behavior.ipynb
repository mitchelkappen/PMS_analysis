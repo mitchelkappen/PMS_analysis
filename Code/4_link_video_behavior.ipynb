{
 "cells": [
  {
   "cell_type": "markdown",
   "id": "a599427c-70ba-42e3-85fd-dca7d7d7f116",
   "metadata": {},
   "source": [
    "# What's happening here?\n",
    "\n",
    "4_link_video_behavior.ipynb\n",
    "\n",
    "Run after 1_, 2_, and 3_"
   ]
  },
  {
   "cell_type": "markdown",
   "id": "8b9e3393-2206-400e-9b4f-e97860ffc57b",
   "metadata": {},
   "source": [
    "Made in environment **PMS_Study**\n",
    "\n",
    "## TO DO: bekijk file PMS_analysis/2_preparation\n",
    "\n",
    "Probeer veel met loops en functions te werken om de code overzichtelijk te houden\n",
    "\n",
    " * Start with file cleanData.csv (geeft informatie over van welke participant welke files bestaan)\n",
    " * Load timings.csv file that Tilia and Sofie made\n",
    " * Start loop from the top and use Order and A-B\n",
    " * In loop check if file (corresponding CSV) exists in Directory (/10001 or /10002 depedent of A/B): later refered to as behaviordata\n",
    " * In loop check if file (corresponding .WEBM) exists in Directory\n",
    " \n",
    "If both exist:\n",
    "- Check if output of Openface exists in Z:\\shares\\ghepmk_data\\2020_Kappen_PMS\\10002\\video_features (or /10001 dependent of A/B)\n",
    "- IF True:\n",
    "Load this as facedata\n",
    "- IF False:\n",
    "Print: \"Video file present for file (insert filename) but no openface present)\"\n",
    "Break/skip\n",
    "\n",
    "Use filename/pptnum to search for right starting time in timings.csv variable\n",
    "- Find timing for beep.wav in behaviordata. \n",
    "- Set new zero point (link between the timings.csv point and this)\n",
    "- Make mean scores on a few variables (we will expand this later) for the corresponding frames of each of the trials.\n",
    "- To do this, you should write a function that takes the right points of a trial (start, end, trialnum etc) and save this data to a dataframe\n",
    "\n",
    "Compute this in a way that you would be able to add it to allPMSdata.cvs\n",
    "\n",
    "Add it all to a new dataframe\n",
    "\n",
    "Write to csv"
   ]
  },
  {
   "cell_type": "code",
   "execution_count": 1,
   "id": "eb5439c6-64af-4bc7-9e84-900f8dfb6ae3",
   "metadata": {},
   "outputs": [],
   "source": [
    "import glob\n",
    "import os\n",
    "import subprocess\n",
    "import numpy as np\n",
    "import pandas as pd\n",
    "import math\n",
    "import time\n",
    "import json\n",
    "import statistics\n",
    "\n",
    "import features as ft\n",
    "\n",
    "from tqdm import tqdm\n",
    "from pathlib import Path\n",
    "\n",
    "import re"
   ]
  },
  {
   "cell_type": "code",
   "execution_count": 2,
   "id": "85e11c38-e968-46b7-8f43-fa5976c54e8f",
   "metadata": {},
   "outputs": [],
   "source": [
    "# Create all relevant directories\n",
    "data_dir = Path('Z:/shares/ghepmk_data/2020_Kappen_PMS')\n",
    "date_dir = \"06102021/\"\n",
    "data_all_dir = os.path.join(data_dir, date_dir)\n",
    "\n",
    "# Load base data\n",
    "demographics = pd.read_csv(data_all_dir + \"cleanData.csv\", encoding = \"ISO-8859-1\")\n",
    "allData = pd.read_csv(data_all_dir + \"allPMSdata.csv\", encoding = \"ISO-8859-1\")\n",
    "timings = pd.read_csv(data_all_dir + \"timings.csv\", encoding = \"ISO-8859-1\")\n",
    "timings = timings.rename(columns={\"ï»¿ImageGroup\": \"ImageGroup\"}, index={'ONE': 'Row_1'}) # Rename first column, because was formatted weird\n",
    "\n",
    "redoOpenface = 0 # Set to 1 if you want to re-do OpenFace processing. For instance if you added features, or changed methods"
   ]
  },
  {
   "cell_type": "code",
   "execution_count": 3,
   "id": "f2c9098d-fc3a-4451-ad0c-d330c5e8ba05",
   "metadata": {},
   "outputs": [],
   "source": [
    "# Get all OpenFace files\n",
    "os.chdir(data_dir)\n",
    "AFiles = glob.glob(\"10001/video_features/\" + \"*ParticipantNo*\" + \"*.csv\", recursive = True) # get all csv's in directory\n",
    "BFiles = glob.glob(\"10002/video_features/\" + \"*ParticipantNo*\" + \"*.csv\", recursive = True) # get all csv's in directory\n",
    "\n",
    "# Opening JSON file with all video duration information\n",
    "f = open(data_all_dir + 'video_durations.json',)\n",
    "durationsdata = json.load(f)\n",
    "f.close()"
   ]
  },
  {
   "cell_type": "code",
   "execution_count": 10,
   "id": "3fce032a-3a1c-4259-88ac-f66c1c95d1b4",
   "metadata": {},
   "outputs": [],
   "source": [
    "def get_openfacestuff(fileDir):\n",
    "    print(fileDir)\n",
    "    if len(indices) > 1:\n",
    "        print(\"Too many OpenFace files for ppt: \" + str(pptnum) + \" at moment \" + moment)\n",
    "    else: # If we get to here - the party really starts\n",
    "        try:\n",
    "            math.isnan(allData['AU12'][idx[0]])\n",
    "        except:\n",
    "            allData.loc[0, 'OFdone'] = np.nan # In case this column doesn't exist yet, create a cell with nan so the column is created\n",
    "#             allData[\"AU12\"] = np.nan # In case this column doesn't exist yet, create a column with only nan's so th next if statement always passes\n",
    "\n",
    "        if math.isnan(allData['OFdone'][idx[0]]) or redoOpenface == 1: # Check if OpenFace values have already been added, of whether manually set at top of script to re do this (so it doesnt happen unneccessarily\n",
    "            print(\"Now reading: \" + fileDir)\n",
    "            openface = pd.read_csv(fileDir, encoding = \"ISO-8859-1\") # Read openface output csv\n",
    "\n",
    "            # Get corresponding video file duration \n",
    "            splits = fileDir.split('/video_features\\\\')\n",
    "            fileduration = [value for key, value in durationsdata.items() if splits[0] in key.lower() and splits[1][23:len(splits[1])-4] in key.lower()] # Very weird formatting, but when checking for directory (10001/10002) and only the date (something with curly bracktes messes it up. \n",
    "            frameduration = fileduration[0] / len(openface)\n",
    "            openface.insert (3, \"timestamp2\", np.arange(0, fileduration[0], frameduration).tolist()[0:len(openface)]) # Add new timestamps right after the first timestamp || We're taking [0:len(openface)] here because due to rounding error, the newly created timestamps might be one longer than th array. \n",
    "            videoOffset\n",
    "            behaviorOffset = allData['startBeep'][idx[0]]\n",
    "            correctedStarts = allData['startView'][idx] - behaviorOffset # startViews - offSet\n",
    "            videoStarts = ((correctedStarts + videoOffset) / 1000).tolist() # These will be the timestamps in seconds because / 1000\n",
    "\n",
    "            correctedEnds = allData['stopView'][idx] - behaviorOffset # startViews - offSet\n",
    "            videoEnds = ((correctedEnds + videoOffset) / 1000).tolist()\n",
    "            \n",
    "            print(videoStarts)\n",
    "\n",
    "            # Loop over all the trials and get the appropriate values - add to allData\n",
    "            for trial in range(0,len(videoStarts)):\n",
    "                vidStartIdx = openface.iloc[(openface['timestamp2']-videoStarts[trial]).abs().argsort()[:1]].index.tolist()[0] # Get start idx in openface\n",
    "                vidEndIdx = openface.iloc[(openface['timestamp2']-videoEnds[trial]).abs().argsort()[:1]].index.tolist()[0] # Get end idx in openface\n",
    "\n",
    "                # Create mean value between these idx's and add to big dataframe\n",
    "                allData.loc[idx[trial], 'AU12'] = openface[' AU12_r'][vidStartIdx:vidEndIdx].mean() \n",
    "                allData.loc[idx[trial], 'AU15'] = openface[' AU15_r'][vidStartIdx:vidEndIdx].mean() \n",
    "                \n",
    "                allData.loc[idx[trial], 'arousal'] = ft.compute_arousal(openface[vidStartIdx:vidEndIdx])['mean_Arousal']\n",
    "                \n",
    "                # Pupil stuff gave bugs and slowed down the code. Try again later perhaps. \n",
    "#                 allData.loc[idx[trial], 'blinkrate'] = ft.compute_blink_rate(openface[vidStartIdx:vidEndIdx])\n",
    "#                 allData.loc[idx[trial], 'PD_Mean'] = ft.compute_PD_features(openface[vidStartIdx:vidEndIdx])['mean_PD']\n",
    "#                 allData.loc[idx[trial], 'PD_Std'] = ft.compute_PD_features(openface[vidStartIdx:vidEndIdx])['std_PD']\n",
    "#                 allData.loc[idx[trial], 'PD_Max'] = ft.compute_PD_features(openface[vidStartIdx:vidEndIdx])['max_PD']\n",
    "                \n",
    "                allData.loc[idx[trial], 'headMovement'] = ft.compute_head_motion(openface[vidStartIdx:vidEndIdx])['compound_Motion']\n",
    "\n",
    "                allData.loc[idx[trial], 'happy'] = ft.compute_emotions(openface[vidStartIdx:vidEndIdx])['mean_Happy']\n",
    "                allData.loc[idx[trial], 'sad'] = ft.compute_emotions(openface[vidStartIdx:vidEndIdx])['mean_Sad']\n",
    "                allData.loc[idx[trial], 'disgust'] = ft.compute_emotions(openface[vidStartIdx:vidEndIdx])['mean_Disgust']\n",
    "                allData.loc[idx[trial], 'anger'] = ft.compute_emotions(openface[vidStartIdx:vidEndIdx])['mean_Angry']\n",
    "                allData.loc[idx[trial], 'scared'] = ft.compute_emotions(openface[vidStartIdx:vidEndIdx])['mean_Scared']\n",
    "                \n",
    "                allData.loc[idx[trial], 'confidence'] = ft.compute_quality(openface[vidStartIdx:vidEndIdx])['mean_confidence']\n",
    "            \n",
    "            allData['OFdone'][idx[0]] = 1"
   ]
  },
  {
   "cell_type": "code",
   "execution_count": 11,
   "id": "07249d9e-24e6-4978-b21d-039f5c6df973",
   "metadata": {
    "scrolled": true,
    "tags": []
   },
   "outputs": [
    {
     "name": "stderr",
     "output_type": "stream",
     "text": [
      " 12%|█████████▌                                                                      | 63/525 [00:00<00:00, 621.08it/s]"
     ]
    },
    {
     "name": "stdout",
     "output_type": "stream",
     "text": [
      "processing pptnum: 14\n",
      "Exclusion file for ppt: 14 at moment: B\n",
      "processing pptnum: 66\n",
      "Exclusion file for ppt: 66 at moment: B\n",
      "processing pptnum: 106\n",
      "No input data found for video file of pptnum: 106 with video file B\n",
      "processing pptnum: 119\n",
      "No input data found for video file of pptnum: 119 with video file B\n",
      "processing pptnum: 123\n",
      "No input data found for video file of pptnum: 123 with video file B\n",
      "processing pptnum: 124\n",
      "No input data found for video file of pptnum: 124 with video file B\n",
      "processing pptnum: 125\n",
      "No input data found for video file of pptnum: 125 with video file B\n",
      "processing pptnum: 126\n",
      "No input data found for video file of pptnum: 126 with video file B\n",
      "processing pptnum: 127\n",
      "start time for this ppt is set to zero\n",
      "processing pptnum: 129\n",
      "10002/video_features\\video_{ParticipantNo}_129_9-10-2020.csv\n",
      "processing pptnum: 131\n",
      "10002/video_features\\video_{ParticipantNo}_131_2-11-2020.csv\n",
      "processing pptnum: 134\n",
      "10002/video_features\\video_{ParticipantNo}_134_16-10-2020.csv\n",
      "processing pptnum: 135\n",
      "10002/video_features\\video_{ParticipantNo}_135_5-10-2020.csv\n",
      "processing pptnum: 140\n",
      "10002/video_features\\video_{ParticipantNo}_140_31-10-2020.csv\n",
      "processing pptnum: 144\n",
      "10002/video_features\\video_{ParticipantNo}_144_15-11-2020.csv\n",
      "processing pptnum: 145\n",
      "10002/video_features\\video_{ParticipantNo}_145_15-11-2020.csv\n",
      "processing pptnum: 147\n",
      "10002/video_features\\video_{ParticipantNo}_147_9-11-2020.csv\n",
      "processing pptnum: 148\n",
      "10002/video_features\\video_{ParticipantNo}_148_17-11-2020.csv\n",
      "processing pptnum: 154\n",
      "10002/video_features\\video_{ParticipantNo}_154_13-11-2020.csv\n",
      "processing pptnum: 155\n",
      "10002/video_features\\video_{ParticipantNo}_155_12-11-2020.csv\n",
      "processing pptnum: 156\n",
      "10002/video_features\\video_{ParticipantNo}_156_31-10-2020.csv\n",
      "processing pptnum: 157\n",
      "10002/video_features\\video_{ParticipantNo}_157_17-11-2020.csv\n",
      "processing pptnum: 158\n",
      "10002/video_features\\video_{ParticipantNo}_158_15-12-2020.csv\n",
      "processing pptnum: 159\n",
      "start time for this ppt is set to zero\n",
      "processing pptnum: 161\n",
      "10002/video_features\\video_{ParticipantNo}_161_11-11-2020.csv\n",
      "processing pptnum: 163\n",
      "10002/video_features\\video_{ParticipantNo}_163_9-11-2020.csv\n",
      "processing pptnum: 165\n",
      "10002/video_features\\video_{ParticipantNo}_165_5-12-2020.csv\n",
      "processing pptnum: 166\n",
      "10002/video_features\\video_{ParticipantNo}_166_9-11-2020.csv\n",
      "processing pptnum: 167\n",
      "10002/video_features\\video_{ParticipantNo}_167_15-11-2020.csv\n",
      "processing pptnum: 168\n",
      "10002/video_features\\video_{ParticipantNo}_168_18-11-2020.csv\n",
      "processing pptnum: 169\n",
      "10002/video_features\\video_{ParticipantNo}_169_10-12-2020.csv\n",
      "processing pptnum: 170\n",
      "Exclusion file for ppt: 170 at moment: B\n",
      "processing pptnum: 171\n",
      "10002/video_features\\video_{ParticipantNo}_171_9-11-2020.csv\n",
      "processing pptnum: 172\n",
      "start time for this ppt is set to zero\n",
      "processing pptnum: 173\n",
      "10002/video_features\\video_{ParticipantNo}_173_18-11-2020.csv\n",
      "processing pptnum: 176\n",
      "10002/video_features\\video_{ParticipantNo}_176_26-11-2020.csv\n",
      "processing pptnum: 177\n",
      "10002/video_features\\video_{ParticipantNo}_177_12-11-2020.csv\n",
      "processing pptnum: 178\n",
      "start time for this ppt is set to zero\n",
      "processing pptnum: 180\n",
      "start time for this ppt is set to zero\n",
      "processing pptnum: 181\n",
      "10002/video_features\\video_{ParticipantNo}_181_22-11-2020.csv\n",
      "processing pptnum: 182\n",
      "10002/video_features\\video_{ParticipantNo}_182_21-11-2020.csv\n",
      "processing pptnum: 185\n",
      "10002/video_features\\video_{ParticipantNo}_185_4-12-2020.csv\n",
      "processing pptnum: 187\n",
      "start time for this ppt is set to zero\n",
      "processing pptnum: 189\n",
      "start time for this ppt is set to zero\n",
      "processing pptnum: 193\n",
      "10002/video_features\\video_{ParticipantNo}_193_3-11-2020.csv\n",
      "processing pptnum: 194\n",
      "10002/video_features\\video_{ParticipantNo}_194_19-11-2020.csv\n",
      "processing pptnum: 195\n",
      "10002/video_features\\video_{ParticipantNo}_195_4-12-2020.csv\n",
      "processing pptnum: 197\n",
      "10002/video_features\\video_{ParticipantNo}_197_13-12-2020.csv\n",
      "processing pptnum: 198\n",
      "start time for this ppt is set to zero\n",
      "processing pptnum: 199\n",
      "10002/video_features\\video_{ParticipantNo}_199_18-11-2020.csv\n",
      "processing pptnum: 200\n",
      "10002/video_features\\video_{ParticipantNo}_200_11-11-2020.csv\n",
      "processing pptnum: 201\n",
      "10002/video_features\\video_{ParticipantNo}_201_30-11-2020.csv\n",
      "processing pptnum: 206\n",
      "10002/video_features\\video_{ParticipantNo}_206_2-11-2020.csv\n",
      "processing pptnum: 207\n",
      "start time for this ppt is set to zero\n",
      "processing pptnum: 211\n",
      "10002/video_features\\video_{ParticipantNo}_211_17-11-2020.csv\n",
      "processing pptnum: 214\n",
      "10002/video_features\\video_{ParticipantNo}_214_11-12-2020.csv\n",
      "processing pptnum: 215\n",
      "10002/video_features\\video_{ParticipantNo}_215_22-11-2020.csv\n",
      "processing pptnum: 216\n",
      "start time for this ppt is set to zero\n",
      "processing pptnum: 221\n",
      "start time for this ppt is set to zero\n",
      "processing pptnum: 222\n",
      "10002/video_features\\video_{ParticipantNo}_222_5-11-2020.csv\n",
      "processing pptnum: 223\n",
      "10002/video_features\\video_{ParticipantNo}_223_1-12-2020.csv\n",
      "processing pptnum: 224\n",
      "10002/video_features\\video_{ParticipantNo}_224_5-11-2020.csv\n",
      "processing pptnum: 225\n",
      "10002/video_features\\video_{ParticipantNo}_225_27-11-2020.csv\n",
      "processing pptnum: 226\n",
      "10002/video_features\\video_{ParticipantNo}_226_5-11-2020.csv\n",
      "processing pptnum: 227\n",
      "10002/video_features\\video_{ParticipantNo}_227_10-12-2020.csv\n",
      "processing pptnum: 230\n",
      "10002/video_features\\video_{ParticipantNo}_230_7-11-2020.csv\n",
      "processing pptnum: 231\n",
      "10002/video_features\\video_{ParticipantNo}_231_18-11-2020.csv\n",
      "processing pptnum: 233\n",
      "10002/video_features\\video_{ParticipantNo}_233_4-11-2020.csv\n",
      "processing pptnum: 239\n",
      "10002/video_features\\video_{ParticipantNo}_239_2-12-2020.csv\n",
      "processing pptnum: 241\n",
      "10002/video_features\\video_{ParticipantNo}_241_11-12-2020.csv\n",
      "processing pptnum: 242\n",
      "start time for this ppt is set to zero\n",
      "processing pptnum: 243\n",
      "10002/video_features\\video_{ParticipantNo}_243_18-11-2020.csv\n",
      "processing pptnum: 246\n",
      "10002/video_features\\video_{ParticipantNo}_246_14-11-2020.csv\n",
      "processing pptnum: 247\n",
      "10002/video_features\\video_{ParticipantNo}_247_18-11-2020.csv\n",
      "processing pptnum: 248\n",
      "10002/video_features\\video_{ParticipantNo}_248_9-12-2020.csv\n",
      "processing pptnum: 250\n",
      "start time for this ppt is set to zero\n",
      "processing pptnum: 251\n",
      "10002/video_features\\video_{ParticipantNo}_251_4-12-2020.csv\n",
      "processing pptnum: 252\n",
      "10002/video_features\\video_{ParticipantNo}_252_27-11-2020.csv\n",
      "processing pptnum: 253\n",
      "start time for this ppt is set to zero\n",
      "processing pptnum: 254\n",
      "start time for this ppt is set to zero\n",
      "processing pptnum: 255\n",
      "start time for this ppt is set to zero\n",
      "processing pptnum: 255\n",
      "this file is not found - video present, but no openface file for 255\n",
      "processing pptnum: 256\n",
      "10002/video_features\\video_{ParticipantNo}_256_26-11-2020.csv\n",
      "processing pptnum: 258\n",
      "10002/video_features\\video_{ParticipantNo}_258_29-11-2020.csv\n",
      "processing pptnum: 260\n",
      "start time for this ppt is set to zero\n",
      "processing pptnum: 261\n",
      "10002/video_features\\video_{ParticipantNo}_261_7-1-2021.csv\n",
      "processing pptnum: 263\n",
      "start time for this ppt is set to zero\n",
      "processing pptnum: 265\n",
      "start time for this ppt is set to zero\n",
      "processing pptnum: 266\n",
      "10002/video_features\\video_{ParticipantNo}_266_7-12-2020.csv\n",
      "processing pptnum: 269\n",
      "10002/video_features\\video_{ParticipantNo}_269_9-11-2020.csv\n",
      "processing pptnum: 271\n",
      "start time for this ppt is set to zero\n",
      "processing pptnum: 273\n",
      "10002/video_features\\video_{ParticipantNo}_273_9-11-2020.csv\n",
      "processing pptnum: 274\n",
      "10002/video_features\\video_{ParticipantNo}_274_15-12-2020.csv\n",
      "processing pptnum: 275\n",
      "10002/video_features\\video_{ParticipantNo}_275_4-11-2020.csv\n",
      "processing pptnum: 277\n",
      "10002/video_features\\video_{ParticipantNo}_277_6-11-2020.csv\n",
      "processing pptnum: 279\n",
      "10002/video_features\\video_{ParticipantNo}_279_18-11-2020.csv\n",
      "processing pptnum: 280\n",
      "start time for this ppt is set to zero\n",
      "processing pptnum: 282\n",
      "10002/video_features\\video_{ParticipantNo}_282_2-2-2021.csv\n",
      "processing pptnum: 283\n",
      "10002/video_features\\video_{ParticipantNo}_283_11-12-2020.csv\n",
      "processing pptnum: 286\n",
      "10002/video_features\\video_{ParticipantNo}_286_9-11-2020.csv\n",
      "processing pptnum: 290\n",
      "10002/video_features\\video_{ParticipantNo}_290_15-12-2020.csv\n",
      "Now reading: 10002/video_features\\video_{ParticipantNo}_290_15-12-2020.csv\n",
      "[5.766, 25.803, 45.856, 64.654, 91.346, 110.964, 129.112, 146.902, 164.899, 183.233, 204.414, 221.588, 238.309, 258.824, 278.074, 294.431, 312.481, 329.628, 347.291, 369.763, 386.366, 403.372]\n"
     ]
    },
    {
     "name": "stderr",
     "output_type": "stream",
     "text": [
      "C:\\Users\\mitch\\AppData\\Local\\Temp/ipykernel_13228/1320438631.py:56: SettingWithCopyWarning: \n",
      "A value is trying to be set on a copy of a slice from a DataFrame\n",
      "\n",
      "See the caveats in the documentation: https://pandas.pydata.org/pandas-docs/stable/user_guide/indexing.html#returning-a-view-versus-a-copy\n",
      "  allData['OFdone'][idx[0]] = 1\n",
      " 19%|███████████████▍                                                                | 101/525 [00:09<00:31, 13.54it/s]"
     ]
    },
    {
     "name": "stdout",
     "output_type": "stream",
     "text": [
      "processing pptnum: 293\n",
      "10002/video_features\\video_{ParticipantNo}_293_22-11-2020.csv\n",
      "Now reading: 10002/video_features\\video_{ParticipantNo}_293_22-11-2020.csv\n",
      "[4.585, 21.357, 38.715, 54.227, 69.667, 91.445, 105.915, 120.539, 134.909, 149.826, 165.433, 180.698, 196.851, 210.769, 225.403, 240.537, 256.338, 271.37, 286.977, 302.483, 322.21, 337.186]\n",
      "processing pptnum: 294\n",
      "start time for this ppt is set to zero\n",
      "processing pptnum: 295\n",
      "10002/video_features\\video_{ParticipantNo}_295_22-11-2020.csv\n",
      "Now reading: 10002/video_features\\video_{ParticipantNo}_295_22-11-2020.csv\n",
      "[11.771, 29.948, 46.518, 62.609, 78.532, 94.612, 112.109, 130.056, 145.454, 158.675, 174.009, 187.356, 202.014, 214.683, 227.345, 241.715, 254.994, 267.591, 286.942, 301.087, 314.776, 330.332]\n",
      "processing pptnum: 296\n",
      "10002/video_features\\video_{ParticipantNo}_296_25-11-2020.csv\n",
      "Now reading: 10002/video_features\\video_{ParticipantNo}_296_25-11-2020.csv\n",
      "[4.932, 22.356, 38.211, 53.849, 68.661, 83.376, 96.172, 110.142, 123.965, 136.944, 150.449, 163.771, 177.565, 191.19, 206.771, 219.898, 233.002, 247.094, 260.747, 274.991, 289.598, 303.591]\n",
      "processing pptnum: 297\n",
      "10002/video_features\\video_{ParticipantNo}_297_7-11-2020.csv\n",
      "Now reading: 10002/video_features\\video_{ParticipantNo}_297_7-11-2020.csv\n"
     ]
    },
    {
     "name": "stderr",
     "output_type": "stream",
     "text": [
      " 19%|███████████████▍                                                                | 101/525 [00:20<00:31, 13.54it/s]"
     ]
    },
    {
     "name": "stdout",
     "output_type": "stream",
     "text": [
      "[5.663, 21.819, 39.661, 54.849, 77.077, 95.485, 111.571, 124.41, 146.661, 161.725, 178.865, 202.264, 224.303, 237.539, 251.184, 265.295, 289.29, 303.986, 316.31, 332.355, 346.866, 367.134]\n"
     ]
    },
    {
     "name": "stderr",
     "output_type": "stream",
     "text": [
      " 20%|████████████████▏                                                               | 106/525 [00:30<09:14,  1.32s/it]"
     ]
    },
    {
     "name": "stdout",
     "output_type": "stream",
     "text": [
      "processing pptnum: 299\n",
      "10002/video_features\\video_{ParticipantNo}_299_4-11-2020.csv\n",
      "Now reading: 10002/video_features\\video_{ParticipantNo}_299_4-11-2020.csv\n",
      "[6.023, 24.407, 40.546, 60.32, 79.937, 97.405, 112.526, 132.525, 149.807, 165.121, 182.644, 205.967, 224.808, 242.274, 262.332, 282.83, 295.586, 308.485, 328.491, 342.991, 358.65, 380.137]\n"
     ]
    },
    {
     "name": "stderr",
     "output_type": "stream",
     "text": [
      " 20%|████████████████▎                                                               | 107/525 [00:48<44:53,  6.44s/it]"
     ]
    },
    {
     "name": "stdout",
     "output_type": "stream",
     "text": [
      "processing pptnum: 300\n",
      "10002/video_features\\video_{ParticipantNo}_300_28-11-2020.csv\n",
      "Now reading: 10002/video_features\\video_{ParticipantNo}_300_28-11-2020.csv\n",
      "[5.843, 23.915, 41.571, 56.259, 72.103, 91.768, 106.316, 123.09, 139.679, 152.874, 168.714, 182.535, 195.463, 209.347, 224.799, 242.552, 258.398, 272.961, 288.57, 304.283, 320.263, 334.074]\n"
     ]
    },
    {
     "name": "stderr",
     "output_type": "stream",
     "text": [
      " 21%|████████████████▍                                                               | 108/525 [00:55<44:03,  6.34s/it]"
     ]
    },
    {
     "name": "stdout",
     "output_type": "stream",
     "text": [
      "processing pptnum: 302\n",
      "10002/video_features\\video_{ParticipantNo}_302_16-11-2020.csv\n",
      "Now reading: 10002/video_features\\video_{ParticipantNo}_302_16-11-2020.csv\n",
      "[5.579, 23.238, 41.917, 59.67, 74.928, 89.602, 105.362, 120.971, 135.674, 149.872, 164.326, 180.604, 194.674, 212.267, 226.374, 244.697, 259.079, 276.378, 291.911, 307.636, 323.459, 338.001]\n"
     ]
    },
    {
     "name": "stderr",
     "output_type": "stream",
     "text": [
      " 21%|████████████████▌                                                               | 109/525 [01:04<50:54,  7.34s/it]"
     ]
    },
    {
     "name": "stdout",
     "output_type": "stream",
     "text": [
      "processing pptnum: 303\n",
      "10002/video_features\\video_{ParticipantNo}_303_1-12-2020.csv\n",
      "Now reading: 10002/video_features\\video_{ParticipantNo}_303_1-12-2020.csv\n",
      "[5.281, 23.425, 44.128, 64.073, 85.113, 104.129, 128.273, 146.641, 166.546, 182.545, 200.329, 219.425, 236.817, 256.442, 270.689, 287.777, 305.082, 323.153, 345.842, 363.298, 380.306, 395.826]\n"
     ]
    },
    {
     "name": "stderr",
     "output_type": "stream",
     "text": [
      " 21%|████████████████▎                                                             | 110/525 [01:20<1:07:47,  9.80s/it]"
     ]
    },
    {
     "name": "stdout",
     "output_type": "stream",
     "text": [
      "processing pptnum: 304\n",
      "10002/video_features\\video_{ParticipantNo}_304_30-11-2020.csv\n",
      "Now reading: 10002/video_features\\video_{ParticipantNo}_304_30-11-2020.csv\n",
      "[9.38, 26.87, 39.931, 59.449, 75.211, 92.171, 110.361, 126.571, 142.261, 161.541, 175.631, 189.871, 207.172, 221.7, 236.761, 250.201, 266.291, 280.922, 294.321, 310.362, 325.701, 340.282]\n"
     ]
    },
    {
     "name": "stderr",
     "output_type": "stream",
     "text": [
      " 21%|████████████████▉                                                               | 111/525 [01:22<52:59,  7.68s/it]"
     ]
    },
    {
     "name": "stdout",
     "output_type": "stream",
     "text": [
      "processing pptnum: 308\n",
      "10002/video_features\\video_{ParticipantNo}_308_24-11-2020.csv\n",
      "Now reading: 10002/video_features\\video_{ParticipantNo}_308_24-11-2020.csv\n",
      "[5.705, 29.132, 48.942, 69.241, 87.275, 109.297, 131.342, 151.538, 172.527, 194.123, 216.774, 238.3, 257.118, 273.587, 293.862, 318.087, 342.585, 365.504, 383.596, 402.302, 419.092, 444.134]\n"
     ]
    },
    {
     "name": "stderr",
     "output_type": "stream",
     "text": [
      " 21%|████████████████▋                                                             | 112/525 [01:39<1:10:48, 10.29s/it]"
     ]
    },
    {
     "name": "stdout",
     "output_type": "stream",
     "text": [
      "processing pptnum: 315\n",
      "10002/video_features\\video_{ParticipantNo}_315_19-11-2020.csv\n",
      "Now reading: 10002/video_features\\video_{ParticipantNo}_315_19-11-2020.csv\n",
      "[4.969, 27.451, 46.256, 66.229, 83.783, 109.462, 135.128, 153.198, 173.929, 188.419, 207.435, 223.647, 238.207, 256.46, 273.886, 290.225, 307.556, 322.294, 339.015, 353.778, 370.439, 386.562]\n"
     ]
    },
    {
     "name": "stderr",
     "output_type": "stream",
     "text": [
      " 22%|████████████████▊                                                             | 113/525 [01:59<1:31:43, 13.36s/it]"
     ]
    },
    {
     "name": "stdout",
     "output_type": "stream",
     "text": [
      "processing pptnum: 316\n",
      "10002/video_features\\video_{ParticipantNo}_316_9-12-2020.csv\n",
      "Now reading: 10002/video_features\\video_{ParticipantNo}_316_9-12-2020.csv\n",
      "[4.876, 19.825, 34.164, 51.462, 66.176, 82.107, 95.446, 109.151, 123.115, 136.892, 150.11, 163.241, 175.661, 189.294, 203.467, 217.067, 230.327, 242.839, 256.45, 268.829, 282.09, 295.309]\n"
     ]
    },
    {
     "name": "stderr",
     "output_type": "stream",
     "text": [
      " 22%|████████████████▉                                                             | 114/525 [02:11<1:28:24, 12.91s/it]"
     ]
    },
    {
     "name": "stdout",
     "output_type": "stream",
     "text": [
      "processing pptnum: 318\n",
      "10002/video_features\\video_{ParticipantNo}_318_14-11-2020.csv\n",
      "Now reading: 10002/video_features\\video_{ParticipantNo}_318_14-11-2020.csv\n",
      "[6.99, 30.492, 56.812, 85.891, 124.907, 148.63, 191.358, 217.092, 248.702, 278.482, 306.402, 330.452, 353.007, 389.705, 405.395, 437.542, 474.343, 494.855, 514.416, 544.597, 583.348, 638.305]\n"
     ]
    },
    {
     "name": "stderr",
     "output_type": "stream",
     "text": [
      " 22%|█████████████████                                                             | 115/525 [02:37<1:54:21, 16.74s/it]"
     ]
    },
    {
     "name": "stdout",
     "output_type": "stream",
     "text": [
      "processing pptnum: 319\n",
      "start time for this ppt is set to zero\n",
      "processing pptnum: 323\n",
      "10002/video_features\\video_{ParticipantNo}_323_4-11-2020.csv\n",
      "Now reading: 10002/video_features\\video_{ParticipantNo}_323_4-11-2020.csv\n",
      "[6.458, 28.261, 48.474, 69.716, 91.762, 114.046, 133.309, 149.497, 168.187, 187.762, 208.253, 227.067, 245.602, 264.821, 284.33, 303.386, 319.918, 337.693, 356.029, 378.701, 396.418, 412.142]\n"
     ]
    },
    {
     "name": "stderr",
     "output_type": "stream",
     "text": [
      " 22%|█████████████████▍                                                            | 117/525 [02:58<1:41:12, 14.88s/it]"
     ]
    },
    {
     "name": "stdout",
     "output_type": "stream",
     "text": [
      "processing pptnum: 326\n",
      "start time for this ppt is set to zero\n",
      "processing pptnum: 327\n",
      "10002/video_features\\video_{ParticipantNo}_327_17-11-2020.csv\n",
      "Now reading: 10002/video_features\\video_{ParticipantNo}_327_17-11-2020.csv\n",
      "[8.689, 29.993, 48.331, 63.418, 84.609, 104.33, 117.079, 133.15, 149.654, 166.143, 184.819, 200.111, 215.972, 231.361, 248.562, 263.376, 280.27, 294.973, 309.785, 327.701, 344.672, 364.708]\n"
     ]
    },
    {
     "name": "stderr",
     "output_type": "stream",
     "text": [
      " 23%|█████████████████▋                                                            | 119/525 [03:09<1:21:50, 12.09s/it]"
     ]
    },
    {
     "name": "stdout",
     "output_type": "stream",
     "text": [
      "processing pptnum: 329\n",
      "10002/video_features\\video_{ParticipantNo}_329_23-11-2020.csv\n",
      "Now reading: 10002/video_features\\video_{ParticipantNo}_329_23-11-2020.csv\n",
      "[5.276, 27.648, 46.725, 63.925, 79.153, 96.19, 111.191, 127.204, 141.055, 156.352, 170.469, 185.004, 201.306, 216.71, 231.738, 250.019, 265.567, 280.261, 295.078, 310.538, 322.47, 336.954]\n"
     ]
    },
    {
     "name": "stderr",
     "output_type": "stream",
     "text": [
      " 23%|█████████████████▊                                                            | 120/525 [03:15<1:08:34, 10.16s/it]"
     ]
    },
    {
     "name": "stdout",
     "output_type": "stream",
     "text": [
      "processing pptnum: 330\n",
      "10002/video_features\\video_{ParticipantNo}_330_9-12-2020.csv\n",
      "Now reading: 10002/video_features\\video_{ParticipantNo}_330_9-12-2020.csv\n",
      "[10.561, 23.913, 36.148, 47.7, 65.685, 80.321, 92.569, 109.046, 120.564, 132.063, 150.518, 164.048, 180.479, 197.719, 209.649, 224.287, 238.246, 252.732, 265.009, 276.275, 288.14, 300.737]\n"
     ]
    },
    {
     "name": "stderr",
     "output_type": "stream",
     "text": [
      " 23%|█████████████████▉                                                            | 121/525 [03:31<1:19:51, 11.86s/it]"
     ]
    },
    {
     "name": "stdout",
     "output_type": "stream",
     "text": [
      "processing pptnum: 331\n",
      "10002/video_features\\video_{ParticipantNo}_331_18-11-2020.csv\n",
      "Now reading: 10002/video_features\\video_{ParticipantNo}_331_18-11-2020.csv\n",
      "[6.417, 22.309, 37.931, 55.054, 72.204, 86.684, 103.691, 121.299, 135.061, 149.588, 162.14, 178.211, 192.619, 206.483, 220.772, 236.106, 251.299, 266.075, 279.469, 291.692, 304.236, 319.754]\n"
     ]
    },
    {
     "name": "stderr",
     "output_type": "stream",
     "text": [
      " 23%|██████████████████▏                                                           | 122/525 [03:35<1:03:42,  9.49s/it]"
     ]
    },
    {
     "name": "stdout",
     "output_type": "stream",
     "text": [
      "processing pptnum: 333\n",
      "10002/video_features\\video_{ParticipantNo}_333_12-12-2020.csv\n",
      "Now reading: 10002/video_features\\video_{ParticipantNo}_333_12-12-2020.csv\n",
      "[4.978, 27.062, 43.202, 59.271, 72.554, 87.206, 100.661, 115.204, 132.995, 147.778, 160.323, 177.181, 189.152, 200.976, 212.769, 228.383, 242.88, 256.957, 272.812, 284.77, 297.66, 310.274]\n"
     ]
    },
    {
     "name": "stderr",
     "output_type": "stream",
     "text": [
      " 23%|██████████████████▎                                                           | 123/525 [03:56<1:27:54, 13.12s/it]"
     ]
    },
    {
     "name": "stdout",
     "output_type": "stream",
     "text": [
      "processing pptnum: 338\n",
      "10002/video_features\\video_{ParticipantNo}_338_16-1-2021.csv\n",
      "Now reading: 10002/video_features\\video_{ParticipantNo}_338_16-1-2021.csv\n",
      "[5.558, 19.209, 36.461, 50.973, 67.838, 83.939, 97.985, 113.789, 126.771, 142.944, 158.242, 171.627, 186.165, 201.472, 216.078, 234.922, 248.541, 266.041, 280.881, 295.83, 313.089, 327.477]\n"
     ]
    },
    {
     "name": "stderr",
     "output_type": "stream",
     "text": [
      " 24%|██████████████████▍                                                           | 124/525 [04:12<1:33:03, 13.92s/it]"
     ]
    },
    {
     "name": "stdout",
     "output_type": "stream",
     "text": [
      "processing pptnum: 339\n",
      "start time for this ppt is set to zero\n",
      "processing pptnum: 340\n",
      "10002/video_features\\video_{ParticipantNo}_340_30-11-2020.csv\n",
      "Now reading: 10002/video_features\\video_{ParticipantNo}_340_30-11-2020.csv\n",
      "[4.442, 19.874, 34.59, 48.897, 63.434, 77.828, 92.569, 106.516, 120.436, 135.409, 148.591, 162.838, 175.907, 190.734, 204.507, 218.444, 231.09, 243.907, 256.676, 268.978, 281.098, 294.56]\n"
     ]
    },
    {
     "name": "stderr",
     "output_type": "stream",
     "text": [
      " 24%|██████████████████▋                                                           | 126/525 [04:19<1:12:11, 10.86s/it]"
     ]
    },
    {
     "name": "stdout",
     "output_type": "stream",
     "text": [
      "processing pptnum: 341\n",
      "10002/video_features\\video_{ParticipantNo}_341_26-11-2020.csv\n",
      "Now reading: 10002/video_features\\video_{ParticipantNo}_341_26-11-2020.csv\n",
      "[6.92, 34.463, 57.863, 80.639, 97.595, 120.641, 143.19, 165.89, 184.61, 201.791, 216.266, 231.165, 247.698, 268.076, 281.352, 297.999, 314.517, 330.875, 345.217, 369.207, 383.143, 399.574]\n"
     ]
    },
    {
     "name": "stderr",
     "output_type": "stream",
     "text": [
      " 24%|██████████████████▊                                                           | 127/525 [04:43<1:37:40, 14.73s/it]"
     ]
    },
    {
     "name": "stdout",
     "output_type": "stream",
     "text": [
      "processing pptnum: 343\n",
      "10002/video_features\\video_{ParticipantNo}_343_2-12-2020.csv\n",
      "Now reading: 10002/video_features\\video_{ParticipantNo}_343_2-12-2020.csv\n",
      "[6.179, 22.466, 43.152, 57.634, 70.715, 87.931, 103.156, 116.884, 130.532, 143.751, 158.287, 172.307, 186.514, 200.372, 213.778, 226.214, 239.662, 251.126, 263.175, 277.496, 289.357, 302.292]\n"
     ]
    },
    {
     "name": "stderr",
     "output_type": "stream",
     "text": [
      " 25%|███████████████████▏                                                          | 129/525 [04:58<1:22:33, 12.51s/it]"
     ]
    },
    {
     "name": "stdout",
     "output_type": "stream",
     "text": [
      "processing pptnum: 344\n",
      "10002/video_features\\video_{ParticipantNo}_344_11-12-2020.csv\n",
      "Now reading: 10002/video_features\\video_{ParticipantNo}_344_11-12-2020.csv\n",
      "[7.09, 27.991, 46.909, 66.663, 83.47, 104.637, 119.195, 133.354, 150.669, 168.703, 189.376, 203.275, 219.714, 240.959, 257.303, 271.7, 289.475, 305.196, 320.491, 334.684, 351.287, 372.048]\n"
     ]
    },
    {
     "name": "stderr",
     "output_type": "stream",
     "text": [
      " 25%|███████████████████▎                                                          | 130/525 [05:06<1:14:10, 11.27s/it]"
     ]
    },
    {
     "name": "stdout",
     "output_type": "stream",
     "text": [
      "processing pptnum: 346\n",
      "10002/video_features\\video_{ParticipantNo}_346_10-1-2021.csv\n",
      "Now reading: 10002/video_features\\video_{ParticipantNo}_346_10-1-2021.csv\n",
      "[5.507, 18.579, 32.173, 45.234, 57.506, 68.949, 81.107, 92.468, 105.853, 117.489, 128.499, 140.183, 152.455, 166.756, 177.927, 189.814, 203.072, 216.184, 228.867, 240.843, 253.427, 265.65]\n"
     ]
    },
    {
     "name": "stderr",
     "output_type": "stream",
     "text": [
      " 25%|███████████████████▍                                                          | 131/525 [05:20<1:19:52, 12.16s/it]"
     ]
    },
    {
     "name": "stdout",
     "output_type": "stream",
     "text": [
      "processing pptnum: 347\n",
      "start time for this ppt is set to zero\n",
      "processing pptnum: 348\n",
      "10002/video_features\\video_{ParticipantNo}_348_15-12-2020.csv\n",
      "Now reading: 10002/video_features\\video_{ParticipantNo}_348_15-12-2020.csv\n",
      "[6.822, 27.622, 43.933, 62.853, 80.132, 101.54, 117.914, 134.941, 152.847, 170.884, 188.17, 205.796, 221.817, 241.366, 261.38, 278.325, 294.041, 311.2, 326.79, 343.262, 357.54, 372.593]\n"
     ]
    },
    {
     "name": "stderr",
     "output_type": "stream",
     "text": [
      " 25%|███████████████████▊                                                          | 133/525 [05:29<1:03:41,  9.75s/it]"
     ]
    },
    {
     "name": "stdout",
     "output_type": "stream",
     "text": [
      "processing pptnum: 349\n",
      "10002/video_features\\video_{ParticipantNo}_349_23-2-2021.csv\n",
      "Now reading: 10002/video_features\\video_{ParticipantNo}_349_23-2-2021.csv\n",
      "[5.084, 20.84, 39.149, 55.177, 71.91, 86.928, 103.972, 124.004, 147.215, 167.351, 182.688, 199.21, 219.616, 235.732, 249.172, 267.961, 286.03, 301.825, 326.542, 343.24, 361.398, 397.72]\n"
     ]
    },
    {
     "name": "stderr",
     "output_type": "stream",
     "text": [
      " 26%|████████████████████▍                                                           | 134/525 [05:31<49:01,  7.52s/it]"
     ]
    },
    {
     "name": "stdout",
     "output_type": "stream",
     "text": [
      "processing pptnum: 350\n",
      "No input data found for video file of pptnum: 350 with video file B\n",
      "processing pptnum: 360\n",
      "10002/video_features\\video_{ParticipantNo}_360_12-1-2021.csv\n",
      "Now reading: 10002/video_features\\video_{ParticipantNo}_360_12-1-2021.csv\n",
      "[4.602, 20.363, 40.324, 57.05, 71.917, 87.113, 105.457, 120.345, 137.426, 150.861, 166.202, 179.585, 198.437, 211.125, 224.524, 238.261, 252.932, 270.348, 284.422, 297.261, 311.789, 330.471]\n"
     ]
    },
    {
     "name": "stderr",
     "output_type": "stream",
     "text": [
      " 26%|████████████████████▋                                                           | 136/525 [05:45<47:36,  7.34s/it]"
     ]
    },
    {
     "name": "stdout",
     "output_type": "stream",
     "text": [
      "processing pptnum: 363\n",
      "start time for this ppt is set to zero\n",
      "processing pptnum: 376\n",
      "10002/video_features\\video_{ParticipantNo}_376_5-2-2021.csv\n",
      "Now reading: 10002/video_features\\video_{ParticipantNo}_376_5-2-2021.csv\n",
      "[8.162, 23.764, 42.156, 60.845, 85.558, 104.211, 120.384, 145.262, 164.685, 180.343, 196.633, 210.858, 225.464, 239.003, 258.209, 273.962, 290.482, 304.846, 321.386, 334.842, 349.504, 364.365]\n"
     ]
    },
    {
     "name": "stderr",
     "output_type": "stream",
     "text": [
      " 26%|█████████████████████                                                           | 138/525 [05:49<37:17,  5.78s/it]"
     ]
    },
    {
     "name": "stdout",
     "output_type": "stream",
     "text": [
      "processing pptnum: 380\n",
      "start time for this ppt is set to zero\n",
      "processing pptnum: 383\n",
      "start time for this ppt is set to zero\n",
      "processing pptnum: 387\n",
      "10002/video_features\\video_{ParticipantNo}_387_3-2-2021.csv\n",
      "Now reading: 10002/video_features\\video_{ParticipantNo}_387_3-2-2021.csv\n",
      "[4.829, 18.574, 35.451, 51.405, 65.801, 79.794, 94.164, 113.23, 125.224, 137.446, 153.241, 166.409, 179.98, 200.124, 219.365, 233.986, 247.434, 259.782, 277.117, 290.1, 304.584, 319.379]\n"
     ]
    },
    {
     "name": "stderr",
     "output_type": "stream",
     "text": [
      " 27%|█████████████████████▍                                                          | 141/525 [05:57<30:57,  4.84s/it]"
     ]
    },
    {
     "name": "stdout",
     "output_type": "stream",
     "text": [
      "processing pptnum: 388\n",
      "10002/video_features\\video_{ParticipantNo}_388_30-1-2021.csv\n",
      "Now reading: 10002/video_features\\video_{ParticipantNo}_388_30-1-2021.csv\n",
      "[4.586, 18.867, 33.679, 47.022, 62.008, 74.759, 87.429, 103.838, 117.429, 131.109, 144.821, 160.709, 173.451, 185.772, 198.57, 212.24, 225.421, 237.678, 249.459, 265.559, 280.138, 293.72]\n"
     ]
    },
    {
     "name": "stderr",
     "output_type": "stream",
     "text": [
      " 27%|█████████████████████▋                                                          | 142/525 [06:01<29:18,  4.59s/it]"
     ]
    },
    {
     "name": "stdout",
     "output_type": "stream",
     "text": [
      "processing pptnum: 390\n",
      "10002/video_features\\video_{ParticipantNo}_390_20-1-2021.csv\n",
      "Now reading: 10002/video_features\\video_{ParticipantNo}_390_20-1-2021.csv\n",
      "[4.597, 19.575, 33.865, 47.665, 62.204, 75.895, 90.82, 112.144, 125.321, 145.04, 166.803, 182.204, 195.783, 211.295, 226.565, 240.241, 256.733, 270.518, 285.986, 302.864, 315.877, 330.604]\n"
     ]
    },
    {
     "name": "stderr",
     "output_type": "stream",
     "text": [
      " 27%|█████████████████████▊                                                          | 143/525 [06:17<51:27,  8.08s/it]"
     ]
    },
    {
     "name": "stdout",
     "output_type": "stream",
     "text": [
      "processing pptnum: 392\n",
      "10002/video_features\\video_{ParticipantNo}_392_31-1-2021.csv\n",
      "Now reading: 10002/video_features\\video_{ParticipantNo}_392_31-1-2021.csv\n",
      "[5.016, 20.834, 34.033, 46.809, 59.608, 73.193, 86.225, 99.297, 113.259, 127.952, 141.026, 153.714, 166.682, 179.305, 192.041, 204.104, 216.641, 229.729, 242.834, 255.914, 269.177, 281.306]\n"
     ]
    },
    {
     "name": "stderr",
     "output_type": "stream",
     "text": [
      " 27%|█████████████████████▍                                                        | 144/525 [06:32<1:03:11,  9.95s/it]"
     ]
    },
    {
     "name": "stdout",
     "output_type": "stream",
     "text": [
      "processing pptnum: 394\n",
      "10002/video_features\\video_{ParticipantNo}_394_11-2-2021.csv\n",
      "Now reading: 10002/video_features\\video_{ParticipantNo}_394_11-2-2021.csv\n",
      "[5.695, 21.917, 41.381, 59.703, 82.979, 101.216, 117.154, 133.087, 155.507, 170.56, 182.723, 198.402, 215.424, 235.963, 250.608, 265.621, 281.571, 297.109, 314.614, 328.024, 342.011, 357.777]\n"
     ]
    },
    {
     "name": "stderr",
     "output_type": "stream",
     "text": [
      " 28%|██████████████████████                                                          | 145/525 [06:33<46:18,  7.31s/it]"
     ]
    },
    {
     "name": "stdout",
     "output_type": "stream",
     "text": [
      "processing pptnum: 396\n",
      "10002/video_features\\video_{ParticipantNo}_396_10-1-2021.csv\n",
      "Now reading: 10002/video_features\\video_{ParticipantNo}_396_10-1-2021.csv\n",
      "[5.56, 26.473, 44.756, 63.262, 90.99, 108.171, 125.712, 142.671, 160.959, 180.105, 203.89, 221.033, 238.461, 267.833, 285.052, 304.492, 323.109, 344.908, 364.992, 409.168, 425.341, 442.672]\n"
     ]
    },
    {
     "name": "stderr",
     "output_type": "stream",
     "text": [
      " 28%|██████████████████████▏                                                         | 146/525 [06:44<52:49,  8.36s/it]"
     ]
    },
    {
     "name": "stdout",
     "output_type": "stream",
     "text": [
      "processing pptnum: 398\n",
      "10002/video_features\\video_{ParticipantNo}_398_31-1-2021.csv\n",
      "Now reading: 10002/video_features\\video_{ParticipantNo}_398_31-1-2021.csv\n",
      "[6.302, 23.666, 39.951, 56.665, 74.789, 94.072, 110.074, 132.582, 148.008, 163.805, 178.368, 193.299, 207.044, 221.867, 236.893, 251.593, 265.678, 281.062, 296.647, 313.143, 328.834, 343.819]\n"
     ]
    },
    {
     "name": "stderr",
     "output_type": "stream",
     "text": [
      " 28%|██████████████████████▍                                                         | 147/525 [06:52<52:33,  8.34s/it]"
     ]
    },
    {
     "name": "stdout",
     "output_type": "stream",
     "text": [
      "processing pptnum: 399\n",
      "10002/video_features\\video_{ParticipantNo}_399_25-1-2021.csv\n",
      "Now reading: 10002/video_features\\video_{ParticipantNo}_399_25-1-2021.csv\n",
      "[6.322, 22.434, 39.251, 57.909, 74.8, 89.5, 104.715, 120.092, 134.575, 150.995, 166.338, 180.57, 195.568, 209.9, 223.596, 237.746, 252.156, 266.796, 283.293, 298.372, 312.772, 328.412]\n"
     ]
    },
    {
     "name": "stderr",
     "output_type": "stream",
     "text": [
      " 28%|█████████████████████▉                                                        | 148/525 [07:07<1:05:10, 10.37s/it]"
     ]
    },
    {
     "name": "stdout",
     "output_type": "stream",
     "text": [
      "processing pptnum: 402\n",
      "10002/video_features\\video_{ParticipantNo}_402_24-1-2021.csv\n",
      "Now reading: 10002/video_features\\video_{ParticipantNo}_402_24-1-2021.csv\n",
      "[5.664, 25.012, 41.648, 56.721, 71.149, 84.948, 109.331, 124.903, 140.101, 155.885, 170.658, 185.896, 200.249, 216.668, 230.574, 245.385, 265.483, 279.177, 294.928, 308.697, 322.223, 339.292]\n"
     ]
    },
    {
     "name": "stderr",
     "output_type": "stream",
     "text": [
      " 28%|██████████████████████▏                                                       | 149/525 [07:20<1:09:44, 11.13s/it]"
     ]
    },
    {
     "name": "stdout",
     "output_type": "stream",
     "text": [
      "processing pptnum: 403\n",
      "10002/video_features\\video_{ParticipantNo}_403_18-1-2021.csv\n",
      "Now reading: 10002/video_features\\video_{ParticipantNo}_403_18-1-2021.csv\n",
      "[5.804, 29.93, 45.9, 58.498, 71.804, 84.754, 100.715, 115.811, 132.148, 153.38, 179.788, 197.012, 217.13, 235.355, 248.915, 261.555, 280.201, 296.161, 312.73, 327.949, 340.242, 352.89]\n"
     ]
    },
    {
     "name": "stderr",
     "output_type": "stream",
     "text": [
      " 29%|██████████████████████▎                                                       | 150/525 [07:40<1:25:45, 13.72s/it]"
     ]
    },
    {
     "name": "stdout",
     "output_type": "stream",
     "text": [
      "processing pptnum: 405\n",
      "No input data found for video file of pptnum: 405 with video file B\n",
      "processing pptnum: 405\n",
      "Exclusion file for ppt: 405 at moment: B\n",
      "processing pptnum: 408\n",
      "10002/video_features\\video_{ParticipantNo}_408_18-1-2021.csv\n",
      "Now reading: 10002/video_features\\video_{ParticipantNo}_408_18-1-2021.csv\n",
      "[5.034, 21.842, 43.137, 60.973, 83.644, 104.068, 125.913, 140.916, 155.408, 173.755, 187.79, 208.712, 226.074, 243.703, 258.586, 276.225, 297.142, 311.559, 329.741, 346.354, 362.827, 378.117]\n"
     ]
    },
    {
     "name": "stderr",
     "output_type": "stream",
     "text": [
      " 29%|██████████████████████▋                                                       | 153/525 [08:03<1:14:16, 11.98s/it]"
     ]
    },
    {
     "name": "stdout",
     "output_type": "stream",
     "text": [
      "processing pptnum: 409\n",
      "10002/video_features\\video_{ParticipantNo}_409_13-2-2021.csv\n",
      "Now reading: 10002/video_features\\video_{ParticipantNo}_409_13-2-2021.csv\n",
      "[5.028, 33.214, 60.459, 79.564, 101.289, 127.713, 145.539, 163.344, 182.991, 212.816, 246.289, 265.368, 286.06, 306.039, 332.139, 360.199, 378.391, 404.067, 424.701, 444.767, 465.483, 481.121]\n"
     ]
    },
    {
     "name": "stderr",
     "output_type": "stream",
     "text": [
      " 29%|██████████████████████▉                                                       | 154/525 [08:15<1:14:17, 12.01s/it]"
     ]
    },
    {
     "name": "stdout",
     "output_type": "stream",
     "text": [
      "processing pptnum: 410\n",
      "10002/video_features\\video_{ParticipantNo}_410_29-1-2021.csv\n",
      "Now reading: 10002/video_features\\video_{ParticipantNo}_410_29-1-2021.csv\n",
      "[4.542, 23.178, 47.276, 65.276, 88.353, 107.893, 128.915, 150.039, 165.75, 184.658, 197.552, 216.134, 231.429, 252.411, 268.818, 285.739, 299.773, 316.119, 336.15, 355.42, 373.637, 390.114]\n"
     ]
    },
    {
     "name": "stderr",
     "output_type": "stream",
     "text": [
      " 30%|███████████████████████                                                       | 155/525 [08:33<1:23:23, 13.52s/it]"
     ]
    },
    {
     "name": "stdout",
     "output_type": "stream",
     "text": [
      "processing pptnum: 411\n",
      "10002/video_features\\video_{ParticipantNo}_411_11-2-2021.csv\n",
      "Now reading: 10002/video_features\\video_{ParticipantNo}_411_11-2-2021.csv\n",
      "[7.095, 25.157, 47.175, 66.438, 91.459, 110.891, 129.892, 157.695, 175.56, 191.681, 209.68, 227.669, 245.138, 262.581, 283.694, 304.187, 320.969, 341.17, 357.509, 377.271, 395.961, 412.311]\n"
     ]
    },
    {
     "name": "stderr",
     "output_type": "stream",
     "text": [
      " 30%|███████████████████████▏                                                      | 156/525 [08:36<1:03:54, 10.39s/it]"
     ]
    },
    {
     "name": "stdout",
     "output_type": "stream",
     "text": [
      "processing pptnum: 413\n",
      "start time for this ppt is set to zero\n",
      "processing pptnum: 414\n",
      "10002/video_features\\video_{ParticipantNo}_414_21-1-2021.csv\n",
      "Now reading: 10002/video_features\\video_{ParticipantNo}_414_21-1-2021.csv\n",
      "[5.918, 22.841, 39.763, 53.814, 70.209, 84.609, 97.246, 110.892, 124.348, 140.143, 158.317, 175.417, 191.177, 205.153, 219.337, 232.403, 245.433, 257.387, 272.023, 285.072, 307.541, 322.696]\n"
     ]
    },
    {
     "name": "stderr",
     "output_type": "stream",
     "text": [
      " 30%|███████████████████████▍                                                      | 158/525 [08:57<1:03:47, 10.43s/it]"
     ]
    },
    {
     "name": "stdout",
     "output_type": "stream",
     "text": [
      "processing pptnum: 415\n",
      "10002/video_features\\video_{ParticipantNo}_415_16-2-2021.csv\n",
      "Now reading: 10002/video_features\\video_{ParticipantNo}_415_16-2-2021.csv\n",
      "[5.715, 29.978, 54.102, 70.263, 92.309, 109.508, 124.315, 139.177, 153.621, 172.206, 187.611, 205.151, 218.902, 233.454, 247.847, 262.654, 278.336, 293.318, 308.137, 323.997, 339.907, 354.981]\n"
     ]
    },
    {
     "name": "stderr",
     "output_type": "stream",
     "text": [
      " 30%|████████████████████████▏                                                       | 159/525 [09:04<58:13,  9.54s/it]"
     ]
    },
    {
     "name": "stdout",
     "output_type": "stream",
     "text": [
      "processing pptnum: 419\n",
      "10002/video_features\\video_{ParticipantNo}_419_11-2-2021.csv\n",
      "Now reading: 10002/video_features\\video_{ParticipantNo}_419_11-2-2021.csv\n",
      "[6.528, 27.274, 46.319, 61.134, 79.883, 100.616, 122.844, 136.855, 150.174, 164.866, 177.972, 190.75, 205.329, 220.027, 232.1, 244.367, 255.997, 268.095, 280.31, 293.901, 307.402, 319.856]\n"
     ]
    },
    {
     "name": "stderr",
     "output_type": "stream",
     "text": [
      " 30%|████████████████████████▍                                                       | 160/525 [09:05<42:39,  7.01s/it]"
     ]
    },
    {
     "name": "stdout",
     "output_type": "stream",
     "text": [
      "processing pptnum: 420\n",
      "start time for this ppt is set to zero\n",
      "processing pptnum: 423\n",
      "10002/video_features\\video_{ParticipantNo}_423_14-2-2021.csv\n",
      "Now reading: 10002/video_features\\video_{ParticipantNo}_423_14-2-2021.csv\n",
      "[5.925, 68.385, 87.682, 105.65, 122.021, 139.011, 154.039, 170.528, 187.369, 203.49, 219.525, 235.402, 253.3, 269.265, 285.133, 300.133, 314.025, 329.414, 346.495, 362.672, 377.462, 395.648]\n"
     ]
    },
    {
     "name": "stderr",
     "output_type": "stream",
     "text": [
      " 31%|████████████████████████▋                                                       | 162/525 [09:24<47:03,  7.78s/it]"
     ]
    },
    {
     "name": "stdout",
     "output_type": "stream",
     "text": [
      "processing pptnum: 428\n",
      "10002/video_features\\video_{ParticipantNo}_428_18-2-2021.csv\n",
      "Now reading: 10002/video_features\\video_{ParticipantNo}_428_18-2-2021.csv\n",
      "[9.74, 26.76, 43.302, 60.215, 78.994, 94.584, 108.664, 123.941, 139.942, 155.971, 172.203, 187.314, 204.648, 224.674, 241.501, 259.18, 275.75, 290.529, 308.892, 324.131, 338.673, 353.841]\n"
     ]
    },
    {
     "name": "stderr",
     "output_type": "stream",
     "text": [
      " 31%|████████████████████████▊                                                       | 163/525 [09:32<46:38,  7.73s/it]"
     ]
    },
    {
     "name": "stdout",
     "output_type": "stream",
     "text": [
      "processing pptnum: 431\n",
      "10002/video_features\\video_{ParticipantNo}_431_20-2-2021.csv\n",
      "Now reading: 10002/video_features\\video_{ParticipantNo}_431_20-2-2021.csv\n",
      "[5.587, 20.697, 34.951, 49.645, 63.115, 76.057, 92.159, 107.807, 121.025, 134.063, 148.86, 161.219, 175.402, 187.885, 200.947, 214.746, 228.247, 243.086, 257.675, 272.51, 286.41, 300.16]\n"
     ]
    },
    {
     "name": "stderr",
     "output_type": "stream",
     "text": [
      " 31%|████████████████████████▉                                                       | 164/525 [09:42<50:57,  8.47s/it]"
     ]
    },
    {
     "name": "stdout",
     "output_type": "stream",
     "text": [
      "processing pptnum: 434\n",
      "10002/video_features\\video_{ParticipantNo}_434_4-4-2021.csv\n",
      "Now reading: 10002/video_features\\video_{ParticipantNo}_434_4-4-2021.csv\n",
      "[4.872, 25.43, 45.242, 63.356, 80.746, 96.278, 109.749, 125.199, 140.649, 154.337, 172.373, 186.951, 205.747, 221.981, 234.935, 247.425, 260.416, 276.212, 289.887, 305.468, 322.454, 336.738]\n"
     ]
    },
    {
     "name": "stderr",
     "output_type": "stream",
     "text": [
      " 31%|████████████████████████▌                                                     | 165/525 [10:21<1:46:08, 17.69s/it]"
     ]
    },
    {
     "name": "stdout",
     "output_type": "stream",
     "text": [
      "processing pptnum: 435\n",
      "10002/video_features\\video_{ParticipantNo}_435_12-3-2021.csv\n",
      "Now reading: 10002/video_features\\video_{ParticipantNo}_435_12-3-2021.csv\n",
      "[7.178, 30.578, 55.282, 79.469, 97.615, 116.832, 133.65, 147.378, 163.81, 181.469, 204.55, 218.359, 235.244, 250.571, 267.766, 281.386, 294.388, 308.111, 321.318, 334.026, 347.512, 359.866]\n"
     ]
    },
    {
     "name": "stderr",
     "output_type": "stream",
     "text": [
      " 32%|████████████████████████▋                                                     | 166/525 [10:46<1:59:08, 19.91s/it]"
     ]
    },
    {
     "name": "stdout",
     "output_type": "stream",
     "text": [
      "processing pptnum: 437\n",
      "10002/video_features\\video_{ParticipantNo}_437_22-2-2021.csv\n",
      "Now reading: 10002/video_features\\video_{ParticipantNo}_437_22-2-2021.csv\n",
      "[6.267, 21.473, 37.713, 53.35, 70.024, 92.862, 108.789, 126.014, 143.841, 162.257, 175.828, 193.985, 208.415, 228.606, 243.36, 258.066, 276.272, 293.462, 308.817, 323.306, 342.779, 360.661]\n"
     ]
    },
    {
     "name": "stderr",
     "output_type": "stream",
     "text": [
      " 32%|████████████████████████▊                                                     | 167/525 [11:09<2:02:45, 20.57s/it]"
     ]
    },
    {
     "name": "stdout",
     "output_type": "stream",
     "text": [
      "processing pptnum: 438\n",
      "10002/video_features\\video_{ParticipantNo}_438_15-3-2021.csv\n",
      "Now reading: 10002/video_features\\video_{ParticipantNo}_438_15-3-2021.csv\n",
      "[4.546, 19.81, 34.681, 49.265, 66.506, 81.137, 96.506, 109.842, 123.41, 138.114, 152.729, 165.89, 179.705, 193.082, 206.946, 220.353, 235.514, 248.715, 264.545, 277.257, 290.337, 303.09]\n"
     ]
    },
    {
     "name": "stderr",
     "output_type": "stream",
     "text": [
      " 32%|████████████████████████▉                                                     | 168/525 [11:16<1:38:50, 16.61s/it]"
     ]
    },
    {
     "name": "stdout",
     "output_type": "stream",
     "text": [
      "processing pptnum: 441\n",
      "10002/video_features\\video_{ParticipantNo}_441_10-3-2021.csv\n",
      "Now reading: 10002/video_features\\video_{ParticipantNo}_441_10-3-2021.csv\n",
      "[4.629, 24.856, 45.509, 63.001, 78.042, 101.381, 116.672, 132.343, 149.871, 164.581, 176.43, 200.291, 214.69, 230.881, 246.515, 267.875, 281.745, 302.666, 318.044, 332.554, 347.164, 361.535]\n"
     ]
    },
    {
     "name": "stderr",
     "output_type": "stream",
     "text": [
      " 32%|█████████████████████████                                                     | 169/525 [11:22<1:20:28, 13.56s/it]"
     ]
    },
    {
     "name": "stdout",
     "output_type": "stream",
     "text": [
      "processing pptnum: 444\n",
      "start time for this ppt is set to zero\n",
      "processing pptnum: 445\n",
      "10002/video_features\\video_{ParticipantNo}_445_26-2-2021.csv\n",
      "Now reading: 10002/video_features\\video_{ParticipantNo}_445_26-2-2021.csv\n",
      "[6.83, 20.813, 34.891, 48.382, 61.055, 72.727, 85.086, 97.425, 112.311, 124.324, 137.084, 150.58, 165.01, 176.88, 195.755, 208.395, 221.795, 236.355, 247.958, 259.343, 275.315, 289.58]\n"
     ]
    },
    {
     "name": "stderr",
     "output_type": "stream",
     "text": [
      " 33%|██████████████████████████                                                      | 171/525 [11:26<59:37, 10.11s/it]"
     ]
    },
    {
     "name": "stdout",
     "output_type": "stream",
     "text": [
      "processing pptnum: 446\n",
      "10002/video_features\\video_{ParticipantNo}_446_15-3-2021.csv\n",
      "Now reading: 10002/video_features\\video_{ParticipantNo}_446_15-3-2021.csv\n",
      "[5.216, 23.899, 39.386, 55.658, 69.929, 82.457, 97.957, 110.682, 127.969, 144.795, 158.947, 171.767, 186.991, 209.317, 223.949, 238.709, 251.999, 268.086, 280.9, 295.364, 310.349, 324.024]\n"
     ]
    },
    {
     "name": "stderr",
     "output_type": "stream",
     "text": [
      " 33%|██████████████████████████▏                                                     | 172/525 [11:32<50:30,  8.59s/it]"
     ]
    },
    {
     "name": "stdout",
     "output_type": "stream",
     "text": [
      "processing pptnum: 450\n",
      "10002/video_features\\video_{ParticipantNo}_450_30-3-2021.csv\n",
      "Now reading: 10002/video_features\\video_{ParticipantNo}_450_30-3-2021.csv\n",
      "[4.903, 21.277, 37.649, 52.094, 66.384, 79.373, 93.609, 108.854, 122.786, 135.524, 148.183, 161.162, 175.62, 190.042, 205.548, 220.452, 234.792, 247.955, 261.33, 278.633, 291.234, 304.49]\n"
     ]
    },
    {
     "name": "stderr",
     "output_type": "stream",
     "text": [
      " 33%|██████████████████████████▎                                                     | 173/525 [11:45<58:07,  9.91s/it]"
     ]
    },
    {
     "name": "stdout",
     "output_type": "stream",
     "text": [
      "processing pptnum: 454\n",
      "10002/video_features\\video_{ParticipantNo}_454_1-4-2021.csv\n",
      "Now reading: 10002/video_features\\video_{ParticipantNo}_454_1-4-2021.csv\n",
      "[4.461, 20.148, 35.992, 51.073, 65.857, 81.736, 95.706, 109.787, 124.086, 143.93, 157.276, 170.931, 184.332, 197.18, 209.733, 227.575, 250.614, 264.669, 281.719, 296.298, 312.062, 325.297]\n"
     ]
    },
    {
     "name": "stderr",
     "output_type": "stream",
     "text": [
      " 33%|█████████████████████████▊                                                    | 174/525 [12:00<1:07:05, 11.47s/it]"
     ]
    },
    {
     "name": "stdout",
     "output_type": "stream",
     "text": [
      "processing pptnum: 456\n",
      "10002/video_features\\video_{ParticipantNo}_456_26-3-2021.csv\n",
      "Now reading: 10002/video_features\\video_{ParticipantNo}_456_26-3-2021.csv\n",
      "[4.195, 22.099, 39.635, 57.827, 75.994, 91.012, 104.403, 118.555, 139.875, 154.899, 173.002, 194.298, 210.514, 225.411, 238.763, 252.938, 268.642, 284.066, 298.426, 314.627, 332.059, 355.14]\n"
     ]
    },
    {
     "name": "stderr",
     "output_type": "stream",
     "text": [
      " 33%|██████████████████████████                                                    | 175/525 [12:18<1:18:16, 13.42s/it]"
     ]
    },
    {
     "name": "stdout",
     "output_type": "stream",
     "text": [
      "processing pptnum: 457\n",
      "10002/video_features\\video_{ParticipantNo}_457_12-4-2021.csv\n",
      "Now reading: 10002/video_features\\video_{ParticipantNo}_457_12-4-2021.csv\n",
      "[5.432, 21.426, 38.053, 53.072, 76.211, 91.284, 117.435, 130.987, 144.209, 158.367, 176.979, 192.013, 206.56, 221.373, 237.076, 251.774, 268.633, 285.677, 299.135, 312.69, 327.023, 342.168]\n"
     ]
    },
    {
     "name": "stderr",
     "output_type": "stream",
     "text": [
      " 34%|██████████████████████████▏                                                   | 176/525 [12:35<1:24:40, 14.56s/it]"
     ]
    },
    {
     "name": "stdout",
     "output_type": "stream",
     "text": [
      "processing pptnum: 458\n",
      "10002/video_features\\video_{ParticipantNo}_458_1-4-2021.csv\n",
      "Now reading: 10002/video_features\\video_{ParticipantNo}_458_1-4-2021.csv\n",
      "[6.966, 21.388, 37.827, 52.746, 68.684, 82.891, 97.958, 110.678, 125.168, 141.325, 155.895, 169.034, 185.289, 200.892, 215.434, 229.597, 245.425, 260.964, 279.094, 293.597, 308.394, 322.142]\n"
     ]
    },
    {
     "name": "stderr",
     "output_type": "stream",
     "text": [
      " 34%|██████████████████████████▎                                                   | 177/525 [12:47<1:19:32, 13.71s/it]"
     ]
    },
    {
     "name": "stdout",
     "output_type": "stream",
     "text": [
      "processing pptnum: 462\n",
      "10002/video_features\\video_{ParticipantNo}_462_29-3-2021.csv\n",
      "Now reading: 10002/video_features\\video_{ParticipantNo}_462_29-3-2021.csv\n",
      "[4.666, 23.395, 38.074, 58.585, 76.329, 92.57, 114.121, 130.115, 143.505, 157.634, 174.266, 191.282, 205.994, 221.075, 235.41, 250.258, 264.978, 282.315, 295.93, 309.802, 323.449, 335.537]\n"
     ]
    },
    {
     "name": "stderr",
     "output_type": "stream",
     "text": [
      " 34%|██████████████████████████▍                                                   | 178/525 [13:08<1:32:07, 15.93s/it]"
     ]
    },
    {
     "name": "stdout",
     "output_type": "stream",
     "text": [
      "processing pptnum: 465\n",
      "start time for this ppt is set to zero\n",
      "processing pptnum: 466\n",
      "10002/video_features\\video_{ParticipantNo}_466_27-3-2021.csv\n",
      "Now reading: 10002/video_features\\video_{ParticipantNo}_466_27-3-2021.csv\n",
      "[6.626, 23.073, 40.145, 54.896, 69.09, 84.082, 96.969, 111.498, 126.409, 139.194, 153.409, 169.464, 184.281, 200.521, 216.84, 231.456, 245.353, 259.184, 273.52, 290.809, 304.266, 326.96]\n"
     ]
    },
    {
     "name": "stderr",
     "output_type": "stream",
     "text": [
      " 34%|██████████████████████████▋                                                   | 180/525 [13:08<1:04:49, 11.27s/it]"
     ]
    },
    {
     "name": "stdout",
     "output_type": "stream",
     "text": [
      "processing pptnum: 467\n",
      "10002/video_features\\video_{ParticipantNo}_467_27-3-2021.csv\n",
      "Now reading: 10002/video_features\\video_{ParticipantNo}_467_27-3-2021.csv\n",
      "[5.282, 20.432, 39.521, 58.058, 73.172, 87.858, 108.547, 123.973, 140.42, 164.127, 178.788, 197.572, 211.774, 230.896, 244.864, 259.802, 274.322, 288.17, 313.768, 335.054, 364.712, 386.981]\n"
     ]
    },
    {
     "name": "stderr",
     "output_type": "stream",
     "text": [
      " 34%|██████████████████████████▉                                                   | 181/525 [13:30<1:22:10, 14.33s/it]"
     ]
    },
    {
     "name": "stdout",
     "output_type": "stream",
     "text": [
      "processing pptnum: 468\n",
      "10002/video_features\\video_{ParticipantNo}_468_2-4-2021.csv\n",
      "Now reading: 10002/video_features\\video_{ParticipantNo}_468_2-4-2021.csv\n",
      "[6.831, 25.171, 43.165, 60.439, 74.546, 90.74, 110.666, 124.732, 139.532, 155.892, 171.381, 185.734, 200.153, 213.065, 229.094, 243.236, 257.102, 274.316, 287.91, 301.926, 322.884, 337.728]\n"
     ]
    },
    {
     "name": "stderr",
     "output_type": "stream",
     "text": [
      " 35%|███████████████████████████                                                   | 182/525 [13:56<1:42:27, 17.92s/it]"
     ]
    },
    {
     "name": "stdout",
     "output_type": "stream",
     "text": [
      "processing pptnum: 477\n",
      "10002/video_features\\video_{ParticipantNo}_477_10-4-2021.csv\n",
      "Now reading: 10002/video_features\\video_{ParticipantNo}_477_10-4-2021.csv\n",
      "[6.774, 24.676, 41.476, 61.718, 78.414, 96.882, 115.377, 139.161, 166.25, 188.135, 210.077, 227.166, 248.779, 269.281, 286.963, 305.972, 323.6, 341.555, 361.665, 393.908, 413.532, 428.839]\n"
     ]
    },
    {
     "name": "stderr",
     "output_type": "stream",
     "text": [
      " 35%|███████████████████████████▏                                                  | 183/525 [14:21<1:53:13, 19.87s/it]"
     ]
    },
    {
     "name": "stdout",
     "output_type": "stream",
     "text": [
      "processing pptnum: 478\n",
      "Exclusion file for ppt: 478 at moment: B\n",
      "processing pptnum: 479\n",
      "10002/video_features\\video_{ParticipantNo}_479_31-5-2021.csv\n",
      "Now reading: 10002/video_features\\video_{ParticipantNo}_479_31-5-2021.csv\n",
      "[4.633, 22.246, 42.161, 56.352, 68.835, 83.336, 97.3, 111.117, 126.044, 142.166, 156.295, 169.056, 186.954, 205.916, 223.004, 239.879, 256.523, 282.241, 296.684, 310.902, 326.357, 338.756]\n"
     ]
    },
    {
     "name": "stderr",
     "output_type": "stream",
     "text": [
      " 35%|███████████████████████████▍                                                  | 185/525 [14:37<1:32:46, 16.37s/it]"
     ]
    },
    {
     "name": "stdout",
     "output_type": "stream",
     "text": [
      "processing pptnum: 480\n",
      "10002/video_features\\video_{ParticipantNo}_480_18-4-2021.csv\n",
      "Now reading: 10002/video_features\\video_{ParticipantNo}_480_18-4-2021.csv\n",
      "[5.4, 26.172, 42.555, 58.684, 79.226, 95.459, 115.915, 130.963, 144.755, 160.042, 180.746, 198.442, 215.419, 228.787, 243.555, 263.515, 287.31, 306.818, 323.443, 340.771, 355.275, 369.731]\n"
     ]
    },
    {
     "name": "stderr",
     "output_type": "stream",
     "text": [
      " 35%|███████████████████████████▋                                                  | 186/525 [14:40<1:09:34, 12.32s/it]"
     ]
    },
    {
     "name": "stdout",
     "output_type": "stream",
     "text": [
      "processing pptnum: 481\n",
      "10002/video_features\\video_{ParticipantNo}_481_12-4-2021.csv\n",
      "Now reading: 10002/video_features\\video_{ParticipantNo}_481_12-4-2021.csv\n",
      "[8.752, 61.256, 93.421, 123.085, 148.86, 169.346, 220.082, 258.087, 278.937, 294.326, 322.954, 338.102, 365.648, 388.941, 418.342, 438.978, 458.848, 477.201, 500.824, 519.494, 537.48, 578.431]\n"
     ]
    },
    {
     "name": "stderr",
     "output_type": "stream",
     "text": [
      " 36%|███████████████████████████▊                                                  | 187/525 [15:04<1:28:50, 15.77s/it]"
     ]
    },
    {
     "name": "stdout",
     "output_type": "stream",
     "text": [
      "processing pptnum: 482\n",
      "10002/video_features\\video_{ParticipantNo}_482_28-4-2021.csv\n",
      "Now reading: 10002/video_features\\video_{ParticipantNo}_482_28-4-2021.csv\n",
      "[7.679, 24.176, 38.147, 52.054, 68.125, 83.363, 96.6, 111.27, 131.506, 146.893, 163.06, 181.618, 202.846, 218.452, 233.478, 248.734, 262.145, 277.775, 292.4, 307.616, 322.417, 337.608]\n"
     ]
    },
    {
     "name": "stderr",
     "output_type": "stream",
     "text": [
      " 36%|███████████████████████████▉                                                  | 188/525 [15:12<1:16:03, 13.54s/it]"
     ]
    },
    {
     "name": "stdout",
     "output_type": "stream",
     "text": [
      "processing pptnum: 487\n",
      "start time for this ppt is set to zero\n",
      "processing pptnum: 489\n",
      "10002/video_features\\video_{ParticipantNo}_489_10-5-2021.csv\n",
      "Now reading: 10002/video_features\\video_{ParticipantNo}_489_10-5-2021.csv\n",
      "[5.684, 21.768, 38.06, 53.431, 67.615, 84.194, 100.483, 115.223, 130.414, 143.664, 158.624, 173.588, 189.453, 205.811, 223.353, 242.634, 258.506, 272.14, 285.535, 299.867, 315.165, 329.416]\n"
     ]
    },
    {
     "name": "stderr",
     "output_type": "stream",
     "text": [
      " 36%|████████████████████████████▏                                                 | 190/525 [15:27<1:05:32, 11.74s/it]"
     ]
    },
    {
     "name": "stdout",
     "output_type": "stream",
     "text": [
      "processing pptnum: 490\n",
      "10002/video_features\\video_{ParticipantNo}_490_24-5-2021.csv\n",
      "Now reading: 10002/video_features\\video_{ParticipantNo}_490_24-5-2021.csv\n",
      "[5.174, 22.121, 38.874, 56.009, 71.553, 89.589, 106.228, 123.12, 138.776, 153.778, 171.578, 186.064, 199.702, 215.221, 232.074, 248.21, 262.186, 278.524, 294.068, 311.299, 326.948, 341.36]\n"
     ]
    },
    {
     "name": "stderr",
     "output_type": "stream",
     "text": [
      " 36%|████████████████████████████▍                                                 | 191/525 [15:43<1:11:34, 12.86s/it]"
     ]
    },
    {
     "name": "stdout",
     "output_type": "stream",
     "text": [
      "processing pptnum: 491\n",
      "10002/video_features\\video_{ParticipantNo}_491_23-5-2021.csv\n",
      "Now reading: 10002/video_features\\video_{ParticipantNo}_491_23-5-2021.csv\n",
      "[4.661, 20.324, 33.176, 46.586, 57.668, 71.771, 84.028, 98.128, 110.007, 124.841, 136.613, 147.944, 159.623, 171.763, 183.66, 195.076, 206.684, 219.505, 232.142, 243.641, 255.021, 267.923]\n"
     ]
    },
    {
     "name": "stderr",
     "output_type": "stream",
     "text": [
      " 37%|████████████████████████████▌                                                 | 192/525 [15:49<1:00:27, 10.89s/it]"
     ]
    },
    {
     "name": "stdout",
     "output_type": "stream",
     "text": [
      "processing pptnum: 493\n",
      "Exclusion file for ppt: 493 at moment: B\n",
      "processing pptnum: 495\n",
      "10002/video_features\\video_{ParticipantNo}_495_1-5-2021.csv\n",
      "Now reading: 10002/video_features\\video_{ParticipantNo}_495_1-5-2021.csv\n",
      "[5.215, 22.32, 38.091, 55.039, 70.693, 85.906, 103.671, 124.082, 142.749, 160.795, 177.334, 196.758, 214.881, 227.798, 246.749, 260.153, 273.343, 286.649, 301.405, 314.962, 328.139, 344.97]\n"
     ]
    },
    {
     "name": "stderr",
     "output_type": "stream",
     "text": [
      " 37%|█████████████████████████████▌                                                  | 194/525 [16:02<53:09,  9.64s/it]"
     ]
    },
    {
     "name": "stdout",
     "output_type": "stream",
     "text": [
      "processing pptnum: 498\n",
      "10002/video_features\\video_{ParticipantNo}_498_8-5-2021.csv\n",
      "Now reading: 10002/video_features\\video_{ParticipantNo}_498_8-5-2021.csv\n",
      "[11.057, 30.928, 52.995, 75.316, 93.591, 116.451, 144.624, 162.615, 183.38, 200.043, 219.671, 246.437, 264.669, 288.61, 302.301, 314.291, 331.406, 350.216, 365.562, 380.996, 395.497, 410.969]\n"
     ]
    },
    {
     "name": "stderr",
     "output_type": "stream",
     "text": [
      " 37%|█████████████████████████████▋                                                  | 195/525 [16:10<50:13,  9.13s/it]"
     ]
    },
    {
     "name": "stdout",
     "output_type": "stream",
     "text": [
      "processing pptnum: 499\n",
      "10002/video_features\\video_{ParticipantNo}_499_9-5-2021.csv\n",
      "Now reading: 10002/video_features\\video_{ParticipantNo}_499_9-5-2021.csv\n",
      "[6.956, 25.487, 41.395, 58.042, 83.927, 104.002, 119.376, 135.573, 153.407, 168.277, 186.877, 203.552, 217.743, 233.401, 250.604, 268.4, 282.947, 297.736, 312.097, 325.822, 343.304, 360.299]\n"
     ]
    },
    {
     "name": "stderr",
     "output_type": "stream",
     "text": [
      " 37%|█████████████████████████████                                                 | 196/525 [16:26<1:00:22, 11.01s/it]"
     ]
    },
    {
     "name": "stdout",
     "output_type": "stream",
     "text": [
      "processing pptnum: 502\n",
      "start time for this ppt is set to zero\n",
      "processing pptnum: 503\n",
      "start time for this ppt is set to zero\n",
      "processing pptnum: 504\n",
      "10002/video_features\\video_{ParticipantNo}_504_1-5-2021.csv\n",
      "Now reading: 10002/video_features\\video_{ParticipantNo}_504_1-5-2021.csv\n",
      "[8.066, 28.832, 44.911, 63.828, 81.547, 96.86, 114.807, 131.41, 148.766, 168.159, 181.74, 197.042, 215.639, 229.947, 244.035, 257.839, 272.832, 287.086, 307.011, 321.013, 336.769, 350.98]\n"
     ]
    },
    {
     "name": "stderr",
     "output_type": "stream",
     "text": [
      " 38%|██████████████████████████████▎                                                 | 199/525 [16:42<50:44,  9.34s/it]"
     ]
    },
    {
     "name": "stdout",
     "output_type": "stream",
     "text": [
      "processing pptnum: 505\n",
      "10002/video_features\\video_{ParticipantNo}_505_1-5-2021.csv\n",
      "Now reading: 10002/video_features\\video_{ParticipantNo}_505_1-5-2021.csv\n",
      "[5.068, 20.139, 35.929, 51.312, 69.359, 84.018, 101.09, 115.725, 127.466, 140.064, 153.501, 166.402, 183.835, 197.355, 209.033, 220.819, 233.536, 244.981, 258.423, 271.326, 283.044, 297.107]\n"
     ]
    },
    {
     "name": "stderr",
     "output_type": "stream",
     "text": [
      " 38%|██████████████████████████████▍                                                 | 200/525 [16:53<53:14,  9.83s/it]"
     ]
    },
    {
     "name": "stdout",
     "output_type": "stream",
     "text": [
      "processing pptnum: 508\n",
      "10002/video_features\\video_{ParticipantNo}_508_18-5-2021.csv\n",
      "Now reading: 10002/video_features\\video_{ParticipantNo}_508_18-5-2021.csv\n",
      "[5.692, 20.82, 37.187, 50.099, 63.771, 78.044, 93.18, 107.596, 120.493, 133.517, 146.02, 161.076, 173.667, 185.74, 198.092, 210.332, 222.71, 235.827, 248.219, 261.235, 274.364, 286.436]\n"
     ]
    },
    {
     "name": "stderr",
     "output_type": "stream",
     "text": [
      " 38%|██████████████████████████████▋                                                 | 201/525 [17:05<56:37, 10.49s/it]"
     ]
    },
    {
     "name": "stdout",
     "output_type": "stream",
     "text": [
      "processing pptnum: 510\n",
      "start time for this ppt is set to zero\n",
      "processing pptnum: 511\n",
      "10002/video_features\\video_{ParticipantNo}_511_24-5-2021.csv\n",
      "Now reading: 10002/video_features\\video_{ParticipantNo}_511_24-5-2021.csv\n",
      "[6.362, 22.785, 39.317, 54.684, 71.321, 87.442, 103.448, 121.062, 139.1, 156.951, 173.509, 192.124, 206.262, 221.913, 238.386, 260.877, 281.171, 297.55, 313.667, 334.524, 350.928, 369.696]\n"
     ]
    },
    {
     "name": "stderr",
     "output_type": "stream",
     "text": [
      " 39%|██████████████████████████████▉                                                 | 203/525 [17:20<51:38,  9.62s/it]"
     ]
    },
    {
     "name": "stdout",
     "output_type": "stream",
     "text": [
      "processing pptnum: 515\n",
      "10002/video_features\\video_{ParticipantNo}_515_29-4-2021.csv\n",
      "Now reading: 10002/video_features\\video_{ParticipantNo}_515_29-4-2021.csv\n",
      "[6.637, 26.728, 41.317, 55.472, 68.341, 84.74, 97.53, 110.899, 125.878, 138.63, 151.822, 167.657, 183.074, 196.683, 209.116, 222.518, 234.973, 247.829, 262.137, 275.615, 288.238, 301.476]\n"
     ]
    },
    {
     "name": "stderr",
     "output_type": "stream",
     "text": [
      " 39%|███████████████████████████████▏                                                | 205/525 [17:34<46:47,  8.77s/it]"
     ]
    },
    {
     "name": "stdout",
     "output_type": "stream",
     "text": [
      "processing pptnum: 516\n",
      "start time for this ppt is set to zero\n",
      "processing pptnum: 519\n",
      "10002/video_features\\video_{ParticipantNo}_519_1-6-2021.csv\n",
      "Now reading: 10002/video_features\\video_{ParticipantNo}_519_1-6-2021.csv\n",
      "[4.798, 16.76, 30.293, 44.132, 56.495, 71.75, 83.923, 97.523, 109.371, 122.696, 135.432, 147.831, 159.454, 171.525, 187.805, 199.571, 213.42, 229.687, 242.782, 254.889, 266.891, 278.448]\n"
     ]
    },
    {
     "name": "stderr",
     "output_type": "stream",
     "text": [
      " 39%|███████████████████████████████▌                                                | 207/525 [17:45<41:44,  7.88s/it]"
     ]
    },
    {
     "name": "stdout",
     "output_type": "stream",
     "text": [
      "processing pptnum: 521\n",
      "start time for this ppt is set to zero\n",
      "processing pptnum: 524\n",
      "10002/video_features\\video_{ParticipantNo}_524_3-5-2021.csv\n",
      "Now reading: 10002/video_features\\video_{ParticipantNo}_524_3-5-2021.csv\n",
      "[4.981, 24.317, 36.941, 53.177, 70.479, 88.06, 104.01, 127.319, 141.528, 159.814, 173.539, 190.085, 209.874, 225.46, 243.542, 256.363, 271.297, 288.426, 301.293, 314.055, 327.664, 340.548]\n"
     ]
    },
    {
     "name": "stderr",
     "output_type": "stream",
     "text": [
      " 40%|███████████████████████████████▊                                                | 209/525 [17:56<37:12,  7.06s/it]"
     ]
    },
    {
     "name": "stdout",
     "output_type": "stream",
     "text": [
      "processing pptnum: 525\n",
      "10002/video_features\\video_{ParticipantNo}_525_19-5-2021.csv\n",
      "Now reading: 10002/video_features\\video_{ParticipantNo}_525_19-5-2021.csv\n",
      "[4.993, 18.873, 32.139, 45.512, 61.332, 74.532, 86.563, 98.824, 111.784, 123.564, 136.193, 150.973, 163.043, 174.993, 187.044, 200.943, 213.83, 225.315, 237.245, 250.545, 264.315, 280.725]\n"
     ]
    },
    {
     "name": "stderr",
     "output_type": "stream",
     "text": [
      " 40%|████████████████████████████████                                                | 210/525 [18:09<46:26,  8.85s/it]"
     ]
    },
    {
     "name": "stdout",
     "output_type": "stream",
     "text": [
      "processing pptnum: 526\n",
      "start time for this ppt is set to zero\n",
      "processing pptnum: 527\n",
      "10002/video_features\\video_{ParticipantNo}_527_28-6-2021.csv\n",
      "Now reading: 10002/video_features\\video_{ParticipantNo}_527_28-6-2021.csv\n",
      "[4.59, 18.657, 30.923, 47.81, 60.901, 73.909, 85.793, 98.738, 112.332, 124.043, 136.25, 148.541, 161.85, 176.707, 188.065, 201.729, 214.132, 227.475, 239.02, 250.85, 262.764, 274.661]\n"
     ]
    },
    {
     "name": "stderr",
     "output_type": "stream",
     "text": [
      " 40%|████████████████████████████████▎                                               | 212/525 [18:25<45:07,  8.65s/it]"
     ]
    },
    {
     "name": "stdout",
     "output_type": "stream",
     "text": [
      "processing pptnum: 532\n",
      "10002/video_features\\video_{ParticipantNo}_532_19-5-2021.csv\n",
      "Now reading: 10002/video_features\\video_{ParticipantNo}_532_19-5-2021.csv\n",
      "[6.838, 28.36, 44.121, 62.458, 81.417, 98.898, 129.419, 150.198, 170.483, 188.584, 207.901, 225.203, 243.698, 267.244, 284.199, 301.445, 315.679, 330.235, 347.897, 364.188, 380.951, 399.817]\n"
     ]
    },
    {
     "name": "stderr",
     "output_type": "stream",
     "text": [
      " 41%|████████████████████████████████▍                                               | 213/525 [18:42<57:37, 11.08s/it]"
     ]
    },
    {
     "name": "stdout",
     "output_type": "stream",
     "text": [
      "processing pptnum: 533\n",
      "start time for this ppt is set to zero\n",
      "processing pptnum: 534\n",
      "start time for this ppt is set to zero\n",
      "processing pptnum: 537\n",
      "10002/video_features\\video_{ParticipantNo}_537_20-5-2021.csv\n",
      "Now reading: 10002/video_features\\video_{ParticipantNo}_537_20-5-2021.csv\n",
      "[8.738, 30.93, 47.736, 65.32, 81.314, 99.547, 112.511, 125.755, 141.624, 155.01, 168.468, 181.024, 193.744, 206.322, 220.73, 233.782, 248.463, 263.105, 278.417, 290.921, 302.376, 314.226]\n"
     ]
    },
    {
     "name": "stderr",
     "output_type": "stream",
     "text": [
      " 41%|████████████████████████████████▉                                               | 216/525 [18:56<47:16,  9.18s/it]"
     ]
    },
    {
     "name": "stdout",
     "output_type": "stream",
     "text": [
      "processing pptnum: 538\n",
      "10002/video_features\\video_{ParticipantNo}_538_9-5-2021.csv\n",
      "Now reading: 10002/video_features\\video_{ParticipantNo}_538_9-5-2021.csv\n",
      "[5.117, 27.307, 49.15, 64.669, 87.516, 104.596, 119.768, 139.638, 154.518, 169.804, 192.373, 207.347, 224.229, 241.228, 254.745, 271.271, 285.53, 301.671, 316.174, 332.072, 345.466, 359.67]\n"
     ]
    },
    {
     "name": "stderr",
     "output_type": "stream",
     "text": [
      " 41%|█████████████████████████████████                                               | 217/525 [19:12<57:33, 11.21s/it]"
     ]
    },
    {
     "name": "stdout",
     "output_type": "stream",
     "text": [
      "processing pptnum: 540\n",
      "10002/video_features\\video_{ParticipantNo}_540_17-5-2021.csv\n",
      "Now reading: 10002/video_features\\video_{ParticipantNo}_540_17-5-2021.csv\n",
      "[7.111, 22.559, 38.572, 56.497, 72.326, 89.028, 106.714, 122.049, 137.656, 154.208, 173.61, 186.574, 200.403, 217.609, 233.169, 246.922, 261.168, 274.346, 290.283, 305.081, 319.555, 335.515]\n"
     ]
    },
    {
     "name": "stderr",
     "output_type": "stream",
     "text": [
      " 42%|████████████████████████████████▍                                             | 218/525 [19:31<1:09:12, 13.52s/it]"
     ]
    },
    {
     "name": "stdout",
     "output_type": "stream",
     "text": [
      "processing pptnum: 542\n",
      "start time for this ppt is set to zero\n",
      "processing pptnum: 544\n",
      "10002/video_features\\video_{ParticipantNo}_544_3-6-2021.csv\n",
      "Now reading: 10002/video_features\\video_{ParticipantNo}_544_3-6-2021.csv\n",
      "[4.537, 18.84, 33.194, 46.491, 59.769, 75.059, 90.013, 104.545, 117.395, 133.225, 147.671, 160.907, 175.606, 189.507, 205.283, 221.319, 234.455, 247.803, 263.631, 278.259, 293.583, 306.444]\n"
     ]
    },
    {
     "name": "stderr",
     "output_type": "stream",
     "text": [
      " 42%|█████████████████████████████████▌                                              | 220/525 [19:36<51:51, 10.20s/it]"
     ]
    },
    {
     "name": "stdout",
     "output_type": "stream",
     "text": [
      "processing pptnum: 549\n",
      "10002/video_features\\video_{ParticipantNo}_549_19-7-2021.csv\n",
      "Now reading: 10002/video_features\\video_{ParticipantNo}_549_19-7-2021.csv\n",
      "[5.639, 19.617, 37.484, 54.144, 68.453, 84.202, 99.36, 115.277, 131.674, 147.351, 162.421, 176.302, 190.745, 207.902, 224.185, 240.602, 255.361, 269.316, 283.731, 297.165, 312.217, 326.808]\n"
     ]
    },
    {
     "name": "stderr",
     "output_type": "stream",
     "text": [
      " 42%|████████████████████████████████▊                                             | 221/525 [20:00<1:13:30, 14.51s/it]"
     ]
    },
    {
     "name": "stdout",
     "output_type": "stream",
     "text": [
      "processing pptnum: 550\n",
      "10002/video_features\\video_{ParticipantNo}_550_14-7-2021.csv\n",
      "Now reading: 10002/video_features\\video_{ParticipantNo}_550_14-7-2021.csv\n",
      "[5.467, 20.759, 37.488, 51.53, 69.831, 86.66, 100.509, 114.111, 128.37, 143.001, 158.151, 171.69, 185.848, 201.32, 215.19, 230.73, 243.199, 257.58, 272.598, 286.6, 299.75, 314.929]\n"
     ]
    },
    {
     "name": "stderr",
     "output_type": "stream",
     "text": [
      " 42%|████████████████████████████████▉                                             | 222/525 [20:07<1:00:39, 12.01s/it]"
     ]
    },
    {
     "name": "stdout",
     "output_type": "stream",
     "text": [
      "processing pptnum: 553\n",
      "10002/video_features\\video_{ParticipantNo}_553_25-6-2021.csv\n",
      "Now reading: 10002/video_features\\video_{ParticipantNo}_553_25-6-2021.csv\n",
      "[4.499, 19.548, 36.09, 51.741, 65.814, 79.326, 92.328, 106.619, 121.22, 135.23, 151.018, 164.385, 177.511, 190.067, 203.57, 218.155, 254.93, 268.74, 293.182, 307.597, 320.9, 334.308]\n"
     ]
    },
    {
     "name": "stderr",
     "output_type": "stream",
     "text": [
      " 42%|█████████████████████████████████▏                                            | 223/525 [20:21<1:04:44, 12.86s/it]"
     ]
    },
    {
     "name": "stdout",
     "output_type": "stream",
     "text": [
      "processing pptnum: 554\n",
      "10002/video_features\\video_{ParticipantNo}_554_24-5-2021.csv\n",
      "Now reading: 10002/video_features\\video_{ParticipantNo}_554_24-5-2021.csv\n",
      "[4.328, 23.388, 37.864, 60.173, 75.285, 89.504, 106.013, 120.889, 137.634, 153.107, 170.255, 184.982, 199.41, 214.013, 229.108, 243.936, 262.178, 277.006, 291.418, 305.664, 322.424, 338.288]\n"
     ]
    },
    {
     "name": "stderr",
     "output_type": "stream",
     "text": [
      " 43%|██████████████████████████████████▏                                             | 224/525 [20:24<48:16,  9.62s/it]"
     ]
    },
    {
     "name": "stdout",
     "output_type": "stream",
     "text": [
      "processing pptnum: 555\n",
      "10002/video_features\\video_{ParticipantNo}_555_9-5-2021.csv\n",
      "Now reading: 10002/video_features\\video_{ParticipantNo}_555_9-5-2021.csv\n",
      "[6.059, 21.664, 33.942, 51.524, 64.922, 77.511, 91.36, 104.041, 118.588, 136.139, 149.918, 162.755, 182.467, 194.381, 206.106, 223.207, 236.65, 249.487, 265.935, 279.333, 292.374, 306.189]\n"
     ]
    },
    {
     "name": "stderr",
     "output_type": "stream",
     "text": [
      " 43%|█████████████████████████████████▍                                            | 225/525 [20:47<1:08:21, 13.67s/it]"
     ]
    },
    {
     "name": "stdout",
     "output_type": "stream",
     "text": [
      "processing pptnum: 557\n",
      "10002/video_features\\video_{ParticipantNo}_557_31-5-2021.csv\n",
      "Now reading: 10002/video_features\\video_{ParticipantNo}_557_31-5-2021.csv\n",
      "[5.405, 21.03, 34.92, 51.854, 66.785, 81.295, 95.025, 108.73, 121.603, 134.23, 146.07, 162.16, 176.415, 188.265, 203.082, 215.024, 227.854, 241.133, 253.423, 268.093, 282.105, 293.639]\n"
     ]
    },
    {
     "name": "stderr",
     "output_type": "stream",
     "text": [
      " 43%|█████████████████████████████████▌                                            | 226/525 [21:08<1:19:52, 16.03s/it]"
     ]
    },
    {
     "name": "stdout",
     "output_type": "stream",
     "text": [
      "processing pptnum: 559\n",
      "10002/video_features\\video_{ParticipantNo}_559_26-5-2021.csv\n",
      "Now reading: 10002/video_features\\video_{ParticipantNo}_559_26-5-2021.csv\n",
      "[5.619, 25.675, 42.482, 58.002, 80.019, 96.7, 113.593, 136.566, 150.785, 164.854, 182.223, 196.188, 210.648, 223.855, 244.844, 261.447, 274.499, 291.497, 306.072, 320.332, 336.293, 351.751]\n"
     ]
    },
    {
     "name": "stderr",
     "output_type": "stream",
     "text": [
      " 43%|█████████████████████████████████▋                                            | 227/525 [21:31<1:30:11, 18.16s/it]"
     ]
    },
    {
     "name": "stdout",
     "output_type": "stream",
     "text": [
      "processing pptnum: 560\n",
      "start time for this ppt is set to zero\n",
      "processing pptnum: 561\n",
      "10002/video_features\\video_{ParticipantNo}_561_12-5-2021.csv\n",
      "Now reading: 10002/video_features\\video_{ParticipantNo}_561_12-5-2021.csv\n",
      "[4.875, 20.249, 34.793, 48.972, 63.147, 75.764, 89.927, 103.417, 117.776, 131.556, 144.08, 156.971, 174.775, 187.545, 203.142, 215.448, 228.381, 241.461, 254.763, 268.471, 282.308, 295.096]\n"
     ]
    },
    {
     "name": "stderr",
     "output_type": "stream",
     "text": [
      " 44%|██████████████████████████████████                                            | 229/525 [21:47<1:14:13, 15.05s/it]"
     ]
    },
    {
     "name": "stdout",
     "output_type": "stream",
     "text": [
      "processing pptnum: 562\n",
      "10002/video_features\\video_{ParticipantNo}_562_12-5-2021.csv\n",
      "Now reading: 10002/video_features\\video_{ParticipantNo}_562_12-5-2021.csv\n",
      "[5.49, 22.2, 38.431, 54.679, 70.319, 84.575, 99.519, 113.662, 128.079, 142.287, 156.127, 171.221, 186.229, 201.847, 219.181, 233.238, 250.708, 266.51, 279.629, 294.213, 307.597, 321.789]\n"
     ]
    },
    {
     "name": "stderr",
     "output_type": "stream",
     "text": [
      " 44%|██████████████████████████████████▏                                           | 230/525 [22:10<1:25:12, 17.33s/it]"
     ]
    },
    {
     "name": "stdout",
     "output_type": "stream",
     "text": [
      "processing pptnum: 563\n",
      "10002/video_features\\video_{ParticipantNo}_563_10-5-2021.csv\n",
      "Now reading: 10002/video_features\\video_{ParticipantNo}_563_10-5-2021.csv\n",
      "[5.865, 24.54, 39.186, 53.546, 77.193, 101.337, 120.713, 133.233, 150.225, 169.201, 186.178, 205.033, 227.049, 240.537, 265.354, 287.45, 311.042, 327.977, 341.425, 353.635, 369.898, 386.21]\n"
     ]
    },
    {
     "name": "stderr",
     "output_type": "stream",
     "text": [
      " 44%|██████████████████████████████████▎                                           | 231/525 [22:35<1:36:21, 19.67s/it]"
     ]
    },
    {
     "name": "stdout",
     "output_type": "stream",
     "text": [
      "processing pptnum: 564\n",
      "10002/video_features\\video_{ParticipantNo}_564_28-5-2021.csv\n",
      "Now reading: 10002/video_features\\video_{ParticipantNo}_564_28-5-2021.csv\n",
      "[4.39, 19.229, 32.157, 46.259, 59.391, 73.321, 88.243, 103.306, 117.532, 131.398, 145.943, 158.996, 172.028, 184.772, 197.712, 211.514, 225.82, 239.226, 254.563, 266.938, 280.595, 292.425]\n"
     ]
    },
    {
     "name": "stderr",
     "output_type": "stream",
     "text": [
      " 44%|██████████████████████████████████▍                                           | 232/525 [22:50<1:29:54, 18.41s/it]"
     ]
    },
    {
     "name": "stdout",
     "output_type": "stream",
     "text": [
      "processing pptnum: 567\n",
      "10002/video_features\\video_{ParticipantNo}_567_25-4-2021.csv\n",
      "Now reading: 10002/video_features\\video_{ParticipantNo}_567_25-4-2021.csv\n",
      "[5.014, 29.202, 53.124, 82.802, 100.269, 116.822, 133.226, 151.852, 165.496, 184.537, 200.333, 214.532, 232.284, 246.844, 263.733, 280.254, 297.206, 316.817, 337.612, 353.731, 366.698, 382.581]\n"
     ]
    },
    {
     "name": "stderr",
     "output_type": "stream",
     "text": [
      " 44%|██████████████████████████████████▌                                           | 233/525 [23:07<1:27:59, 18.08s/it]"
     ]
    },
    {
     "name": "stdout",
     "output_type": "stream",
     "text": [
      "processing pptnum: 574\n",
      "10002/video_features\\video_{ParticipantNo}_574_17-5-2021.csv\n",
      "Now reading: 10002/video_features\\video_{ParticipantNo}_574_17-5-2021.csv\n"
     ]
    },
    {
     "name": "stderr",
     "output_type": "stream",
     "text": [
      "C:\\Users\\mitch\\AppData\\Local\\Temp/ipykernel_13228/1406656151.py:37: DtypeWarning: Columns (523) have mixed types.Specify dtype option on import or set low_memory=False.\n",
      "  get_openfacestuff(fileDir)\n"
     ]
    },
    {
     "name": "stdout",
     "output_type": "stream",
     "text": [
      "[6.566, 24.747, 41.538, 59.227, 79.044, 93.559, 107.741, 122.089, 140.907, 153.931, 169.755, 183.794, 197.482, 213.386, 229.099, 246.65, 261.105, 274.603, 288.899, 302.836, 316.021, 331.895]\n"
     ]
    },
    {
     "name": "stderr",
     "output_type": "stream",
     "text": [
      " 45%|██████████████████████████████████▊                                           | 234/525 [23:20<1:19:37, 16.42s/it]"
     ]
    },
    {
     "name": "stdout",
     "output_type": "stream",
     "text": [
      "processing pptnum: 576\n",
      "start time for this ppt is set to zero\n",
      "processing pptnum: 579\n",
      "10002/video_features\\video_{ParticipantNo}_579_16-5-2021.csv\n",
      "Now reading: 10002/video_features\\video_{ParticipantNo}_579_16-5-2021.csv\n",
      "[4.467, 19.356, 34.416, 49.586, 62.954, 77.137, 90.922, 104.08, 117.083, 131.342, 145.449, 158.532, 171.959, 186.258, 199.551, 211.77, 225.385, 237.792, 250.607, 263.765, 278.163, 293.953]\n"
     ]
    },
    {
     "name": "stderr",
     "output_type": "stream",
     "text": [
      " 45%|███████████████████████████████████                                           | 236/525 [23:27<1:00:34, 12.58s/it]"
     ]
    },
    {
     "name": "stdout",
     "output_type": "stream",
     "text": [
      "processing pptnum: 580\n",
      "10002/video_features\\video_{ParticipantNo}_580_11-5-2021.csv\n",
      "Now reading: 10002/video_features\\video_{ParticipantNo}_580_11-5-2021.csv\n",
      "[4.298, 18.842, 32.755, 48.131, 67.017, 82.73, 96.741, 114.41, 130.776, 146.446, 159.585, 171.713, 188.154, 200.854, 216.784, 233.618, 246.567, 258.68, 272.142, 284.774, 297.006, 310.732]\n"
     ]
    },
    {
     "name": "stderr",
     "output_type": "stream",
     "text": [
      " 45%|███████████████████████████████████▏                                          | 237/525 [23:41<1:01:27, 12.80s/it]"
     ]
    },
    {
     "name": "stdout",
     "output_type": "stream",
     "text": [
      "processing pptnum: 584\n",
      "10002/video_features\\video_{ParticipantNo}_584_30-4-2021.csv\n",
      "Now reading: 10002/video_features\\video_{ParticipantNo}_584_30-4-2021.csv\n",
      "[4.729, 23.375, 38.015, 54.869, 70.96, 91.084, 108.835, 123.554, 139.366, 154.726, 171.821, 187.903, 205.509, 219.078, 235.658, 250.398, 264.378, 278.936, 293.781, 310.079, 323.715, 338.348]\n"
     ]
    },
    {
     "name": "stderr",
     "output_type": "stream",
     "text": [
      " 46%|████████████████████████████████████▍                                           | 239/525 [23:55<53:04, 11.14s/it]"
     ]
    },
    {
     "name": "stdout",
     "output_type": "stream",
     "text": [
      "processing pptnum: 586\n",
      "10002/video_features\\video_{ParticipantNo}_586_21-5-2021.csv\n",
      "Now reading: 10002/video_features\\video_{ParticipantNo}_586_21-5-2021.csv\n",
      "[5.162, 21.219, 36.755, 50.043, 65.731, 78.58, 92.171, 107.168, 120.803, 134.132, 148.955, 162.131, 174.868, 187.62, 204.054, 217.766, 230.716, 243.732, 257.444, 270.661, 283.764, 299.141]\n"
     ]
    },
    {
     "name": "stderr",
     "output_type": "stream",
     "text": [
      " 46%|████████████████████████████████████▌                                           | 240/525 [24:08<56:03, 11.80s/it]"
     ]
    },
    {
     "name": "stdout",
     "output_type": "stream",
     "text": [
      "processing pptnum: 587\n",
      "10002/video_features\\video_{ParticipantNo}_587_4-5-2021.csv\n",
      "Now reading: 10002/video_features\\video_{ParticipantNo}_587_4-5-2021.csv\n",
      "[5.448, 22.29, 38.762, 57.221, 74.241, 89.679, 106.396, 121.46, 142.07, 158.715, 175.93, 192.171, 207.409, 224.279, 241.281, 258.039, 275.549, 295.288, 314.22, 329.871, 346.223, 363.378]\n"
     ]
    },
    {
     "name": "stderr",
     "output_type": "stream",
     "text": [
      " 46%|███████████████████████████████████▊                                          | 241/525 [24:23<1:00:20, 12.75s/it]"
     ]
    },
    {
     "name": "stdout",
     "output_type": "stream",
     "text": [
      "processing pptnum: 588\n",
      "10002/video_features\\video_{ParticipantNo}_588_5-5-2021.csv\n",
      "Now reading: 10002/video_features\\video_{ParticipantNo}_588_5-5-2021.csv\n",
      "[5.917, 32.292, 49.221, 64.213, 81.571, 101.546, 117.396, 131.954, 145.74, 169.06, 184.843, 198.554, 219.967, 240.86, 261.65, 275.457, 289.075, 304.059, 319.079, 332.955, 349.845, 362.877]\n"
     ]
    },
    {
     "name": "stderr",
     "output_type": "stream",
     "text": [
      " 46%|███████████████████████████████████▉                                          | 242/525 [24:38<1:02:31, 13.26s/it]"
     ]
    },
    {
     "name": "stdout",
     "output_type": "stream",
     "text": [
      "processing pptnum: 597\n",
      "10002/video_features\\video_{ParticipantNo}_597_13-6-2021.csv\n",
      "Now reading: 10002/video_features\\video_{ParticipantNo}_597_13-6-2021.csv\n",
      "[4.457, 19.364, 36.811, 53.17, 71.708, 89.141, 108.327, 126.295, 142.253, 156.26, 174.76, 190.931, 206.85, 223.709, 238.872, 254.397, 269.239, 290.211, 304.073, 319.445, 333.394, 355.1]\n"
     ]
    },
    {
     "name": "stderr",
     "output_type": "stream",
     "text": [
      " 46%|█████████████████████████████████████                                           | 243/525 [24:40<47:07, 10.03s/it]"
     ]
    },
    {
     "name": "stdout",
     "output_type": "stream",
     "text": [
      "processing pptnum: 599\n",
      "10002/video_features\\video_{ParticipantNo}_599_10-5-2021.csv\n",
      "Now reading: 10002/video_features\\video_{ParticipantNo}_599_10-5-2021.csv\n",
      "[5.217, 20.635, 34.861, 49.868, 67.466, 81.755, 96.011, 108.861, 124.86, 141.051, 155.354, 169.999, 183.896, 197.933, 212.629, 225.934, 239.397, 253.339, 273.199, 286.369, 301.073, 316.241]\n"
     ]
    },
    {
     "name": "stderr",
     "output_type": "stream",
     "text": [
      " 46%|█████████████████████████████████████▏                                          | 244/525 [24:44<37:56,  8.10s/it]"
     ]
    },
    {
     "name": "stdout",
     "output_type": "stream",
     "text": [
      "processing pptnum: 601\n",
      "10002/video_features\\video_{ParticipantNo}_601_31-5-2021.csv\n",
      "Now reading: 10002/video_features\\video_{ParticipantNo}_601_31-5-2021.csv\n",
      "[4.078, 23.055, 36.39, 48.429, 61.974, 75.831, 93.583, 106.28, 119.357, 132.487, 145.463, 159.135, 174.696, 189.646, 202.213, 217.902, 231.015, 244.381, 259.822, 276.502, 289.415, 301.609]\n"
     ]
    },
    {
     "name": "stderr",
     "output_type": "stream",
     "text": [
      " 47%|█████████████████████████████████████▎                                          | 245/525 [24:59<47:12, 10.12s/it]"
     ]
    },
    {
     "name": "stdout",
     "output_type": "stream",
     "text": [
      "processing pptnum: 603\n",
      "10002/video_features\\video_{ParticipantNo}_603_13-5-2021.csv\n",
      "Now reading: 10002/video_features\\video_{ParticipantNo}_603_13-5-2021.csv\n",
      "[5.572, 23.587, 40.725, 61.089, 77.136, 98.91, 115.481, 132.245, 148.847, 167.126, 184.43, 201.587, 219.398, 234.226, 252.615, 270.383, 285.621, 301.169, 321.345, 339.678, 362.91, 377.996]\n"
     ]
    },
    {
     "name": "stderr",
     "output_type": "stream",
     "text": [
      " 47%|█████████████████████████████████████▍                                          | 246/525 [25:10<48:33, 10.44s/it]"
     ]
    },
    {
     "name": "stdout",
     "output_type": "stream",
     "text": [
      "processing pptnum: 605\n",
      "10002/video_features\\video_{ParticipantNo}_605_1-6-2021.csv\n",
      "Now reading: 10002/video_features\\video_{ParticipantNo}_605_1-6-2021.csv\n",
      "[6.765, 23.789, 37.982, 52.89, 68.904, 83.446, 98.69, 114.215, 128.983, 143.514, 157.989, 172.609, 186.582, 200.539, 216.978, 231.134, 245.914, 259.644, 273.997, 288.076, 302.545, 317.256]\n"
     ]
    },
    {
     "name": "stderr",
     "output_type": "stream",
     "text": [
      " 47%|█████████████████████████████████████▋                                          | 247/525 [25:27<57:49, 12.48s/it]"
     ]
    },
    {
     "name": "stdout",
     "output_type": "stream",
     "text": [
      "processing pptnum: 606\n",
      "10002/video_features\\video_{ParticipantNo}_606_14-5-2021.csv\n",
      "Now reading: 10002/video_features\\video_{ParticipantNo}_606_14-5-2021.csv\n",
      "[4.963, 20.128, 33.244, 47.337, 60.387, 76.974, 90.414, 102.856, 114.649, 128.126, 140.705, 153.1, 168.033, 181.801, 194.302, 206.839, 219.352, 233.174, 246.664, 258.439, 271.802, 284.23]\n"
     ]
    },
    {
     "name": "stderr",
     "output_type": "stream",
     "text": [
      " 47%|████████████████████████████████████▊                                         | 248/525 [26:11<1:41:41, 22.03s/it]"
     ]
    },
    {
     "name": "stdout",
     "output_type": "stream",
     "text": [
      "processing pptnum: 608\n",
      "10002/video_features\\video_{ParticipantNo}_608_20-5-2021.csv\n",
      "Now reading: 10002/video_features\\video_{ParticipantNo}_608_20-5-2021.csv\n",
      "[4.882, 20.146, 33.419, 47.539, 62.388, 76.383, 93.041, 107.381, 120.954, 136.027, 149.176, 162.314, 176.26, 191.413, 208.493, 221.388, 239.474, 253.684, 267.137, 280.462, 292.674, 310.543]\n"
     ]
    },
    {
     "name": "stderr",
     "output_type": "stream",
     "text": [
      " 47%|████████████████████████████████████▉                                         | 249/525 [26:33<1:41:04, 21.97s/it]"
     ]
    },
    {
     "name": "stdout",
     "output_type": "stream",
     "text": [
      "processing pptnum: 609\n",
      "10002/video_features\\video_{ParticipantNo}_609_1-5-2021.csv\n",
      "Now reading: 10002/video_features\\video_{ParticipantNo}_609_1-5-2021.csv\n",
      "[8.08, 32.935, 50.615, 69.558, 87.876, 105.946, 122.14, 136.675, 155.741, 173.797, 189.679, 204.521, 222.378, 237.065, 253.481, 269.039, 287.305, 304.013, 319.435, 334.438, 351.423, 374.613]\n"
     ]
    },
    {
     "name": "stderr",
     "output_type": "stream",
     "text": [
      " 48%|█████████████████████████████████████▏                                        | 250/525 [26:43<1:23:18, 18.18s/it]"
     ]
    },
    {
     "name": "stdout",
     "output_type": "stream",
     "text": [
      "processing pptnum: 610\n",
      "10002/video_features\\video_{ParticipantNo}_610_14-5-2021.csv\n",
      "Now reading: 10002/video_features\\video_{ParticipantNo}_610_14-5-2021.csv\n",
      "[6.532, 22.307, 39.135, 53.951, 72.943, 85.188, 97.324, 116.579, 129.938, 144.155, 158.558, 173.533, 186.399, 201.181, 215.511, 229.802, 250.026, 264.33, 276.815, 290.498, 305.943, 318.886]\n"
     ]
    },
    {
     "name": "stderr",
     "output_type": "stream",
     "text": [
      " 48%|█████████████████████████████████████▎                                        | 251/525 [26:49<1:07:04, 14.69s/it]"
     ]
    },
    {
     "name": "stdout",
     "output_type": "stream",
     "text": [
      "processing pptnum: 611\n",
      "10002/video_features\\video_{ParticipantNo}_611_27-5-2021.csv\n",
      "Now reading: 10002/video_features\\video_{ParticipantNo}_611_27-5-2021.csv\n",
      "[4.105, 17.896, 30.845, 43.686, 57.875, 69.395, 84.094, 97.275, 110.618, 124.926, 137.807, 152.98, 165.678, 178.082, 190.416, 207.271, 219.869, 232.139, 246.233, 263.692, 275.694, 288.332]\n"
     ]
    },
    {
     "name": "stderr",
     "output_type": "stream",
     "text": [
      " 48%|█████████████████████████████████████▍                                        | 252/525 [27:00<1:01:28, 13.51s/it]"
     ]
    },
    {
     "name": "stdout",
     "output_type": "stream",
     "text": [
      "processing pptnum: 612\n",
      "10002/video_features\\video_{ParticipantNo}_612_16-5-2021.csv\n",
      "Now reading: 10002/video_features\\video_{ParticipantNo}_612_16-5-2021.csv\n",
      "[5.079, 22.553, 38.108, 52.872, 66.503, 83.892, 97.495, 113.009, 131.331, 145.296, 158.649, 173.852, 188.86, 205.896, 220.943, 235.022, 248.699, 264.362, 278.111, 292.621, 306.993, 320.276]\n"
     ]
    },
    {
     "name": "stderr",
     "output_type": "stream",
     "text": [
      " 48%|██████████████████████████████████████▌                                         | 253/525 [27:12<59:25, 13.11s/it]"
     ]
    },
    {
     "name": "stdout",
     "output_type": "stream",
     "text": [
      "processing pptnum: 615\n",
      "10002/video_features\\video_{ParticipantNo}_615_14-6-2021.csv\n",
      "Now reading: 10002/video_features\\video_{ParticipantNo}_615_14-6-2021.csv\n"
     ]
    },
    {
     "name": "stderr",
     "output_type": "stream",
     "text": [
      "C:\\Users\\mitch\\AppData\\Local\\Temp/ipykernel_13228/1406656151.py:37: DtypeWarning: Columns (535) have mixed types.Specify dtype option on import or set low_memory=False.\n",
      "  get_openfacestuff(fileDir)\n"
     ]
    },
    {
     "name": "stdout",
     "output_type": "stream",
     "text": [
      "[5.041, 24.803, 40.723, 54.772, 70.064, 83.49, 97.593, 112.96, 127.552, 140.658, 157.502, 172.529, 188.612, 203.413, 217.555, 233.555, 250.123, 265.872, 281.862, 297.232, 312.703, 326.598]\n"
     ]
    },
    {
     "name": "stderr",
     "output_type": "stream",
     "text": [
      " 48%|██████████████████████████████████████▋                                         | 254/525 [27:17<48:11, 10.67s/it]"
     ]
    },
    {
     "name": "stdout",
     "output_type": "stream",
     "text": [
      "processing pptnum: 616\n",
      "10002/video_features\\video_{ParticipantNo}_616_21-5-2021.csv\n",
      "Now reading: 10002/video_features\\video_{ParticipantNo}_616_21-5-2021.csv\n",
      "[6.42, 25.012, 42.094, 65.033, 81.777, 105.171, 122.422, 140.274, 160.97, 182.234, 198.495, 214.407, 240.373, 263.713, 277.914, 299.023, 314.432, 329.888, 345.85, 363.147, 383.521, 402.793]\n"
     ]
    },
    {
     "name": "stderr",
     "output_type": "stream",
     "text": [
      " 49%|██████████████████████████████████████▊                                         | 255/525 [27:35<57:37, 12.81s/it]"
     ]
    },
    {
     "name": "stdout",
     "output_type": "stream",
     "text": [
      "processing pptnum: 617\n",
      "start time for this ppt is set to zero\n",
      "processing pptnum: 618\n",
      "10002/video_features\\video_{ParticipantNo}_618_11-5-2021.csv\n",
      "Now reading: 10002/video_features\\video_{ParticipantNo}_618_11-5-2021.csv\n",
      "[7.232, 24.936, 45.685, 64.072, 84.053, 105.984, 121.985, 145.657, 164.091, 182.949, 199.33, 216.484, 234.556, 253.379, 273.486, 291.547, 310.634, 324.851, 349.415, 364.865, 382.736, 397.716]\n"
     ]
    },
    {
     "name": "stderr",
     "output_type": "stream",
     "text": [
      " 49%|███████████████████████████████████████▏                                        | 257/525 [27:56<54:23, 12.18s/it]"
     ]
    },
    {
     "name": "stdout",
     "output_type": "stream",
     "text": [
      "processing pptnum: 621\n",
      "10002/video_features\\video_{ParticipantNo}_621_2-6-2021.csv\n",
      "Now reading: 10002/video_features\\video_{ParticipantNo}_621_2-6-2021.csv\n",
      "[6.249, 20.225, 33.642, 47.848, 63.209, 75.458, 89.193, 101.121, 114.545, 127.017, 139.104, 149.881, 163.098, 175.536, 190.088, 206.105, 218.472, 231.016, 245.024, 256.528, 270.553, 282.584]\n"
     ]
    },
    {
     "name": "stderr",
     "output_type": "stream",
     "text": [
      " 49%|███████████████████████████████████████▎                                        | 258/525 [28:11<57:01, 12.81s/it]"
     ]
    },
    {
     "name": "stdout",
     "output_type": "stream",
     "text": [
      "processing pptnum: 622\n",
      "10002/video_features\\video_{ParticipantNo}_622_14-5-2021.csv\n",
      "Now reading: 10002/video_features\\video_{ParticipantNo}_622_14-5-2021.csv\n",
      "[5.945, 21.887, 39.159, 56.854, 70.823, 89.383, 104.695, 120.789, 139.022, 152.911, 167.961, 184.053, 200.222, 216.174, 230.677, 246.631, 265.66, 280.372, 297.405, 312.151, 327.975, 347.305]\n"
     ]
    },
    {
     "name": "stderr",
     "output_type": "stream",
     "text": [
      " 49%|███████████████████████████████████████▍                                        | 259/525 [28:25<58:38, 13.23s/it]"
     ]
    },
    {
     "name": "stdout",
     "output_type": "stream",
     "text": [
      "processing pptnum: 626\n",
      "10002/video_features\\video_{ParticipantNo}_626_24-6-2021.csv\n",
      "Now reading: 10002/video_features\\video_{ParticipantNo}_626_24-6-2021.csv\n",
      "[8.339, 28.731, 46.975, 67.459, 84.961, 111.812, 127.699, 144.477, 160.102, 182.026, 199.401, 214.481, 229.929, 250.295, 266.938, 281.399, 297.63, 312.076, 326.237, 343.921, 359.395, 375.786]\n"
     ]
    },
    {
     "name": "stderr",
     "output_type": "stream",
     "text": [
      " 50%|███████████████████████████████████████▌                                        | 260/525 [28:31<48:46, 11.04s/it]"
     ]
    },
    {
     "name": "stdout",
     "output_type": "stream",
     "text": [
      "processing pptnum: 627\n",
      "start time for this ppt is set to zero\n",
      "processing pptnum: 628\n",
      "start time for this ppt is set to zero\n",
      "processing pptnum: 630\n",
      "10002/video_features\\video_{ParticipantNo}_630_29-5-2021.csv\n",
      "Now reading: 10002/video_features\\video_{ParticipantNo}_630_29-5-2021.csv\n",
      "[5.547, 25.535, 43.599, 58.465, 74.481, 90.23, 104.309, 118.324, 138.097, 152.557, 166.353, 184.123, 198.635, 216.951, 233.03, 249.685, 263.148, 279.825, 297.178, 311.078, 324.389, 340.991]\n"
     ]
    },
    {
     "name": "stderr",
     "output_type": "stream",
     "text": [
      " 50%|████████████████████████████████████████                                        | 263/525 [28:45<40:13,  9.21s/it]"
     ]
    },
    {
     "name": "stdout",
     "output_type": "stream",
     "text": [
      "processing pptnum: 632\n",
      "10002/video_features\\video_{ParticipantNo}_632_18-5-2021.csv\n",
      "Now reading: 10002/video_features\\video_{ParticipantNo}_632_18-5-2021.csv\n",
      "[6.067, 22.076, 33.932, 46.451, 58.997, 70.916, 82.555, 94.554, 107.923, 118.988, 131.474, 142.844, 154.395, 167.1, 179.259, 190.628, 201.812, 212.684, 224.227, 235.978, 247.188, 258.026]\n"
     ]
    },
    {
     "name": "stderr",
     "output_type": "stream",
     "text": [
      " 50%|████████████████████████████████████████▏                                       | 264/525 [28:59<45:15, 10.40s/it]"
     ]
    },
    {
     "name": "stdout",
     "output_type": "stream",
     "text": [
      "processing pptnum: 634\n",
      "10002/video_features\\video_{ParticipantNo}_634_18-5-2021.csv\n",
      "Now reading: 10002/video_features\\video_{ParticipantNo}_634_18-5-2021.csv\n",
      "[7.427, 28.781, 46.092, 66.476, 82.345, 103.79, 120.83, 139.877, 155.956, 173.049, 188.665, 212.903, 238.096, 254.105, 269.93, 287.008, 303.601, 323.017, 344.72, 360.011, 375.325, 391.558]\n"
     ]
    },
    {
     "name": "stderr",
     "output_type": "stream",
     "text": [
      " 50%|████████████████████████████████████████▍                                       | 265/525 [29:15<52:14, 12.05s/it]"
     ]
    },
    {
     "name": "stdout",
     "output_type": "stream",
     "text": [
      "processing pptnum: 638\n",
      "10002/video_features\\video_{ParticipantNo}_638_1-5-2021.csv\n",
      "Now reading: 10002/video_features\\video_{ParticipantNo}_638_1-5-2021.csv\n",
      "[6.645, 28.461, 45.563, 66.163, 88.467, 111.87, 128.375, 153.24, 174.186, 191.056, 205.526, 220.232, 236.708, 252.282, 272.271, 288.134, 312.825, 328.164, 348.282, 364.468, 385.94, 403.692]\n"
     ]
    },
    {
     "name": "stderr",
     "output_type": "stream",
     "text": [
      " 51%|████████████████████████████████████████▌                                       | 266/525 [29:31<57:52, 13.41s/it]"
     ]
    },
    {
     "name": "stdout",
     "output_type": "stream",
     "text": [
      "processing pptnum: 639\n",
      "10002/video_features\\video_{ParticipantNo}_639_19-5-2021.csv\n",
      "Now reading: 10002/video_features\\video_{ParticipantNo}_639_19-5-2021.csv\n",
      "[5.692, 24.869, 40.46, 57.755, 77.716, 93.045, 113.156, 133.811, 147.107, 169.772, 186.853, 201.3, 213.979, 241.444, 256.277, 270.835, 282.356, 295.884, 312.739, 323.931, 335.332, 348.284]\n"
     ]
    },
    {
     "name": "stderr",
     "output_type": "stream",
     "text": [
      " 51%|███████████████████████████████████████▋                                      | 267/525 [29:53<1:09:06, 16.07s/it]"
     ]
    },
    {
     "name": "stdout",
     "output_type": "stream",
     "text": [
      "processing pptnum: 640\n",
      "10002/video_features\\video_{ParticipantNo}_640_3-6-2021.csv\n",
      "Now reading: 10002/video_features\\video_{ParticipantNo}_640_3-6-2021.csv\n",
      "[5.068, 24.145, 41.302, 56.763, 71.919, 87.031, 105.042, 121.755, 137.169, 159.145, 175.256, 191.649, 205.301, 220.124, 235.484, 249.961, 266.802, 282.101, 297.583, 312.275, 326.978, 342.519]\n"
     ]
    },
    {
     "name": "stderr",
     "output_type": "stream",
     "text": [
      " 51%|███████████████████████████████████████▊                                      | 268/525 [30:06<1:04:34, 15.07s/it]"
     ]
    },
    {
     "name": "stdout",
     "output_type": "stream",
     "text": [
      "processing pptnum: 642\n",
      "10002/video_features\\video_{ParticipantNo}_642_17-5-2021.csv\n",
      "Now reading: 10002/video_features\\video_{ParticipantNo}_642_17-5-2021.csv\n",
      "[4.944, 20.578, 34.724, 48.328, 61.093, 73.487, 86.333, 102.965, 117.14, 131.721, 147.262, 161.432, 173.393, 186.012, 198.091, 210.097, 222.491, 235.713, 248.784, 260.373, 272.228, 283.889]\n"
     ]
    },
    {
     "name": "stderr",
     "output_type": "stream",
     "text": [
      " 51%|███████████████████████████████████████▉                                      | 269/525 [30:26<1:10:46, 16.59s/it]"
     ]
    },
    {
     "name": "stdout",
     "output_type": "stream",
     "text": [
      "processing pptnum: 649\n",
      "start time for this ppt is set to zero\n",
      "processing pptnum: 650\n",
      "10002/video_features\\video_{ParticipantNo}_650_9-5-2021.csv\n",
      "Now reading: 10002/video_features\\video_{ParticipantNo}_650_9-5-2021.csv\n",
      "[5.071, 18.575, 33.443, 46.22, 62.091, 75.42, 89.828, 105.501, 118.091, 133.769, 146.376, 159.023, 172.431, 186.146, 199.076, 222.178, 236.18, 250.403, 266.346, 281.395, 294.674, 308.791]\n"
     ]
    },
    {
     "name": "stderr",
     "output_type": "stream",
     "text": [
      " 52%|████████████████████████████████████████▎                                     | 271/525 [30:50<1:04:08, 15.15s/it]"
     ]
    },
    {
     "name": "stdout",
     "output_type": "stream",
     "text": [
      "processing pptnum: 651\n",
      "10002/video_features\\video_{ParticipantNo}_651_8-5-2021.csv\n",
      "Now reading: 10002/video_features\\video_{ParticipantNo}_651_8-5-2021.csv\n",
      "[5.102, 20.015, 36.169, 52.315, 66.19, 80.874, 98.057, 112.051, 126.296, 140.584, 157.522, 171.363, 183.974, 197.074, 209.641, 225.657, 242.244, 254.781, 270.502, 286.56, 300.143, 312.832]\n"
     ]
    },
    {
     "name": "stderr",
     "output_type": "stream",
     "text": [
      " 52%|████████████████████████████████████████▍                                     | 272/525 [31:03<1:00:48, 14.42s/it]"
     ]
    },
    {
     "name": "stdout",
     "output_type": "stream",
     "text": [
      "processing pptnum: 654\n",
      "start time for this ppt is set to zero\n",
      "processing pptnum: 657\n",
      "10002/video_features\\video_{ParticipantNo}_657_25-5-2021.csv\n",
      "Now reading: 10002/video_features\\video_{ParticipantNo}_657_25-5-2021.csv\n",
      "[4.261, 18.168, 29.909, 41.595, 53.79, 66.186, 78.075, 89.629, 103.442, 115.027, 128.793, 141.618, 155.861, 168.641, 181.081, 192.958, 204.551, 216.092, 227.687, 238.726, 250.417, 264.768]\n"
     ]
    },
    {
     "name": "stderr",
     "output_type": "stream",
     "text": [
      " 52%|█████████████████████████████████████████▊                                      | 274/525 [31:21<53:42, 12.84s/it]"
     ]
    },
    {
     "name": "stdout",
     "output_type": "stream",
     "text": [
      "processing pptnum: 659\n",
      "start time for this ppt is set to zero\n",
      "processing pptnum: 661\n",
      "start time for this ppt is set to zero\n",
      "processing pptnum: 662\n",
      "10002/video_features\\video_{ParticipantNo}_662_23-6-2021.csv\n",
      "Now reading: 10002/video_features\\video_{ParticipantNo}_662_23-6-2021.csv\n",
      "[4.322, 21.972, 36.895, 53.95, 69.512, 85.364, 100.515, 121.025, 136.485, 152.013, 166.717, 183.697, 201.309, 215.227, 230.805, 252.269, 265.651, 283.814, 301.683, 317.138, 333.909, 353.056]\n"
     ]
    },
    {
     "name": "stderr",
     "output_type": "stream",
     "text": [
      " 53%|██████████████████████████████████████████▏                                     | 277/525 [31:35<42:52, 10.37s/it]"
     ]
    },
    {
     "name": "stdout",
     "output_type": "stream",
     "text": [
      "processing pptnum: 663\n",
      "10002/video_features\\video_{ParticipantNo}_663_31-5-2021.csv\n",
      "Now reading: 10002/video_features\\video_{ParticipantNo}_663_31-5-2021.csv\n",
      "[6.011, 21.569, 38.182, 54.877, 71.318, 84.206, 101.533, 116.109, 129.693, 150.051, 163.069, 176.699, 191.438, 204.177, 221.08, 234.745, 249.424, 263.981, 278.234, 293.315, 306.21, 319.86]\n"
     ]
    },
    {
     "name": "stderr",
     "output_type": "stream",
     "text": [
      " 53%|██████████████████████████████████████████▎                                     | 278/525 [31:51<49:34, 12.04s/it]"
     ]
    },
    {
     "name": "stdout",
     "output_type": "stream",
     "text": [
      "processing pptnum: 664\n",
      "10002/video_features\\video_{ParticipantNo}_664_14-7-2021.csv\n",
      "Now reading: 10002/video_features\\video_{ParticipantNo}_664_14-7-2021.csv\n",
      "[6.128, 23.304, 40.27, 56.279, 70.327, 83.856, 99.983, 114.35, 130.75, 143.966, 159.223, 172.447, 185.598, 200.601, 215.117, 228.158, 242.294, 256.255, 269.022, 282.318, 301.614, 316.391]\n"
     ]
    },
    {
     "name": "stderr",
     "output_type": "stream",
     "text": [
      " 53%|██████████████████████████████████████████▌                                     | 279/525 [32:07<54:36, 13.32s/it]"
     ]
    },
    {
     "name": "stdout",
     "output_type": "stream",
     "text": [
      "processing pptnum: 665\n",
      "10002/video_features\\video_{ParticipantNo}_665_15-7-2021.csv\n",
      "Now reading: 10002/video_features\\video_{ParticipantNo}_665_15-7-2021.csv\n",
      "[6.447, 26.477, 48.552, 68.077, 86.927, 104.128, 128.448, 150.25, 171.258, 186.926, 206.084, 222.495, 239.214, 255.657, 274.007, 299.703, 322.241, 341.579, 357.797, 383.083, 400.914, 415.599]\n"
     ]
    },
    {
     "name": "stderr",
     "output_type": "stream",
     "text": [
      " 53%|██████████████████████████████████████████▋                                     | 280/525 [32:14<46:50, 11.47s/it]"
     ]
    },
    {
     "name": "stdout",
     "output_type": "stream",
     "text": [
      "processing pptnum: 667\n",
      "No input data found for video file of pptnum: 667 with video file B\n",
      "processing pptnum: 667\n",
      "No input data found for video file of pptnum: 667 with video file B\n",
      "processing pptnum: 671\n",
      "10002/video_features\\video_{ParticipantNo}_671_5-8-2021.csv\n",
      "Now reading: 10002/video_features\\video_{ParticipantNo}_671_5-8-2021.csv\n",
      "[5.897, 20.026, 33.219, 45.881, 60.122, 74.53, 88.801, 102.418, 115.721, 128.224, 141.304, 154.281, 166.664, 180.704, 193.345, 205.739, 223.409, 236.753, 248.793, 262.401, 274.569, 289.257]\n"
     ]
    },
    {
     "name": "stderr",
     "output_type": "stream",
     "text": [
      " 54%|███████████████████████████████████████████                                     | 283/525 [32:24<36:23,  9.02s/it]"
     ]
    },
    {
     "name": "stdout",
     "output_type": "stream",
     "text": [
      "processing pptnum: 672\n",
      "start time for this ppt is set to zero\n",
      "processing pptnum: 674\n",
      "10002/video_features\\video_{ParticipantNo}_674_16-8-2021.csv\n",
      "Now reading: 10002/video_features\\video_{ParticipantNo}_674_16-8-2021.csv\n",
      "[5.134, 25.092, 43.862, 59.823, 77.357, 97.648, 112.803, 129.042, 144.041, 159.063, 175.055, 192.125, 209.226, 229.475, 244.604, 259.683, 274.066, 294.0, 310.998, 327.228, 341.027, 355.679]\n"
     ]
    },
    {
     "name": "stderr",
     "output_type": "stream",
     "text": [
      " 54%|███████████████████████████████████████████▍                                    | 285/525 [32:48<39:23,  9.85s/it]"
     ]
    },
    {
     "name": "stdout",
     "output_type": "stream",
     "text": [
      "processing pptnum: 676\n",
      "10002/video_features\\video_{ParticipantNo}_676_22-8-2021.csv\n",
      "Now reading: 10002/video_features\\video_{ParticipantNo}_676_22-8-2021.csv\n",
      "[4.726, 18.346, 31.503, 45.164, 57.974, 70.262, 83.037, 97.604, 110.407, 123.964, 137.893, 150.791, 163.289, 176.228, 188.907, 201.415, 213.836, 227.167, 240.612, 253.427, 267.094, 279.361]\n"
     ]
    },
    {
     "name": "stderr",
     "output_type": "stream",
     "text": [
      " 54%|███████████████████████████████████████████▌                                    | 286/525 [33:02<45:10, 11.34s/it]"
     ]
    },
    {
     "name": "stdout",
     "output_type": "stream",
     "text": [
      "processing pptnum: 678\n",
      "this file is not found - video present, but no openface file for 678\n",
      "processing pptnum: 679\n",
      "10002/video_features\\video_{ParticipantNo}_679_13-9-2021.csv\n",
      "Now reading: 10002/video_features\\video_{ParticipantNo}_679_13-9-2021.csv\n",
      "[5.798, 24.199, 40.058, 57.589, 76.687, 90.442, 106.57, 121.26, 138.724, 151.55, 166.168, 179.122, 195.49, 209.83, 227.39, 242.095, 255.507, 270.19, 287.001, 300.984, 316.238, 330.953]\n"
     ]
    },
    {
     "name": "stderr",
     "output_type": "stream",
     "text": [
      " 55%|███████████████████████████████████████████▉                                    | 288/525 [33:15<38:32,  9.76s/it]"
     ]
    },
    {
     "name": "stdout",
     "output_type": "stream",
     "text": [
      "processing pptnum: 105\n",
      "No input data found for video file of pptnum: 105 with video file A\n",
      "processing pptnum: 119\n",
      "No input data found for video file of pptnum: 119 with video file A\n",
      "processing pptnum: 123\n",
      "No input data found for video file of pptnum: 123 with video file A\n",
      "processing pptnum: 124\n",
      "No input data found for video file of pptnum: 124 with video file A\n",
      "processing pptnum: 125\n",
      "No input data found for video file of pptnum: 125 with video file A\n",
      "processing pptnum: 127\n",
      "No input data found for video file of pptnum: 127 with video file A\n",
      "processing pptnum: 134\n",
      "10001/video_features\\video_{ParticipantNo}_134_3-10-2020.csv\n",
      "Now reading: 10001/video_features\\video_{ParticipantNo}_134_3-10-2020.csv\n",
      "[4.625, 23.208, 37.871, 56.691, 71.065, 85.548, 99.279, 113.881, 129.223, 142.875, 155.559, 169.861, 189.231, 202.81, 218.034, 234.828, 248.239, 265.756, 279.818, 295.4, 317.403, 337.404]\n"
     ]
    },
    {
     "name": "stderr",
     "output_type": "stream",
     "text": [
      " 56%|████████████████████████████████████████████▉                                   | 295/525 [33:29<28:36,  7.46s/it]"
     ]
    },
    {
     "name": "stdout",
     "output_type": "stream",
     "text": [
      "processing pptnum: 135\n",
      "10001/video_features\\video_{ParticipantNo}_135_12-10-2020.csv\n",
      "Now reading: 10001/video_features\\video_{ParticipantNo}_135_12-10-2020.csv\n",
      "[6.029, 21.007, 36.582, 53.853, 68.037, 85.126, 98.743, 123.59, 140.053, 154.372, 167.525, 180.956, 195.532, 225.629, 242.213, 256.222, 269.301, 282.117, 296.012, 308.524, 323.485, 335.836]\n"
     ]
    },
    {
     "name": "stderr",
     "output_type": "stream",
     "text": [
      " 56%|█████████████████████████████████████████████                                   | 296/525 [33:47<40:02, 10.49s/it]"
     ]
    },
    {
     "name": "stdout",
     "output_type": "stream",
     "text": [
      "processing pptnum: 137\n",
      "10001/video_features\\video_{ParticipantNo}_137_9-11-2020.csv\n",
      "Now reading: 10001/video_features\\video_{ParticipantNo}_137_9-11-2020.csv\n",
      "[5.226, 22.645, 40.942, 57.453, 71.291, 87.011, 103.006, 118.532, 133.156, 147.679, 170.281, 186.378, 200.344, 214.797, 230.24, 244.052, 259.199, 274.455, 291.211, 307.876, 322.0, 339.396]\n"
     ]
    },
    {
     "name": "stderr",
     "output_type": "stream",
     "text": [
      " 57%|█████████████████████████████████████████████▎                                  | 297/525 [34:05<48:33, 12.78s/it]"
     ]
    },
    {
     "name": "stdout",
     "output_type": "stream",
     "text": [
      "processing pptnum: 143\n",
      "10001/video_features\\video_{ParticipantNo}_143_11-11-2020.csv\n",
      "Now reading: 10001/video_features\\video_{ParticipantNo}_143_11-11-2020.csv\n",
      "[4.722, 18.002, 37.691, 54.073, 67.145, 79.498, 94.617, 111.634, 132.969, 147.447, 162.177, 174.568, 189.168, 208.583, 220.735, 234.679, 250.59, 263.191, 275.111, 288.486, 304.84, 320.465]\n"
     ]
    },
    {
     "name": "stderr",
     "output_type": "stream",
     "text": [
      " 57%|█████████████████████████████████████████████▍                                  | 298/525 [34:22<52:55, 13.99s/it]"
     ]
    },
    {
     "name": "stdout",
     "output_type": "stream",
     "text": [
      "processing pptnum: 144\n",
      "10001/video_features\\video_{ParticipantNo}_144_1-11-2020.csv\n",
      "Now reading: 10001/video_features\\video_{ParticipantNo}_144_1-11-2020.csv\n",
      "[6.069, 23.882, 43.91, 59.122, 75.161, 89.586, 107.082, 121.269, 135.932, 150.881, 169.359, 184.612, 199.265, 213.191, 228.507, 243.059, 256.734, 269.71, 283.047, 296.508, 310.883, 324.23]\n"
     ]
    },
    {
     "name": "stderr",
     "output_type": "stream",
     "text": [
      " 57%|█████████████████████████████████████████████▌                                  | 299/525 [34:34<50:40, 13.45s/it]"
     ]
    },
    {
     "name": "stdout",
     "output_type": "stream",
     "text": [
      "processing pptnum: 145\n",
      "10001/video_features\\video_{ParticipantNo}_145_1-11-2020.csv\n",
      "Now reading: 10001/video_features\\video_{ParticipantNo}_145_1-11-2020.csv\n",
      "[5.038, 21.267, 36.588, 53.438, 67.52, 82.107, 101.757, 117.048, 131.251, 145.626, 162.897, 182.839, 197.622, 211.835, 225.88, 239.742, 254.151, 269.243, 284.307, 300.059, 314.766, 329.712]\n"
     ]
    },
    {
     "name": "stderr",
     "output_type": "stream",
     "text": [
      " 57%|█████████████████████████████████████████████▋                                  | 300/525 [34:47<50:00, 13.34s/it]"
     ]
    },
    {
     "name": "stdout",
     "output_type": "stream",
     "text": [
      "processing pptnum: 147\n",
      "start time for this ppt is set to zero\n",
      "processing pptnum: 148\n",
      "10001/video_features\\video_{ParticipantNo}_148_2-11-2020.csv\n",
      "Now reading: 10001/video_features\\video_{ParticipantNo}_148_2-11-2020.csv\n",
      "[6.474, 23.528, 37.351, 52.578, 66.787, 82.468, 101.632, 115.692, 131.084, 146.535, 161.588, 174.909, 190.11, 203.705, 219.064, 232.27, 245.762, 258.742, 271.992, 284.768, 298.018, 311.12]\n"
     ]
    },
    {
     "name": "stderr",
     "output_type": "stream",
     "text": [
      " 58%|██████████████████████████████████████████████                                  | 302/525 [35:01<42:13, 11.36s/it]"
     ]
    },
    {
     "name": "stdout",
     "output_type": "stream",
     "text": [
      "processing pptnum: 150\n",
      "start time for this ppt is set to zero\n",
      "processing pptnum: 154\n",
      "10001/video_features\\video_{ParticipantNo}_154_30-10-2020.csv\n",
      "Now reading: 10001/video_features\\video_{ParticipantNo}_154_30-10-2020.csv\n",
      "[6.782, 30.516, 59.576, 85.323, 112.721, 134.63, 151.557, 171.329, 188.613, 213.134, 232.978, 257.658, 283.228, 300.249, 315.855, 340.475, 356.456, 372.106, 388.727, 406.715, 426.412, 443.891]\n"
     ]
    },
    {
     "name": "stderr",
     "output_type": "stream",
     "text": [
      " 58%|██████████████████████████████████████████████▎                                 | 304/525 [35:11<35:16,  9.58s/it]"
     ]
    },
    {
     "name": "stdout",
     "output_type": "stream",
     "text": [
      "processing pptnum: 155\n",
      "10001/video_features\\video_{ParticipantNo}_155_28-10-2020.csv\n",
      "Now reading: 10001/video_features\\video_{ParticipantNo}_155_28-10-2020.csv\n",
      "[6.223, 26.077, 41.972, 59.034, 72.228, 87.036, 108.552, 123.876, 140.389, 158.28, 173.103, 190.279, 206.004, 219.212, 239.905, 257.526, 274.109, 293.932, 311.1, 328.26, 351.454, 369.752]\n"
     ]
    },
    {
     "name": "stderr",
     "output_type": "stream",
     "text": [
      " 58%|██████████████████████████████████████████████▍                                 | 305/525 [35:33<47:56, 13.07s/it]"
     ]
    },
    {
     "name": "stdout",
     "output_type": "stream",
     "text": [
      "processing pptnum: 156\n",
      "10001/video_features\\video_{ParticipantNo}_156_8-11-2020.csv\n",
      "Now reading: 10001/video_features\\video_{ParticipantNo}_156_8-11-2020.csv\n",
      "[6.009, 26.691, 40.78, 63.075, 78.391, 92.549, 107.773, 126.621, 140.388, 153.909, 168.901, 185.9, 204.61, 220.408, 234.618, 249.851, 267.965, 285.209, 299.195, 318.424, 332.831, 349.659]\n"
     ]
    },
    {
     "name": "stderr",
     "output_type": "stream",
     "text": [
      " 58%|██████████████████████████████████████████████▋                                 | 306/525 [35:41<42:47, 11.72s/it]"
     ]
    },
    {
     "name": "stdout",
     "output_type": "stream",
     "text": [
      "processing pptnum: 157\n",
      "start time for this ppt is set to zero\n",
      "processing pptnum: 158\n",
      "10001/video_features\\video_{ParticipantNo}_158_26-11-2020.csv\n",
      "Now reading: 10001/video_features\\video_{ParticipantNo}_158_26-11-2020.csv\n",
      "[6.107, 22.872, 36.736, 53.909, 68.543, 83.007, 98.857, 114.595, 131.965, 148.647, 162.495, 178.312, 198.502, 211.304, 226.898, 244.892, 258.552, 272.544, 286.984, 302.647, 315.231, 330.992]\n"
     ]
    },
    {
     "name": "stderr",
     "output_type": "stream",
     "text": [
      " 59%|██████████████████████████████████████████████▉                                 | 308/525 [35:53<36:10, 10.00s/it]"
     ]
    },
    {
     "name": "stdout",
     "output_type": "stream",
     "text": [
      "processing pptnum: 162\n",
      "start time for this ppt is set to zero\n",
      "processing pptnum: 166\n",
      "10001/video_features\\video_{ParticipantNo}_166_26-11-2020.csv\n",
      "Now reading: 10001/video_features\\video_{ParticipantNo}_166_26-11-2020.csv\n",
      "[4.5, 18.055, 30.821, 43.55, 64.796, 81.465, 95.802, 109.546, 122.219, 134.953, 148.769, 162.988, 177.094, 193.485, 208.012, 222.734, 236.093, 248.656, 266.226, 279.526, 293.02, 305.616]\n"
     ]
    },
    {
     "name": "stderr",
     "output_type": "stream",
     "text": [
      " 59%|███████████████████████████████████████████████▏                                | 310/525 [36:05<31:07,  8.69s/it]"
     ]
    },
    {
     "name": "stdout",
     "output_type": "stream",
     "text": [
      "processing pptnum: 168\n",
      "10001/video_features\\video_{ParticipantNo}_168_6-11-2020.csv\n",
      "Now reading: 10001/video_features\\video_{ParticipantNo}_168_6-11-2020.csv\n",
      "[6.374, 25.963, 40.538, 57.087, 78.486, 92.901, 119.605, 136.486, 157.351, 171.306, 190.08, 205.653, 219.924, 236.866, 249.858, 263.911, 276.851, 291.745, 307.771, 320.117, 333.604, 347.358]\n"
     ]
    },
    {
     "name": "stderr",
     "output_type": "stream",
     "text": [
      " 59%|███████████████████████████████████████████████▍                                | 311/525 [36:19<37:34, 10.54s/it]"
     ]
    },
    {
     "name": "stdout",
     "output_type": "stream",
     "text": [
      "processing pptnum: 169\n",
      "10001/video_features\\video_{ParticipantNo}_169_26-11-2020.csv\n",
      "Now reading: 10001/video_features\\video_{ParticipantNo}_169_26-11-2020.csv\n",
      "[5.35, 24.77, 47.355, 62.105, 77.797, 94.005, 109.707, 129.012, 148.151, 164.937, 178.091, 196.154, 214.229, 230.192, 245.139, 264.087, 280.11, 295.246, 309.606, 324.208, 338.297, 352.457]\n"
     ]
    },
    {
     "name": "stderr",
     "output_type": "stream",
     "text": [
      " 59%|███████████████████████████████████████████████▌                                | 312/525 [36:33<40:26, 11.39s/it]"
     ]
    },
    {
     "name": "stdout",
     "output_type": "stream",
     "text": [
      "processing pptnum: 172\n",
      "start time for this ppt is set to zero\n",
      "processing pptnum: 173\n",
      "10001/video_features\\video_{ParticipantNo}_173_2-12-2020.csv\n",
      "Now reading: 10001/video_features\\video_{ParticipantNo}_173_2-12-2020.csv\n",
      "[5.558, 21.828, 36.682, 55.006, 77.79, 93.196, 114.349, 129.777, 152.887, 168.635, 183.286, 200.046, 216.104, 230.583, 244.126, 259.892, 280.529, 293.689, 306.958, 321.222, 335.754, 351.977]\n"
     ]
    },
    {
     "name": "stderr",
     "output_type": "stream",
     "text": [
      " 60%|███████████████████████████████████████████████▊                                | 314/525 [36:42<32:57,  9.37s/it]"
     ]
    },
    {
     "name": "stdout",
     "output_type": "stream",
     "text": [
      "processing pptnum: 176\n",
      "10001/video_features\\video_{ParticipantNo}_176_10-12-2020.csv\n",
      "Now reading: 10001/video_features\\video_{ParticipantNo}_176_10-12-2020.csv\n",
      "[4.715, 21.484, 39.508, 51.915, 66.931, 80.763, 95.748, 108.675, 121.003, 133.179, 146.755, 159.484, 172.027, 186.003, 202.162, 214.667, 226.547, 238.899, 251.379, 265.06, 277.93, 289.834]\n"
     ]
    },
    {
     "name": "stderr",
     "output_type": "stream",
     "text": [
      " 60%|████████████████████████████████████████████████                                | 315/525 [36:57<38:45, 11.07s/it]"
     ]
    },
    {
     "name": "stdout",
     "output_type": "stream",
     "text": [
      "processing pptnum: 179\n",
      "10001/video_features\\video_{ParticipantNo}_179_12-12-2020.csv\n",
      "Now reading: 10001/video_features\\video_{ParticipantNo}_179_12-12-2020.csv\n",
      "[4.328, 20.15, 34.845, 48.813, 63.395, 79.899, 93.766, 107.874, 122.445, 139.148, 154.831, 168.229, 181.274, 194.221, 208.35, 222.418, 234.837, 251.836, 266.282, 282.71, 298.625, 311.241]\n"
     ]
    },
    {
     "name": "stderr",
     "output_type": "stream",
     "text": [
      " 60%|████████████████████████████████████████████████▏                               | 316/525 [37:13<43:16, 12.42s/it]"
     ]
    },
    {
     "name": "stdout",
     "output_type": "stream",
     "text": [
      "processing pptnum: 181\n",
      "10001/video_features\\video_{ParticipantNo}_181_4-12-2020.csv\n",
      "Now reading: 10001/video_features\\video_{ParticipantNo}_181_4-12-2020.csv\n",
      "[5.08, 21.281, 35.472, 49.112, 64.56, 79.509, 95.726, 108.285, 122.549, 135.758, 151.229, 165.204, 180.284, 193.555, 208.995, 222.171, 234.771, 248.635, 262.367, 275.824, 291.087, 308.616]\n"
     ]
    },
    {
     "name": "stderr",
     "output_type": "stream",
     "text": [
      " 60%|████████████████████████████████████████████████▎                               | 317/525 [37:19<36:31, 10.54s/it]"
     ]
    },
    {
     "name": "stdout",
     "output_type": "stream",
     "text": [
      "processing pptnum: 182\n",
      "10001/video_features\\video_{ParticipantNo}_182_5-12-2020.csv\n",
      "Now reading: 10001/video_features\\video_{ParticipantNo}_182_5-12-2020.csv\n",
      "[7.117, 25.713, 46.687, 60.722, 73.832, 89.296, 106.735, 121.58, 137.865, 153.601, 174.001, 190.167, 204.005, 219.868, 231.38, 245.397, 258.62, 279.781, 292.442, 306.447, 320.927, 333.905]\n"
     ]
    },
    {
     "name": "stderr",
     "output_type": "stream",
     "text": [
      " 61%|████████████████████████████████████████████████▍                               | 318/525 [37:34<40:53, 11.85s/it]"
     ]
    },
    {
     "name": "stdout",
     "output_type": "stream",
     "text": [
      "processing pptnum: 189\n",
      "start time for this ppt is set to zero\n",
      "processing pptnum: 192\n",
      "10001/video_features\\video_{ParticipantNo}_192_7-11-2020.csv\n",
      "Now reading: 10001/video_features\\video_{ParticipantNo}_192_7-11-2020.csv\n",
      "[5.512, 29.249, 49.829, 70.228, 96.57, 113.276, 134.824, 159.58, 175.284, 194.015, 211.368, 230.56, 247.662, 261.817, 278.886, 310.07, 332.992, 351.563, 369.305, 386.519, 403.503, 418.373]\n"
     ]
    },
    {
     "name": "stderr",
     "output_type": "stream",
     "text": [
      " 61%|████████████████████████████████████████████████▊                               | 320/525 [37:47<34:54, 10.22s/it]"
     ]
    },
    {
     "name": "stdout",
     "output_type": "stream",
     "text": [
      "processing pptnum: 194\n",
      "10001/video_features\\video_{ParticipantNo}_194_5-12-2020.csv\n",
      "Now reading: 10001/video_features\\video_{ParticipantNo}_194_5-12-2020.csv\n",
      "[5.478, 35.545, 53.868, 81.555, 115.824, 131.527, 151.177, 171.461, 186.878, 210.996, 228.49, 252.942, 284.373, 302.884, 323.396, 346.086, 364.351, 384.279, 400.914, 419.896, 439.038, 453.329]\n"
     ]
    },
    {
     "name": "stderr",
     "output_type": "stream",
     "text": [
      " 61%|████████████████████████████████████████████████▉                               | 321/525 [37:53<31:13,  9.18s/it]"
     ]
    },
    {
     "name": "stdout",
     "output_type": "stream",
     "text": [
      "processing pptnum: 198\n",
      "start time for this ppt is set to zero\n",
      "processing pptnum: 199\n",
      "start time for this ppt is set to zero\n",
      "processing pptnum: 207\n",
      "start time for this ppt is set to zero\n",
      "processing pptnum: 211\n",
      "10001/video_features\\video_{ParticipantNo}_211_2-11-2020.csv\n",
      "Now reading: 10001/video_features\\video_{ParticipantNo}_211_2-11-2020.csv\n",
      "[5.411, 38.067, 62.301, 90.388, 119.954, 141.916, 163.365, 181.577, 204.48, 231.293, 247.579, 263.798, 281.996, 297.131, 324.368, 340.993, 358.429, 373.46, 388.931, 404.949, 426.078, 442.062]\n"
     ]
    },
    {
     "name": "stderr",
     "output_type": "stream",
     "text": [
      " 62%|█████████████████████████████████████████████████▌                              | 325/525 [37:59<22:57,  6.89s/it]"
     ]
    },
    {
     "name": "stdout",
     "output_type": "stream",
     "text": [
      "processing pptnum: 214\n",
      "10001/video_features\\video_{ParticipantNo}_214_27-11-2020.csv\n",
      "Now reading: 10001/video_features\\video_{ParticipantNo}_214_27-11-2020.csv\n",
      "[5.487, 29.264, 46.536, 66.725, 86.176, 104.817, 122.354, 139.572, 154.036, 167.943, 183.244, 195.605, 209.393, 224.014, 238.563, 252.87, 269.722, 283.15, 297.267, 310.863, 324.244, 337.621]\n"
     ]
    },
    {
     "name": "stderr",
     "output_type": "stream",
     "text": [
      " 62%|█████████████████████████████████████████████████▋                              | 326/525 [38:15<31:23,  9.47s/it]"
     ]
    },
    {
     "name": "stdout",
     "output_type": "stream",
     "text": [
      "processing pptnum: 221\n",
      "10001/video_features\\video_{ParticipantNo}_221_6-11-2020.csv\n",
      "Now reading: 10001/video_features\\video_{ParticipantNo}_221_6-11-2020.csv\n",
      "[7.771, 39.003, 75.192, 109.516, 126.594, 152.23, 169.664, 190.118, 206.008, 225.829, 240.038, 255.159, 271.757, 295.368, 311.214, 332.298, 351.172, 368.53, 388.868, 405.04, 421.173, 441.874]\n"
     ]
    },
    {
     "name": "stderr",
     "output_type": "stream",
     "text": [
      " 62%|█████████████████████████████████████████████████▊                              | 327/525 [38:35<41:48, 12.67s/it]"
     ]
    },
    {
     "name": "stdout",
     "output_type": "stream",
     "text": [
      "processing pptnum: 225\n",
      "10001/video_features\\video_{ParticipantNo}_225_12-11-2020.csv\n",
      "Now reading: 10001/video_features\\video_{ParticipantNo}_225_12-11-2020.csv\n",
      "[4.982, 25.896, 49.201, 65.922, 79.693, 106.99, 124.14, 141.089, 161.537, 181.937, 199.978, 219.873, 254.188, 275.43, 291.448, 308.907, 323.627, 342.345, 360.487, 376.249, 392.086, 409.957]\n"
     ]
    },
    {
     "name": "stderr",
     "output_type": "stream",
     "text": [
      " 62%|█████████████████████████████████████████████████▉                              | 328/525 [38:37<30:50,  9.39s/it]"
     ]
    },
    {
     "name": "stdout",
     "output_type": "stream",
     "text": [
      "processing pptnum: 229\n",
      "10001/video_features\\video_{ParticipantNo}_229_3-12-2020.csv\n",
      "Now reading: 10001/video_features\\video_{ParticipantNo}_229_3-12-2020.csv\n",
      "[5.202, 22.474, 41.035, 61.96, 77.137, 94.637, 116.02, 131.803, 147.4, 163.007, 178.194, 193.587, 207.667, 223.915, 240.891, 255.57, 269.5, 286.195, 305.152, 320.754, 334.402, 350.498]\n"
     ]
    },
    {
     "name": "stderr",
     "output_type": "stream",
     "text": [
      " 63%|██████████████████████████████████████████████████▏                             | 329/525 [38:53<37:46, 11.56s/it]"
     ]
    },
    {
     "name": "stdout",
     "output_type": "stream",
     "text": [
      "processing pptnum: 231\n",
      "10001/video_features\\video_{ParticipantNo}_231_30-11-2020.csv\n",
      "Now reading: 10001/video_features\\video_{ParticipantNo}_231_30-11-2020.csv\n",
      "[6.949, 21.321, 39.182, 52.894, 69.292, 83.64, 97.793, 111.935, 126.79, 141.955, 156.241, 169.306, 183.156, 195.654, 209.552, 230.724, 244.054, 256.487, 268.634, 280.693, 298.398, 311.544]\n"
     ]
    },
    {
     "name": "stderr",
     "output_type": "stream",
     "text": [
      " 63%|██████████████████████████████████████████████████▎                             | 330/525 [39:08<40:20, 12.41s/it]"
     ]
    },
    {
     "name": "stdout",
     "output_type": "stream",
     "text": [
      "processing pptnum: 242\n",
      "10001/video_features\\video_{ParticipantNo}_242_5-11-2020.csv\n",
      "Now reading: 10001/video_features\\video_{ParticipantNo}_242_5-11-2020.csv\n",
      "[7.931, 23.584, 38.538, 54.579, 82.081, 107.232, 123.979, 155.114, 172.557, 187.92, 202.608, 224.928, 252.711, 266.374, 286.742, 315.189, 342.431, 358.634, 373.787, 388.39, 403.02, 418.326]\n"
     ]
    },
    {
     "name": "stderr",
     "output_type": "stream",
     "text": [
      " 63%|██████████████████████████████████████████████████▍                             | 331/525 [39:11<31:29,  9.74s/it]"
     ]
    },
    {
     "name": "stdout",
     "output_type": "stream",
     "text": [
      "processing pptnum: 243\n",
      "10001/video_features\\video_{ParticipantNo}_243_2-12-2020.csv\n",
      "Now reading: 10001/video_features\\video_{ParticipantNo}_243_2-12-2020.csv\n",
      "[4.779, 20.394, 36.061, 53.524, 69.409, 85.507, 99.738, 117.237, 131.126, 144.715, 158.796, 174.327, 187.737, 201.622, 216.508, 230.788, 245.308, 259.362, 277.387, 293.389, 308.434, 324.222]\n"
     ]
    },
    {
     "name": "stderr",
     "output_type": "stream",
     "text": [
      " 63%|██████████████████████████████████████████████████▌                             | 332/525 [39:22<32:29, 10.10s/it]"
     ]
    },
    {
     "name": "stdout",
     "output_type": "stream",
     "text": [
      "processing pptnum: 247\n",
      "start time for this ppt is set to zero\n",
      "processing pptnum: 248\n",
      "10001/video_features\\video_{ParticipantNo}_248_26-11-2020.csv\n",
      "Now reading: 10001/video_features\\video_{ParticipantNo}_248_26-11-2020.csv\n",
      "[6.069, 21.918, 36.564, 52.782, 72.11, 86.638, 101.109, 117.294, 130.628, 151.54, 166.996, 183.732, 199.494, 219.933, 233.415, 246.94, 259.702, 272.868, 287.5, 300.861, 318.55, 333.452]\n"
     ]
    },
    {
     "name": "stderr",
     "output_type": "stream",
     "text": [
      " 64%|██████████████████████████████████████████████████▉                             | 334/525 [39:28<25:14,  7.93s/it]"
     ]
    },
    {
     "name": "stdout",
     "output_type": "stream",
     "text": [
      "processing pptnum: 250\n",
      "10001/video_features\\video_{ParticipantNo}_250_2-12-2020.csv\n",
      "Now reading: 10001/video_features\\video_{ParticipantNo}_250_2-12-2020.csv\n",
      "[6.054, 28.205, 46.592, 64.901, 81.411, 97.423, 114.747, 135.527, 160.267, 179.605, 207.075, 220.576, 236.284, 253.993, 271.714, 289.375, 309.854, 333.284, 346.955, 366.726, 381.516, 398.876]\n"
     ]
    },
    {
     "name": "stderr",
     "output_type": "stream",
     "text": [
      " 64%|███████████████████████████████████████████████████                             | 335/525 [39:36<25:31,  8.06s/it]"
     ]
    },
    {
     "name": "stdout",
     "output_type": "stream",
     "text": [
      "processing pptnum: 256\n",
      "start time for this ppt is set to zero\n",
      "processing pptnum: 258\n",
      "10001/video_features\\video_{ParticipantNo}_258_13-12-2020.csv\n",
      "Now reading: 10001/video_features\\video_{ParticipantNo}_258_13-12-2020.csv\n",
      "[5.287, 23.136, 40.094, 59.656, 74.977, 89.236, 105.18, 120.165, 135.539, 149.934, 167.066, 181.624, 197.084, 211.195, 226.126, 240.435, 252.162, 268.723, 282.783, 295.503, 311.512, 325.586]\n"
     ]
    },
    {
     "name": "stderr",
     "output_type": "stream",
     "text": [
      " 64%|███████████████████████████████████████████████████▎                            | 337/525 [39:48<23:20,  7.45s/it]"
     ]
    },
    {
     "name": "stdout",
     "output_type": "stream",
     "text": [
      "processing pptnum: 261\n",
      "10001/video_features\\video_{ParticipantNo}_261_25-1-2021.csv\n",
      "Now reading: 10001/video_features\\video_{ParticipantNo}_261_25-1-2021.csv\n",
      "[4.383, 18.959, 31.87, 45.822, 59.502, 72.253, 85.174, 97.357, 116.134, 129.109, 142.07, 155.092, 167.236, 179.628, 191.563, 203.956, 216.787, 229.076, 241.108, 254.187, 265.91, 277.875]\n"
     ]
    },
    {
     "name": "stderr",
     "output_type": "stream",
     "text": [
      " 64%|███████████████████████████████████████████████████▌                            | 338/525 [40:01<28:12,  9.05s/it]"
     ]
    },
    {
     "name": "stdout",
     "output_type": "stream",
     "text": [
      "processing pptnum: 262\n",
      "No input data found for video file of pptnum: 262 with video file A\n",
      "processing pptnum: 263\n",
      "10001/video_features\\video_{ParticipantNo}_263_4-12-2020.csv\n",
      "Now reading: 10001/video_features\\video_{ParticipantNo}_263_4-12-2020.csv\n",
      "[5.375, 20.535, 35.426, 50.939, 66.145, 80.113, 94.369, 107.264, 120.676, 133.495, 145.845, 160.707, 177.004, 190.074, 202.699, 215.639, 228.123, 243.764, 258.174, 270.468, 284.523, 296.818]\n"
     ]
    },
    {
     "name": "stderr",
     "output_type": "stream",
     "text": [
      " 65%|███████████████████████████████████████████████████▊                            | 340/525 [40:15<26:05,  8.46s/it]"
     ]
    },
    {
     "name": "stdout",
     "output_type": "stream",
     "text": [
      "processing pptnum: 266\n",
      "10001/video_features\\video_{ParticipantNo}_266_27-11-2020.csv\n",
      "Now reading: 10001/video_features\\video_{ParticipantNo}_266_27-11-2020.csv\n",
      "[7.187, 34.565, 59.473, 96.707, 121.636, 157.009, 191.776, 213.141, 230.695, 259.227, 280.155, 301.195, 318.418, 344.087, 362.946, 386.44, 429.498, 447.534, 468.322, 484.347, 515.066, 537.506]\n"
     ]
    },
    {
     "name": "stderr",
     "output_type": "stream",
     "text": [
      " 65%|███████████████████████████████████████████████████▉                            | 341/525 [40:37<38:03, 12.41s/it]"
     ]
    },
    {
     "name": "stdout",
     "output_type": "stream",
     "text": [
      "processing pptnum: 270\n",
      "10001/video_features\\video_{ParticipantNo}_270_30-11-2020.csv\n",
      "Now reading: 10001/video_features\\video_{ParticipantNo}_270_30-11-2020.csv\n",
      "[6.383, 30.76, 53.545, 67.187, 80.685, 101.175, 117.422, 134.356, 152.994, 175.263, 200.932, 215.585, 232.903, 252.289, 266.187, 283.811, 298.496, 313.948, 329.662, 346.338, 363.788, 383.053]\n"
     ]
    },
    {
     "name": "stderr",
     "output_type": "stream",
     "text": [
      " 65%|████████████████████████████████████████████████████                            | 342/525 [41:01<48:41, 15.97s/it]"
     ]
    },
    {
     "name": "stdout",
     "output_type": "stream",
     "text": [
      "processing pptnum: 271\n",
      "10001/video_features\\video_{ParticipantNo}_271_4-12-2020.csv\n",
      "Now reading: 10001/video_features\\video_{ParticipantNo}_271_4-12-2020.csv\n",
      "[6.517, 22.196, 37.122, 54.086, 68.608, 87.415, 105.39, 122.566, 138.443, 153.874, 169.223, 184.024, 198.349, 213.965, 229.064, 242.646, 257.429, 273.762, 289.505, 305.281, 320.816, 336.727]\n"
     ]
    },
    {
     "name": "stderr",
     "output_type": "stream",
     "text": [
      " 65%|████████████████████████████████████████████████████▎                           | 343/525 [41:14<45:27, 14.98s/it]"
     ]
    },
    {
     "name": "stdout",
     "output_type": "stream",
     "text": [
      "processing pptnum: 274\n",
      "10001/video_features\\video_{ParticipantNo}_274_29-11-2020.csv\n",
      "Now reading: 10001/video_features\\video_{ParticipantNo}_274_29-11-2020.csv\n",
      "[6.4, 23.768, 39.912, 55.967, 71.833, 87.624, 100.952, 120.151, 134.687, 150.415, 164.856, 179.496, 193.935, 207.977, 223.624, 238.487, 251.687, 265.656, 282.503, 302.839, 316.248, 333.231]\n"
     ]
    },
    {
     "name": "stderr",
     "output_type": "stream",
     "text": [
      " 66%|████████████████████████████████████████████████████▍                           | 344/525 [41:22<39:06, 12.97s/it]"
     ]
    },
    {
     "name": "stdout",
     "output_type": "stream",
     "text": [
      "processing pptnum: 278\n",
      "10001/video_features\\video_{ParticipantNo}_278_2-12-2020.csv\n",
      "Now reading: 10001/video_features\\video_{ParticipantNo}_278_2-12-2020.csv\n",
      "[5.776, 22.631, 37.503, 53.743, 68.703, 82.678, 96.492, 109.984, 124.583, 139.174, 153.326, 167.414, 182.027, 195.587, 210.496, 223.819, 240.211, 253.964, 266.81, 280.919, 296.573, 312.667]\n"
     ]
    },
    {
     "name": "stderr",
     "output_type": "stream",
     "text": [
      " 66%|████████████████████████████████████████████████████▌                           | 345/525 [41:40<43:16, 14.43s/it]"
     ]
    },
    {
     "name": "stdout",
     "output_type": "stream",
     "text": [
      "processing pptnum: 279\n",
      "start time for this ppt is set to zero\n",
      "processing pptnum: 281\n",
      "10001/video_features\\video_{ParticipantNo}_281_1-12-2020.csv\n",
      "Now reading: 10001/video_features\\video_{ParticipantNo}_281_1-12-2020.csv\n",
      "[12.2, 29.943, 44.077, 58.874, 74.029, 86.061, 98.492, 110.622, 123.176, 135.115, 171.38, 183.619, 195.986, 208.232, 224.08, 236.518, 249.425, 261.372, 275.941, 287.962, 300.969, 312.984]\n"
     ]
    },
    {
     "name": "stderr",
     "output_type": "stream",
     "text": [
      " 66%|████████████████████████████████████████████████████▉                           | 347/525 [41:54<36:11, 12.20s/it]"
     ]
    },
    {
     "name": "stdout",
     "output_type": "stream",
     "text": [
      "processing pptnum: 282\n",
      "10001/video_features\\video_{ParticipantNo}_282_14-1-2021.csv\n",
      "Now reading: 10001/video_features\\video_{ParticipantNo}_282_14-1-2021.csv\n",
      "[6.552, 25.49, 46.652, 72.201, 91.423, 109.005, 125.557, 141.526, 168.695, 185.085, 198.462, 211.733, 228.824, 246.376, 261.284, 274.497, 294.124, 309.772, 322.864, 336.525, 351.085, 364.388]\n"
     ]
    },
    {
     "name": "stderr",
     "output_type": "stream",
     "text": [
      " 66%|█████████████████████████████████████████████████████                           | 348/525 [42:06<35:28, 12.02s/it]"
     ]
    },
    {
     "name": "stdout",
     "output_type": "stream",
     "text": [
      "processing pptnum: 283\n",
      "10001/video_features\\video_{ParticipantNo}_283_25-11-2020.csv\n",
      "Now reading: 10001/video_features\\video_{ParticipantNo}_283_25-11-2020.csv\n",
      "[7.192, 27.521, 48.391, 66.734, 82.868, 102.512, 123.214, 138.525, 154.126, 169.312, 191.827, 208.126, 224.463, 242.737, 261.702, 277.115, 295.644, 310.716, 325.017, 341.306, 356.535, 372.631]\n"
     ]
    },
    {
     "name": "stderr",
     "output_type": "stream",
     "text": [
      " 66%|█████████████████████████████████████████████████████▏                          | 349/525 [42:24<40:45, 13.90s/it]"
     ]
    },
    {
     "name": "stdout",
     "output_type": "stream",
     "text": [
      "processing pptnum: 288\n",
      "10001/video_features\\video_{ParticipantNo}_288_7-11-2020.csv\n",
      "Now reading: 10001/video_features\\video_{ParticipantNo}_288_7-11-2020.csv\n",
      "[8.149, 26.504, 48.502, 66.564, 81.686, 113.258, 134.357, 149.674, 171.054, 188.444, 203.644, 221.126, 239.318, 258.329, 277.114, 293.306, 317.038, 339.904, 365.158, 381.844, 400.213, 417.204]\n"
     ]
    },
    {
     "name": "stderr",
     "output_type": "stream",
     "text": [
      " 67%|█████████████████████████████████████████████████████▎                          | 350/525 [42:29<32:28, 11.13s/it]"
     ]
    },
    {
     "name": "stdout",
     "output_type": "stream",
     "text": [
      "processing pptnum: 289\n",
      "10001/video_features\\video_{ParticipantNo}_289_13-12-2020.csv\n",
      "Now reading: 10001/video_features\\video_{ParticipantNo}_289_13-12-2020.csv\n",
      "[4.359, 25.984, 47.283, 67.508, 83.194, 103.074, 120.708, 137.212, 159.403, 173.109, 188.527, 205.776, 230.494, 248.355, 280.276, 299.779, 315.469, 336.42, 360.151, 379.674, 394.194, 411.021]\n"
     ]
    },
    {
     "name": "stderr",
     "output_type": "stream",
     "text": [
      " 67%|█████████████████████████████████████████████████████▍                          | 351/525 [42:45<36:45, 12.67s/it]"
     ]
    },
    {
     "name": "stdout",
     "output_type": "stream",
     "text": [
      "processing pptnum: 290\n",
      "10001/video_features\\video_{ParticipantNo}_290_30-11-2020.csv\n",
      "Now reading: 10001/video_features\\video_{ParticipantNo}_290_30-11-2020.csv\n",
      "[10.979, 30.942, 52.016, 71.064, 95.306, 114.251, 135.863, 163.337, 183.059, 203.061, 222.29, 240.759, 261.577, 282.253, 300.338, 319.443, 337.682, 354.15, 372.456, 389.108, 408.097, 429.054]\n"
     ]
    },
    {
     "name": "stderr",
     "output_type": "stream",
     "text": [
      " 67%|█████████████████████████████████████████████████████▋                          | 352/525 [42:49<29:26, 10.21s/it]"
     ]
    },
    {
     "name": "stdout",
     "output_type": "stream",
     "text": [
      "processing pptnum: 291\n",
      "start time for this ppt is set to zero\n",
      "processing pptnum: 293\n",
      "10001/video_features\\video_{ParticipantNo}_293_9-11-2020.csv\n",
      "Now reading: 10001/video_features\\video_{ParticipantNo}_293_9-11-2020.csv\n",
      "[4.925, 22.036, 38.942, 53.802, 68.316, 83.732, 98.108, 111.837, 126.381, 141.468, 154.955, 168.894, 183.276, 196.46, 210.324, 223.859, 237.991, 251.702, 265.184, 278.509, 292.68, 305.686]\n"
     ]
    },
    {
     "name": "stderr",
     "output_type": "stream",
     "text": [
      " 67%|█████████████████████████████████████████████████████▉                          | 354/525 [43:07<28:07,  9.87s/it]"
     ]
    },
    {
     "name": "stdout",
     "output_type": "stream",
     "text": [
      "processing pptnum: 294\n",
      "10001/video_features\\video_{ParticipantNo}_294_8-11-2020.csv\n",
      "Now reading: 10001/video_features\\video_{ParticipantNo}_294_8-11-2020.csv\n",
      "[6.309, 24.637, 40.494, 55.979, 71.86, 86.877, 104.294, 123.061, 139.668, 155.629, 174.169, 190.864, 205.724, 221.516, 235.771, 251.55, 269.173, 285.389, 301.787, 318.112, 333.687, 350.211]\n"
     ]
    },
    {
     "name": "stderr",
     "output_type": "stream",
     "text": [
      " 68%|██████████████████████████████████████████████████████                          | 355/525 [43:21<31:29, 11.11s/it]"
     ]
    },
    {
     "name": "stdout",
     "output_type": "stream",
     "text": [
      "processing pptnum: 295\n",
      "10001/video_features\\video_{ParticipantNo}_295_8-12-2020.csv\n",
      "Now reading: 10001/video_features\\video_{ParticipantNo}_295_8-12-2020.csv\n",
      "[6.881, 24.541, 39.957, 54.852, 70.705, 88.515, 106.291, 123.129, 136.642, 150.722, 164.935, 178.68, 196.355, 210.367, 223.919, 237.152, 250.687, 265.212, 278.766, 294.169, 309.414, 323.265]\n"
     ]
    },
    {
     "name": "stderr",
     "output_type": "stream",
     "text": [
      " 68%|██████████████████████████████████████████████████████▏                         | 356/525 [43:36<34:01, 12.08s/it]"
     ]
    },
    {
     "name": "stdout",
     "output_type": "stream",
     "text": [
      "processing pptnum: 296\n",
      "10001/video_features\\video_{ParticipantNo}_296_11-11-2020.csv\n",
      "Now reading: 10001/video_features\\video_{ParticipantNo}_296_11-11-2020.csv\n",
      "[5.036, 20.517, 34.256, 48.444, 62.256, 75.599, 96.042, 111.28, 126.185, 139.422, 152.657, 166.56, 180.239, 194.817, 207.456, 221.117, 235.266, 250.839, 265.042, 282.819, 294.757, 311.42]\n"
     ]
    },
    {
     "name": "stderr",
     "output_type": "stream",
     "text": [
      " 68%|██████████████████████████████████████████████████████▍                         | 357/525 [43:41<28:08, 10.05s/it]"
     ]
    },
    {
     "name": "stdout",
     "output_type": "stream",
     "text": [
      "processing pptnum: 302\n",
      "10001/video_features\\video_{ParticipantNo}_302_3-11-2020.csv\n",
      "Now reading: 10001/video_features\\video_{ParticipantNo}_302_3-11-2020.csv\n",
      "[6.084, 24.36, 44.825, 67.208, 85.934, 104.008, 129.497, 154.442, 175.227, 192.128, 210.888, 227.213, 252.194, 272.848, 292.716, 310.876, 329.336, 346.525, 365.508, 382.31, 396.807, 414.122]\n"
     ]
    },
    {
     "name": "stderr",
     "output_type": "stream",
     "text": [
      " 68%|██████████████████████████████████████████████████████▌                         | 358/525 [43:58<33:54, 12.18s/it]"
     ]
    },
    {
     "name": "stdout",
     "output_type": "stream",
     "text": [
      "processing pptnum: 308\n",
      "10001/video_features\\video_{ParticipantNo}_308_4-12-2020.csv\n",
      "Now reading: 10001/video_features\\video_{ParticipantNo}_308_4-12-2020.csv\n",
      "[6.036, 25.156, 41.749, 58.658, 76.255, 95.145, 115.516, 135.18, 155.797, 179.766, 203.526, 227.829, 244.514, 263.516, 283.49, 303.265, 319.435, 340.755, 363.87, 382.393, 403.109, 420.711]\n"
     ]
    },
    {
     "name": "stderr",
     "output_type": "stream",
     "text": [
      " 68%|██████████████████████████████████████████████████████▋                         | 359/525 [44:21<42:01, 15.19s/it]"
     ]
    },
    {
     "name": "stdout",
     "output_type": "stream",
     "text": [
      "processing pptnum: 315\n",
      "10001/video_features\\video_{ParticipantNo}_315_30-11-2020.csv\n",
      "Now reading: 10001/video_features\\video_{ParticipantNo}_315_30-11-2020.csv\n",
      "[5.481, 22.07, 42.625, 93.365, 107.675, 131.682, 145.572, 162.051, 178.58, 191.969, 205.664, 225.264, 238.785, 259.224, 273.814, 287.485, 304.286, 318.861, 333.814, 347.005, 361.753, 378.273]\n"
     ]
    },
    {
     "name": "stderr",
     "output_type": "stream",
     "text": [
      " 69%|██████████████████████████████████████████████████████▊                         | 360/525 [44:38<43:21, 15.76s/it]"
     ]
    },
    {
     "name": "stdout",
     "output_type": "stream",
     "text": [
      "processing pptnum: 317\n",
      "start time for this ppt is set to zero\n",
      "processing pptnum: 318\n",
      "10001/video_features\\video_{ParticipantNo}_318_28-11-2020.csv\n",
      "Now reading: 10001/video_features\\video_{ParticipantNo}_318_28-11-2020.csv\n",
      "[4.884, 101.628, 132.455, 154.0, 177.427, 197.452, 213.384, 231.912, 257.922, 277.221, 293.104, 308.281, 334.297, 351.772, 366.051, 380.727, 398.636, 416.857, 432.376, 453.904, 470.031, 487.369]\n"
     ]
    },
    {
     "name": "stderr",
     "output_type": "stream",
     "text": [
      " 69%|███████████████████████████████████████████████████████▏                        | 362/525 [44:54<36:45, 13.53s/it]"
     ]
    },
    {
     "name": "stdout",
     "output_type": "stream",
     "text": [
      "processing pptnum: 321\n",
      "10001/video_features\\video_{ParticipantNo}_321_25-11-2020.csv\n",
      "Now reading: 10001/video_features\\video_{ParticipantNo}_321_25-11-2020.csv\n",
      "[4.668, 18.597, 32.679, 47.515, 61.722, 79.401, 95.496, 111.478, 126.117, 140.041, 156.99, 169.643, 183.671, 198.906, 213.663, 229.118, 242.149, 255.461, 271.943, 285.498, 298.943, 315.371]\n"
     ]
    },
    {
     "name": "stderr",
     "output_type": "stream",
     "text": [
      " 69%|███████████████████████████████████████████████████████▎                        | 363/525 [45:00<30:22, 11.25s/it]"
     ]
    },
    {
     "name": "stdout",
     "output_type": "stream",
     "text": [
      "processing pptnum: 324\n",
      "start time for this ppt is set to zero\n",
      "processing pptnum: 326\n",
      "Exclusion file for ppt: 326 at moment: A\n",
      "processing pptnum: 327\n",
      "10001/video_features\\video_{ParticipantNo}_327_5-12-2020.csv\n",
      "Now reading: 10001/video_features\\video_{ParticipantNo}_327_5-12-2020.csv\n",
      "[5.796, 21.087, 36.434, 54.754, 68.417, 81.461, 94.266, 108.788, 120.616, 132.823, 148.772, 163.318, 183.869, 198.944, 212.507, 224.717, 240.184, 255.69, 269.376, 286.856, 300.092, 314.092]\n"
     ]
    },
    {
     "name": "stderr",
     "output_type": "stream",
     "text": [
      " 70%|███████████████████████████████████████████████████████▊                        | 366/525 [45:07<22:39,  8.55s/it]"
     ]
    },
    {
     "name": "stdout",
     "output_type": "stream",
     "text": [
      "processing pptnum: 329\n",
      "start time for this ppt is set to zero\n",
      "processing pptnum: 332\n",
      "10001/video_features\\video_{ParticipantNo}_332_9-11-2020.csv\n",
      "Now reading: 10001/video_features\\video_{ParticipantNo}_332_9-11-2020.csv\n",
      "[6.274, 25.362, 43.745, 61.874, 78.065, 94.218, 112.227, 126.041, 142.921, 157.298, 171.456, 187.408, 203.152, 221.658, 237.209, 252.969, 270.121, 284.465, 299.336, 313.066, 326.233, 340.93]\n"
     ]
    },
    {
     "name": "stderr",
     "output_type": "stream",
     "text": [
      " 70%|████████████████████████████████████████████████████████                        | 368/525 [45:25<22:43,  8.68s/it]"
     ]
    },
    {
     "name": "stdout",
     "output_type": "stream",
     "text": [
      "processing pptnum: 338\n",
      "start time for this ppt is set to zero\n",
      "processing pptnum: 339\n",
      "10001/video_features\\video_{ParticipantNo}_339_2-12-2020.csv\n",
      "Now reading: 10001/video_features\\video_{ParticipantNo}_339_2-12-2020.csv\n",
      "[9.914, 24.827, 41.738, 57.662, 72.148, 90.903, 104.802, 132.275, 147.825, 166.109, 180.975, 197.301, 212.628, 227.371, 243.277, 271.838, 287.852, 305.22, 322.736, 339.283, 354.7, 372.818]\n"
     ]
    },
    {
     "name": "stderr",
     "output_type": "stream",
     "text": [
      " 70%|████████████████████████████████████████████████████████▍                       | 370/525 [45:46<23:55,  9.26s/it]"
     ]
    },
    {
     "name": "stdout",
     "output_type": "stream",
     "text": [
      "processing pptnum: 340\n",
      "start time for this ppt is set to zero\n",
      "processing pptnum: 341\n",
      "Exclusion file for ppt: 341 at moment: A\n",
      "processing pptnum: 349\n",
      "10001/video_features\\video_{ParticipantNo}_349_6-2-2021.csv\n",
      "Now reading: 10001/video_features\\video_{ParticipantNo}_349_6-2-2021.csv\n",
      "[5.014, 21.648, 36.951, 53.632, 71.723, 91.212, 104.948, 125.263, 143.554, 161.591, 175.285, 190.159, 206.65, 222.333, 239.488, 255.339, 270.184, 289.058, 306.105, 322.872, 346.567, 363.487]\n"
     ]
    },
    {
     "name": "stderr",
     "output_type": "stream",
     "text": [
      " 71%|████████████████████████████████████████████████████████▉                       | 374/525 [45:58<18:28,  7.34s/it]"
     ]
    },
    {
     "name": "stdout",
     "output_type": "stream",
     "text": [
      "processing pptnum: 350\n",
      "No input data found for video file of pptnum: 350 with video file A\n",
      "processing pptnum: 355\n",
      "start time for this ppt is set to zero\n",
      "processing pptnum: 361\n",
      "No input data found for video file of pptnum: 361 with video file A\n",
      "processing pptnum: 363\n",
      "start time for this ppt is set to zero\n",
      "processing pptnum: 370\n",
      "10001/video_features\\video_{ParticipantNo}_370_11-1-2021.csv\n",
      "Now reading: 10001/video_features\\video_{ParticipantNo}_370_11-1-2021.csv\n",
      "[6.158, 23.065, 42.501, 61.404, 80.17, 97.53, 116.757, 136.979, 155.045, 171.321, 189.271, 209.286, 226.478, 241.741, 266.341, 291.189, 307.817, 324.408, 339.092, 360.246, 376.475, 391.206]\n"
     ]
    },
    {
     "name": "stderr",
     "output_type": "stream",
     "text": [
      " 72%|█████████████████████████████████████████████████████████▊                      | 379/525 [46:06<13:41,  5.63s/it]"
     ]
    },
    {
     "name": "stdout",
     "output_type": "stream",
     "text": [
      "processing pptnum: 381\n",
      "10001/video_features\\video_{ParticipantNo}_381_6-1-2021.csv\n",
      "Now reading: 10001/video_features\\video_{ParticipantNo}_381_6-1-2021.csv\n",
      "[4.219, 18.941, 35.062, 52.485, 65.89, 78.798, 92.382, 105.842, 120.418, 132.902, 144.447, 158.54, 171.598, 185.526, 198.072, 210.003, 222.134, 234.988, 247.145, 260.708, 273.322, 287.859]\n"
     ]
    },
    {
     "name": "stderr",
     "output_type": "stream",
     "text": [
      " 72%|█████████████████████████████████████████████████████████▉                      | 380/525 [46:17<17:51,  7.39s/it]"
     ]
    },
    {
     "name": "stdout",
     "output_type": "stream",
     "text": [
      "processing pptnum: 382\n",
      "start time for this ppt is set to zero\n",
      "processing pptnum: 383\n",
      "Exclusion file for ppt: 383 at moment: A\n",
      "processing pptnum: 387\n",
      "10001/video_features\\video_{ParticipantNo}_387_20-1-2021.csv\n",
      "Now reading: 10001/video_features\\video_{ParticipantNo}_387_20-1-2021.csv\n",
      "[6.586, 27.837, 47.88, 77.059, 94.311, 115.153, 134.016, 147.671, 159.716, 179.195, 194.183, 207.067, 220.935, 239.56, 253.337, 268.949, 283.515, 303.275, 316.721, 329.892, 348.358, 364.922]\n"
     ]
    },
    {
     "name": "stderr",
     "output_type": "stream",
     "text": [
      " 73%|██████████████████████████████████████████████████████████▎                     | 383/525 [46:31<15:32,  6.56s/it]"
     ]
    },
    {
     "name": "stdout",
     "output_type": "stream",
     "text": [
      "processing pptnum: 388\n",
      "10001/video_features\\video_{ParticipantNo}_388_17-1-2021.csv\n",
      "Now reading: 10001/video_features\\video_{ParticipantNo}_388_17-1-2021.csv\n",
      "[5.662, 28.602, 45.406, 66.117, 83.146, 101.636, 117.989, 136.074, 157.209, 176.243, 191.638, 207.274, 224.154, 240.964, 256.583, 272.054, 287.549, 302.74, 318.25, 335.223, 356.95, 380.41]\n"
     ]
    },
    {
     "name": "stderr",
     "output_type": "stream",
     "text": [
      " 73%|██████████████████████████████████████████████████████████▌                     | 384/525 [46:36<14:29,  6.17s/it]"
     ]
    },
    {
     "name": "stdout",
     "output_type": "stream",
     "text": [
      "processing pptnum: 390\n",
      "10001/video_features\\video_{ParticipantNo}_390_9-1-2021.csv\n",
      "Now reading: 10001/video_features\\video_{ParticipantNo}_390_9-1-2021.csv\n",
      "[5.83, 24.984, 41.84, 60.219, 75.928, 90.885, 106.369, 121.717, 136.238, 152.889, 167.933, 189.395, 208.493, 222.913, 239.909, 255.445, 269.327, 283.298, 302.33, 320.387, 336.059, 350.684]\n"
     ]
    },
    {
     "name": "stderr",
     "output_type": "stream",
     "text": [
      " 73%|██████████████████████████████████████████████████████████▋                     | 385/525 [46:50<19:19,  8.28s/it]"
     ]
    },
    {
     "name": "stdout",
     "output_type": "stream",
     "text": [
      "processing pptnum: 391\n",
      "10001/video_features\\video_{ParticipantNo}_391_19-1-2021.csv\n",
      "Now reading: 10001/video_features\\video_{ParticipantNo}_391_19-1-2021.csv\n",
      "[5.142, 21.387, 40.334, 54.219, 74.832, 90.778, 108.427, 123.893, 142.324, 158.78, 173.832, 191.663, 211.955, 228.416, 244.022, 261.251, 279.554, 296.53, 315.035, 332.286, 353.296, 372.24]\n"
     ]
    },
    {
     "name": "stderr",
     "output_type": "stream",
     "text": [
      " 74%|██████████████████████████████████████████████████████████▊                     | 386/525 [46:58<19:06,  8.25s/it]"
     ]
    },
    {
     "name": "stdout",
     "output_type": "stream",
     "text": [
      "processing pptnum: 392\n",
      "10001/video_features\\video_{ParticipantNo}_392_20-1-2021.csv\n",
      "Now reading: 10001/video_features\\video_{ParticipantNo}_392_20-1-2021.csv\n",
      "[5.337, 21.441, 35.017, 48.992, 62.352, 76.472, 90.057, 105.064, 118.753, 130.888, 143.919, 157.536, 171.256, 183.745, 200.232, 213.297, 226.672, 239.816, 253.474, 264.696, 278.472, 291.689]\n"
     ]
    },
    {
     "name": "stderr",
     "output_type": "stream",
     "text": [
      " 74%|██████████████████████████████████████████████████████████▉                     | 387/525 [47:10<21:34,  9.38s/it]"
     ]
    },
    {
     "name": "stdout",
     "output_type": "stream",
     "text": [
      "processing pptnum: 394\n",
      "10001/video_features\\video_{ParticipantNo}_394_28-1-2021.csv\n",
      "Now reading: 10001/video_features\\video_{ParticipantNo}_394_28-1-2021.csv\n",
      "[5.08, 23.15, 42.779, 59.053, 75.396, 92.105, 110.598, 134.897, 160.114, 182.666, 199.077, 214.725, 233.232, 248.482, 263.613, 283.423, 298.499, 316.121, 334.014, 350.282, 365.377, 380.912]\n"
     ]
    },
    {
     "name": "stderr",
     "output_type": "stream",
     "text": [
      " 74%|███████████████████████████████████████████████████████████                     | 388/525 [47:24<24:34, 10.76s/it]"
     ]
    },
    {
     "name": "stdout",
     "output_type": "stream",
     "text": [
      "processing pptnum: 398\n",
      "10001/video_features\\video_{ParticipantNo}_398_11-2-2021.csv\n",
      "Now reading: 10001/video_features\\video_{ParticipantNo}_398_11-2-2021.csv\n",
      "[6.416, 21.695, 36.805, 52.683, 69.483, 86.185, 99.562, 114.158, 127.062, 140.814, 154.563, 170.643, 183.418, 198.432, 213.12, 228.478, 241.23, 255.181, 269.212, 283.147, 295.987, 309.137]\n"
     ]
    },
    {
     "name": "stderr",
     "output_type": "stream",
     "text": [
      " 74%|███████████████████████████████████████████████████████████▎                    | 389/525 [47:35<24:52, 10.98s/it]"
     ]
    },
    {
     "name": "stdout",
     "output_type": "stream",
     "text": [
      "processing pptnum: 399\n",
      "start time for this ppt is set to zero\n",
      "processing pptnum: 402\n",
      "start time for this ppt is set to zero\n",
      "processing pptnum: 407\n",
      "No input data found for video file of pptnum: 407 with video file A\n",
      "processing pptnum: 408\n",
      "start time for this ppt is set to zero\n",
      "processing pptnum: 409\n",
      "10001/video_features\\video_{ParticipantNo}_409_30-1-2021.csv\n",
      "Now reading: 10001/video_features\\video_{ParticipantNo}_409_30-1-2021.csv\n",
      "[6.122, 41.191, 76.931, 102.911, 125.962, 147.701, 171.271, 193.725, 212.321, 236.291, 260.661, 277.661, 310.167, 326.957, 348.993, 365.687, 396.233, 412.07, 431.041, 451.261, 471.421, 492.07]\n"
     ]
    },
    {
     "name": "stderr",
     "output_type": "stream",
     "text": [
      " 75%|████████████████████████████████████████████████████████████                    | 394/525 [47:49<18:31,  8.49s/it]"
     ]
    },
    {
     "name": "stdout",
     "output_type": "stream",
     "text": [
      "processing pptnum: 410\n",
      "start time for this ppt is set to zero\n",
      "processing pptnum: 411\n",
      "start time for this ppt is set to zero\n",
      "processing pptnum: 414\n",
      "10001/video_features\\video_{ParticipantNo}_414_3-2-2021.csv\n",
      "Now reading: 10001/video_features\\video_{ParticipantNo}_414_3-2-2021.csv\n",
      "[5.835, 20.439, 34.315, 50.829, 67.437, 80.611, 95.824, 108.455, 120.795, 133.735, 147.305, 160.905, 174.885, 186.888, 200.736, 213.816, 226.285, 238.81, 251.205, 262.635, 274.575, 286.259]\n"
     ]
    },
    {
     "name": "stderr",
     "output_type": "stream",
     "text": [
      " 76%|████████████████████████████████████████████████████████████▍                   | 397/525 [48:08<16:48,  7.88s/it]"
     ]
    },
    {
     "name": "stdout",
     "output_type": "stream",
     "text": [
      "processing pptnum: 415\n",
      "10001/video_features\\video_{ParticipantNo}_415_1-2-2021.csv\n",
      "Now reading: 10001/video_features\\video_{ParticipantNo}_415_1-2-2021.csv\n",
      "[5.146, 29.078, 43.473, 65.485, 95.938, 115.894, 129.798, 153.551, 173.282, 187.286, 201.937, 217.593, 231.3, 256.264, 272.514, 288.193, 303.637, 318.852, 337.401, 352.717, 368.134, 380.914]\n"
     ]
    },
    {
     "name": "stderr",
     "output_type": "stream",
     "text": [
      " 76%|████████████████████████████████████████████████████████████▋                   | 398/525 [48:28<24:09, 11.42s/it]"
     ]
    },
    {
     "name": "stdout",
     "output_type": "stream",
     "text": [
      "processing pptnum: 419\n",
      "10001/video_features\\video_{ParticipantNo}_419_23-2-2021.csv\n",
      "Now reading: 10001/video_features\\video_{ParticipantNo}_419_23-2-2021.csv\n",
      "[8.651, 28.8, 44.909, 59.129, 78.34, 92.453, 107.462, 122.211, 136.314, 150.336, 165.166, 179.328, 193.662, 210.859, 227.896, 243.013, 257.591, 273.534, 287.887, 300.888, 314.479, 327.83]\n"
     ]
    },
    {
     "name": "stderr",
     "output_type": "stream",
     "text": [
      " 76%|████████████████████████████████████████████████████████████▊                   | 399/525 [48:40<24:25, 11.63s/it]"
     ]
    },
    {
     "name": "stdout",
     "output_type": "stream",
     "text": [
      "processing pptnum: 420\n",
      "10001/video_features\\video_{ParticipantNo}_420_25-1-2021.csv\n",
      "Now reading: 10001/video_features\\video_{ParticipantNo}_420_25-1-2021.csv\n",
      "[5.64, 26.21, 41.255, 54.277, 68.532, 82.312, 94.951, 110.252, 134.268, 147.825, 163.205, 174.311, 190.227, 203.886, 218.243, 230.986, 242.944, 259.987, 274.401, 287.099, 300.422, 312.323]\n"
     ]
    },
    {
     "name": "stderr",
     "output_type": "stream",
     "text": [
      " 76%|████████████████████████████████████████████████████████████▉                   | 400/525 [48:55<26:10, 12.56s/it]"
     ]
    },
    {
     "name": "stdout",
     "output_type": "stream",
     "text": [
      "processing pptnum: 428\n",
      "10001/video_features\\video_{ParticipantNo}_428_4-3-2021.csv\n",
      "Now reading: 10001/video_features\\video_{ParticipantNo}_428_4-3-2021.csv\n",
      "[6.314, 24.025, 38.748, 53.309, 67.809, 82.954, 99.188, 113.925, 128.15, 142.182, 159.823, 174.769, 190.763, 204.214, 219.315, 233.299, 247.449, 262.062, 278.933, 293.156, 308.959, 322.991]\n"
     ]
    },
    {
     "name": "stderr",
     "output_type": "stream",
     "text": [
      " 76%|█████████████████████████████████████████████████████████████                   | 401/525 [48:58<20:28,  9.90s/it]"
     ]
    },
    {
     "name": "stdout",
     "output_type": "stream",
     "text": [
      "processing pptnum: 431\n",
      "10001/video_features\\video_{ParticipantNo}_431_6-3-2021.csv\n",
      "Now reading: 10001/video_features\\video_{ParticipantNo}_431_6-3-2021.csv\n",
      "[6.954, 21.223, 36.055, 52.294, 65.95, 80.793, 95.701, 111.15, 124.951, 143.413, 156.79, 173.141, 190.163, 206.792, 221.726, 236.643, 253.661, 267.271, 281.359, 299.341, 313.653, 327.021]\n"
     ]
    },
    {
     "name": "stderr",
     "output_type": "stream",
     "text": [
      " 77%|█████████████████████████████████████████████████████████████▎                  | 402/525 [49:14<23:49, 11.62s/it]"
     ]
    },
    {
     "name": "stdout",
     "output_type": "stream",
     "text": [
      "processing pptnum: 435\n",
      "10001/video_features\\video_{ParticipantNo}_435_26-3-2021.csv\n",
      "Now reading: 10001/video_features\\video_{ParticipantNo}_435_26-3-2021.csv\n",
      "[6.073, 33.157, 52.501, 67.444, 84.059, 97.001, 110.177, 128.192, 141.607, 157.417, 170.835, 185.834, 202.213, 218.983, 234.779, 248.412, 260.686, 273.294, 287.429, 301.701, 313.228, 326.983]\n"
     ]
    },
    {
     "name": "stderr",
     "output_type": "stream",
     "text": [
      " 77%|█████████████████████████████████████████████████████████████▍                  | 403/525 [49:23<22:07, 10.88s/it]"
     ]
    },
    {
     "name": "stdout",
     "output_type": "stream",
     "text": [
      "processing pptnum: 437\n",
      "start time for this ppt is set to zero\n",
      "processing pptnum: 441\n",
      "10001/video_features\\video_{ParticipantNo}_441_26-2-2021.csv\n",
      "Now reading: 10001/video_features\\video_{ParticipantNo}_441_26-2-2021.csv\n",
      "[5.254, 28.121, 55.685, 75.958, 96.465, 121.286, 140.223, 157.139, 176.694, 194.384, 211.676, 226.753, 243.111, 263.524, 278.261, 292.781, 306.741, 323.262, 347.291, 361.289, 389.499, 406.92]\n"
     ]
    },
    {
     "name": "stderr",
     "output_type": "stream",
     "text": [
      " 77%|█████████████████████████████████████████████████████████████▋                  | 405/525 [49:30<17:09,  8.58s/it]"
     ]
    },
    {
     "name": "stdout",
     "output_type": "stream",
     "text": [
      "processing pptnum: 442\n",
      "10001/video_features\\video_{ParticipantNo}_442_16-3-2021.csv\n",
      "Now reading: 10001/video_features\\video_{ParticipantNo}_442_16-3-2021.csv\n",
      "[5.087, 23.218, 38.833, 54.326, 70.271, 87.351, 102.867, 120.859, 140.062, 156.548, 173.687, 186.525, 201.042, 216.588, 229.427, 245.242, 258.774, 271.81, 286.405, 302.373, 315.795, 329.845]\n"
     ]
    },
    {
     "name": "stderr",
     "output_type": "stream",
     "text": [
      " 77%|█████████████████████████████████████████████████████████████▊                  | 406/525 [49:38<17:05,  8.62s/it]"
     ]
    },
    {
     "name": "stdout",
     "output_type": "stream",
     "text": [
      "processing pptnum: 444\n",
      "10001/video_features\\video_{ParticipantNo}_444_9-4-2021.csv\n",
      "Now reading: 10001/video_features\\video_{ParticipantNo}_444_9-4-2021.csv\n",
      "[5.225, 21.201, 41.792, 61.416, 79.495, 94.2, 108.016, 129.56, 145.265, 159.6, 175.969, 191.664, 205.545, 219.457, 232.201, 248.465, 262.025, 274.881, 289.267, 302.017, 318.449, 334.002]\n"
     ]
    },
    {
     "name": "stderr",
     "output_type": "stream",
     "text": [
      " 78%|██████████████████████████████████████████████████████████████                  | 407/525 [49:56<22:35, 11.48s/it]"
     ]
    },
    {
     "name": "stdout",
     "output_type": "stream",
     "text": [
      "processing pptnum: 445\n",
      "10001/video_features\\video_{ParticipantNo}_445_10-3-2021.csv\n",
      "Now reading: 10001/video_features\\video_{ParticipantNo}_445_10-3-2021.csv\n",
      "[8.853, 23.742, 39.515, 53.245, 67.435, 79.484, 91.885, 104.255, 117.172, 130.208, 142.255, 155.216, 167.258, 181.346, 194.975, 207.126, 219.166, 230.848, 242.638, 254.042, 266.221, 278.279]\n"
     ]
    },
    {
     "name": "stderr",
     "output_type": "stream",
     "text": [
      " 78%|██████████████████████████████████████████████████████████████▏                 | 408/525 [50:01<18:08,  9.30s/it]"
     ]
    },
    {
     "name": "stdout",
     "output_type": "stream",
     "text": [
      "processing pptnum: 446\n",
      "10001/video_features\\video_{ParticipantNo}_446_28-3-2021.csv\n",
      "Now reading: 10001/video_features\\video_{ParticipantNo}_446_28-3-2021.csv\n",
      "[4.831, 26.645, 40.919, 57.139, 71.318, 86.144, 102.122, 116.179, 130.179, 144.62, 160.181, 173.778, 189.352, 204.124, 222.001, 239.549, 256.826, 271.643, 285.664, 301.337, 315.339, 331.243]\n"
     ]
    },
    {
     "name": "stderr",
     "output_type": "stream",
     "text": [
      " 78%|██████████████████████████████████████████████████████████████▎                 | 409/525 [50:19<23:07, 11.96s/it]"
     ]
    },
    {
     "name": "stdout",
     "output_type": "stream",
     "text": [
      "processing pptnum: 447\n",
      "10001/video_features\\video_{ParticipantNo}_447_5-4-2021.csv\n",
      "Now reading: 10001/video_features\\video_{ParticipantNo}_447_5-4-2021.csv\n",
      "[5.898, 26.862, 48.873, 75.908, 95.611, 108.962, 126.726, 140.835, 158.042, 177.948, 194.705, 211.816, 225.852, 241.365, 255.674, 273.755, 288.589, 316.067, 334.595, 350.121, 367.61, 383.653]\n"
     ]
    },
    {
     "name": "stderr",
     "output_type": "stream",
     "text": [
      " 78%|██████████████████████████████████████████████████████████████▍                 | 410/525 [50:35<25:22, 13.24s/it]"
     ]
    },
    {
     "name": "stdout",
     "output_type": "stream",
     "text": [
      "processing pptnum: 454\n",
      "10001/video_features\\video_{ParticipantNo}_454_18-3-2021.csv\n",
      "Now reading: 10001/video_features\\video_{ParticipantNo}_454_18-3-2021.csv\n",
      "[4.971, 20.401, 34.366, 51.752, 68.822, 83.921, 100.941, 116.372, 130.152, 144.013, 157.205, 170.123, 184.201, 198.762, 212.352, 227.014, 240.021, 252.622, 265.927, 279.837, 292.638, 305.536]\n"
     ]
    },
    {
     "name": "stderr",
     "output_type": "stream",
     "text": [
      " 78%|██████████████████████████████████████████████████████████████▋                 | 411/525 [50:50<25:56, 13.65s/it]"
     ]
    },
    {
     "name": "stdout",
     "output_type": "stream",
     "text": [
      "processing pptnum: 457\n",
      "start time for this ppt is set to zero\n",
      "processing pptnum: 458\n",
      "10001/video_features\\video_{ParticipantNo}_458_18-3-2021.csv\n",
      "Now reading: 10001/video_features\\video_{ParticipantNo}_458_18-3-2021.csv\n",
      "[8.98, 27.71, 55.111, 71.951, 88.122, 103.546, 119.554, 133.574, 149.321, 165.633, 178.825, 195.911, 211.682, 225.08, 238.328, 255.96, 274.048, 288.298, 302.663, 314.386, 329.29, 342.841]\n"
     ]
    },
    {
     "name": "stderr",
     "output_type": "stream",
     "text": [
      " 79%|██████████████████████████████████████████████████████████████▉                 | 413/525 [51:06<22:26, 12.03s/it]"
     ]
    },
    {
     "name": "stdout",
     "output_type": "stream",
     "text": [
      "processing pptnum: 461\n",
      "10001/video_features\\video_{ParticipantNo}_461_23-3-2021.csv\n",
      "Now reading: 10001/video_features\\video_{ParticipantNo}_461_23-3-2021.csv\n",
      "[4.68, 21.686, 41.13, 59.326, 75.022, 94.19, 112.257, 126.546, 141.999, 157.421, 172.47, 187.525, 205.449, 220.129, 236.517, 250.015, 263.252, 279.06, 292.27, 309.346, 323.581, 340.876]\n"
     ]
    },
    {
     "name": "stderr",
     "output_type": "stream",
     "text": [
      " 79%|███████████████████████████████████████████████████████████████                 | 414/525 [51:23<24:42, 13.35s/it]"
     ]
    },
    {
     "name": "stdout",
     "output_type": "stream",
     "text": [
      "processing pptnum: 465\n",
      "10001/video_features\\video_{ParticipantNo}_465_25-3-2021.csv\n",
      "Now reading: 10001/video_features\\video_{ParticipantNo}_465_25-3-2021.csv\n",
      "[5.365, 19.965, 34.125, 47.91, 63.157, 78.468, 93.644, 107.764, 121.844, 137.244, 151.556, 165.564, 179.229, 192.732, 210.852, 224.565, 238.108, 251.316, 263.613, 276.884, 290.668, 304.101]\n"
     ]
    },
    {
     "name": "stderr",
     "output_type": "stream",
     "text": [
      " 79%|███████████████████████████████████████████████████████████████▏                | 415/525 [51:30<21:26, 11.70s/it]"
     ]
    },
    {
     "name": "stdout",
     "output_type": "stream",
     "text": [
      "processing pptnum: 466\n",
      "start time for this ppt is set to zero\n",
      "processing pptnum: 467\n",
      "this file is not found - video present, but no openface file for 467\n",
      "processing pptnum: 468\n",
      "10001/video_features\\video_{ParticipantNo}_468_17-4-2021.csv\n",
      "Now reading: 10001/video_features\\video_{ParticipantNo}_468_17-4-2021.csv\n",
      "[5.521, 22.668, 38.087, 52.562, 67.297, 81.064, 94.134, 110.627, 123.811, 139.116, 152.18, 165.099, 178.117, 193.871, 206.703, 221.65, 234.876, 248.696, 261.664, 275.537, 293.386, 305.95]\n"
     ]
    },
    {
     "name": "stderr",
     "output_type": "stream",
     "text": [
      " 80%|███████████████████████████████████████████████████████████████▋                | 418/525 [51:48<17:43,  9.94s/it]"
     ]
    },
    {
     "name": "stdout",
     "output_type": "stream",
     "text": [
      "processing pptnum: 469\n",
      "10001/video_features\\video_{ParticipantNo}_469_19-3-2021.csv\n",
      "Now reading: 10001/video_features\\video_{ParticipantNo}_469_19-3-2021.csv\n",
      "[5.375, 22.165, 38.415, 53.027, 66.914, 82.921, 96.56, 111.172, 124.506, 136.92, 152.088, 164.939, 179.704, 197.581, 210.619, 223.131, 236.824, 249.916, 261.934, 277.283, 292.594, 306.136]\n"
     ]
    },
    {
     "name": "stderr",
     "output_type": "stream",
     "text": [
      " 80%|███████████████████████████████████████████████████████████████▊                | 419/525 [51:51<14:04,  7.96s/it]"
     ]
    },
    {
     "name": "stdout",
     "output_type": "stream",
     "text": [
      "processing pptnum: 477\n",
      "10001/video_features\\video_{ParticipantNo}_477_22-4-2021.csv\n",
      "Now reading: 10001/video_features\\video_{ParticipantNo}_477_22-4-2021.csv\n",
      "[6.315, 25.919, 42.565, 59.035, 76.852, 93.882, 109.229, 129.075, 145.337, 162.456, 186.43, 202.234, 223.659, 240.086, 260.054, 283.544, 298.576, 318.838, 349.293, 366.199, 384.091, 400.61]\n"
     ]
    },
    {
     "name": "stderr",
     "output_type": "stream",
     "text": [
      " 80%|████████████████████████████████████████████████████████████████                | 420/525 [52:10<19:40, 11.24s/it]"
     ]
    },
    {
     "name": "stdout",
     "output_type": "stream",
     "text": [
      "processing pptnum: 479\n",
      "start time for this ppt is set to zero\n",
      "processing pptnum: 480\n",
      "10001/video_features\\video_{ParticipantNo}_480_4-4-2021.csv\n",
      "Now reading: 10001/video_features\\video_{ParticipantNo}_480_4-4-2021.csv\n",
      "[6.088, 22.0, 38.6, 54.479, 68.678, 85.831, 102.392, 122.543, 139.36, 159.711, 181.465, 198.489, 214.425, 232.072, 250.912, 265.199, 284.319, 298.906, 316.56, 340.728, 353.856, 371.668]\n"
     ]
    },
    {
     "name": "stderr",
     "output_type": "stream",
     "text": [
      " 80%|████████████████████████████████████████████████████████████████▎               | 422/525 [52:27<17:44, 10.33s/it]"
     ]
    },
    {
     "name": "stdout",
     "output_type": "stream",
     "text": [
      "processing pptnum: 481\n",
      "10001/video_features\\video_{ParticipantNo}_481_29-4-2021.csv\n",
      "Now reading: 10001/video_features\\video_{ParticipantNo}_481_29-4-2021.csv\n",
      "[5.415, 41.81, 73.283, 91.062, 107.837, 126.975, 142.311, 157.069, 179.622, 197.267, 216.726, 233.491, 259.019, 280.588, 296.529, 312.833, 330.247, 350.632, 369.962, 386.259, 401.624, 419.109]\n"
     ]
    },
    {
     "name": "stderr",
     "output_type": "stream",
     "text": [
      " 81%|████████████████████████████████████████████████████████████████▍               | 423/525 [52:49<23:35, 13.88s/it]"
     ]
    },
    {
     "name": "stdout",
     "output_type": "stream",
     "text": [
      "processing pptnum: 487\n",
      "10001/video_features\\video_{ParticipantNo}_487_6-6-2021.csv\n",
      "Now reading: 10001/video_features\\video_{ParticipantNo}_487_6-6-2021.csv\n",
      "[4.751, 18.142, 32.341, 46.816, 63.7, 77.065, 90.007, 103.644, 115.977, 128.738, 141.791, 155.322, 170.119, 185.2, 198.399, 212.31, 226.503, 240.037, 252.803, 267.195, 279.605, 293.336]\n"
     ]
    },
    {
     "name": "stderr",
     "output_type": "stream",
     "text": [
      " 81%|████████████████████████████████████████████████████████████████▌               | 424/525 [53:02<22:58, 13.65s/it]"
     ]
    },
    {
     "name": "stdout",
     "output_type": "stream",
     "text": [
      "processing pptnum: 488\n",
      "10001/video_features\\video_{ParticipantNo}_488_25-5-2021.csv\n",
      "Now reading: 10001/video_features\\video_{ParticipantNo}_488_25-5-2021.csv\n",
      "[9.189, 30.469, 46.137, 59.487, 75.424, 89.8, 102.237, 117.443, 133.051, 145.232, 160.141, 173.532, 189.308, 204.279, 217.546, 232.051, 246.565, 260.63, 277.915, 290.601, 305.447, 319.189]\n"
     ]
    },
    {
     "name": "stderr",
     "output_type": "stream",
     "text": [
      " 81%|████████████████████████████████████████████████████████████████▊               | 425/525 [53:18<24:10, 14.50s/it]"
     ]
    },
    {
     "name": "stdout",
     "output_type": "stream",
     "text": [
      "processing pptnum: 489\n",
      "10001/video_features\\video_{ParticipantNo}_489_24-4-2021.csv\n",
      "Now reading: 10001/video_features\\video_{ParticipantNo}_489_24-4-2021.csv\n",
      "[6.021, 24.973, 42.978, 58.469, 74.781, 90.699, 105.686, 121.145, 139.913, 156.407, 172.068, 187.968, 204.769, 222.331, 240.235, 257.132, 272.037, 287.339, 308.6, 324.971, 341.643, 357.985]\n"
     ]
    },
    {
     "name": "stderr",
     "output_type": "stream",
     "text": [
      " 81%|████████████████████████████████████████████████████████████████▉               | 426/525 [53:34<24:42, 14.98s/it]"
     ]
    },
    {
     "name": "stdout",
     "output_type": "stream",
     "text": [
      "processing pptnum: 490\n",
      "start time for this ppt is set to zero\n",
      "processing pptnum: 491\n",
      "10001/video_features\\video_{ParticipantNo}_491_14-5-2021.csv\n",
      "Now reading: 10001/video_features\\video_{ParticipantNo}_491_14-5-2021.csv\n",
      "[5.785, 18.922, 31.72, 47.89, 63.305, 76.991, 89.319, 101.524, 114.134, 128.09, 140.838, 152.31, 166.735, 182.158, 193.766, 206.46, 219.723, 231.937, 243.772, 258.965, 271.124, 284.966]\n"
     ]
    },
    {
     "name": "stderr",
     "output_type": "stream",
     "text": [
      " 82%|█████████████████████████████████████████████████████████████████▏              | 428/525 [53:42<18:45, 11.61s/it]"
     ]
    },
    {
     "name": "stdout",
     "output_type": "stream",
     "text": [
      "processing pptnum: 495\n",
      "start time for this ppt is set to zero\n",
      "processing pptnum: 496\n",
      "10001/video_features\\video_{ParticipantNo}_496_28-4-2021.csv\n",
      "Now reading: 10001/video_features\\video_{ParticipantNo}_496_28-4-2021.csv\n",
      "[4.645, 20.495, 40.451, 55.062, 71.855, 89.041, 103.671, 123.233, 141.198, 160.382, 181.672, 198.861, 215.321, 227.763, 242.744, 255.909, 271.055, 284.242, 297.901, 310.72, 327.512, 341.64]\n"
     ]
    },
    {
     "name": "stderr",
     "output_type": "stream",
     "text": [
      " 82%|█████████████████████████████████████████████████████████████████▌              | 430/525 [54:03<17:51, 11.28s/it]"
     ]
    },
    {
     "name": "stdout",
     "output_type": "stream",
     "text": [
      "processing pptnum: 498\n",
      "10001/video_features\\video_{ParticipantNo}_498_25-5-2021.csv\n",
      "Now reading: 10001/video_features\\video_{ParticipantNo}_498_25-5-2021.csv\n",
      "[6.698, 34.196, 53.875, 80.855, 98.359, 121.535, 140.02, 155.679, 174.21, 191.718, 215.09, 232.63, 253.598, 271.058, 286.921, 302.87, 320.994, 340.377, 356.892, 375.419, 394.494, 409.2]\n"
     ]
    },
    {
     "name": "stderr",
     "output_type": "stream",
     "text": [
      " 82%|█████████████████████████████████████████████████████████████████▋              | 431/525 [54:19<19:52, 12.68s/it]"
     ]
    },
    {
     "name": "stdout",
     "output_type": "stream",
     "text": [
      "processing pptnum: 499\n",
      "start time for this ppt is set to zero\n",
      "processing pptnum: 502\n",
      "this file is not found - video present, but no openface file for 502\n",
      "processing pptnum: 503\n",
      "10001/video_features\\video_{ParticipantNo}_503_19-5-2021.csv\n",
      "Now reading: 10001/video_features\\video_{ParticipantNo}_503_19-5-2021.csv\n",
      "[7.461, 27.34, 45.814, 66.899, 87.858, 104.179, 124.969, 141.006, 155.739, 172.198, 187.577, 205.134, 218.56, 235.484, 263.07, 276.967, 293.314, 307.767, 322.235, 336.37, 351.643, 367.463]\n"
     ]
    },
    {
     "name": "stderr",
     "output_type": "stream",
     "text": [
      " 83%|██████████████████████████████████████████████████████████████████▏             | 434/525 [54:33<15:38, 10.31s/it]"
     ]
    },
    {
     "name": "stdout",
     "output_type": "stream",
     "text": [
      "processing pptnum: 504\n",
      "10001/video_features\\video_{ParticipantNo}_504_27-5-2021.csv\n",
      "Now reading: 10001/video_features\\video_{ParticipantNo}_504_27-5-2021.csv\n",
      "[4.53, 18.259, 31.958, 45.636, 58.975, 72.278, 87.031, 100.894, 116.996, 130.254, 143.1, 158.039, 172.071, 185.738, 198.871, 212.824, 226.824, 239.919, 252.328, 265.721, 278.66, 294.433]\n"
     ]
    },
    {
     "name": "stderr",
     "output_type": "stream",
     "text": [
      " 83%|██████████████████████████████████████████████████████████████████▎             | 435/525 [54:45<16:10, 10.79s/it]"
     ]
    },
    {
     "name": "stdout",
     "output_type": "stream",
     "text": [
      "processing pptnum: 505\n",
      "start time for this ppt is set to zero\n",
      "processing pptnum: 507\n",
      "10001/video_features\\video_{ParticipantNo}_507_26-4-2021.csv\n",
      "Now reading: 10001/video_features\\video_{ParticipantNo}_507_26-4-2021.csv\n",
      "[6.704, 25.044, 39.636, 52.45, 65.626, 80.555, 95.104, 114.982, 129.585, 144.909, 157.724, 176.557, 191.431, 208.949, 228.435, 241.069, 254.761, 268.938, 283.461, 295.522, 310.307, 322.941]\n"
     ]
    },
    {
     "name": "stderr",
     "output_type": "stream",
     "text": [
      " 83%|██████████████████████████████████████████████████████████████████▌             | 437/525 [54:55<13:17,  9.07s/it]"
     ]
    },
    {
     "name": "stdout",
     "output_type": "stream",
     "text": [
      "processing pptnum: 511\n",
      "start time for this ppt is set to zero\n",
      "processing pptnum: 512\n",
      "10001/video_features\\video_{ParticipantNo}_512_17-5-2021.csv\n",
      "Now reading: 10001/video_features\\video_{ParticipantNo}_512_17-5-2021.csv\n",
      "[5.777, 23.899, 40.844, 56.33, 72.928, 88.744, 106.605, 121.965, 139.535, 152.679, 167.087, 181.837, 198.877, 213.018, 227.808, 241.898, 255.336, 269.454, 284.615, 299.944, 314.416, 327.892]\n"
     ]
    },
    {
     "name": "stderr",
     "output_type": "stream",
     "text": [
      " 84%|██████████████████████████████████████████████████████████████████▉             | 439/525 [54:59<09:58,  6.96s/it]"
     ]
    },
    {
     "name": "stdout",
     "output_type": "stream",
     "text": [
      "processing pptnum: 515\n",
      "10001/video_features\\video_{ParticipantNo}_515_13-5-2021.csv\n",
      "Now reading: 10001/video_features\\video_{ParticipantNo}_515_13-5-2021.csv\n",
      "[5.309, 20.775, 36.355, 50.768, 65.936, 81.206, 98.274, 113.725, 128.072, 143.188, 157.907, 172.398, 186.129, 200.346, 214.837, 230.047, 244.51, 260.163, 273.535, 288.089, 302.867, 317.147]\n"
     ]
    },
    {
     "name": "stderr",
     "output_type": "stream",
     "text": [
      " 84%|███████████████████████████████████████████████████████████████████▏            | 441/525 [55:16<10:14,  7.31s/it]"
     ]
    },
    {
     "name": "stdout",
     "output_type": "stream",
     "text": [
      "processing pptnum: 516\n",
      "10001/video_features\\video_{ParticipantNo}_516_13-5-2021.csv\n",
      "Now reading: 10001/video_features\\video_{ParticipantNo}_516_13-5-2021.csv\n",
      "[4.46, 19.801, 33.858, 47.224, 61.675, 75.063, 88.315, 101.04, 114.861, 133.37, 146.919, 160.433, 172.64, 184.951, 200.252, 215.548, 229.656, 244.207, 256.521, 270.111, 291.008, 303.167]\n"
     ]
    },
    {
     "name": "stderr",
     "output_type": "stream",
     "text": [
      " 84%|███████████████████████████████████████████████████████████████████▎            | 442/525 [55:34<14:47, 10.70s/it]"
     ]
    },
    {
     "name": "stdout",
     "output_type": "stream",
     "text": [
      "processing pptnum: 518\n",
      "10001/video_features\\video_{ParticipantNo}_518_29-4-2021.csv\n",
      "Now reading: 10001/video_features\\video_{ParticipantNo}_518_29-4-2021.csv\n",
      "[5.271, 39.564, 59.323, 81.976, 98.274, 117.151, 134.374, 152.36, 168.586, 186.618, 203.717, 224.107, 243.426, 261.086, 280.236, 296.418, 309.473, 323.529, 337.95, 354.553, 370.419, 390.113]\n"
     ]
    },
    {
     "name": "stderr",
     "output_type": "stream",
     "text": [
      " 84%|███████████████████████████████████████████████████████████████████▌            | 443/525 [55:56<19:03, 13.94s/it]"
     ]
    },
    {
     "name": "stdout",
     "output_type": "stream",
     "text": [
      "processing pptnum: 519\n",
      "10001/video_features\\video_{ParticipantNo}_519_17-5-2021.csv\n",
      "Now reading: 10001/video_features\\video_{ParticipantNo}_519_17-5-2021.csv\n",
      "[5.79, 18.764, 31.772, 45.474, 58.376, 71.205, 84.86, 98.639, 111.802, 124.335, 141.851, 154.552, 167.569, 180.212, 193.206, 206.052, 218.196, 230.006, 242.448, 261.336, 275.364, 287.885]\n"
     ]
    },
    {
     "name": "stderr",
     "output_type": "stream",
     "text": [
      " 85%|███████████████████████████████████████████████████████████████████▋            | 444/525 [56:11<19:18, 14.30s/it]"
     ]
    },
    {
     "name": "stdout",
     "output_type": "stream",
     "text": [
      "processing pptnum: 521\n",
      "start time for this ppt is set to zero\n",
      "processing pptnum: 522\n",
      "10001/video_features\\video_{ParticipantNo}_522_16-6-2021.csv\n",
      "Now reading: 10001/video_features\\video_{ParticipantNo}_522_16-6-2021.csv\n",
      "[4.808, 21.288, 40.367, 57.309, 74.993, 91.284, 113.456, 134.809, 146.993, 161.887, 179.987, 196.603, 210.384, 229.476, 244.302, 262.064, 273.967, 285.824, 297.796, 314.277, 328.573, 342.311]\n"
     ]
    },
    {
     "name": "stderr",
     "output_type": "stream",
     "text": [
      " 85%|███████████████████████████████████████████████████████████████████▉            | 446/525 [56:27<16:27, 12.50s/it]"
     ]
    },
    {
     "name": "stdout",
     "output_type": "stream",
     "text": [
      "processing pptnum: 524\n",
      "start time for this ppt is set to zero\n",
      "processing pptnum: 525\n",
      "10001/video_features\\video_{ParticipantNo}_525_4-6-2021.csv\n",
      "Now reading: 10001/video_features\\video_{ParticipantNo}_525_4-6-2021.csv\n",
      "[4.4, 18.684, 31.895, 44.965, 57.902, 70.825, 84.345, 97.723, 110.343, 124.833, 137.743, 149.596, 162.049, 174.725, 188.4, 202.734, 216.313, 229.495, 244.07, 257.824, 269.948, 284.691]\n"
     ]
    },
    {
     "name": "stderr",
     "output_type": "stream",
     "text": [
      " 85%|████████████████████████████████████████████████████████████████████▎           | 448/525 [56:41<13:47, 10.75s/it]"
     ]
    },
    {
     "name": "stdout",
     "output_type": "stream",
     "text": [
      "processing pptnum: 526\n",
      "start time for this ppt is set to zero\n",
      "processing pptnum: 529\n",
      "10001/video_features\\video_{ParticipantNo}_529_15-5-2021.csv\n",
      "Now reading: 10001/video_features\\video_{ParticipantNo}_529_15-5-2021.csv\n",
      "[4.565, 22.277, 35.809, 50.906, 64.868, 80.044, 93.33, 105.143, 117.641, 133.336, 145.688, 158.683, 171.406, 184.569, 196.336, 207.462, 223.302, 236.273, 251.089, 262.317, 278.247, 292.141]\n"
     ]
    },
    {
     "name": "stderr",
     "output_type": "stream",
     "text": [
      " 86%|████████████████████████████████████████████████████████████████████▌           | 450/525 [56:57<12:32, 10.03s/it]"
     ]
    },
    {
     "name": "stdout",
     "output_type": "stream",
     "text": [
      "processing pptnum: 532\n",
      "10001/video_features\\video_{ParticipantNo}_532_29-5-2021.csv\n",
      "Now reading: 10001/video_features\\video_{ParticipantNo}_532_29-5-2021.csv\n",
      "[5.977, 22.68, 40.113, 55.584, 73.928, 88.854, 105.123, 119.803, 136.673, 154.128, 170.519, 186.191, 201.887, 217.355, 232.874, 249.566, 264.079, 277.555, 290.75, 307.527, 321.515, 337.91]\n"
     ]
    },
    {
     "name": "stderr",
     "output_type": "stream",
     "text": [
      " 86%|████████████████████████████████████████████████████████████████████▋           | 451/525 [57:12<14:05, 11.43s/it]"
     ]
    },
    {
     "name": "stdout",
     "output_type": "stream",
     "text": [
      "processing pptnum: 534\n",
      "this file is not found - video present, but no openface file for 534\n",
      "processing pptnum: 535\n",
      "10001/video_features\\video_{ParticipantNo}_535_7-5-2021.csv\n",
      "Now reading: 10001/video_features\\video_{ParticipantNo}_535_7-5-2021.csv\n",
      "[6.377, 25.336, 43.491, 63.403, 78.907, 94.483, 108.936, 124.765, 141.495, 157.405, 170.755, 184.094, 198.579, 216.301, 229.23, 244.645, 258.703, 271.615, 284.97, 298.53, 311.521, 324.877]\n"
     ]
    },
    {
     "name": "stderr",
     "output_type": "stream",
     "text": [
      " 86%|█████████████████████████████████████████████████████████████████████           | 453/525 [57:25<11:50,  9.87s/it]"
     ]
    },
    {
     "name": "stdout",
     "output_type": "stream",
     "text": [
      "processing pptnum: 537\n",
      "10001/video_features\\video_{ParticipantNo}_537_6-5-2021.csv\n",
      "Now reading: 10001/video_features\\video_{ParticipantNo}_537_6-5-2021.csv\n",
      "[6.032, 23.67, 36.868, 49.569, 64.019, 79.107, 93.658, 108.546, 122.279, 136.585, 149.647, 161.889, 174.553, 189.709, 204.219, 220.201, 234.815, 247.942, 263.021, 275.909, 287.123, 299.675]\n"
     ]
    },
    {
     "name": "stderr",
     "output_type": "stream",
     "text": [
      " 86%|█████████████████████████████████████████████████████████████████████▏          | 454/525 [57:39<13:11, 11.15s/it]"
     ]
    },
    {
     "name": "stdout",
     "output_type": "stream",
     "text": [
      "processing pptnum: 538\n",
      "10001/video_features\\video_{ParticipantNo}_538_23-5-2021.csv\n",
      "Now reading: 10001/video_features\\video_{ParticipantNo}_538_23-5-2021.csv\n",
      "[6.627, 23.336, 38.711, 54.722, 73.611, 87.992, 103.61, 120.466, 137.33, 155.284, 170.403, 187.803, 204.631, 220.939, 237.543, 252.712, 267.729, 283.629, 298.33, 315.61, 330.279, 345.79]\n"
     ]
    },
    {
     "name": "stderr",
     "output_type": "stream",
     "text": [
      " 87%|█████████████████████████████████████████████████████████████████████▎          | 455/525 [57:53<14:04, 12.06s/it]"
     ]
    },
    {
     "name": "stdout",
     "output_type": "stream",
     "text": [
      "processing pptnum: 542\n",
      "10001/video_features\\video_{ParticipantNo}_542_21-5-2021.csv\n",
      "Now reading: 10001/video_features\\video_{ParticipantNo}_542_21-5-2021.csv\n",
      "[4.881, 30.773, 48.729, 66.025, 81.592, 94.647, 108.759, 124.542, 142.951, 159.649, 177.565, 196.875, 214.362, 238.279, 269.295, 283.953, 299.995, 313.761, 328.778, 342.565, 357.311, 370.412]\n"
     ]
    },
    {
     "name": "stderr",
     "output_type": "stream",
     "text": [
      " 87%|█████████████████████████████████████████████████████████████████████▍          | 456/525 [58:06<14:12, 12.36s/it]"
     ]
    },
    {
     "name": "stdout",
     "output_type": "stream",
     "text": [
      "processing pptnum: 543\n",
      "start time for this ppt is set to zero\n",
      "processing pptnum: 544\n",
      "10001/video_features\\video_{ParticipantNo}_544_20-5-2021.csv\n",
      "Now reading: 10001/video_features\\video_{ParticipantNo}_544_20-5-2021.csv\n",
      "[5.597, 22.232, 34.751, 48.017, 60.558, 74.154, 86.863, 99.674, 115.29, 128.846, 142.135, 155.822, 169.17, 182.291, 195.719, 210.135, 224.865, 238.072, 252.252, 265.404, 279.7, 292.495]\n"
     ]
    },
    {
     "name": "stderr",
     "output_type": "stream",
     "text": [
      " 87%|█████████████████████████████████████████████████████████████████████▊          | 458/525 [58:10<10:24,  9.33s/it]"
     ]
    },
    {
     "name": "stdout",
     "output_type": "stream",
     "text": [
      "processing pptnum: 548\n",
      "start time for this ppt is set to zero\n",
      "processing pptnum: 550\n",
      "10001/video_features\\video_{ParticipantNo}_550_30-6-2021.csv\n",
      "Now reading: 10001/video_features\\video_{ParticipantNo}_550_30-6-2021.csv\n",
      "[6.008, 25.51, 49.117, 74.142, 90.826, 106.826, 122.02, 140.777, 155.624, 183.936, 202.214, 219.158, 234.56, 252.142, 269.53, 286.095, 302.113, 329.597, 344.779, 360.938, 375.517, 390.753]\n"
     ]
    },
    {
     "name": "stderr",
     "output_type": "stream",
     "text": [
      " 88%|██████████████████████████████████████████████████████████████████████          | 460/525 [58:27<09:49,  9.08s/it]"
     ]
    },
    {
     "name": "stdout",
     "output_type": "stream",
     "text": [
      "processing pptnum: 551\n",
      "10001/video_features\\video_{ParticipantNo}_551_27-4-2021.csv\n",
      "Now reading: 10001/video_features\\video_{ParticipantNo}_551_27-4-2021.csv\n",
      "[6.153, 28.983, 47.507, 63.631, 80.409, 99.593, 116.141, 131.382, 147.428, 161.408, 178.701, 192.885, 207.625, 220.814, 238.129, 257.911, 274.659, 292.065, 307.564, 322.481, 336.84, 351.328]\n"
     ]
    },
    {
     "name": "stderr",
     "output_type": "stream",
     "text": [
      " 88%|██████████████████████████████████████████████████████████████████████▏         | 461/525 [58:44<12:07, 11.37s/it]"
     ]
    },
    {
     "name": "stdout",
     "output_type": "stream",
     "text": [
      "processing pptnum: 553\n",
      "10001/video_features\\video_{ParticipantNo}_553_8-6-2021.csv\n",
      "Now reading: 10001/video_features\\video_{ParticipantNo}_553_8-6-2021.csv\n",
      "[5.176, 19.41, 37.881, 55.074, 70.539, 85.227, 103.131, 119.83, 136.127, 159.349, 172.261, 193.067, 205.687, 224.826, 241.371, 258.054, 274.539, 287.305, 300.802, 316.86, 330.979, 348.374]\n"
     ]
    },
    {
     "name": "stderr",
     "output_type": "stream",
     "text": [
      " 88%|██████████████████████████████████████████████████████████████████████▍         | 462/525 [58:58<12:42, 12.10s/it]"
     ]
    },
    {
     "name": "stdout",
     "output_type": "stream",
     "text": [
      "processing pptnum: 554\n",
      "10001/video_features\\video_{ParticipantNo}_554_7-5-2021.csv\n",
      "Now reading: 10001/video_features\\video_{ParticipantNo}_554_7-5-2021.csv\n",
      "[5.118, 25.66, 41.981, 61.573, 77.786, 94.328, 110.489, 124.514, 145.03, 163.308, 177.734, 193.806, 212.434, 229.095, 243.072, 258.062, 272.841, 287.064, 302.297, 319.925, 334.509, 350.291]\n"
     ]
    },
    {
     "name": "stderr",
     "output_type": "stream",
     "text": [
      " 88%|██████████████████████████████████████████████████████████████████████▌         | 463/525 [59:13<13:32, 13.11s/it]"
     ]
    },
    {
     "name": "stdout",
     "output_type": "stream",
     "text": [
      "processing pptnum: 556\n",
      "10001/video_features\\video_{ParticipantNo}_556_2-6-2021.csv\n",
      "Now reading: 10001/video_features\\video_{ParticipantNo}_556_2-6-2021.csv\n",
      "[4.572, 22.436, 37.232, 53.548, 68.509, 82.403, 97.987, 112.147, 127.184, 146.382, 160.56, 175.849, 189.693, 203.712, 218.143, 231.623, 246.592, 260.736, 274.755, 290.552, 303.641, 316.985]\n"
     ]
    },
    {
     "name": "stderr",
     "output_type": "stream",
     "text": [
      " 88%|██████████████████████████████████████████████████████████████████████▋         | 464/525 [59:26<13:02, 12.82s/it]"
     ]
    },
    {
     "name": "stdout",
     "output_type": "stream",
     "text": [
      "processing pptnum: 557\n",
      "10001/video_features\\video_{ParticipantNo}_557_18-6-2021.csv\n",
      "Now reading: 10001/video_features\\video_{ParticipantNo}_557_18-6-2021.csv\n",
      "[5.519, 20.468, 35.136, 54.874, 70.426, 85.087, 101.213, 116.271, 131.245, 145.814, 163.0, 177.871, 198.696, 212.527, 228.066, 251.751, 266.319, 283.011, 298.807, 311.837, 326.066, 339.193]\n"
     ]
    },
    {
     "name": "stderr",
     "output_type": "stream",
     "text": [
      " 89%|██████████████████████████████████████████████████████████████████████▊         | 465/525 [59:37<12:30, 12.50s/it]"
     ]
    },
    {
     "name": "stdout",
     "output_type": "stream",
     "text": [
      "processing pptnum: 559\n",
      "10001/video_features\\video_{ParticipantNo}_559_12-5-2021.csv\n",
      "Now reading: 10001/video_features\\video_{ParticipantNo}_559_12-5-2021.csv\n",
      "[7.716, 31.258, 50.549, 66.534, 84.146, 100.868, 122.663, 142.377, 158.563, 175.442, 190.358, 208.867, 227.841, 243.372, 258.955, 279.47, 298.465, 312.622, 326.37, 342.288, 361.912, 375.854]\n"
     ]
    },
    {
     "name": "stderr",
     "output_type": "stream",
     "text": [
      " 89%|███████████████████████████████████████████████████████████████████████         | 466/525 [59:52<12:55, 13.15s/it]"
     ]
    },
    {
     "name": "stdout",
     "output_type": "stream",
     "text": [
      "processing pptnum: 560\n",
      "start time for this ppt is set to zero\n",
      "processing pptnum: 561\n",
      "10001/video_features\\video_{ParticipantNo}_561_26-4-2021.csv\n",
      "Now reading: 10001/video_features\\video_{ParticipantNo}_561_26-4-2021.csv\n",
      "[6.707, 29.33, 47.596, 61.429, 81.804, 94.844, 110.283, 124.735, 140.475, 153.461, 165.893, 178.78, 193.324, 205.989, 219.962, 237.427, 252.43, 266.033, 280.196, 297.428, 310.994, 325.145]\n"
     ]
    },
    {
     "name": "stderr",
     "output_type": "stream",
     "text": [
      " 89%|███████████████████████████████████████████████████████████████████████▎        | 468/525 [59:59<09:45, 10.26s/it]"
     ]
    },
    {
     "name": "stdout",
     "output_type": "stream",
     "text": [
      "processing pptnum: 562\n",
      "10001/video_features\\video_{ParticipantNo}_562_1-5-2021.csv\n",
      "Now reading: 10001/video_features\\video_{ParticipantNo}_562_1-5-2021.csv\n",
      "[5.657, 33.997, 57.88, 75.72, 93.6, 114.889, 132.16, 148.743, 165.031, 182.478, 199.969, 222.627, 244.689, 263.84, 282.36, 303.619, 320.458, 336.304, 350.6, 369.514, 385.841, 401.921]\n"
     ]
    },
    {
     "name": "stderr",
     "output_type": "stream",
     "text": [
      " 89%|█████████████████████████████████████████████████████████████████████▋        | 469/525 [1:00:13<10:31, 11.28s/it]"
     ]
    },
    {
     "name": "stdout",
     "output_type": "stream",
     "text": [
      "processing pptnum: 564\n",
      "10001/video_features\\video_{ParticipantNo}_564_13-5-2021.csv\n",
      "Now reading: 10001/video_features\\video_{ParticipantNo}_564_13-5-2021.csv\n",
      "[5.328, 24.423, 40.929, 55.469, 72.06, 85.303, 99.884, 114.865, 128.919, 144.103, 157.325, 170.248, 186.295, 200.294, 214.704, 228.783, 242.27, 256.154, 270.781, 288.478, 302.48, 316.64]\n"
     ]
    },
    {
     "name": "stderr",
     "output_type": "stream",
     "text": [
      " 90%|█████████████████████████████████████████████████████████████████████▊        | 470/525 [1:00:24<10:16, 11.22s/it]"
     ]
    },
    {
     "name": "stdout",
     "output_type": "stream",
     "text": [
      "processing pptnum: 567\n",
      "start time for this ppt is set to zero\n",
      "processing pptnum: 569\n",
      "start time for this ppt is set to zero\n",
      "processing pptnum: 572\n",
      "start time for this ppt is set to zero\n",
      "processing pptnum: 573\n",
      "10001/video_features\\video_{ParticipantNo}_573_15-5-2021.csv\n",
      "Now reading: 10001/video_features\\video_{ParticipantNo}_573_15-5-2021.csv\n",
      "[6.3, 32.392, 54.119, 72.841, 92.722, 116.635, 139.229, 165.084, 195.134, 219.364, 237.602, 256.774, 280.59, 298.403, 320.445, 337.089, 353.194, 376.435, 398.696, 421.204, 447.441, 475.559]\n"
     ]
    },
    {
     "name": "stderr",
     "output_type": "stream",
     "text": [
      " 90%|██████████████████████████████████████████████████████████████████████▍       | 474/525 [1:00:39<07:38,  8.99s/it]"
     ]
    },
    {
     "name": "stdout",
     "output_type": "stream",
     "text": [
      "processing pptnum: 574\n",
      "start time for this ppt is set to zero\n",
      "processing pptnum: 576\n",
      "start time for this ppt is set to zero\n",
      "processing pptnum: 579\n",
      "start time for this ppt is set to zero\n",
      "processing pptnum: 580\n",
      "10001/video_features\\video_{ParticipantNo}_580_25-4-2021.csv\n",
      "Now reading: 10001/video_features\\video_{ParticipantNo}_580_25-4-2021.csv\n",
      "[4.645, 22.708, 38.497, 54.828, 78.719, 102.718, 120.154, 135.142, 150.768, 168.478, 183.356, 195.746, 210.893, 225.975, 239.211, 258.835, 272.721, 288.267, 302.311, 316.646, 328.609, 344.168]\n"
     ]
    },
    {
     "name": "stderr",
     "output_type": "stream",
     "text": [
      " 91%|███████████████████████████████████████████████████████████████████████       | 478/525 [1:00:46<05:20,  6.82s/it]"
     ]
    },
    {
     "name": "stdout",
     "output_type": "stream",
     "text": [
      "processing pptnum: 584\n",
      "start time for this ppt is set to zero\n",
      "processing pptnum: 586\n",
      "10001/video_features\\video_{ParticipantNo}_586_10-5-2021.csv\n",
      "Now reading: 10001/video_features\\video_{ParticipantNo}_586_10-5-2021.csv\n",
      "[6.517, 28.304, 47.727, 67.327, 81.791, 96.746, 112.945, 128.033, 142.489, 159.195, 175.626, 193.274, 208.107, 226.668, 244.708, 261.654, 276.111, 292.366, 306.799, 320.23, 335.206, 349.544]\n"
     ]
    },
    {
     "name": "stderr",
     "output_type": "stream",
     "text": [
      " 92%|███████████████████████████████████████████████████████████████████████▍      | 481/525 [1:00:48<03:39,  4.98s/it]"
     ]
    },
    {
     "name": "stdout",
     "output_type": "stream",
     "text": [
      "processing pptnum: 587\n",
      "10001/video_features\\video_{ParticipantNo}_587_28-4-2021.csv\n",
      "Now reading: 10001/video_features\\video_{ParticipantNo}_587_28-4-2021.csv\n",
      "[5.269, 29.503, 48.566, 68.949, 86.198, 103.046, 119.327, 137.877, 153.342, 169.334, 184.222, 199.11, 217.334, 235.158, 251.789, 267.357, 282.438, 299.654, 313.926, 329.454, 343.607, 359.358]\n"
     ]
    },
    {
     "name": "stderr",
     "output_type": "stream",
     "text": [
      " 92%|███████████████████████████████████████████████████████████████████████▌      | 482/525 [1:01:00<05:06,  7.12s/it]"
     ]
    },
    {
     "name": "stdout",
     "output_type": "stream",
     "text": [
      "processing pptnum: 588\n",
      "10001/video_features\\video_{ParticipantNo}_588_19-5-2021.csv\n",
      "Now reading: 10001/video_features\\video_{ParticipantNo}_588_19-5-2021.csv\n",
      "[6.941, 25.886, 42.24, 58.145, 76.847, 91.024, 107.873, 126.32, 140.579, 156.13, 171.977, 190.344, 205.415, 221.734, 236.373, 251.433, 265.655, 278.379, 291.588, 304.883, 322.438, 336.233]\n"
     ]
    },
    {
     "name": "stderr",
     "output_type": "stream",
     "text": [
      " 92%|███████████████████████████████████████████████████████████████████████▊      | 483/525 [1:01:11<05:43,  8.18s/it]"
     ]
    },
    {
     "name": "stdout",
     "output_type": "stream",
     "text": [
      "processing pptnum: 589\n",
      "10001/video_features\\video_{ParticipantNo}_589_25-4-2021.csv\n",
      "Now reading: 10001/video_features\\video_{ParticipantNo}_589_25-4-2021.csv\n",
      "[5.211, 26.275, 44.044, 60.826, 79.031, 96.18, 115.604, 134.076, 152.535, 168.224, 181.394, 198.879, 213.785, 230.806, 246.316, 261.416, 275.196, 290.213, 305.727, 327.343, 341.748, 356.662]\n"
     ]
    },
    {
     "name": "stderr",
     "output_type": "stream",
     "text": [
      " 92%|███████████████████████████████████████████████████████████████████████▉      | 484/525 [1:01:22<06:16,  9.18s/it]"
     ]
    },
    {
     "name": "stdout",
     "output_type": "stream",
     "text": [
      "processing pptnum: 596\n",
      "10001/video_features\\video_{ParticipantNo}_596_27-5-2021.csv\n",
      "Now reading: 10001/video_features\\video_{ParticipantNo}_596_27-5-2021.csv\n",
      "[4.583, 17.647, 37.648, 53.111, 67.784, 81.344, 94.231, 106.752, 118.607, 132.743, 145.712, 161.359, 175.335, 192.039, 204.927, 219.688, 231.047, 244.527, 257.719, 271.136, 283.791, 297.079]\n"
     ]
    },
    {
     "name": "stderr",
     "output_type": "stream",
     "text": [
      " 92%|████████████████████████████████████████████████████████████████████████      | 485/525 [1:01:32<06:16,  9.41s/it]"
     ]
    },
    {
     "name": "stdout",
     "output_type": "stream",
     "text": [
      "processing pptnum: 597\n",
      "10001/video_features\\video_{ParticipantNo}_597_26-5-2021.csv\n",
      "Now reading: 10001/video_features\\video_{ParticipantNo}_597_26-5-2021.csv\n",
      "[5.931, 26.207, 47.104, 65.785, 84.679, 102.923, 119.99, 138.242, 158.304, 177.624, 193.021, 209.214, 231.647, 250.104, 266.326, 290.294, 313.544, 333.193, 348.623, 366.984, 388.604, 404.787]\n"
     ]
    },
    {
     "name": "stderr",
     "output_type": "stream",
     "text": [
      " 93%|████████████████████████████████████████████████████████████████████████▏     | 486/525 [1:01:47<07:14, 11.14s/it]"
     ]
    },
    {
     "name": "stdout",
     "output_type": "stream",
     "text": [
      "processing pptnum: 598\n",
      "10001/video_features\\video_{ParticipantNo}_598_2-6-2021.csv\n",
      "Now reading: 10001/video_features\\video_{ParticipantNo}_598_2-6-2021.csv\n",
      "[6.464, 22.017, 35.416, 49.568, 63.049, 74.905, 86.176, 99.351, 111.679, 124.353, 135.977, 148.097, 162.553, 176.257, 190.067, 202.865, 216.723, 228.573, 240.274, 255.261, 269.683, 282.258]\n"
     ]
    },
    {
     "name": "stderr",
     "output_type": "stream",
     "text": [
      " 93%|████████████████████████████████████████████████████████████████████████▎     | 487/525 [1:01:59<07:07, 11.24s/it]"
     ]
    },
    {
     "name": "stdout",
     "output_type": "stream",
     "text": [
      "processing pptnum: 601\n",
      "10001/video_features\\video_{ParticipantNo}_601_17-5-2021.csv\n",
      "Now reading: 10001/video_features\\video_{ParticipantNo}_601_17-5-2021.csv\n",
      "[5.905, 23.309, 39.749, 56.878, 73.016, 89.349, 106.48, 119.717, 138.767, 152.348, 166.149, 186.649, 200.149, 215.637, 236.437, 253.31, 267.948, 282.552, 296.229, 308.896, 321.117, 336.185]\n"
     ]
    },
    {
     "name": "stderr",
     "output_type": "stream",
     "text": [
      " 93%|████████████████████████████████████████████████████████████████████████▌     | 488/525 [1:02:00<05:08,  8.34s/it]"
     ]
    },
    {
     "name": "stdout",
     "output_type": "stream",
     "text": [
      "processing pptnum: 603\n",
      "10001/video_features\\video_{ParticipantNo}_603_27-5-2021.csv\n",
      "Now reading: 10001/video_features\\video_{ParticipantNo}_603_27-5-2021.csv\n",
      "[6.882, 27.506, 43.597, 60.033, 75.713, 91.987, 113.746, 133.033, 152.945, 172.57, 188.721, 207.538, 224.513, 243.417, 268.817, 286.346, 303.441, 320.778, 338.185, 354.481, 374.059, 389.802]\n"
     ]
    },
    {
     "name": "stderr",
     "output_type": "stream",
     "text": [
      " 93%|████████████████████████████████████████████████████████████████████████▋     | 489/525 [1:02:13<05:48,  9.67s/it]"
     ]
    },
    {
     "name": "stdout",
     "output_type": "stream",
     "text": [
      "processing pptnum: 605\n",
      "start time for this ppt is set to zero\n",
      "processing pptnum: 606\n",
      "10001/video_features\\video_{ParticipantNo}_606_30-4-2021.csv\n",
      "Now reading: 10001/video_features\\video_{ParticipantNo}_606_30-4-2021.csv\n",
      "[6.258, 21.238, 35.089, 52.253, 66.86, 80.202, 93.05, 105.52, 117.754, 130.515, 143.297, 156.087, 108.419, 121.806, 135.52, 146.887, 160.805, 173.073, 187.339, 198.473, 210.614, 222.371]\n"
     ]
    },
    {
     "name": "stderr",
     "output_type": "stream",
     "text": [
      " 94%|████████████████████████████████████████████████████████████████████████▉     | 491/525 [1:02:30<05:13,  9.21s/it]"
     ]
    },
    {
     "name": "stdout",
     "output_type": "stream",
     "text": [
      "processing pptnum: 607\n",
      "start time for this ppt is set to zero\n",
      "processing pptnum: 608\n",
      "10001/video_features\\video_{ParticipantNo}_608_4-6-2021.csv\n",
      "Now reading: 10001/video_features\\video_{ParticipantNo}_608_4-6-2021.csv\n",
      "[4.66, 18.845, 30.59, 42.846, 55.516, 70.81, 86.517, 98.819, 112.735, 128.129, 140.631, 153.484, 165.324, 179.193, 191.784, 203.915, 216.369, 229.04, 242.231, 255.172, 268.649, 280.69]\n"
     ]
    },
    {
     "name": "stderr",
     "output_type": "stream",
     "text": [
      " 94%|█████████████████████████████████████████████████████████████████████████▏    | 493/525 [1:02:41<04:20,  8.14s/it]"
     ]
    },
    {
     "name": "stdout",
     "output_type": "stream",
     "text": [
      "processing pptnum: 609\n",
      "10001/video_features\\video_{ParticipantNo}_609_21-5-2021.csv\n",
      "Now reading: 10001/video_features\\video_{ParticipantNo}_609_21-5-2021.csv\n",
      "[5.074, 21.449, 37.059, 55.72, 71.87, 86.955, 101.05, 128.996, 148.21, 173.181, 191.802, 206.492, 224.432, 243.062, 257.587, 275.888, 290.762, 304.992, 325.002, 344.938, 360.751, 374.993]\n"
     ]
    },
    {
     "name": "stderr",
     "output_type": "stream",
     "text": [
      " 94%|█████████████████████████████████████████████████████████████████████████▍    | 494/525 [1:02:56<05:21, 10.38s/it]"
     ]
    },
    {
     "name": "stdout",
     "output_type": "stream",
     "text": [
      "processing pptnum: 610\n",
      "10001/video_features\\video_{ParticipantNo}_610_28-4-2021.csv\n",
      "Now reading: 10001/video_features\\video_{ParticipantNo}_610_28-4-2021.csv\n",
      "[4.712, 27.279, 58.825, 77.592, 95.588, 117.291, 130.53, 147.917, 168.357, 182.867, 198.766, 211.966, 229.175, 243.737, 264.372, 281.17, 298.537, 312.078, 325.09, 341.389, 356.047, 371.737]\n"
     ]
    },
    {
     "name": "stderr",
     "output_type": "stream",
     "text": [
      " 94%|█████████████████████████████████████████████████████████████████████████▌    | 495/525 [1:03:10<05:40, 11.36s/it]"
     ]
    },
    {
     "name": "stdout",
     "output_type": "stream",
     "text": [
      "processing pptnum: 612\n",
      "10001/video_features\\video_{ParticipantNo}_612_5-5-2021.csv\n",
      "Now reading: 10001/video_features\\video_{ParticipantNo}_612_5-5-2021.csv\n",
      "[5.228, 21.965, 36.773, 49.96, 64.696, 79.7, 94.937, 112.272, 124.984, 139.345, 154.39, 168.354, 185.325, 199.301, 216.731, 230.85, 247.131, 261.255, 275.182, 288.127, 301.346, 323.207]\n"
     ]
    },
    {
     "name": "stderr",
     "output_type": "stream",
     "text": [
      " 94%|█████████████████████████████████████████████████████████████████████████▋    | 496/525 [1:03:22<05:36, 11.60s/it]"
     ]
    },
    {
     "name": "stdout",
     "output_type": "stream",
     "text": [
      "processing pptnum: 615\n",
      "10001/video_features\\video_{ParticipantNo}_615_29-6-2021.csv\n",
      "Now reading: 10001/video_features\\video_{ParticipantNo}_615_29-6-2021.csv\n",
      "[5.025, 20.095, 35.861, 48.337, 63.66, 78.169, 99.901, 114.218, 128.978, 143.249, 158.059, 177.49, 190.3, 205.39, 221.229, 235.912, 250.341, 264.975, 279.175, 294.765, 309.285, 323.841]\n"
     ]
    },
    {
     "name": "stderr",
     "output_type": "stream",
     "text": [
      " 95%|█████████████████████████████████████████████████████████████████████████▊    | 497/525 [1:03:27<04:28,  9.58s/it]"
     ]
    },
    {
     "name": "stdout",
     "output_type": "stream",
     "text": [
      "processing pptnum: 617\n",
      "start time for this ppt is set to zero\n",
      "processing pptnum: 618\n",
      "10001/video_features\\video_{ParticipantNo}_618_24-5-2021.csv\n",
      "Now reading: 10001/video_features\\video_{ParticipantNo}_618_24-5-2021.csv\n",
      "[4.813, 24.886, 39.709, 56.649, 75.442, 91.728, 109.816, 124.049, 140.033, 155.349, 169.893, 190.216, 208.392, 223.413, 237.936, 262.945, 277.461, 290.738, 304.78, 317.915, 331.879, 348.497]\n"
     ]
    },
    {
     "name": "stderr",
     "output_type": "stream",
     "text": [
      " 95%|██████████████████████████████████████████████████████████████████████████▏   | 499/525 [1:03:49<04:18,  9.95s/it]"
     ]
    },
    {
     "name": "stdout",
     "output_type": "stream",
     "text": [
      "processing pptnum: 621\n",
      "start time for this ppt is set to zero\n",
      "processing pptnum: 622\n",
      "10001/video_features\\video_{ParticipantNo}_622_30-4-2021.csv\n",
      "Now reading: 10001/video_features\\video_{ParticipantNo}_622_30-4-2021.csv\n",
      "[5.557, 25.1, 44.843, 65.203, 88.056, 109.968, 127.992, 144.096, 161.323, 180.037, 205.124, 222.323, 242.951, 260.772, 279.936, 298.715, 316.091, 331.985, 351.164, 368.455, 384.449, 404.785]\n"
     ]
    },
    {
     "name": "stderr",
     "output_type": "stream",
     "text": [
      " 95%|██████████████████████████████████████████████████████████████████████████▍   | 501/525 [1:03:56<03:14,  8.12s/it]"
     ]
    },
    {
     "name": "stdout",
     "output_type": "stream",
     "text": [
      "processing pptnum: 628\n",
      "10001/video_features\\video_{ParticipantNo}_628_27-5-2021.csv\n",
      "Now reading: 10001/video_features\\video_{ParticipantNo}_628_27-5-2021.csv\n",
      "[5.068, 24.279, 37.611, 53.452, 66.699, 82.306, 101.19, 114.566, 131.413, 149.186, 167.105, 185.072, 199.352, 213.132, 227.5, 240.458, 252.99, 268.132, 282.541, 299.331, 312.671, 327.173]\n"
     ]
    },
    {
     "name": "stderr",
     "output_type": "stream",
     "text": [
      " 96%|██████████████████████████████████████████████████████████████████████████▌   | 502/525 [1:04:11<03:51, 10.06s/it]"
     ]
    },
    {
     "name": "stdout",
     "output_type": "stream",
     "text": [
      "processing pptnum: 630\n",
      "10001/video_features\\video_{ParticipantNo}_630_14-5-2021.csv\n",
      "Now reading: 10001/video_features\\video_{ParticipantNo}_630_14-5-2021.csv\n",
      "[6.823, 27.202, 47.418, 65.295, 78.817, 97.156, 119.048, 135.734, 150.67, 164.398, 177.965, 193.478, 214.608, 230.99, 246.705, 263.986, 288.18, 306.202, 322.599, 341.6, 356.755, 374.161]\n"
     ]
    },
    {
     "name": "stderr",
     "output_type": "stream",
     "text": [
      " 96%|██████████████████████████████████████████████████████████████████████████▋   | 503/525 [1:04:21<03:38,  9.92s/it]"
     ]
    },
    {
     "name": "stdout",
     "output_type": "stream",
     "text": [
      "processing pptnum: 631\n",
      "10001/video_features\\video_{ParticipantNo}_631_16-5-2021.csv\n",
      "Now reading: 10001/video_features\\video_{ParticipantNo}_631_16-5-2021.csv\n",
      "[6.623, 26.269, 44.526, 62.148, 80.797, 96.237, 112.723, 128.025, 147.467, 163.414, 178.641, 195.722, 213.6, 229.06, 243.76, 261.57, 276.78, 291.475, 307.13, 323.39, 340.001, 354.95]\n"
     ]
    },
    {
     "name": "stderr",
     "output_type": "stream",
     "text": [
      " 96%|██████████████████████████████████████████████████████████████████████████▉   | 504/525 [1:04:35<03:58, 11.37s/it]"
     ]
    },
    {
     "name": "stdout",
     "output_type": "stream",
     "text": [
      "processing pptnum: 634\n",
      "10001/video_features\\video_{ParticipantNo}_634_30-5-2021.csv\n",
      "Now reading: 10001/video_features\\video_{ParticipantNo}_634_30-5-2021.csv\n",
      "[4.748, 22.512, 37.138, 54.243, 73.705, 95.845, 111.691, 133.485, 149.04, 169.885, 184.402, 203.639, 219.14, 234.092, 249.836, 263.389, 276.479, 290.509, 308.459, 325.593, 342.623, 360.663]\n"
     ]
    },
    {
     "name": "stderr",
     "output_type": "stream",
     "text": [
      " 96%|███████████████████████████████████████████████████████████████████████████   | 505/525 [1:04:40<03:06,  9.33s/it]"
     ]
    },
    {
     "name": "stdout",
     "output_type": "stream",
     "text": [
      "processing pptnum: 638\n",
      "10001/video_features\\video_{ParticipantNo}_638_15-5-2021.csv\n",
      "Now reading: 10001/video_features\\video_{ParticipantNo}_638_15-5-2021.csv\n",
      "[5.447, 23.431, 39.482, 56.878, 74.0, 98.744, 116.714, 131.573, 148.825, 166.927, 197.647, 210.854, 226.839, 246.846, 279.244, 300.685, 316.887, 345.402, 361.466, 377.52, 399.89, 417.88]\n"
     ]
    },
    {
     "name": "stderr",
     "output_type": "stream",
     "text": [
      " 96%|███████████████████████████████████████████████████████████████████████████▏  | 506/525 [1:04:57<03:40, 11.61s/it]"
     ]
    },
    {
     "name": "stdout",
     "output_type": "stream",
     "text": [
      "processing pptnum: 639\n",
      "10001/video_features\\video_{ParticipantNo}_639_7-6-2021.csv\n",
      "Now reading: 10001/video_features\\video_{ParticipantNo}_639_7-6-2021.csv\n",
      "[4.775, 27.411, 43.334, 59.649, 72.241, 85.352, 97.802, 114.393, 128.569, 141.543, 153.783, 165.972, 177.808, 188.795, 200.601, 212.384, 223.867, 236.399, 257.445, 269.633, 284.656, 299.703]\n"
     ]
    },
    {
     "name": "stderr",
     "output_type": "stream",
     "text": [
      " 97%|███████████████████████████████████████████████████████████████████████████▎  | 507/525 [1:05:09<03:29, 11.65s/it]"
     ]
    },
    {
     "name": "stdout",
     "output_type": "stream",
     "text": [
      "processing pptnum: 640\n",
      "10001/video_features\\video_{ParticipantNo}_640_22-5-2021.csv\n",
      "Now reading: 10001/video_features\\video_{ParticipantNo}_640_22-5-2021.csv\n",
      "[5.591, 24.429, 39.808, 60.42, 75.93, 92.24, 109.96, 126.159, 142.787, 157.217, 173.289, 188.799, 204.589, 222.096, 236.675, 251.894, 265.957, 280.001, 299.569, 318.44, 334.16, 346.958]\n"
     ]
    },
    {
     "name": "stderr",
     "output_type": "stream",
     "text": [
      " 97%|███████████████████████████████████████████████████████████████████████████▍  | 508/525 [1:05:24<03:36, 12.73s/it]"
     ]
    },
    {
     "name": "stdout",
     "output_type": "stream",
     "text": [
      "processing pptnum: 642\n",
      "start time for this ppt is set to zero\n",
      "processing pptnum: 644\n",
      "10001/video_features\\video_{ParticipantNo}_644_25-5-2021.csv\n",
      "Now reading: 10001/video_features\\video_{ParticipantNo}_644_25-5-2021.csv\n",
      "[4.791, 22.239, 36.566, 48.99, 62.135, 74.92, 86.991, 101.142, 113.919, 126.303, 138.613, 150.846, 162.655, 174.862, 186.895, 198.847, 211.663, 225.503, 237.415, 249.151, 261.4, 275.383]\n"
     ]
    },
    {
     "name": "stderr",
     "output_type": "stream",
     "text": [
      " 97%|███████████████████████████████████████████████████████████████████████████▊  | 510/525 [1:05:36<02:40, 10.69s/it]"
     ]
    },
    {
     "name": "stdout",
     "output_type": "stream",
     "text": [
      "processing pptnum: 645\n",
      "10001/video_features\\video_{ParticipantNo}_645_5-5-2021.csv\n",
      "Now reading: 10001/video_features\\video_{ParticipantNo}_645_5-5-2021.csv\n",
      "[7.321, 36.217, 53.824, 83.273, 104.637, 124.453, 142.801, 159.819, 178.917, 198.336, 224.842, 240.895, 257.466, 278.287, 296.31, 316.661, 335.999, 353.21, 370.409, 389.032, 411.312, 445.746]\n"
     ]
    },
    {
     "name": "stderr",
     "output_type": "stream",
     "text": [
      " 97%|███████████████████████████████████████████████████████████████████████████▉  | 511/525 [1:05:47<02:29, 10.71s/it]"
     ]
    },
    {
     "name": "stdout",
     "output_type": "stream",
     "text": [
      "processing pptnum: 649\n",
      "10001/video_features\\video_{ParticipantNo}_649_28-5-2021.csv\n",
      "Now reading: 10001/video_features\\video_{ParticipantNo}_649_28-5-2021.csv\n",
      "[6.381, 23.952, 38.331, 52.773, 66.7, 84.004, 98.68, 113.877, 129.28, 150.006, 164.047, 185.29, 203.829, 217.189, 231.679, 244.163, 257.906, 272.372, 285.882, 303.991, 316.471, 331.002]\n"
     ]
    },
    {
     "name": "stderr",
     "output_type": "stream",
     "text": [
      " 98%|████████████████████████████████████████████████████████████████████████████  | 512/525 [1:05:59<02:27, 11.36s/it]"
     ]
    },
    {
     "name": "stdout",
     "output_type": "stream",
     "text": [
      "processing pptnum: 650\n",
      "10001/video_features\\video_{ParticipantNo}_650_25-5-2021.csv\n",
      "Now reading: 10001/video_features\\video_{ParticipantNo}_650_25-5-2021.csv\n",
      "[4.575, 18.062, 33.333, 45.993, 58.846, 71.251, 86.757, 102.702, 116.539, 131.598, 149.308, 161.591, 174.855, 190.342, 202.963, 218.594, 233.092, 246.724, 260.763, 275.146, 288.332, 301.533]\n"
     ]
    },
    {
     "name": "stderr",
     "output_type": "stream",
     "text": [
      " 98%|████████████████████████████████████████████████████████████████████████████▏ | 513/525 [1:06:06<01:58,  9.89s/it]"
     ]
    },
    {
     "name": "stdout",
     "output_type": "stream",
     "text": [
      "processing pptnum: 653\n",
      "10001/video_features\\video_{ParticipantNo}_653_4-6-2021.csv\n",
      "Now reading: 10001/video_features\\video_{ParticipantNo}_653_4-6-2021.csv\n",
      "[5.46, 22.065, 37.706, 53.286, 69.09, 82.196, 95.267, 113.858, 129.276, 144.206, 158.03, 174.986, 188.997, 202.799, 217.137, 232.327, 247.947, 261.195, 276.357, 288.776, 301.168, 313.498]\n"
     ]
    },
    {
     "name": "stderr",
     "output_type": "stream",
     "text": [
      " 98%|████████████████████████████████████████████████████████████████████████████▎ | 514/525 [1:06:17<01:52, 10.27s/it]"
     ]
    },
    {
     "name": "stdout",
     "output_type": "stream",
     "text": [
      "processing pptnum: 657\n",
      "10001/video_features\\video_{ParticipantNo}_657_8-6-2021.csv\n",
      "Now reading: 10001/video_features\\video_{ParticipantNo}_657_8-6-2021.csv\n",
      "[4.795, 17.842, 31.424, 42.977, 55.054, 70.124, 81.286, 92.419, 105.577, 117.826, 129.138, 141.581, 153.466, 165.074, 178.567, 191.788, 202.187, 213.802, 225.938, 237.82, 250.566, 262.047]\n"
     ]
    },
    {
     "name": "stderr",
     "output_type": "stream",
     "text": [
      " 98%|████████████████████████████████████████████████████████████████████████████▌ | 515/525 [1:06:27<01:42, 10.26s/it]"
     ]
    },
    {
     "name": "stdout",
     "output_type": "stream",
     "text": [
      "processing pptnum: 659\n",
      "10001/video_features\\video_{ParticipantNo}_659_4-6-2021.csv\n",
      "Now reading: 10001/video_features\\video_{ParticipantNo}_659_4-6-2021.csv\n",
      "[4.787, 25.04, 40.756, 55.608, 71.056, 83.43, 98.93, 111.848, 128.855, 143.592, 157.105, 170.808, 185.936, 198.685, 219.421, 232.853, 249.49, 275.52, 288.278, 300.406, 314.784, 331.5]\n"
     ]
    },
    {
     "name": "stderr",
     "output_type": "stream",
     "text": [
      " 98%|████████████████████████████████████████████████████████████████████████████▋ | 516/525 [1:06:41<01:41, 11.24s/it]"
     ]
    },
    {
     "name": "stdout",
     "output_type": "stream",
     "text": [
      "processing pptnum: 662\n",
      "10001/video_features\\video_{ParticipantNo}_662_5-6-2021.csv\n",
      "Now reading: 10001/video_features\\video_{ParticipantNo}_662_5-6-2021.csv\n",
      "[5.051, 22.309, 37.843, 54.235, 67.852, 79.886, 94.533, 107.324, 125.719, 141.157, 161.637, 174.044, 187.006, 201.172, 214.127, 226.125, 240.533, 259.803, 271.878, 286.702, 299.182, 312.637]\n"
     ]
    },
    {
     "name": "stderr",
     "output_type": "stream",
     "text": [
      " 98%|████████████████████████████████████████████████████████████████████████████▊ | 517/525 [1:06:53<01:33, 11.69s/it]"
     ]
    },
    {
     "name": "stdout",
     "output_type": "stream",
     "text": [
      "processing pptnum: 664\n",
      "10001/video_features\\video_{ParticipantNo}_664_1-7-2021.csv\n",
      "Now reading: 10001/video_features\\video_{ParticipantNo}_664_1-7-2021.csv\n",
      "[4.753, 24.242, 43.016, 60.689, 77.05, 93.545, 109.228, 126.52, 146.464, 163.537, 180.543, 195.882, 209.344, 223.865, 239.235, 253.184, 267.639, 281.576, 294.723, 308.432, 324.743, 338.279]\n"
     ]
    },
    {
     "name": "stderr",
     "output_type": "stream",
     "text": [
      " 99%|████████████████████████████████████████████████████████████████████████████▉ | 518/525 [1:06:59<01:07,  9.69s/it]"
     ]
    },
    {
     "name": "stdout",
     "output_type": "stream",
     "text": [
      "processing pptnum: 665\n",
      "10001/video_features\\video_{ParticipantNo}_665_28-7-2021.csv\n",
      "Now reading: 10001/video_features\\video_{ParticipantNo}_665_28-7-2021.csv\n",
      "[6.165, 23.914, 42.595, 59.125, 76.349, 91.535, 106.395, 122.605, 137.945, 153.985, 170.965, 185.904, 199.255, 214.734, 230.025, 246.205, 259.285, 274.065, 289.325, 304.574, 322.475, 336.485]\n"
     ]
    },
    {
     "name": "stderr",
     "output_type": "stream",
     "text": [
      " 99%|█████████████████████████████████████████████████████████████████████████████ | 519/525 [1:07:04<00:51,  8.53s/it]"
     ]
    },
    {
     "name": "stdout",
     "output_type": "stream",
     "text": [
      "processing pptnum: 671\n",
      "10001/video_features\\video_{ParticipantNo}_671_16-8-2021.csv\n",
      "Now reading: 10001/video_features\\video_{ParticipantNo}_671_16-8-2021.csv\n",
      "[4.721, 19.089, 32.337, 44.601, 59.152, 72.705, 84.664, 97.112, 109.969, 121.865, 135.216, 147.577, 159.601, 171.281, 183.048, 194.433, 205.507, 217.21, 231.482, 245.817, 259.875, 271.346]\n"
     ]
    },
    {
     "name": "stderr",
     "output_type": "stream",
     "text": [
      " 99%|█████████████████████████████████████████████████████████████████████████████▎| 520/525 [1:07:16<00:46,  9.36s/it]"
     ]
    },
    {
     "name": "stdout",
     "output_type": "stream",
     "text": [
      "processing pptnum: 674\n",
      "10001/video_features\\video_{ParticipantNo}_674_31-8-2021.csv\n",
      "Now reading: 10001/video_features\\video_{ParticipantNo}_674_31-8-2021.csv\n",
      "[5.231, 21.372, 38.862, 53.251, 70.106, 83.699, 96.543, 109.551, 122.876, 138.866, 153.562, 173.586, 187.979, 202.495, 216.738, 230.798, 245.766, 261.946, 277.657, 292.12, 309.446, 324.758]\n"
     ]
    },
    {
     "name": "stderr",
     "output_type": "stream",
     "text": [
      " 99%|█████████████████████████████████████████████████████████████████████████████▍| 521/525 [1:07:34<00:47, 11.98s/it]"
     ]
    },
    {
     "name": "stdout",
     "output_type": "stream",
     "text": [
      "processing pptnum: 676\n",
      "10001/video_features\\video_{ParticipantNo}_676_7-8-2021.csv\n",
      "Now reading: 10001/video_features\\video_{ParticipantNo}_676_7-8-2021.csv\n",
      "[9.822, 25.522, 39.399, 53.397, 66.415, 79.218, 92.306, 106.109, 118.773, 130.764, 143.842, 155.84, 168.278, 182.527, 195.59, 208.5, 221.458, 233.61, 245.747, 257.555, 272.584, 287.338]\n"
     ]
    },
    {
     "name": "stderr",
     "output_type": "stream",
     "text": [
      " 99%|█████████████████████████████████████████████████████████████████████████████▌| 522/525 [1:07:51<00:40, 13.45s/it]"
     ]
    },
    {
     "name": "stdout",
     "output_type": "stream",
     "text": [
      "processing pptnum: 678\n",
      "start time for this ppt is set to zero\n",
      "processing pptnum: 679\n",
      "10001/video_features\\video_{ParticipantNo}_679_30-9-2021.csv\n",
      "Now reading: 10001/video_features\\video_{ParticipantNo}_679_30-9-2021.csv\n",
      "[4.423, 17.309, 31.028, 45.638, 57.956, 71.169, 85.759, 98.917, 110.655, 125.776, 139.78, 154.934, 171.121, 183.67, 196.638, 210.395, 223.878, 236.324, 250.38, 263.307, 275.823, 287.902]\n"
     ]
    },
    {
     "name": "stderr",
     "output_type": "stream",
     "text": [
      "100%|██████████████████████████████████████████████████████████████████████████████| 525/525 [1:08:03<00:00,  7.78s/it]"
     ]
    },
    {
     "name": "stdout",
     "output_type": "stream",
     "text": [
      "processing pptnum: 107\n",
      "No input data found for video file of pptnum: 107 with video file A\n"
     ]
    },
    {
     "name": "stderr",
     "output_type": "stream",
     "text": [
      "\n"
     ]
    }
   ],
   "source": [
    "# The BIG loop where all the magic happens\n",
    "\n",
    "index = 0\n",
    "for pptnum in tqdm(timings[\"pptnumber\"]): # Loop over all ppt's that had a video available (therefore present in timings.csv)\n",
    "    if '514' not in str(pptnum) and '583' not in str(pptnum) and '342' not in str(pptnum) and '4888' not in str(pptnum): # '&': This is something that gives errors, '383': Corrupted file, '467': same, '495': same, '502': same\n",
    "\n",
    "        print(\"processing pptnum: \" + str(pptnum))\n",
    "        idx = np.where(allData['ID'] == int(pptnum))[0] # Watch out; this will give you ALL indices for this pptnum, so both A and B\n",
    "        if timings[\"Exclusion\"][index] == 1: # Only continue the loop if there is no Exclusion marked\n",
    "            print(\"Exclusion file for ppt: \" + str(pptnum) + \" at moment: \" + timings[\"ImageGroup\"][index])\n",
    "        else:\n",
    "            videoOffset = float(timings[\"StartTime\"][index])\n",
    "            if videoOffset == 0: # if a timing start point was not present, it was set to 0. We don't process those because we cant sync them\n",
    "                print('start time for this ppt is set to zero')\n",
    "            else:\n",
    "                if len(idx) < 1: # Check if occurences in datafile exist for this participant/video file\n",
    "                    print(\"No input data found for video file of pptnum: \" + str(pptnum) + \" with video file \" + timings[\"ImageGroup\"][index] )\n",
    "                else:           \n",
    "                    moment = timings[\"ImageGroup\"][index]\n",
    "                    if moment ==  'A':\n",
    "                        indices = [i for i, s in enumerate(AFiles) if str(pptnum) in s]\n",
    "                        idx = np.where((allData['ID'] == int(pptnum)) & (allData['Moment'] == 'A'))[0] # So we don't also use the indices that don't apply here right now\n",
    "                        try:\n",
    "                            fileDir = AFiles[indices[0]]\n",
    "                        except:\n",
    "                            print('this file is not found - video present, but no openface file for ' + str(pptnum))\n",
    "                        else: \n",
    "                            get_openfacestuff(fileDir)\n",
    "                    elif moment == 'B':\n",
    "                        indices = [i for i, s in enumerate(BFiles) if str(pptnum) in s]\n",
    "                        idx = np.where((allData['ID'] == int(pptnum)) & (allData['Moment'] == 'B'))[0] # So we don't also use the indices that don't apply here right now\n",
    "                        try:\n",
    "                            fileDir = BFiles[indices[0]]\n",
    "                        except:\n",
    "                            print('this file is not found - video present, but no openface file for ' + str(pptnum))\n",
    "                        else: \n",
    "                            get_openfacestuff(fileDir)\n",
    "\n",
    "                    else:\n",
    "                        print(\"Some error with testing moment\")\n",
    "                        break\n",
    "\n",
    "    index += 1 # Create counter\n",
    "#     if index > 10:\n",
    "#         break"
   ]
  },
  {
   "cell_type": "code",
   "execution_count": 9,
   "id": "1dc58547-8a86-449d-8169-e813778e76dc",
   "metadata": {},
   "outputs": [
    {
     "ename": "NameError",
     "evalue": "name 'vidStartIdx' is not defined",
     "output_type": "error",
     "traceback": [
      "\u001b[1;31m---------------------------------------------------------------------------\u001b[0m",
      "\u001b[1;31mNameError\u001b[0m                                 Traceback (most recent call last)",
      "\u001b[1;32m~\\AppData\\Local\\Temp/ipykernel_13228/1475148108.py\u001b[0m in \u001b[0;36m<module>\u001b[1;34m\u001b[0m\n\u001b[1;32m----> 1\u001b[1;33m \u001b[0mvidStartIdx\u001b[0m\u001b[1;33m\u001b[0m\u001b[1;33m\u001b[0m\u001b[0m\n\u001b[0m\u001b[0;32m      2\u001b[0m \u001b[1;31m# vidEndIdx\u001b[0m\u001b[1;33m\u001b[0m\u001b[1;33m\u001b[0m\u001b[1;33m\u001b[0m\u001b[0m\n",
      "\u001b[1;31mNameError\u001b[0m: name 'vidStartIdx' is not defined"
     ]
    }
   ],
   "source": [
    "print(videoStarts)"
   ]
  },
  {
   "cell_type": "code",
   "execution_count": 7,
   "id": "f8e36113-c80c-49b1-90a9-7da2e9593fbf",
   "metadata": {},
   "outputs": [],
   "source": [
    "# os.chdir(os.path.join(data_dir,date_dir))\n",
    "# allData.to_csv('allPMSdata3.csv')"
   ]
  },
  {
   "cell_type": "code",
   "execution_count": 12,
   "id": "73a4e03f-d64c-4de9-b451-0a976f4a9f40",
   "metadata": {},
   "outputs": [],
   "source": [
    "allData.to_csv(str(data_dir) + '\\\\' + str(date_dir) + 'allPMSdata.csv')\n",
    "\n",
    "# Figure out if I can write it without index column, else rename index column\n",
    "\n"
   ]
  },
  {
   "cell_type": "markdown",
   "id": "3f721086-ef96-4323-afff-ed11f90a38cc",
   "metadata": {},
   "source": [
    "# Where to start when stuff goes wrong"
   ]
  },
  {
   "cell_type": "code",
   "execution_count": 8,
   "id": "5f581822-3487-4bec-996a-49686da710e6",
   "metadata": {},
   "outputs": [],
   "source": [
    "openface = pd.read_csv(fileDir, encoding = \"ISO-8859-1\") # Read openface output csv"
   ]
  },
  {
   "cell_type": "code",
   "execution_count": 9,
   "id": "7acbc35a-0895-46c8-90bb-bbdb5a78647f",
   "metadata": {},
   "outputs": [
    {
     "ename": "IndexError",
     "evalue": "index 0 is out of bounds for axis 0 with size 0",
     "output_type": "error",
     "traceback": [
      "\u001b[1;31m---------------------------------------------------------------------------\u001b[0m",
      "\u001b[1;31mIndexError\u001b[0m                                Traceback (most recent call last)",
      "\u001b[1;32m~\\AppData\\Local\\Temp/ipykernel_7376/1977907280.py\u001b[0m in \u001b[0;36m<module>\u001b[1;34m\u001b[0m\n\u001b[0;32m      5\u001b[0m \u001b[0mopenface\u001b[0m\u001b[1;33m.\u001b[0m\u001b[0minsert\u001b[0m \u001b[1;33m(\u001b[0m\u001b[1;36m3\u001b[0m\u001b[1;33m,\u001b[0m \u001b[1;34m\"timestamp2\"\u001b[0m\u001b[1;33m,\u001b[0m \u001b[0mnp\u001b[0m\u001b[1;33m.\u001b[0m\u001b[0marange\u001b[0m\u001b[1;33m(\u001b[0m\u001b[1;36m0\u001b[0m\u001b[1;33m,\u001b[0m \u001b[0mfileduration\u001b[0m\u001b[1;33m[\u001b[0m\u001b[1;36m0\u001b[0m\u001b[1;33m]\u001b[0m\u001b[1;33m,\u001b[0m \u001b[0mframeduration\u001b[0m\u001b[1;33m)\u001b[0m\u001b[1;33m.\u001b[0m\u001b[0mtolist\u001b[0m\u001b[1;33m(\u001b[0m\u001b[1;33m)\u001b[0m\u001b[1;33m[\u001b[0m\u001b[1;36m0\u001b[0m\u001b[1;33m:\u001b[0m\u001b[0mlen\u001b[0m\u001b[1;33m(\u001b[0m\u001b[0mopenface\u001b[0m\u001b[1;33m)\u001b[0m\u001b[1;33m]\u001b[0m\u001b[1;33m)\u001b[0m \u001b[1;31m# Add new timestamps right after the first timestamp || We're taking [0:len(openface)] here because due to rounding error, the newly created timestamps might be one longer than th array.\u001b[0m\u001b[1;33m\u001b[0m\u001b[1;33m\u001b[0m\u001b[0m\n\u001b[0;32m      6\u001b[0m \u001b[0mvideoOffset\u001b[0m\u001b[1;33m\u001b[0m\u001b[1;33m\u001b[0m\u001b[0m\n\u001b[1;32m----> 7\u001b[1;33m \u001b[0mbehaviorOffset\u001b[0m \u001b[1;33m=\u001b[0m \u001b[0mallData\u001b[0m\u001b[1;33m[\u001b[0m\u001b[1;34m'startBeep'\u001b[0m\u001b[1;33m]\u001b[0m\u001b[1;33m[\u001b[0m\u001b[0midx\u001b[0m\u001b[1;33m[\u001b[0m\u001b[1;36m0\u001b[0m\u001b[1;33m]\u001b[0m\u001b[1;33m]\u001b[0m\u001b[1;33m\u001b[0m\u001b[1;33m\u001b[0m\u001b[0m\n\u001b[0m\u001b[0;32m      8\u001b[0m \u001b[0mcorrectedStarts\u001b[0m \u001b[1;33m=\u001b[0m \u001b[0mallData\u001b[0m\u001b[1;33m[\u001b[0m\u001b[1;34m'startView'\u001b[0m\u001b[1;33m]\u001b[0m\u001b[1;33m[\u001b[0m\u001b[0midx\u001b[0m\u001b[1;33m]\u001b[0m \u001b[1;33m-\u001b[0m \u001b[0mbehaviorOffset\u001b[0m \u001b[1;31m# startViews - offSet\u001b[0m\u001b[1;33m\u001b[0m\u001b[1;33m\u001b[0m\u001b[0m\n\u001b[0;32m      9\u001b[0m \u001b[0mvideoStarts\u001b[0m \u001b[1;33m=\u001b[0m \u001b[1;33m(\u001b[0m\u001b[1;33m(\u001b[0m\u001b[0mcorrectedStarts\u001b[0m \u001b[1;33m+\u001b[0m \u001b[0mvideoOffset\u001b[0m\u001b[1;33m)\u001b[0m \u001b[1;33m/\u001b[0m \u001b[1;36m1000\u001b[0m\u001b[1;33m)\u001b[0m\u001b[1;33m.\u001b[0m\u001b[0mtolist\u001b[0m\u001b[1;33m(\u001b[0m\u001b[1;33m)\u001b[0m \u001b[1;31m# These will be the timestamps in seconds because / 1000\u001b[0m\u001b[1;33m\u001b[0m\u001b[1;33m\u001b[0m\u001b[0m\n",
      "\u001b[1;31mIndexError\u001b[0m: index 0 is out of bounds for axis 0 with size 0"
     ]
    }
   ],
   "source": [
    "# Get corresponding video file duration \n",
    "splits = fileDir.split('/video_features\\\\')\n",
    "fileduration = [value for key, value in durationsdata.items() if splits[0] in key.lower() and splits[1][23:len(splits[1])-4] in key.lower()] # Very weird formatting, but when checking for directory (10001/10002) and only the date (something with curly bracktes messes it up. \n",
    "frameduration = fileduration[0] / len(openface)\n",
    "openface.insert (3, \"timestamp2\", np.arange(0, fileduration[0], frameduration).tolist()[0:len(openface)]) # Add new timestamps right after the first timestamp || We're taking [0:len(openface)] here because due to rounding error, the newly created timestamps might be one longer than th array. \n",
    "videoOffset\n",
    "behaviorOffset = allData['startBeep'][idx[0]]\n",
    "correctedStarts = allData['startView'][idx] - behaviorOffset # startViews - offSet\n",
    "videoStarts = ((correctedStarts + videoOffset) / 1000).tolist() # These will be the timestamps in seconds because / 1000\n",
    "\n",
    "correctedEnds = allData['stopView'][idx] - behaviorOffset # startViews - offSet\n",
    "videoEnds = ((correctedEnds + videoOffset) / 1000).tolist()"
   ]
  },
  {
   "cell_type": "code",
   "execution_count": 22,
   "id": "24b725ff-4746-424f-bf3c-f7705ef74d4a",
   "metadata": {},
   "outputs": [
    {
     "data": {
      "text/plain": [
       "'A'"
      ]
     },
     "execution_count": 22,
     "metadata": {},
     "output_type": "execute_result"
    }
   ],
   "source": [
    "idx\n",
    "# videoStarts\n",
    "moment"
   ]
  },
  {
   "cell_type": "code",
   "execution_count": 21,
   "id": "dd4c856d-ee83-4974-b72c-fdeee332c625",
   "metadata": {},
   "outputs": [
    {
     "data": {
      "text/plain": [
       "10208    B\n",
       "10209    B\n",
       "10210    B\n",
       "10211    B\n",
       "10212    B\n",
       "10213    B\n",
       "10214    B\n",
       "10215    B\n",
       "10216    B\n",
       "10217    B\n",
       "10218    B\n",
       "10219    B\n",
       "10220    B\n",
       "10221    B\n",
       "10222    B\n",
       "10223    B\n",
       "10224    B\n",
       "10225    B\n",
       "10226    B\n",
       "10227    B\n",
       "10228    B\n",
       "10229    B\n",
       "Name: Moment, dtype: object"
      ]
     },
     "execution_count": 21,
     "metadata": {},
     "output_type": "execute_result"
    }
   ],
   "source": [
    "allData['Moment'][np.where((allData['ID'] == int(pptnum)))[0]]"
   ]
  }
 ],
 "metadata": {
  "kernelspec": {
   "display_name": "Python 3 (ipykernel)",
   "language": "python",
   "name": "python3"
  },
  "language_info": {
   "codemirror_mode": {
    "name": "ipython",
    "version": 3
   },
   "file_extension": ".py",
   "mimetype": "text/x-python",
   "name": "python",
   "nbconvert_exporter": "python",
   "pygments_lexer": "ipython3",
   "version": "3.9.6"
  }
 },
 "nbformat": 4,
 "nbformat_minor": 5
}
