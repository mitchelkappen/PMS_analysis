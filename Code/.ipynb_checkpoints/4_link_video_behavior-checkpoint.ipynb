{
 "cells": [
  {
   "cell_type": "markdown",
   "id": "a599427c-70ba-42e3-85fd-dca7d7d7f116",
   "metadata": {},
   "source": [
    "# What's happening here?\n",
    "\n",
    "4_link_video_behavior.ipynb\n",
    "\n",
    "Run after 1_, 2_, and 3_"
   ]
  },
  {
   "cell_type": "markdown",
   "id": "8b9e3393-2206-400e-9b4f-e97860ffc57b",
   "metadata": {},
   "source": [
    "Made in environment **PMS_Study**\n",
    "\n",
    "## TO DO: bekijk file PMS_analysis/2_preparation\n",
    "\n",
    "Probeer veel met loops en functions te werken om de code overzichtelijk te houden\n",
    "\n",
    " * Start with file cleanData.csv (geeft informatie over van welke participant welke files bestaan)\n",
    " * Load timings.csv file that Tilia and Sofie made\n",
    " * Start loop from the top and use Order and A-B\n",
    " * In loop check if file (corresponding CSV) exists in Directory (/10001 or /10002 depedent of A/B): later refered to as behaviordata\n",
    " * In loop check if file (corresponding .WEBM) exists in Directory\n",
    " \n",
    "If both exist:\n",
    "- Check if output of Openface exists in Z:\\shares\\ghepmk_data\\2020_Kappen_PMS\\10002\\video_features (or /10001 dependent of A/B)\n",
    "- IF True:\n",
    "Load this as facedata\n",
    "- IF False:\n",
    "Print: \"Video file present for file (insert filename) but no openface present)\"\n",
    "Break/skip\n",
    "\n",
    "Use filename/pptnum to search for right starting time in timings.csv variable\n",
    "- Find timing for beep.wav in behaviordata. \n",
    "- Set new zero point (link between the timings.csv point and this)\n",
    "- Make mean scores on a few variables (we will expand this later) for the corresponding frames of each of the trials.\n",
    "- To do this, you should write a function that takes the right points of a trial (start, end, trialnum etc) and save this data to a dataframe\n",
    "\n",
    "Compute this in a way that you would be able to add it to allPMSdata.cvs\n",
    "\n",
    "Add it all to a new dataframe\n",
    "\n",
    "Write to csv"
   ]
  },
  {
   "cell_type": "code",
   "execution_count": 1,
   "id": "eb5439c6-64af-4bc7-9e84-900f8dfb6ae3",
   "metadata": {},
   "outputs": [],
   "source": [
    "import glob\n",
    "import os\n",
    "import subprocess\n",
    "import numpy as np\n",
    "import pandas as pd\n",
    "import math\n",
    "import time\n",
    "import json\n",
    "import statistics\n",
    "\n",
    "import features as ft\n",
    "\n",
    "from tqdm import tqdm\n",
    "from pathlib import Path\n",
    "\n",
    "import re"
   ]
  },
  {
   "cell_type": "code",
   "execution_count": 3,
   "id": "85e11c38-e968-46b7-8f43-fa5976c54e8f",
   "metadata": {},
   "outputs": [],
   "source": [
    "# Create all relevant directories\n",
    "data_dir = Path('Z:/shares/ghepmk_data/2020_Kappen_PMS')\n",
    "date_dir = \"06102021/\"\n",
    "data_all_dir = os.path.join(data_dir, date_dir)\n",
    "\n",
    "# Load base data\n",
    "demographics = pd.read_csv(data_all_dir + \"cleanData.csv\", encoding = \"ISO-8859-1\")\n",
    "allData = pd.read_csv(data_all_dir + \"allPMSdata.csv\", encoding = \"ISO-8859-1\")\n",
    "timings = pd.read_csv(data_all_dir + \"timings.csv\", encoding = \"ISO-8859-1\")\n",
    "timings = timings.rename(columns={\"ï»¿ImageGroup\": \"ImageGroup\"}, index={'ONE': 'Row_1'}) # Rename first column, because was formatted weird\n",
    "\n",
    "redoOpenface = 0 # Set to 1 if you want to re-do OpenFace processing. For instance if you added features, or changed methods"
   ]
  },
  {
   "cell_type": "code",
   "execution_count": 4,
   "id": "f2c9098d-fc3a-4451-ad0c-d330c5e8ba05",
   "metadata": {},
   "outputs": [],
   "source": [
    "# Get all OpenFace files\n",
    "os.chdir(data_dir)\n",
    "AFiles = glob.glob(\"10001/video_features/\" + \"*ParticipantNo*\" + \"*.csv\", recursive = True) # get all csv's in directory\n",
    "BFiles = glob.glob(\"10002/video_features/\" + \"*ParticipantNo*\" + \"*.csv\", recursive = True) # get all csv's in directory\n",
    "\n",
    "# Opening JSON file with all video duration information\n",
    "f = open(data_all_dir + 'video_durations.json',)\n",
    "durationsdata = json.load(f)\n",
    "f.close()"
   ]
  },
  {
   "cell_type": "code",
   "execution_count": 9,
   "id": "3fce032a-3a1c-4259-88ac-f66c1c95d1b4",
   "metadata": {},
   "outputs": [],
   "source": [
    "def get_openfacestuff(fileDir):\n",
    "    print(fileDir)\n",
    "    if len(indices) > 1:\n",
    "        print(\"Too many OpenFace files for ppt: \" + str(pptnum) + \" at moment \" + moment)\n",
    "    else: # If we get to here - the party really starts\n",
    "        try:\n",
    "            math.isnan(allData['AU12'][idx[0]])\n",
    "        except:\n",
    "            allData[\"AU12\"] = np.nan # In case this column doesn't exist yet, create a column with only nan's so th next if statement always passes\n",
    "            \n",
    "        if math.isnan(allData['AU12'][idx[0]]) or redoOpenface == 1: # Check if OpenFace values have already been added, of whether manually set at top of script to re do this (so it doesnt happen unneccessarily\n",
    "            print(\"Now reading: \" + fileDir)\n",
    "            openface = pd.read_csv(fileDir, encoding = \"ISO-8859-1\") # Read openface output csv\n",
    "\n",
    "            # Get corresponding video file duration \n",
    "            splits = fileDir.split('/video_features\\\\')\n",
    "            fileduration = [value for key, value in durationsdata.items() if splits[0] in key.lower() and splits[1][23:len(splits[1])-4] in key.lower()] # Very weird formatting, but when checking for directory (10001/10002) and only the date (something with curly bracktes messes it up. \n",
    "            frameduration = fileduration[0] / len(openface)\n",
    "            openface.insert (3, \"timestamp2\", np.arange(0, fileduration[0], frameduration).tolist()[0:len(openface)]) # Add new timestamps right after the first timestamp || We're taking [0:len(openface)] here because due to rounding error, the newly created timestamps might be one longer than th array. \n",
    "            videoOffset\n",
    "            behaviorOffset = allData['startBeep'][idx[0]]\n",
    "            correctedStarts = allData['startView'][idx] - behaviorOffset # startViews - offSet\n",
    "            videoStarts = ((correctedStarts + videoOffset) / 1000).tolist() # These will be the timestamps in seconds because / 1000\n",
    "\n",
    "            correctedEnds = allData['stopView'][idx] - behaviorOffset # startViews - offSet\n",
    "            videoEnds = ((correctedEnds + videoOffset) / 1000).tolist()\n",
    "            \n",
    "            print(videoStarts)\n",
    "\n",
    "            # Loop over all the trials and get the appropriate values - add to allData\n",
    "            for trial in range(0,len(videoStarts)):\n",
    "                vidStartIdx = openface.iloc[(openface['timestamp2']-videoStarts[trial]).abs().argsort()[:1]].index.tolist()[0] # Get start idx in openface\n",
    "                vidEndIdx = openface.iloc[(openface['timestamp2']-videoEnds[trial]).abs().argsort()[:1]].index.tolist()[0] # Get end idx in openface\n",
    "\n",
    "                # Create mean value between these idx's and add to big dataframe\n",
    "                allData.loc[idx[trial], 'AU12'] = openface[' AU12_r'][vidStartIdx:vidEndIdx].mean() \n",
    "                allData.loc[idx[trial], 'AU15'] = openface[' AU15_r'][vidStartIdx:vidEndIdx].mean() \n",
    "                \n",
    "                allData.loc[idx[trial], 'arousal'] = ft.compute_arousal(openface[vidStartIdx:vidEndIdx])['mean_Arousal']\n",
    "#                 allData.loc[idx[trial], 'blinkrate'] = ft.compute_blink_rate(openface[vidStartIdx:vidEndIdx])\n",
    "                allData.loc[idx[trial], 'PD_Mean'] = ft.compute_PD_features(openface[vidStartIdx:vidEndIdx])['mean_PD']\n",
    "                allData.loc[idx[trial], 'PD_Std'] = ft.compute_PD_features(openface[vidStartIdx:vidEndIdx])['std_PD']\n",
    "                allData.loc[idx[trial], 'PD_Max'] = ft.compute_PD_features(openface[vidStartIdx:vidEndIdx])['max_PD']\n",
    "                \n",
    "                allData.loc[idx[trial], 'headMovement'] = ft.compute_head_motion(openface[vidStartIdx:vidEndIdx])['compound_Motion']\n",
    "\n",
    "                allData.loc[idx[trial], 'happy'] = ft.compute_emotions(openface[vidStartIdx:vidEndIdx])['mean_Happy']\n",
    "                allData.loc[idx[trial], 'sad'] = ft.compute_emotions(openface[vidStartIdx:vidEndIdx])['mean_Sad']\n",
    "                allData.loc[idx[trial], 'disgust'] = ft.compute_emotions(openface[vidStartIdx:vidEndIdx])['mean_Disgust']\n",
    "                allData.loc[idx[trial], 'anger'] = ft.compute_emotions(openface[vidStartIdx:vidEndIdx])['mean_Angry']\n",
    "                allData.loc[idx[trial], 'scared'] = ft.compute_emotions(openface[vidStartIdx:vidEndIdx])['mean_Scared']\n",
    "                \n",
    "                allData.loc[idx[trial], 'confidence'] = ft.compute_quality(openface[vidStartIdx:vidEndIdx])['mean_confidence']"
   ]
  },
  {
   "cell_type": "code",
   "execution_count": 6,
   "id": "07249d9e-24e6-4978-b21d-039f5c6df973",
   "metadata": {
    "scrolled": true,
    "tags": []
   },
   "outputs": [
    {
     "name": "stderr",
     "output_type": "stream",
     "text": [
      "  6%|████▌                                                                           | 30/525 [00:00<00:01, 299.79it/s]"
     ]
    },
    {
     "name": "stdout",
     "output_type": "stream",
     "text": [
      "processing pptnum: 14\n",
      "Exclusion file for ppt: 14 at moment: B\n",
      "processing pptnum: 66\n",
      "Exclusion file for ppt: 66 at moment: B\n",
      "processing pptnum: 106\n",
      "No input data found for video file of pptnum: 106 with video file B\n",
      "processing pptnum: 119\n",
      "No input data found for video file of pptnum: 119 with video file B\n",
      "processing pptnum: 123\n",
      "No input data found for video file of pptnum: 123 with video file B\n",
      "processing pptnum: 124\n",
      "No input data found for video file of pptnum: 124 with video file B\n",
      "processing pptnum: 125\n",
      "No input data found for video file of pptnum: 125 with video file B\n",
      "processing pptnum: 126\n",
      "No input data found for video file of pptnum: 126 with video file B\n",
      "processing pptnum: 127\n",
      "start time for this ppt is set to zero\n",
      "processing pptnum: 129\n",
      "10002/video_features\\video_{ParticipantNo}_129_9-10-2020.csv\n",
      "processing pptnum: 131\n",
      "10002/video_features\\video_{ParticipantNo}_131_2-11-2020.csv\n",
      "processing pptnum: 134\n",
      "10002/video_features\\video_{ParticipantNo}_134_16-10-2020.csv\n",
      "processing pptnum: 135\n",
      "10002/video_features\\video_{ParticipantNo}_135_5-10-2020.csv\n",
      "processing pptnum: 140\n",
      "10002/video_features\\video_{ParticipantNo}_140_31-10-2020.csv\n",
      "processing pptnum: 144\n",
      "10002/video_features\\video_{ParticipantNo}_144_15-11-2020.csv\n",
      "processing pptnum: 145\n",
      "10002/video_features\\video_{ParticipantNo}_145_15-11-2020.csv\n",
      "processing pptnum: 147\n",
      "10002/video_features\\video_{ParticipantNo}_147_9-11-2020.csv\n",
      "processing pptnum: 148\n",
      "10002/video_features\\video_{ParticipantNo}_148_17-11-2020.csv\n",
      "processing pptnum: 154\n",
      "10002/video_features\\video_{ParticipantNo}_154_13-11-2020.csv\n",
      "processing pptnum: 155\n",
      "10002/video_features\\video_{ParticipantNo}_155_12-11-2020.csv\n",
      "processing pptnum: 156\n",
      "10002/video_features\\video_{ParticipantNo}_156_31-10-2020.csv\n",
      "processing pptnum: 157\n",
      "10002/video_features\\video_{ParticipantNo}_157_17-11-2020.csv\n",
      "processing pptnum: 158\n",
      "10002/video_features\\video_{ParticipantNo}_158_15-12-2020.csv\n",
      "processing pptnum: 159\n",
      "start time for this ppt is set to zero\n",
      "processing pptnum: 161\n",
      "10002/video_features\\video_{ParticipantNo}_161_11-11-2020.csv\n",
      "processing pptnum: 163\n",
      "10002/video_features\\video_{ParticipantNo}_163_9-11-2020.csv\n",
      "processing pptnum: 165\n",
      "10002/video_features\\video_{ParticipantNo}_165_5-12-2020.csv\n",
      "processing pptnum: 166\n",
      "10002/video_features\\video_{ParticipantNo}_166_9-11-2020.csv\n",
      "processing pptnum: 167\n",
      "10002/video_features\\video_{ParticipantNo}_167_15-11-2020.csv\n",
      "processing pptnum: 168\n",
      "10002/video_features\\video_{ParticipantNo}_168_18-11-2020.csv\n",
      "processing pptnum: 169\n",
      "10002/video_features\\video_{ParticipantNo}_169_10-12-2020.csv\n",
      "processing pptnum: 170\n",
      "Exclusion file for ppt: 170 at moment: B\n",
      "processing pptnum: 171\n",
      "10002/video_features\\video_{ParticipantNo}_171_9-11-2020.csv\n",
      "processing pptnum: 172\n",
      "start time for this ppt is set to zero\n",
      "processing pptnum: 173\n",
      "10002/video_features\\video_{ParticipantNo}_173_18-11-2020.csv\n",
      "processing pptnum: 176\n",
      "10002/video_features\\video_{ParticipantNo}_176_26-11-2020.csv\n",
      "processing pptnum: 177\n",
      "10002/video_features\\video_{ParticipantNo}_177_12-11-2020.csv\n",
      "processing pptnum: 178\n",
      "start time for this ppt is set to zero\n",
      "processing pptnum: 180\n",
      "start time for this ppt is set to zero\n",
      "processing pptnum: 181\n",
      "10002/video_features\\video_{ParticipantNo}_181_22-11-2020.csv\n",
      "processing pptnum: 182\n",
      "10002/video_features\\video_{ParticipantNo}_182_21-11-2020.csv\n",
      "processing pptnum: 185\n",
      "10002/video_features\\video_{ParticipantNo}_185_4-12-2020.csv\n",
      "processing pptnum: 187\n",
      "start time for this ppt is set to zero\n",
      "processing pptnum: 189\n",
      "start time for this ppt is set to zero\n",
      "processing pptnum: 193\n",
      "10002/video_features\\video_{ParticipantNo}_193_3-11-2020.csv\n",
      "processing pptnum: 194\n",
      "10002/video_features\\video_{ParticipantNo}_194_19-11-2020.csv\n",
      "processing pptnum: 195\n",
      "10002/video_features\\video_{ParticipantNo}_195_4-12-2020.csv\n",
      "processing pptnum: 197\n",
      "10002/video_features\\video_{ParticipantNo}_197_13-12-2020.csv\n",
      "processing pptnum: 198\n",
      "start time for this ppt is set to zero\n",
      "processing pptnum: 199\n",
      "10002/video_features\\video_{ParticipantNo}_199_18-11-2020.csv\n",
      "processing pptnum: 200\n",
      "10002/video_features\\video_{ParticipantNo}_200_11-11-2020.csv\n",
      "processing pptnum: 201\n"
     ]
    },
    {
     "name": "stderr",
     "output_type": "stream",
     "text": [
      " 16%|████████████▋                                                                   | 83/525 [00:00<00:01, 277.18it/s]"
     ]
    },
    {
     "name": "stdout",
     "output_type": "stream",
     "text": [
      "10002/video_features\\video_{ParticipantNo}_201_30-11-2020.csv\n",
      "processing pptnum: 206\n",
      "10002/video_features\\video_{ParticipantNo}_206_2-11-2020.csv\n",
      "processing pptnum: 207\n",
      "start time for this ppt is set to zero\n",
      "processing pptnum: 211\n",
      "10002/video_features\\video_{ParticipantNo}_211_17-11-2020.csv\n",
      "processing pptnum: 214\n",
      "10002/video_features\\video_{ParticipantNo}_214_11-12-2020.csv\n",
      "processing pptnum: 215\n",
      "10002/video_features\\video_{ParticipantNo}_215_22-11-2020.csv\n",
      "processing pptnum: 216\n",
      "start time for this ppt is set to zero\n",
      "processing pptnum: 221\n",
      "start time for this ppt is set to zero\n",
      "processing pptnum: 222\n",
      "10002/video_features\\video_{ParticipantNo}_222_5-11-2020.csv\n",
      "processing pptnum: 223\n",
      "10002/video_features\\video_{ParticipantNo}_223_1-12-2020.csv\n",
      "processing pptnum: 224\n",
      "10002/video_features\\video_{ParticipantNo}_224_5-11-2020.csv\n",
      "processing pptnum: 225\n",
      "10002/video_features\\video_{ParticipantNo}_225_27-11-2020.csv\n",
      "processing pptnum: 226\n",
      "10002/video_features\\video_{ParticipantNo}_226_5-11-2020.csv\n",
      "processing pptnum: 227\n",
      "10002/video_features\\video_{ParticipantNo}_227_10-12-2020.csv\n",
      "processing pptnum: 230\n",
      "10002/video_features\\video_{ParticipantNo}_230_7-11-2020.csv\n",
      "processing pptnum: 231\n",
      "10002/video_features\\video_{ParticipantNo}_231_18-11-2020.csv\n",
      "processing pptnum: 233\n",
      "10002/video_features\\video_{ParticipantNo}_233_4-11-2020.csv\n",
      "processing pptnum: 239\n",
      "10002/video_features\\video_{ParticipantNo}_239_2-12-2020.csv\n",
      "processing pptnum: 241\n",
      "10002/video_features\\video_{ParticipantNo}_241_11-12-2020.csv\n",
      "processing pptnum: 242\n",
      "start time for this ppt is set to zero\n",
      "processing pptnum: 243\n",
      "10002/video_features\\video_{ParticipantNo}_243_18-11-2020.csv\n",
      "processing pptnum: 246\n",
      "10002/video_features\\video_{ParticipantNo}_246_14-11-2020.csv\n",
      "processing pptnum: 247\n",
      "10002/video_features\\video_{ParticipantNo}_247_18-11-2020.csv\n",
      "processing pptnum: 248\n",
      "10002/video_features\\video_{ParticipantNo}_248_9-12-2020.csv\n",
      "processing pptnum: 250\n",
      "start time for this ppt is set to zero\n",
      "processing pptnum: 251\n",
      "10002/video_features\\video_{ParticipantNo}_251_4-12-2020.csv\n",
      "processing pptnum: 252\n",
      "10002/video_features\\video_{ParticipantNo}_252_27-11-2020.csv\n",
      "processing pptnum: 253\n",
      "start time for this ppt is set to zero\n",
      "processing pptnum: 254\n",
      "start time for this ppt is set to zero\n",
      "processing pptnum: 255\n",
      "start time for this ppt is set to zero\n",
      "processing pptnum: 255\n",
      "this file is not found - video present, but no openface file for 255\n",
      "processing pptnum: 256\n",
      "10002/video_features\\video_{ParticipantNo}_256_26-11-2020.csv\n",
      "processing pptnum: 258\n",
      "10002/video_features\\video_{ParticipantNo}_258_29-11-2020.csv\n",
      "processing pptnum: 260\n",
      "start time for this ppt is set to zero\n",
      "processing pptnum: 261\n",
      "10002/video_features\\video_{ParticipantNo}_261_7-1-2021.csv\n",
      "processing pptnum: 263\n",
      "start time for this ppt is set to zero\n",
      "processing pptnum: 265\n",
      "start time for this ppt is set to zero\n",
      "processing pptnum: 266\n",
      "10002/video_features\\video_{ParticipantNo}_266_7-12-2020.csv\n",
      "processing pptnum: 269\n",
      "10002/video_features\\video_{ParticipantNo}_269_9-11-2020.csv\n",
      "processing pptnum: 271\n",
      "start time for this ppt is set to zero\n",
      "processing pptnum: 273\n",
      "10002/video_features\\video_{ParticipantNo}_273_9-11-2020.csv\n",
      "processing pptnum: 274\n",
      "10002/video_features\\video_{ParticipantNo}_274_15-12-2020.csv\n",
      "processing pptnum: 275\n",
      "10002/video_features\\video_{ParticipantNo}_275_4-11-2020.csv\n",
      "processing pptnum: 277\n",
      "10002/video_features\\video_{ParticipantNo}_277_6-11-2020.csv\n",
      "processing pptnum: 279\n",
      "10002/video_features\\video_{ParticipantNo}_279_18-11-2020.csv\n",
      "processing pptnum: 280\n",
      "start time for this ppt is set to zero\n",
      "processing pptnum: 282\n",
      "10002/video_features\\video_{ParticipantNo}_282_2-2-2021.csv\n",
      "processing pptnum: 283\n",
      "10002/video_features\\video_{ParticipantNo}_283_11-12-2020.csv\n",
      "processing pptnum: 286\n",
      "10002/video_features\\video_{ParticipantNo}_286_9-11-2020.csv\n",
      "processing pptnum: 290\n",
      "10002/video_features\\video_{ParticipantNo}_290_15-12-2020.csv\n",
      "processing pptnum: 293\n"
     ]
    },
    {
     "name": "stderr",
     "output_type": "stream",
     "text": [
      " 22%|█████████████████                                                              | 113/525 [00:00<00:01, 281.31it/s]"
     ]
    },
    {
     "name": "stdout",
     "output_type": "stream",
     "text": [
      "10002/video_features\\video_{ParticipantNo}_293_22-11-2020.csv\n",
      "processing pptnum: 294\n",
      "start time for this ppt is set to zero\n",
      "processing pptnum: 295\n",
      "10002/video_features\\video_{ParticipantNo}_295_22-11-2020.csv\n",
      "processing pptnum: 296\n",
      "10002/video_features\\video_{ParticipantNo}_296_25-11-2020.csv\n",
      "processing pptnum: 297\n",
      "10002/video_features\\video_{ParticipantNo}_297_7-11-2020.csv\n",
      "processing pptnum: 299\n",
      "10002/video_features\\video_{ParticipantNo}_299_4-11-2020.csv\n",
      "processing pptnum: 300\n",
      "10002/video_features\\video_{ParticipantNo}_300_28-11-2020.csv\n",
      "processing pptnum: 302\n",
      "10002/video_features\\video_{ParticipantNo}_302_16-11-2020.csv\n",
      "processing pptnum: 303\n",
      "10002/video_features\\video_{ParticipantNo}_303_1-12-2020.csv\n",
      "processing pptnum: 304\n",
      "10002/video_features\\video_{ParticipantNo}_304_30-11-2020.csv\n",
      "processing pptnum: 308\n",
      "10002/video_features\\video_{ParticipantNo}_308_24-11-2020.csv\n",
      "processing pptnum: 315\n",
      "10002/video_features\\video_{ParticipantNo}_315_19-11-2020.csv\n",
      "processing pptnum: 316\n",
      "10002/video_features\\video_{ParticipantNo}_316_9-12-2020.csv\n",
      "processing pptnum: 318\n",
      "10002/video_features\\video_{ParticipantNo}_318_14-11-2020.csv\n",
      "processing pptnum: 319\n",
      "start time for this ppt is set to zero\n",
      "processing pptnum: 323\n",
      "10002/video_features\\video_{ParticipantNo}_323_4-11-2020.csv\n",
      "processing pptnum: 326\n",
      "start time for this ppt is set to zero\n",
      "processing pptnum: 327\n",
      "10002/video_features\\video_{ParticipantNo}_327_17-11-2020.csv\n",
      "processing pptnum: 329\n",
      "10002/video_features\\video_{ParticipantNo}_329_23-11-2020.csv\n",
      "processing pptnum: 330\n",
      "10002/video_features\\video_{ParticipantNo}_330_9-12-2020.csv\n",
      "processing pptnum: 331\n",
      "10002/video_features\\video_{ParticipantNo}_331_18-11-2020.csv\n",
      "processing pptnum: 333\n",
      "10002/video_features\\video_{ParticipantNo}_333_12-12-2020.csv\n",
      "processing pptnum: 338\n",
      "10002/video_features\\video_{ParticipantNo}_338_16-1-2021.csv\n"
     ]
    },
    {
     "name": "stderr",
     "output_type": "stream",
     "text": [
      " 22%|█████████████████                                                              | 113/525 [00:20<00:01, 281.31it/s]"
     ]
    },
    {
     "name": "stdout",
     "output_type": "stream",
     "text": [
      "[5.558, 19.209, 36.461, 50.973, 67.838, 83.939, 97.985, 113.789, 126.771, 142.944, 158.242, 171.627, 186.165, 201.472, 216.078, 234.922, 248.541, 266.041, 280.881, 295.83, 313.089, 327.477]\n"
     ]
    },
    {
     "name": "stderr",
     "output_type": "stream",
     "text": [
      "C:\\Users\\mitch\\anaconda3\\envs\\pms_study\\lib\\site-packages\\pandas\\core\\indexing.py:1667: SettingWithCopyWarning: \n",
      "A value is trying to be set on a copy of a slice from a DataFrame.\n",
      "Try using .loc[row_indexer,col_indexer] = value instead\n",
      "\n",
      "See the caveats in the documentation: https://pandas.pydata.org/pandas-docs/stable/user_guide/indexing.html#returning-a-view-versus-a-copy\n",
      "  self.obj[key] = value\n",
      "C:\\Users\\mitch\\anaconda3\\envs\\pms_study\\lib\\site-packages\\pandas\\core\\indexing.py:1773: SettingWithCopyWarning: \n",
      "A value is trying to be set on a copy of a slice from a DataFrame.\n",
      "Try using .loc[row_indexer,col_indexer] = value instead\n",
      "\n",
      "See the caveats in the documentation: https://pandas.pydata.org/pandas-docs/stable/user_guide/indexing.html#returning-a-view-versus-a-copy\n",
      "  self._setitem_single_column(ilocs[0], value, pi)\n",
      " 24%|██████████████████▉                                                             | 124/525 [00:55<10:07,  1.51s/it]"
     ]
    },
    {
     "name": "stdout",
     "output_type": "stream",
     "text": [
      "processing pptnum: 339\n",
      "start time for this ppt is set to zero\n",
      "processing pptnum: 340\n",
      "10002/video_features\\video_{ParticipantNo}_340_30-11-2020.csv\n",
      "[4.442, 19.874, 34.59, 48.897, 63.434, 77.828, 92.569, 106.516, 120.436, 135.409, 148.591, 162.838, 175.907, 190.734, 204.507, 218.444, 231.09, 243.907, 256.676, 268.978, 281.098, 294.56]\n"
     ]
    },
    {
     "name": "stderr",
     "output_type": "stream",
     "text": [
      " 24%|███████████████████▏                                                            | 126/525 [01:33<45:00,  6.77s/it]"
     ]
    },
    {
     "name": "stdout",
     "output_type": "stream",
     "text": [
      "processing pptnum: 341\n",
      "10002/video_features\\video_{ParticipantNo}_341_26-11-2020.csv\n",
      "[6.92, 34.463, 57.863, 80.639, 97.595, 120.641, 143.19, 165.89, 184.61, 201.791, 216.266, 231.165, 247.698, 268.076, 281.352, 297.999, 314.517, 330.875, 345.217, 369.207, 383.143, 399.574]\n"
     ]
    },
    {
     "name": "stderr",
     "output_type": "stream",
     "text": [
      " 24%|██████████████████▊                                                           | 127/525 [02:55<3:14:18, 29.29s/it]"
     ]
    },
    {
     "name": "stdout",
     "output_type": "stream",
     "text": [
      "processing pptnum: 343\n",
      "10002/video_features\\video_{ParticipantNo}_343_2-12-2020.csv\n",
      "[6.179, 22.466, 43.152, 57.634, 70.715, 87.931, 103.156, 116.884, 130.532, 143.751, 158.287, 172.307, 186.514, 200.372, 213.778, 226.214, 239.662, 251.126, 263.175, 277.496, 289.357, 302.292]\n"
     ]
    },
    {
     "name": "stderr",
     "output_type": "stream",
     "text": [
      " 25%|███████████████████▏                                                          | 129/525 [03:50<3:09:55, 28.78s/it]"
     ]
    },
    {
     "name": "stdout",
     "output_type": "stream",
     "text": [
      "processing pptnum: 344\n",
      "10002/video_features\\video_{ParticipantNo}_344_11-12-2020.csv\n",
      "[7.09, 27.991, 46.909, 66.663, 83.47, 104.637, 119.195, 133.354, 150.669, 168.703, 189.376, 203.275, 219.714, 240.959, 257.303, 271.7, 289.475, 305.196, 320.491, 334.684, 351.287, 372.048]\n"
     ]
    },
    {
     "name": "stderr",
     "output_type": "stream",
     "text": [
      " 25%|███████████████████▎                                                          | 130/525 [04:22<3:15:56, 29.76s/it]"
     ]
    },
    {
     "name": "stdout",
     "output_type": "stream",
     "text": [
      "processing pptnum: 346\n",
      "10002/video_features\\video_{ParticipantNo}_346_10-1-2021.csv\n",
      "[5.507, 18.579, 32.173, 45.234, 57.506, 68.949, 81.107, 92.468, 105.853, 117.489, 128.499, 140.183, 152.455, 166.756, 177.927, 189.814, 203.072, 216.184, 228.867, 240.843, 253.427, 265.65]\n"
     ]
    },
    {
     "name": "stderr",
     "output_type": "stream",
     "text": [
      " 25%|███████████████████▍                                                          | 131/525 [04:45<3:00:41, 27.52s/it]"
     ]
    },
    {
     "name": "stdout",
     "output_type": "stream",
     "text": [
      "processing pptnum: 347\n",
      "start time for this ppt is set to zero\n",
      "processing pptnum: 348\n",
      "10002/video_features\\video_{ParticipantNo}_348_15-12-2020.csv\n",
      "[6.822, 27.622, 43.933, 62.853, 80.132, 101.54, 117.914, 134.941, 152.847, 170.884, 188.17, 205.796, 221.817, 241.366, 261.38, 278.325, 294.041, 311.2, 326.79, 343.262, 357.54, 372.593]\n"
     ]
    },
    {
     "name": "stderr",
     "output_type": "stream",
     "text": [
      " 25%|███████████████████▊                                                          | 133/525 [05:07<2:28:08, 22.67s/it]"
     ]
    },
    {
     "name": "stdout",
     "output_type": "stream",
     "text": [
      "processing pptnum: 349\n",
      "10002/video_features\\video_{ParticipantNo}_349_23-2-2021.csv\n",
      "[5.084, 20.84, 39.149, 55.177, 71.91, 86.928, 103.972, 124.004, 147.215, 167.351, 182.688, 199.21, 219.616, 235.732, 249.172, 267.961, 286.03, 301.825, 326.542, 343.24, 361.398, 397.72]\n"
     ]
    },
    {
     "name": "stderr",
     "output_type": "stream",
     "text": [
      " 26%|███████████████████▉                                                          | 134/525 [05:12<1:51:25, 17.10s/it]"
     ]
    },
    {
     "name": "stdout",
     "output_type": "stream",
     "text": [
      "processing pptnum: 350\n",
      "No input data found for video file of pptnum: 350 with video file B\n",
      "processing pptnum: 360\n",
      "10002/video_features\\video_{ParticipantNo}_360_12-1-2021.csv\n",
      "[4.602, 20.363, 40.324, 57.05, 71.917, 87.113, 105.457, 120.345, 137.426, 150.861, 166.202, 179.585, 198.437, 211.125, 224.524, 238.261, 252.932, 270.348, 284.422, 297.261, 311.789, 330.471]\n"
     ]
    },
    {
     "name": "stderr",
     "output_type": "stream",
     "text": [
      " 26%|████████████████████▏                                                         | 136/525 [05:49<1:53:30, 17.51s/it]"
     ]
    },
    {
     "name": "stdout",
     "output_type": "stream",
     "text": [
      "processing pptnum: 363\n",
      "start time for this ppt is set to zero\n",
      "processing pptnum: 376\n",
      "10002/video_features\\video_{ParticipantNo}_376_5-2-2021.csv\n",
      "[8.162, 23.764, 42.156, 60.845, 85.558, 104.211, 120.384, 145.262, 164.685, 180.343, 196.633, 210.858, 225.464, 239.003, 258.209, 273.962, 290.482, 304.846, 321.386, 334.842, 349.504, 364.365]\n"
     ]
    },
    {
     "name": "stderr",
     "output_type": "stream",
     "text": [
      " 26%|████████████████████▌                                                         | 138/525 [05:57<1:27:33, 13.58s/it]"
     ]
    },
    {
     "name": "stdout",
     "output_type": "stream",
     "text": [
      "processing pptnum: 380\n",
      "start time for this ppt is set to zero\n",
      "processing pptnum: 383\n",
      "start time for this ppt is set to zero\n",
      "processing pptnum: 387\n",
      "10002/video_features\\video_{ParticipantNo}_387_3-2-2021.csv\n",
      "[4.829, 18.574, 35.451, 51.405, 65.801, 79.794, 94.164, 113.23, 125.224, 137.446, 153.241, 166.409, 179.98, 200.124, 219.365, 233.986, 247.434, 259.782, 277.117, 290.1, 304.584, 319.379]\n"
     ]
    },
    {
     "name": "stderr",
     "output_type": "stream",
     "text": [
      " 27%|████████████████████▉                                                         | 141/525 [06:15<1:11:54, 11.24s/it]"
     ]
    },
    {
     "name": "stdout",
     "output_type": "stream",
     "text": [
      "processing pptnum: 388\n",
      "10002/video_features\\video_{ParticipantNo}_388_30-1-2021.csv\n",
      "[4.586, 18.867, 33.679, 47.022, 62.008, 74.759, 87.429, 103.838, 117.429, 131.109, 144.821, 160.709, 173.451, 185.772, 198.57, 212.24, 225.421, 237.678, 249.459, 265.559, 280.138, 293.72]\n"
     ]
    },
    {
     "name": "stderr",
     "output_type": "stream",
     "text": [
      " 27%|█████████████████████                                                         | 142/525 [06:30<1:19:58, 12.53s/it]"
     ]
    },
    {
     "name": "stdout",
     "output_type": "stream",
     "text": [
      "processing pptnum: 390\n",
      "10002/video_features\\video_{ParticipantNo}_390_20-1-2021.csv\n",
      "[4.597, 19.575, 33.865, 47.665, 62.204, 75.895, 90.82, 112.144, 125.321, 145.04, 166.803, 182.204, 195.783, 211.295, 226.565, 240.241, 256.733, 270.518, 285.986, 302.864, 315.877, 330.604]\n"
     ]
    },
    {
     "name": "stderr",
     "output_type": "stream",
     "text": [
      " 27%|█████████████████████▏                                                        | 143/525 [07:04<2:00:07, 18.87s/it]"
     ]
    },
    {
     "name": "stdout",
     "output_type": "stream",
     "text": [
      "processing pptnum: 392\n",
      "10002/video_features\\video_{ParticipantNo}_392_31-1-2021.csv\n",
      "[5.016, 20.834, 34.033, 46.809, 59.608, 73.193, 86.225, 99.297, 113.259, 127.952, 141.026, 153.714, 166.682, 179.305, 192.041, 204.104, 216.641, 229.729, 242.834, 255.914, 269.177, 281.306]\n"
     ]
    },
    {
     "name": "stderr",
     "output_type": "stream",
     "text": [
      " 27%|█████████████████████▍                                                        | 144/525 [07:30<2:14:02, 21.11s/it]"
     ]
    },
    {
     "name": "stdout",
     "output_type": "stream",
     "text": [
      "processing pptnum: 394\n",
      "10002/video_features\\video_{ParticipantNo}_394_11-2-2021.csv\n",
      "[5.695, 21.917, 41.381, 59.703, 82.979, 101.216, 117.154, 133.087, 155.507, 170.56, 182.723, 198.402, 215.424, 235.963, 250.608, 265.621, 281.571, 297.109, 314.614, 328.024, 342.011, 357.777]\n"
     ]
    },
    {
     "name": "stderr",
     "output_type": "stream",
     "text": [
      " 28%|█████████████████████▌                                                        | 145/525 [07:32<1:36:41, 15.27s/it]"
     ]
    },
    {
     "name": "stdout",
     "output_type": "stream",
     "text": [
      "processing pptnum: 396\n",
      "10002/video_features\\video_{ParticipantNo}_396_10-1-2021.csv\n",
      "[5.56, 26.473, 44.756, 63.262, 90.99, 108.171, 125.712, 142.671, 160.959, 180.105, 203.89, 221.033, 238.461, 267.833, 285.052, 304.492, 323.109, 344.908, 364.992, 409.168, 425.341, 442.672]\n"
     ]
    },
    {
     "name": "stderr",
     "output_type": "stream",
     "text": [
      " 28%|█████████████████████▋                                                        | 146/525 [07:55<1:51:16, 17.62s/it]"
     ]
    },
    {
     "name": "stdout",
     "output_type": "stream",
     "text": [
      "processing pptnum: 398\n",
      "10002/video_features\\video_{ParticipantNo}_398_31-1-2021.csv\n",
      "[6.302, 23.666, 39.951, 56.665, 74.789, 94.072, 110.074, 132.582, 148.008, 163.805, 178.368, 193.299, 207.044, 221.867, 236.893, 251.593, 265.678, 281.062, 296.647, 313.143, 328.834, 343.819]\n"
     ]
    },
    {
     "name": "stderr",
     "output_type": "stream",
     "text": [
      " 28%|█████████████████████▊                                                        | 147/525 [08:12<1:49:58, 17.46s/it]"
     ]
    },
    {
     "name": "stdout",
     "output_type": "stream",
     "text": [
      "processing pptnum: 399\n",
      "10002/video_features\\video_{ParticipantNo}_399_25-1-2021.csv\n",
      "[6.322, 22.434, 39.251, 57.909, 74.8, 89.5, 104.715, 120.092, 134.575, 150.995, 166.338, 180.57, 195.568, 209.9, 223.596, 237.746, 252.156, 266.796, 283.293, 298.372, 312.772, 328.412]\n"
     ]
    },
    {
     "name": "stderr",
     "output_type": "stream",
     "text": [
      " 28%|█████████████████████▉                                                        | 148/525 [08:53<2:33:22, 24.41s/it]"
     ]
    },
    {
     "name": "stdout",
     "output_type": "stream",
     "text": [
      "processing pptnum: 402\n",
      "10002/video_features\\video_{ParticipantNo}_402_24-1-2021.csv\n",
      "[5.664, 25.012, 41.648, 56.721, 71.149, 84.948, 109.331, 124.903, 140.101, 155.885, 170.658, 185.896, 200.249, 216.668, 230.574, 245.385, 265.483, 279.177, 294.928, 308.697, 322.223, 339.292]\n"
     ]
    },
    {
     "name": "stderr",
     "output_type": "stream",
     "text": [
      " 28%|██████████████████████▏                                                       | 149/525 [09:50<3:34:12, 34.18s/it]"
     ]
    },
    {
     "name": "stdout",
     "output_type": "stream",
     "text": [
      "processing pptnum: 403\n",
      "10002/video_features\\video_{ParticipantNo}_403_18-1-2021.csv\n",
      "[5.804, 29.93, 45.9, 58.498, 71.804, 84.754, 100.715, 115.811, 132.148, 153.38, 179.788, 197.012, 217.13, 235.355, 248.915, 261.555, 280.201, 296.161, 312.73, 327.949, 340.242, 352.89]\n"
     ]
    },
    {
     "name": "stderr",
     "output_type": "stream",
     "text": [
      " 29%|██████████████████████▎                                                       | 150/525 [11:07<4:54:34, 47.13s/it]"
     ]
    },
    {
     "name": "stdout",
     "output_type": "stream",
     "text": [
      "processing pptnum: 405\n",
      "No input data found for video file of pptnum: 405 with video file B\n",
      "processing pptnum: 405\n",
      "Exclusion file for ppt: 405 at moment: B\n",
      "processing pptnum: 408\n",
      "10002/video_features\\video_{ParticipantNo}_408_18-1-2021.csv\n",
      "[5.034, 21.842, 43.137, 60.973, 83.644, 104.068, 125.913, 140.916, 155.408, 173.755, 187.79, 208.712, 226.074, 243.703, 258.586, 276.225, 297.142, 311.559, 329.741, 346.354, 362.827, 378.117]\n"
     ]
    },
    {
     "name": "stderr",
     "output_type": "stream",
     "text": [
      " 29%|██████████████████████▋                                                       | 153/525 [12:06<4:00:53, 38.85s/it]"
     ]
    },
    {
     "name": "stdout",
     "output_type": "stream",
     "text": [
      "processing pptnum: 409\n",
      "10002/video_features\\video_{ParticipantNo}_409_13-2-2021.csv\n",
      "[5.028, 33.214, 60.459, 79.564, 101.289, 127.713, 145.539, 163.344, 182.991, 212.816, 246.289, 265.368, 286.06, 306.039, 332.139, 360.199, 378.391, 404.067, 424.701, 444.767, 465.483, 481.121]\n"
     ]
    },
    {
     "name": "stderr",
     "output_type": "stream",
     "text": [
      " 29%|██████████████████████▉                                                       | 154/525 [12:41<3:54:48, 37.97s/it]"
     ]
    },
    {
     "name": "stdout",
     "output_type": "stream",
     "text": [
      "processing pptnum: 410\n",
      "10002/video_features\\video_{ParticipantNo}_410_29-1-2021.csv\n",
      "[4.542, 23.178, 47.276, 65.276, 88.353, 107.893, 128.915, 150.039, 165.75, 184.658, 197.552, 216.134, 231.429, 252.411, 268.818, 285.739, 299.773, 316.119, 336.15, 355.42, 373.637, 390.114]\n"
     ]
    },
    {
     "name": "stderr",
     "output_type": "stream",
     "text": [
      " 30%|███████████████████████                                                       | 155/525 [14:23<5:52:34, 57.17s/it]"
     ]
    },
    {
     "name": "stdout",
     "output_type": "stream",
     "text": [
      "processing pptnum: 411\n",
      "10002/video_features\\video_{ParticipantNo}_411_11-2-2021.csv\n",
      "[7.095, 25.157, 47.175, 66.438, 91.459, 110.891, 129.892, 157.695, 175.56, 191.681, 209.68, 227.669, 245.138, 262.581, 283.694, 304.187, 320.969, 341.17, 357.509, 377.271, 395.961, 412.311]\n"
     ]
    },
    {
     "name": "stderr",
     "output_type": "stream",
     "text": [
      " 30%|███████████████████████▏                                                      | 156/525 [14:29<4:16:24, 41.69s/it]"
     ]
    },
    {
     "name": "stdout",
     "output_type": "stream",
     "text": [
      "processing pptnum: 413\n",
      "start time for this ppt is set to zero\n",
      "processing pptnum: 414\n",
      "10002/video_features\\video_{ParticipantNo}_414_21-1-2021.csv\n",
      "[5.918, 22.841, 39.763, 53.814, 70.209, 84.609, 97.246, 110.892, 124.348, 140.143, 158.317, 175.417, 191.177, 205.153, 219.337, 232.403, 245.433, 257.387, 272.023, 285.072, 307.541, 322.696]\n"
     ]
    },
    {
     "name": "stderr",
     "output_type": "stream",
     "text": [
      " 30%|███████████████████████▍                                                      | 158/525 [15:18<3:43:39, 36.57s/it]"
     ]
    },
    {
     "name": "stdout",
     "output_type": "stream",
     "text": [
      "processing pptnum: 415\n",
      "10002/video_features\\video_{ParticipantNo}_415_16-2-2021.csv\n",
      "[5.715, 29.978, 54.102, 70.263, 92.309, 109.508, 124.315, 139.177, 153.621, 172.206, 187.611, 205.151, 218.902, 233.454, 247.847, 262.654, 278.336, 293.318, 308.137, 323.997, 339.907, 354.981]\n"
     ]
    },
    {
     "name": "stderr",
     "output_type": "stream",
     "text": [
      " 30%|███████████████████████▌                                                      | 159/525 [15:51<3:36:11, 35.44s/it]"
     ]
    },
    {
     "name": "stdout",
     "output_type": "stream",
     "text": [
      "processing pptnum: 419\n",
      "10002/video_features\\video_{ParticipantNo}_419_11-2-2021.csv\n",
      "[6.528, 27.274, 46.319, 61.134, 79.883, 100.616, 122.844, 136.855, 150.174, 164.866, 177.972, 190.75, 205.329, 220.027, 232.1, 244.367, 255.997, 268.095, 280.31, 293.901, 307.402, 319.856]\n"
     ]
    },
    {
     "name": "stderr",
     "output_type": "stream",
     "text": [
      " 30%|███████████████████████▊                                                      | 160/525 [15:55<2:37:18, 25.86s/it]"
     ]
    },
    {
     "name": "stdout",
     "output_type": "stream",
     "text": [
      "processing pptnum: 420\n",
      "start time for this ppt is set to zero\n",
      "processing pptnum: 423\n",
      "10002/video_features\\video_{ParticipantNo}_423_14-2-2021.csv\n",
      "[5.925, 68.385, 87.682, 105.65, 122.021, 139.011, 154.039, 170.528, 187.369, 203.49, 219.525, 235.402, 253.3, 269.265, 285.133, 300.133, 314.025, 329.414, 346.495, 362.672, 377.462, 395.648]\n"
     ]
    },
    {
     "name": "stderr",
     "output_type": "stream",
     "text": [
      " 31%|████████████████████████                                                      | 162/525 [17:16<3:03:52, 30.39s/it]"
     ]
    },
    {
     "name": "stdout",
     "output_type": "stream",
     "text": [
      "processing pptnum: 428\n",
      "10002/video_features\\video_{ParticipantNo}_428_18-2-2021.csv\n",
      "[9.74, 26.76, 43.302, 60.215, 78.994, 94.584, 108.664, 123.941, 139.942, 155.971, 172.203, 187.314, 204.648, 224.674, 241.501, 259.18, 275.75, 290.529, 308.892, 324.131, 338.673, 353.841]\n"
     ]
    },
    {
     "name": "stderr",
     "output_type": "stream",
     "text": [
      " 31%|████████████████████████▏                                                     | 163/525 [17:44<2:57:27, 29.41s/it]"
     ]
    },
    {
     "name": "stdout",
     "output_type": "stream",
     "text": [
      "processing pptnum: 431\n",
      "10002/video_features\\video_{ParticipantNo}_431_20-2-2021.csv\n",
      "[5.587, 20.697, 34.951, 49.645, 63.115, 76.057, 92.159, 107.807, 121.025, 134.063, 148.86, 161.219, 175.402, 187.885, 200.947, 214.746, 228.247, 243.086, 257.675, 272.51, 286.41, 300.16]\n"
     ]
    },
    {
     "name": "stderr",
     "output_type": "stream",
     "text": [
      " 31%|████████████████████████▎                                                     | 164/525 [18:19<3:08:27, 31.32s/it]"
     ]
    },
    {
     "name": "stdout",
     "output_type": "stream",
     "text": [
      "processing pptnum: 434\n",
      "10002/video_features\\video_{ParticipantNo}_434_4-4-2021.csv\n",
      "[4.872, 25.43, 45.242, 63.356, 80.746, 96.278, 109.749, 125.199, 140.649, 154.337, 172.373, 186.951, 205.747, 221.981, 234.935, 247.425, 260.416, 276.212, 289.887, 305.468, 322.454, 336.738]\n"
     ]
    },
    {
     "name": "stderr",
     "output_type": "stream",
     "text": [
      " 31%|████████████████████████▌                                                     | 165/525 [18:59<3:22:52, 33.81s/it]"
     ]
    },
    {
     "name": "stdout",
     "output_type": "stream",
     "text": [
      "processing pptnum: 435\n",
      "10002/video_features\\video_{ParticipantNo}_435_12-3-2021.csv\n",
      "[7.178, 30.578, 55.282, 79.469, 97.615, 116.832, 133.65, 147.378, 163.81, 181.469, 204.55, 218.359, 235.244, 250.571, 267.766, 281.386, 294.388, 308.111, 321.318, 334.026, 347.512, 359.866]\n"
     ]
    },
    {
     "name": "stderr",
     "output_type": "stream",
     "text": [
      " 32%|████████████████████████▋                                                     | 166/525 [20:03<4:16:40, 42.90s/it]"
     ]
    },
    {
     "name": "stdout",
     "output_type": "stream",
     "text": [
      "processing pptnum: 437\n",
      "10002/video_features\\video_{ParticipantNo}_437_22-2-2021.csv\n",
      "[6.267, 21.473, 37.713, 53.35, 70.024, 92.862, 108.789, 126.014, 143.841, 162.257, 175.828, 193.985, 208.415, 228.606, 243.36, 258.066, 276.272, 293.462, 308.817, 323.306, 342.779, 360.661]\n"
     ]
    },
    {
     "name": "stderr",
     "output_type": "stream",
     "text": [
      " 32%|████████████████████████▊                                                     | 167/525 [21:36<5:46:18, 58.04s/it]"
     ]
    },
    {
     "name": "stdout",
     "output_type": "stream",
     "text": [
      "processing pptnum: 438\n",
      "10002/video_features\\video_{ParticipantNo}_438_15-3-2021.csv\n",
      "[4.546, 19.81, 34.681, 49.265, 66.506, 81.137, 96.506, 109.842, 123.41, 138.114, 152.729, 165.89, 179.705, 193.082, 206.946, 220.353, 235.514, 248.715, 264.545, 277.257, 290.337, 303.09]\n"
     ]
    },
    {
     "name": "stderr",
     "output_type": "stream",
     "text": [
      " 32%|████████████████████████▉                                                     | 168/525 [22:18<5:16:32, 53.20s/it]"
     ]
    },
    {
     "name": "stdout",
     "output_type": "stream",
     "text": [
      "processing pptnum: 441\n",
      "10002/video_features\\video_{ParticipantNo}_441_10-3-2021.csv\n",
      "[4.629, 24.856, 45.509, 63.001, 78.042, 101.381, 116.672, 132.343, 149.871, 164.581, 176.43, 200.291, 214.69, 230.881, 246.515, 267.875, 281.745, 302.666, 318.044, 332.554, 347.164, 361.535]\n"
     ]
    },
    {
     "name": "stderr",
     "output_type": "stream",
     "text": [
      " 32%|█████████████████████████                                                     | 169/525 [22:50<4:37:58, 46.85s/it]"
     ]
    },
    {
     "name": "stdout",
     "output_type": "stream",
     "text": [
      "processing pptnum: 444\n",
      "start time for this ppt is set to zero\n",
      "processing pptnum: 445\n",
      "10002/video_features\\video_{ParticipantNo}_445_26-2-2021.csv\n",
      "[6.83, 20.813, 34.891, 48.382, 61.055, 72.727, 85.086, 97.425, 112.311, 124.324, 137.084, 150.58, 165.01, 176.88, 195.755, 208.395, 221.795, 236.355, 247.958, 259.343, 275.315, 289.58]\n"
     ]
    },
    {
     "name": "stderr",
     "output_type": "stream",
     "text": [
      " 33%|█████████████████████████▍                                                    | 171/525 [23:18<3:37:28, 36.86s/it]"
     ]
    },
    {
     "name": "stdout",
     "output_type": "stream",
     "text": [
      "processing pptnum: 446\n",
      "10002/video_features\\video_{ParticipantNo}_446_15-3-2021.csv\n",
      "[5.216, 23.899, 39.386, 55.658, 69.929, 82.457, 97.957, 110.682, 127.969, 144.795, 158.947, 171.767, 186.991, 209.317, 223.949, 238.709, 251.999, 268.086, 280.9, 295.364, 310.349, 324.024]\n"
     ]
    },
    {
     "name": "stderr",
     "output_type": "stream",
     "text": [
      " 33%|█████████████████████████▌                                                    | 172/525 [23:52<3:32:22, 36.10s/it]"
     ]
    },
    {
     "name": "stdout",
     "output_type": "stream",
     "text": [
      "processing pptnum: 450\n",
      "10002/video_features\\video_{ParticipantNo}_450_30-3-2021.csv\n",
      "[4.903, 21.277, 37.649, 52.094, 66.384, 79.373, 93.609, 108.854, 122.786, 135.524, 148.183, 161.162, 175.62, 190.042, 205.548, 220.452, 234.792, 247.955, 261.33, 278.633, 291.234, 304.49]\n"
     ]
    },
    {
     "name": "stderr",
     "output_type": "stream",
     "text": [
      " 33%|█████████████████████████▋                                                    | 173/525 [24:53<4:15:43, 43.59s/it]"
     ]
    },
    {
     "name": "stdout",
     "output_type": "stream",
     "text": [
      "processing pptnum: 454\n",
      "10002/video_features\\video_{ParticipantNo}_454_1-4-2021.csv\n",
      "[4.461, 20.148, 35.992, 51.073, 65.857, 81.736, 95.706, 109.787, 124.086, 143.93, 157.276, 170.931, 184.332, 197.18, 209.733, 227.575, 250.614, 264.669, 281.719, 296.298, 312.062, 325.297]\n"
     ]
    },
    {
     "name": "stderr",
     "output_type": "stream",
     "text": [
      " 33%|█████████████████████████▊                                                    | 174/525 [25:51<4:39:57, 47.85s/it]"
     ]
    },
    {
     "name": "stdout",
     "output_type": "stream",
     "text": [
      "processing pptnum: 456\n",
      "10002/video_features\\video_{ParticipantNo}_456_26-3-2021.csv\n",
      "[4.195, 22.099, 39.635, 57.827, 75.994, 91.012, 104.403, 118.555, 139.875, 154.899, 173.002, 194.298, 210.514, 225.411, 238.763, 252.938, 268.642, 284.066, 298.426, 314.627, 332.059, 355.14]\n"
     ]
    },
    {
     "name": "stderr",
     "output_type": "stream",
     "text": [
      " 33%|██████████████████████████                                                    | 175/525 [28:09<7:17:25, 74.99s/it]"
     ]
    },
    {
     "name": "stdout",
     "output_type": "stream",
     "text": [
      "processing pptnum: 457\n",
      "10002/video_features\\video_{ParticipantNo}_457_12-4-2021.csv\n",
      "[5.432, 21.426, 38.053, 53.072, 76.211, 91.284, 117.435, 130.987, 144.209, 158.367, 176.979, 192.013, 206.56, 221.373, 237.076, 251.774, 268.633, 285.677, 299.135, 312.69, 327.023, 342.168]\n"
     ]
    },
    {
     "name": "stderr",
     "output_type": "stream",
     "text": [
      " 34%|██████████████████████████▏                                                   | 176/525 [29:39<7:42:27, 79.51s/it]"
     ]
    },
    {
     "name": "stdout",
     "output_type": "stream",
     "text": [
      "processing pptnum: 458\n",
      "10002/video_features\\video_{ParticipantNo}_458_1-4-2021.csv\n",
      "[6.966, 21.388, 37.827, 52.746, 68.684, 82.891, 97.958, 110.678, 125.168, 141.325, 155.895, 169.034, 185.289, 200.892, 215.434, 229.597, 245.425, 260.964, 279.094, 293.597, 308.394, 322.142]\n"
     ]
    },
    {
     "name": "stderr",
     "output_type": "stream",
     "text": [
      " 34%|██████████████████████████▎                                                   | 177/525 [30:35<6:59:48, 72.38s/it]"
     ]
    },
    {
     "name": "stdout",
     "output_type": "stream",
     "text": [
      "processing pptnum: 462\n",
      "10002/video_features\\video_{ParticipantNo}_462_29-3-2021.csv\n",
      "[4.666, 23.395, 38.074, 58.585, 76.329, 92.57, 114.121, 130.115, 143.505, 157.634, 174.266, 191.282, 205.994, 221.075, 235.41, 250.258, 264.978, 282.315, 295.93, 309.802, 323.449, 335.537]\n"
     ]
    },
    {
     "name": "stderr",
     "output_type": "stream",
     "text": [
      " 34%|█████████████████████████▊                                                  | 178/525 [33:36<10:06:50, 104.93s/it]"
     ]
    },
    {
     "name": "stdout",
     "output_type": "stream",
     "text": [
      "processing pptnum: 465\n",
      "start time for this ppt is set to zero\n",
      "processing pptnum: 466\n",
      "10002/video_features\\video_{ParticipantNo}_466_27-3-2021.csv\n",
      "[6.626, 23.073, 40.145, 54.896, 69.09, 84.082, 96.969, 111.498, 126.409, 139.194, 153.409, 169.464, 184.281, 200.521, 216.84, 231.456, 245.353, 259.184, 273.52, 290.809, 304.266, 326.96]\n"
     ]
    },
    {
     "name": "stderr",
     "output_type": "stream",
     "text": [
      " 34%|██████████████████████████▋                                                   | 180/525 [33:38<7:04:12, 73.78s/it]"
     ]
    },
    {
     "name": "stdout",
     "output_type": "stream",
     "text": [
      "processing pptnum: 467\n",
      "10002/video_features\\video_{ParticipantNo}_467_27-3-2021.csv\n",
      "[5.282, 20.432, 39.521, 58.058, 73.172, 87.858, 108.547, 123.973, 140.42, 164.127, 178.788, 197.572, 211.774, 230.896, 244.864, 259.802, 274.322, 288.17, 313.768, 335.054, 364.712, 386.981]\n"
     ]
    },
    {
     "name": "stderr",
     "output_type": "stream",
     "text": [
      " 34%|██████████████████████████▉                                                   | 181/525 [34:41<6:44:43, 70.59s/it]"
     ]
    },
    {
     "name": "stdout",
     "output_type": "stream",
     "text": [
      "processing pptnum: 468\n",
      "10002/video_features\\video_{ParticipantNo}_468_2-4-2021.csv\n",
      "[6.831, 25.171, 43.165, 60.439, 74.546, 90.74, 110.666, 124.732, 139.532, 155.892, 171.381, 185.734, 200.153, 213.065, 229.094, 243.236, 257.102, 274.316, 287.91, 301.926, 322.884, 337.728]\n"
     ]
    },
    {
     "name": "stderr",
     "output_type": "stream",
     "text": [
      " 35%|███████████████████████████                                                   | 182/525 [36:46<8:17:01, 86.94s/it]"
     ]
    },
    {
     "name": "stdout",
     "output_type": "stream",
     "text": [
      "processing pptnum: 477\n",
      "10002/video_features\\video_{ParticipantNo}_477_10-4-2021.csv\n",
      "[6.774, 24.676, 41.476, 61.718, 78.414, 96.882, 115.377, 139.161, 166.25, 188.135, 210.077, 227.166, 248.779, 269.281, 286.963, 305.972, 323.6, 341.555, 361.665, 393.908, 413.532, 428.839]\n"
     ]
    },
    {
     "name": "stderr",
     "output_type": "stream",
     "text": [
      " 35%|███████████████████████████▏                                                  | 183/525 [37:46<7:29:03, 78.78s/it]"
     ]
    },
    {
     "name": "stdout",
     "output_type": "stream",
     "text": [
      "processing pptnum: 478\n",
      "Exclusion file for ppt: 478 at moment: B\n",
      "processing pptnum: 479\n",
      "10002/video_features\\video_{ParticipantNo}_479_31-5-2021.csv\n",
      "[4.633, 22.246, 42.161, 56.352, 68.835, 83.336, 97.3, 111.117, 126.044, 142.166, 156.295, 169.056, 186.954, 205.916, 223.004, 239.879, 256.523, 282.241, 296.684, 310.902, 326.357, 338.756]\n"
     ]
    },
    {
     "name": "stderr",
     "output_type": "stream",
     "text": [
      " 35%|███████████████████████████▍                                                  | 185/525 [39:34<6:44:01, 71.30s/it]"
     ]
    },
    {
     "name": "stdout",
     "output_type": "stream",
     "text": [
      "processing pptnum: 480\n",
      "10002/video_features\\video_{ParticipantNo}_480_18-4-2021.csv\n",
      "[5.4, 26.172, 42.555, 58.684, 79.226, 95.459, 115.915, 130.963, 144.755, 160.042, 180.746, 198.442, 215.419, 228.787, 243.555, 263.515, 287.31, 306.818, 323.443, 340.771, 355.275, 369.731]\n"
     ]
    },
    {
     "name": "stderr",
     "output_type": "stream",
     "text": [
      " 35%|███████████████████████████▋                                                  | 186/525 [39:47<5:04:01, 53.81s/it]"
     ]
    },
    {
     "name": "stdout",
     "output_type": "stream",
     "text": [
      "processing pptnum: 481\n",
      "10002/video_features\\video_{ParticipantNo}_481_12-4-2021.csv\n",
      "[8.752, 61.256, 93.421, 123.085, 148.86, 169.346, 220.082, 258.087, 278.937, 294.326, 322.954, 338.102, 365.648, 388.941, 418.342, 438.978, 458.848, 477.201, 500.824, 519.494, 537.48, 578.431]\n"
     ]
    },
    {
     "name": "stderr",
     "output_type": "stream",
     "text": [
      " 36%|███████████████████████████▊                                                  | 187/525 [42:56<8:52:50, 94.59s/it]"
     ]
    },
    {
     "name": "stdout",
     "output_type": "stream",
     "text": [
      "processing pptnum: 482\n",
      "10002/video_features\\video_{ParticipantNo}_482_28-4-2021.csv\n",
      "[7.679, 24.176, 38.147, 52.054, 68.125, 83.363, 96.6, 111.27, 131.506, 146.893, 163.06, 181.618, 202.846, 218.452, 233.478, 248.734, 262.145, 277.775, 292.4, 307.616, 322.417, 337.608]\n"
     ]
    },
    {
     "name": "stderr",
     "output_type": "stream",
     "text": [
      " 36%|███████████████████████████▉                                                  | 188/525 [43:35<7:17:39, 77.92s/it]"
     ]
    },
    {
     "name": "stdout",
     "output_type": "stream",
     "text": [
      "processing pptnum: 487\n",
      "start time for this ppt is set to zero\n",
      "processing pptnum: 489\n",
      "10002/video_features\\video_{ParticipantNo}_489_10-5-2021.csv\n",
      "[5.684, 21.768, 38.06, 53.431, 67.615, 84.194, 100.483, 115.223, 130.414, 143.664, 158.624, 173.588, 189.453, 205.811, 223.353, 242.634, 258.506, 272.14, 285.535, 299.867, 315.165, 329.416]\n"
     ]
    },
    {
     "name": "stderr",
     "output_type": "stream",
     "text": [
      " 36%|████████████████████████████▏                                                 | 190/525 [44:30<5:50:06, 62.71s/it]"
     ]
    },
    {
     "name": "stdout",
     "output_type": "stream",
     "text": [
      "processing pptnum: 490\n",
      "10002/video_features\\video_{ParticipantNo}_490_24-5-2021.csv\n",
      "[5.174, 22.121, 38.874, 56.009, 71.553, 89.589, 106.228, 123.12, 138.776, 153.778, 171.578, 186.064, 199.702, 215.221, 232.074, 248.21, 262.186, 278.524, 294.068, 311.299, 326.948, 341.36]\n"
     ]
    },
    {
     "name": "stderr",
     "output_type": "stream",
     "text": [
      " 36%|████████████████████████████▍                                                 | 191/525 [45:37<5:57:18, 64.19s/it]"
     ]
    },
    {
     "name": "stdout",
     "output_type": "stream",
     "text": [
      "processing pptnum: 491\n",
      "10002/video_features\\video_{ParticipantNo}_491_23-5-2021.csv\n"
     ]
    },
    {
     "name": "stderr",
     "output_type": "stream",
     "text": [
      " 36%|████████████████████████████▍                                                 | 191/525 [45:43<1:19:56, 14.36s/it]\n"
     ]
    },
    {
     "ename": "ParserError",
     "evalue": "Error tokenizing data. C error: Calling read(nbytes) on source failed. Try engine='python'.",
     "output_type": "error",
     "traceback": [
      "\u001b[1;31m---------------------------------------------------------------------------\u001b[0m",
      "\u001b[1;31mParserError\u001b[0m                               Traceback (most recent call last)",
      "\u001b[1;32m~\\AppData\\Local\\Temp/ipykernel_6112/1406656151.py\u001b[0m in \u001b[0;36m<module>\u001b[1;34m\u001b[0m\n\u001b[0;32m     35\u001b[0m                             \u001b[0mprint\u001b[0m\u001b[1;33m(\u001b[0m\u001b[1;34m'this file is not found - video present, but no openface file for '\u001b[0m \u001b[1;33m+\u001b[0m \u001b[0mstr\u001b[0m\u001b[1;33m(\u001b[0m\u001b[0mpptnum\u001b[0m\u001b[1;33m)\u001b[0m\u001b[1;33m)\u001b[0m\u001b[1;33m\u001b[0m\u001b[1;33m\u001b[0m\u001b[0m\n\u001b[0;32m     36\u001b[0m                         \u001b[1;32melse\u001b[0m\u001b[1;33m:\u001b[0m\u001b[1;33m\u001b[0m\u001b[1;33m\u001b[0m\u001b[0m\n\u001b[1;32m---> 37\u001b[1;33m                             \u001b[0mget_openfacestuff\u001b[0m\u001b[1;33m(\u001b[0m\u001b[0mfileDir\u001b[0m\u001b[1;33m)\u001b[0m\u001b[1;33m\u001b[0m\u001b[1;33m\u001b[0m\u001b[0m\n\u001b[0m\u001b[0;32m     38\u001b[0m \u001b[1;33m\u001b[0m\u001b[0m\n\u001b[0;32m     39\u001b[0m                     \u001b[1;32melse\u001b[0m\u001b[1;33m:\u001b[0m\u001b[1;33m\u001b[0m\u001b[1;33m\u001b[0m\u001b[0m\n",
      "\u001b[1;32m~\\AppData\\Local\\Temp/ipykernel_6112/1416748208.py\u001b[0m in \u001b[0;36mget_openfacestuff\u001b[1;34m(fileDir)\u001b[0m\n\u001b[0;32m     10\u001b[0m \u001b[1;33m\u001b[0m\u001b[0m\n\u001b[0;32m     11\u001b[0m         \u001b[1;32mif\u001b[0m \u001b[0mmath\u001b[0m\u001b[1;33m.\u001b[0m\u001b[0misnan\u001b[0m\u001b[1;33m(\u001b[0m\u001b[0mallData\u001b[0m\u001b[1;33m[\u001b[0m\u001b[1;34m'AU12'\u001b[0m\u001b[1;33m]\u001b[0m\u001b[1;33m[\u001b[0m\u001b[0midx\u001b[0m\u001b[1;33m[\u001b[0m\u001b[1;36m0\u001b[0m\u001b[1;33m]\u001b[0m\u001b[1;33m]\u001b[0m\u001b[1;33m)\u001b[0m \u001b[1;32mor\u001b[0m \u001b[0mredoOpenface\u001b[0m \u001b[1;33m==\u001b[0m \u001b[1;36m1\u001b[0m\u001b[1;33m:\u001b[0m \u001b[1;31m# Check if OpenFace values have already been added, of whether manually set at top of script to re do this (so it doesnt happen unneccessarily\u001b[0m\u001b[1;33m\u001b[0m\u001b[1;33m\u001b[0m\u001b[0m\n\u001b[1;32m---> 12\u001b[1;33m             \u001b[0mopenface\u001b[0m \u001b[1;33m=\u001b[0m \u001b[0mpd\u001b[0m\u001b[1;33m.\u001b[0m\u001b[0mread_csv\u001b[0m\u001b[1;33m(\u001b[0m\u001b[0mfileDir\u001b[0m\u001b[1;33m,\u001b[0m \u001b[0mencoding\u001b[0m \u001b[1;33m=\u001b[0m \u001b[1;34m\"ISO-8859-1\"\u001b[0m\u001b[1;33m)\u001b[0m \u001b[1;31m# Read openface output csv\u001b[0m\u001b[1;33m\u001b[0m\u001b[1;33m\u001b[0m\u001b[0m\n\u001b[0m\u001b[0;32m     13\u001b[0m \u001b[1;33m\u001b[0m\u001b[0m\n\u001b[0;32m     14\u001b[0m             \u001b[1;31m# Get corresponding video file duration\u001b[0m\u001b[1;33m\u001b[0m\u001b[1;33m\u001b[0m\u001b[1;33m\u001b[0m\u001b[0m\n",
      "\u001b[1;32m~\\anaconda3\\envs\\pms_study\\lib\\site-packages\\pandas\\util\\_decorators.py\u001b[0m in \u001b[0;36mwrapper\u001b[1;34m(*args, **kwargs)\u001b[0m\n\u001b[0;32m    309\u001b[0m                     \u001b[0mstacklevel\u001b[0m\u001b[1;33m=\u001b[0m\u001b[0mstacklevel\u001b[0m\u001b[1;33m,\u001b[0m\u001b[1;33m\u001b[0m\u001b[1;33m\u001b[0m\u001b[0m\n\u001b[0;32m    310\u001b[0m                 )\n\u001b[1;32m--> 311\u001b[1;33m             \u001b[1;32mreturn\u001b[0m \u001b[0mfunc\u001b[0m\u001b[1;33m(\u001b[0m\u001b[1;33m*\u001b[0m\u001b[0margs\u001b[0m\u001b[1;33m,\u001b[0m \u001b[1;33m**\u001b[0m\u001b[0mkwargs\u001b[0m\u001b[1;33m)\u001b[0m\u001b[1;33m\u001b[0m\u001b[1;33m\u001b[0m\u001b[0m\n\u001b[0m\u001b[0;32m    312\u001b[0m \u001b[1;33m\u001b[0m\u001b[0m\n\u001b[0;32m    313\u001b[0m         \u001b[1;32mreturn\u001b[0m \u001b[0mwrapper\u001b[0m\u001b[1;33m\u001b[0m\u001b[1;33m\u001b[0m\u001b[0m\n",
      "\u001b[1;32m~\\anaconda3\\envs\\pms_study\\lib\\site-packages\\pandas\\io\\parsers\\readers.py\u001b[0m in \u001b[0;36mread_csv\u001b[1;34m(filepath_or_buffer, sep, delimiter, header, names, index_col, usecols, squeeze, prefix, mangle_dupe_cols, dtype, engine, converters, true_values, false_values, skipinitialspace, skiprows, skipfooter, nrows, na_values, keep_default_na, na_filter, verbose, skip_blank_lines, parse_dates, infer_datetime_format, keep_date_col, date_parser, dayfirst, cache_dates, iterator, chunksize, compression, thousands, decimal, lineterminator, quotechar, quoting, doublequote, escapechar, comment, encoding, encoding_errors, dialect, error_bad_lines, warn_bad_lines, on_bad_lines, delim_whitespace, low_memory, memory_map, float_precision, storage_options)\u001b[0m\n\u001b[0;32m    584\u001b[0m     \u001b[0mkwds\u001b[0m\u001b[1;33m.\u001b[0m\u001b[0mupdate\u001b[0m\u001b[1;33m(\u001b[0m\u001b[0mkwds_defaults\u001b[0m\u001b[1;33m)\u001b[0m\u001b[1;33m\u001b[0m\u001b[1;33m\u001b[0m\u001b[0m\n\u001b[0;32m    585\u001b[0m \u001b[1;33m\u001b[0m\u001b[0m\n\u001b[1;32m--> 586\u001b[1;33m     \u001b[1;32mreturn\u001b[0m \u001b[0m_read\u001b[0m\u001b[1;33m(\u001b[0m\u001b[0mfilepath_or_buffer\u001b[0m\u001b[1;33m,\u001b[0m \u001b[0mkwds\u001b[0m\u001b[1;33m)\u001b[0m\u001b[1;33m\u001b[0m\u001b[1;33m\u001b[0m\u001b[0m\n\u001b[0m\u001b[0;32m    587\u001b[0m \u001b[1;33m\u001b[0m\u001b[0m\n\u001b[0;32m    588\u001b[0m \u001b[1;33m\u001b[0m\u001b[0m\n",
      "\u001b[1;32m~\\anaconda3\\envs\\pms_study\\lib\\site-packages\\pandas\\io\\parsers\\readers.py\u001b[0m in \u001b[0;36m_read\u001b[1;34m(filepath_or_buffer, kwds)\u001b[0m\n\u001b[0;32m    486\u001b[0m \u001b[1;33m\u001b[0m\u001b[0m\n\u001b[0;32m    487\u001b[0m     \u001b[1;32mwith\u001b[0m \u001b[0mparser\u001b[0m\u001b[1;33m:\u001b[0m\u001b[1;33m\u001b[0m\u001b[1;33m\u001b[0m\u001b[0m\n\u001b[1;32m--> 488\u001b[1;33m         \u001b[1;32mreturn\u001b[0m \u001b[0mparser\u001b[0m\u001b[1;33m.\u001b[0m\u001b[0mread\u001b[0m\u001b[1;33m(\u001b[0m\u001b[0mnrows\u001b[0m\u001b[1;33m)\u001b[0m\u001b[1;33m\u001b[0m\u001b[1;33m\u001b[0m\u001b[0m\n\u001b[0m\u001b[0;32m    489\u001b[0m \u001b[1;33m\u001b[0m\u001b[0m\n\u001b[0;32m    490\u001b[0m \u001b[1;33m\u001b[0m\u001b[0m\n",
      "\u001b[1;32m~\\anaconda3\\envs\\pms_study\\lib\\site-packages\\pandas\\io\\parsers\\readers.py\u001b[0m in \u001b[0;36mread\u001b[1;34m(self, nrows)\u001b[0m\n\u001b[0;32m   1045\u001b[0m     \u001b[1;32mdef\u001b[0m \u001b[0mread\u001b[0m\u001b[1;33m(\u001b[0m\u001b[0mself\u001b[0m\u001b[1;33m,\u001b[0m \u001b[0mnrows\u001b[0m\u001b[1;33m=\u001b[0m\u001b[1;32mNone\u001b[0m\u001b[1;33m)\u001b[0m\u001b[1;33m:\u001b[0m\u001b[1;33m\u001b[0m\u001b[1;33m\u001b[0m\u001b[0m\n\u001b[0;32m   1046\u001b[0m         \u001b[0mnrows\u001b[0m \u001b[1;33m=\u001b[0m \u001b[0mvalidate_integer\u001b[0m\u001b[1;33m(\u001b[0m\u001b[1;34m\"nrows\"\u001b[0m\u001b[1;33m,\u001b[0m \u001b[0mnrows\u001b[0m\u001b[1;33m)\u001b[0m\u001b[1;33m\u001b[0m\u001b[1;33m\u001b[0m\u001b[0m\n\u001b[1;32m-> 1047\u001b[1;33m         \u001b[0mindex\u001b[0m\u001b[1;33m,\u001b[0m \u001b[0mcolumns\u001b[0m\u001b[1;33m,\u001b[0m \u001b[0mcol_dict\u001b[0m \u001b[1;33m=\u001b[0m \u001b[0mself\u001b[0m\u001b[1;33m.\u001b[0m\u001b[0m_engine\u001b[0m\u001b[1;33m.\u001b[0m\u001b[0mread\u001b[0m\u001b[1;33m(\u001b[0m\u001b[0mnrows\u001b[0m\u001b[1;33m)\u001b[0m\u001b[1;33m\u001b[0m\u001b[1;33m\u001b[0m\u001b[0m\n\u001b[0m\u001b[0;32m   1048\u001b[0m \u001b[1;33m\u001b[0m\u001b[0m\n\u001b[0;32m   1049\u001b[0m         \u001b[1;32mif\u001b[0m \u001b[0mindex\u001b[0m \u001b[1;32mis\u001b[0m \u001b[1;32mNone\u001b[0m\u001b[1;33m:\u001b[0m\u001b[1;33m\u001b[0m\u001b[1;33m\u001b[0m\u001b[0m\n",
      "\u001b[1;32m~\\anaconda3\\envs\\pms_study\\lib\\site-packages\\pandas\\io\\parsers\\c_parser_wrapper.py\u001b[0m in \u001b[0;36mread\u001b[1;34m(self, nrows)\u001b[0m\n\u001b[0;32m    221\u001b[0m         \u001b[1;32mtry\u001b[0m\u001b[1;33m:\u001b[0m\u001b[1;33m\u001b[0m\u001b[1;33m\u001b[0m\u001b[0m\n\u001b[0;32m    222\u001b[0m             \u001b[1;32mif\u001b[0m \u001b[0mself\u001b[0m\u001b[1;33m.\u001b[0m\u001b[0mlow_memory\u001b[0m\u001b[1;33m:\u001b[0m\u001b[1;33m\u001b[0m\u001b[1;33m\u001b[0m\u001b[0m\n\u001b[1;32m--> 223\u001b[1;33m                 \u001b[0mchunks\u001b[0m \u001b[1;33m=\u001b[0m \u001b[0mself\u001b[0m\u001b[1;33m.\u001b[0m\u001b[0m_reader\u001b[0m\u001b[1;33m.\u001b[0m\u001b[0mread_low_memory\u001b[0m\u001b[1;33m(\u001b[0m\u001b[0mnrows\u001b[0m\u001b[1;33m)\u001b[0m\u001b[1;33m\u001b[0m\u001b[1;33m\u001b[0m\u001b[0m\n\u001b[0m\u001b[0;32m    224\u001b[0m                 \u001b[1;31m# destructive to chunks\u001b[0m\u001b[1;33m\u001b[0m\u001b[1;33m\u001b[0m\u001b[1;33m\u001b[0m\u001b[0m\n\u001b[0;32m    225\u001b[0m                 \u001b[0mdata\u001b[0m \u001b[1;33m=\u001b[0m \u001b[0m_concatenate_chunks\u001b[0m\u001b[1;33m(\u001b[0m\u001b[0mchunks\u001b[0m\u001b[1;33m)\u001b[0m\u001b[1;33m\u001b[0m\u001b[1;33m\u001b[0m\u001b[0m\n",
      "\u001b[1;32m~\\anaconda3\\envs\\pms_study\\lib\\site-packages\\pandas\\_libs\\parsers.pyx\u001b[0m in \u001b[0;36mpandas._libs.parsers.TextReader.read_low_memory\u001b[1;34m()\u001b[0m\n",
      "\u001b[1;32m~\\anaconda3\\envs\\pms_study\\lib\\site-packages\\pandas\\_libs\\parsers.pyx\u001b[0m in \u001b[0;36mpandas._libs.parsers.TextReader._read_rows\u001b[1;34m()\u001b[0m\n",
      "\u001b[1;32m~\\anaconda3\\envs\\pms_study\\lib\\site-packages\\pandas\\_libs\\parsers.pyx\u001b[0m in \u001b[0;36mpandas._libs.parsers.TextReader._tokenize_rows\u001b[1;34m()\u001b[0m\n",
      "\u001b[1;32m~\\anaconda3\\envs\\pms_study\\lib\\site-packages\\pandas\\_libs\\parsers.pyx\u001b[0m in \u001b[0;36mpandas._libs.parsers.raise_parser_error\u001b[1;34m()\u001b[0m\n",
      "\u001b[1;31mParserError\u001b[0m: Error tokenizing data. C error: Calling read(nbytes) on source failed. Try engine='python'."
     ]
    }
   ],
   "source": [
    "# The BIG loop where all the magic happens\n",
    "\n",
    "index = 0\n",
    "for pptnum in tqdm(timings[\"pptnumber\"]): # Loop over all ppt's that had a video available (therefore present in timings.csv)\n",
    "    if '514' not in str(pptnum) and '583' not in str(pptnum) and '342' not in str(pptnum) and '4888' not in str(pptnum): # '&': This is something that gives errors, '383': Corrupted file, '467': same, '495': same, '502': same\n",
    "\n",
    "        print(\"processing pptnum: \" + str(pptnum))\n",
    "        idx = np.where(allData['ID'] == int(pptnum))[0] # Watch out; this will give you ALL indices for this pptnum, so both A and B\n",
    "        if timings[\"Exclusion\"][index] == 1: # Only continue the loop if there is no Exclusion marked\n",
    "            print(\"Exclusion file for ppt: \" + str(pptnum) + \" at moment: \" + timings[\"ImageGroup\"][index])\n",
    "        else:\n",
    "            videoOffset = float(timings[\"StartTime\"][index])\n",
    "            if videoOffset == 0: # if a timing start point was not present, it was set to 0. We don't process those because we cant sync them\n",
    "                print('start time for this ppt is set to zero')\n",
    "            else:\n",
    "                if len(idx) < 1: # Check if occurences in datafile exist for this participant/video file\n",
    "                    print(\"No input data found for video file of pptnum: \" + str(pptnum) + \" with video file \" + timings[\"ImageGroup\"][index] )\n",
    "                else:           \n",
    "                    moment = timings[\"ImageGroup\"][index]\n",
    "                    if moment ==  'A':\n",
    "                        indices = [i for i, s in enumerate(AFiles) if str(pptnum) in s]\n",
    "                        idx = np.where((allData['ID'] == int(pptnum)) & (allData['Moment'] == 'A'))[0] # So we don't also use the indices that don't apply here right now\n",
    "                        try:\n",
    "                            fileDir = AFiles[indices[0]]\n",
    "                        except:\n",
    "                            print('this file is not found - video present, but no openface file for ' + str(pptnum))\n",
    "                        else: \n",
    "                            get_openfacestuff(fileDir)\n",
    "                    elif moment == 'B':\n",
    "                        indices = [i for i, s in enumerate(BFiles) if str(pptnum) in s]\n",
    "                        idx = np.where((allData['ID'] == int(pptnum)) & (allData['Moment'] == 'B'))[0] # So we don't also use the indices that don't apply here right now\n",
    "                        try:\n",
    "                            fileDir = BFiles[indices[0]]\n",
    "                        except:\n",
    "                            print('this file is not found - video present, but no openface file for ' + str(pptnum))\n",
    "                        else: \n",
    "                            get_openfacestuff(fileDir)\n",
    "\n",
    "                    else:\n",
    "                        print(\"Some error with testing moment\")\n",
    "                        break\n",
    "\n",
    "    index += 1 # Create counter\n",
    "#     if index > 10:\n",
    "#         break"
   ]
  },
  {
   "cell_type": "code",
   "execution_count": 45,
   "id": "07b53d44-d34b-4f62-99d3-54c6a4272afc",
   "metadata": {},
   "outputs": [
    {
     "data": {
      "text/plain": [
       "'10002/video_features\\\\video_{ParticipantNo}_350_7-1-2021.csv'"
      ]
     },
     "execution_count": 45,
     "metadata": {},
     "output_type": "execute_result"
    }
   ],
   "source": [
    "fileDir\n",
    "# index\n",
    "# timings[\"ImageGroup\"][index]\n",
    "# allData['Moment'][np.where((allData['ID'] == int(pptnum)))[0]]"
   ]
  },
  {
   "cell_type": "code",
   "execution_count": 37,
   "id": "128ee37b-707e-4b2a-a00d-7f0226089ccd",
   "metadata": {},
   "outputs": [
    {
     "ename": "IndexError",
     "evalue": "index 0 is out of bounds for axis 0 with size 0",
     "output_type": "error",
     "traceback": [
      "\u001b[1;31m---------------------------------------------------------------------------\u001b[0m",
      "\u001b[1;31mIndexError\u001b[0m                                Traceback (most recent call last)",
      "\u001b[1;32m~\\AppData\\Local\\Temp/ipykernel_33772/1946111052.py\u001b[0m in \u001b[0;36m<module>\u001b[1;34m\u001b[0m\n\u001b[1;32m----> 1\u001b[1;33m \u001b[0mmath\u001b[0m\u001b[1;33m.\u001b[0m\u001b[0misnan\u001b[0m\u001b[1;33m(\u001b[0m\u001b[0mallData\u001b[0m\u001b[1;33m[\u001b[0m\u001b[1;34m'AU12'\u001b[0m\u001b[1;33m]\u001b[0m\u001b[1;33m[\u001b[0m\u001b[0midx\u001b[0m\u001b[1;33m[\u001b[0m\u001b[1;36m0\u001b[0m\u001b[1;33m]\u001b[0m\u001b[1;33m]\u001b[0m\u001b[1;33m)\u001b[0m\u001b[1;33m\u001b[0m\u001b[1;33m\u001b[0m\u001b[0m\n\u001b[0m",
      "\u001b[1;31mIndexError\u001b[0m: index 0 is out of bounds for axis 0 with size 0"
     ]
    }
   ],
   "source": [
    "math.isnan(allData['AU12'][idx[0]]) "
   ]
  },
  {
   "cell_type": "code",
   "execution_count": 17,
   "id": "7ee50348-85c1-48d0-8471-89cd5508cf0c",
   "metadata": {},
   "outputs": [
    {
     "name": "stdout",
     "output_type": "stream",
     "text": [
      "fuck me\n"
     ]
    }
   ],
   "source": []
  },
  {
   "cell_type": "code",
   "execution_count": 34,
   "id": "a03c68a0-624a-498b-95d9-f0200600977e",
   "metadata": {},
   "outputs": [
    {
     "data": {
      "text/plain": [
       "1531"
      ]
     },
     "execution_count": 34,
     "metadata": {},
     "output_type": "execute_result"
    }
   ],
   "source": []
  },
  {
   "cell_type": "code",
   "execution_count": 20,
   "id": "a2ed0bdd-91a5-4da4-8e94-a40a21cc9644",
   "metadata": {},
   "outputs": [
    {
     "data": {
      "text/plain": [
       "array([8360, 8361, 8362, 8363, 8364, 8365, 8366, 8367, 8368, 8369, 8370,\n",
       "       8371, 8372, 8373, 8374, 8375, 8376, 8377, 8378, 8379, 8380, 8381],\n",
       "      dtype=int64)"
      ]
     },
     "execution_count": 20,
     "metadata": {},
     "output_type": "execute_result"
    }
   ],
   "source": []
  },
  {
   "cell_type": "code",
   "execution_count": 7,
   "id": "1dc58547-8a86-449d-8169-e813778e76dc",
   "metadata": {},
   "outputs": [
    {
     "data": {
      "text/html": [
       "<div>\n",
       "<style scoped>\n",
       "    .dataframe tbody tr th:only-of-type {\n",
       "        vertical-align: middle;\n",
       "    }\n",
       "\n",
       "    .dataframe tbody tr th {\n",
       "        vertical-align: top;\n",
       "    }\n",
       "\n",
       "    .dataframe thead th {\n",
       "        text-align: right;\n",
       "    }\n",
       "</style>\n",
       "<table border=\"1\" class=\"dataframe\">\n",
       "  <thead>\n",
       "    <tr style=\"text-align: right;\">\n",
       "      <th></th>\n",
       "      <th>Unnamed: 0</th>\n",
       "      <th>Unnamed: 0.1</th>\n",
       "      <th>Unnamed: 0.1.1</th>\n",
       "      <th>ID</th>\n",
       "      <th>Age</th>\n",
       "      <th>FirstMenstrual</th>\n",
       "      <th>MenstrualDuration</th>\n",
       "      <th>Exclusie</th>\n",
       "      <th>TrueFollicular</th>\n",
       "      <th>TrueLuteal</th>\n",
       "      <th>...</th>\n",
       "      <th>PD_Mean</th>\n",
       "      <th>PD_Std</th>\n",
       "      <th>PD_Max</th>\n",
       "      <th>headMovement</th>\n",
       "      <th>happy</th>\n",
       "      <th>sad</th>\n",
       "      <th>disgust</th>\n",
       "      <th>anger</th>\n",
       "      <th>scared</th>\n",
       "      <th>confidence</th>\n",
       "    </tr>\n",
       "  </thead>\n",
       "  <tbody>\n",
       "    <tr>\n",
       "      <th>0</th>\n",
       "      <td>0</td>\n",
       "      <td>0</td>\n",
       "      <td>0</td>\n",
       "      <td>201</td>\n",
       "      <td>44</td>\n",
       "      <td>12</td>\n",
       "      <td>29</td>\n",
       "      <td>NaN</td>\n",
       "      <td>15-11-2020</td>\n",
       "      <td>30-11-2020</td>\n",
       "      <td>...</td>\n",
       "      <td>NaN</td>\n",
       "      <td>NaN</td>\n",
       "      <td>NaN</td>\n",
       "      <td>NaN</td>\n",
       "      <td>NaN</td>\n",
       "      <td>NaN</td>\n",
       "      <td>NaN</td>\n",
       "      <td>NaN</td>\n",
       "      <td>NaN</td>\n",
       "      <td>NaN</td>\n",
       "    </tr>\n",
       "    <tr>\n",
       "      <th>1</th>\n",
       "      <td>1</td>\n",
       "      <td>1</td>\n",
       "      <td>1</td>\n",
       "      <td>201</td>\n",
       "      <td>44</td>\n",
       "      <td>12</td>\n",
       "      <td>29</td>\n",
       "      <td>NaN</td>\n",
       "      <td>15-11-2020</td>\n",
       "      <td>30-11-2020</td>\n",
       "      <td>...</td>\n",
       "      <td>NaN</td>\n",
       "      <td>NaN</td>\n",
       "      <td>NaN</td>\n",
       "      <td>NaN</td>\n",
       "      <td>NaN</td>\n",
       "      <td>NaN</td>\n",
       "      <td>NaN</td>\n",
       "      <td>NaN</td>\n",
       "      <td>NaN</td>\n",
       "      <td>NaN</td>\n",
       "    </tr>\n",
       "    <tr>\n",
       "      <th>2</th>\n",
       "      <td>2</td>\n",
       "      <td>2</td>\n",
       "      <td>2</td>\n",
       "      <td>201</td>\n",
       "      <td>44</td>\n",
       "      <td>12</td>\n",
       "      <td>29</td>\n",
       "      <td>NaN</td>\n",
       "      <td>15-11-2020</td>\n",
       "      <td>30-11-2020</td>\n",
       "      <td>...</td>\n",
       "      <td>NaN</td>\n",
       "      <td>NaN</td>\n",
       "      <td>NaN</td>\n",
       "      <td>NaN</td>\n",
       "      <td>NaN</td>\n",
       "      <td>NaN</td>\n",
       "      <td>NaN</td>\n",
       "      <td>NaN</td>\n",
       "      <td>NaN</td>\n",
       "      <td>NaN</td>\n",
       "    </tr>\n",
       "    <tr>\n",
       "      <th>3</th>\n",
       "      <td>3</td>\n",
       "      <td>3</td>\n",
       "      <td>3</td>\n",
       "      <td>201</td>\n",
       "      <td>44</td>\n",
       "      <td>12</td>\n",
       "      <td>29</td>\n",
       "      <td>NaN</td>\n",
       "      <td>15-11-2020</td>\n",
       "      <td>30-11-2020</td>\n",
       "      <td>...</td>\n",
       "      <td>NaN</td>\n",
       "      <td>NaN</td>\n",
       "      <td>NaN</td>\n",
       "      <td>NaN</td>\n",
       "      <td>NaN</td>\n",
       "      <td>NaN</td>\n",
       "      <td>NaN</td>\n",
       "      <td>NaN</td>\n",
       "      <td>NaN</td>\n",
       "      <td>NaN</td>\n",
       "    </tr>\n",
       "    <tr>\n",
       "      <th>4</th>\n",
       "      <td>4</td>\n",
       "      <td>4</td>\n",
       "      <td>4</td>\n",
       "      <td>201</td>\n",
       "      <td>44</td>\n",
       "      <td>12</td>\n",
       "      <td>29</td>\n",
       "      <td>NaN</td>\n",
       "      <td>15-11-2020</td>\n",
       "      <td>30-11-2020</td>\n",
       "      <td>...</td>\n",
       "      <td>NaN</td>\n",
       "      <td>NaN</td>\n",
       "      <td>NaN</td>\n",
       "      <td>NaN</td>\n",
       "      <td>NaN</td>\n",
       "      <td>NaN</td>\n",
       "      <td>NaN</td>\n",
       "      <td>NaN</td>\n",
       "      <td>NaN</td>\n",
       "      <td>NaN</td>\n",
       "    </tr>\n",
       "    <tr>\n",
       "      <th>...</th>\n",
       "      <td>...</td>\n",
       "      <td>...</td>\n",
       "      <td>...</td>\n",
       "      <td>...</td>\n",
       "      <td>...</td>\n",
       "      <td>...</td>\n",
       "      <td>...</td>\n",
       "      <td>...</td>\n",
       "      <td>...</td>\n",
       "      <td>...</td>\n",
       "      <td>...</td>\n",
       "      <td>...</td>\n",
       "      <td>...</td>\n",
       "      <td>...</td>\n",
       "      <td>...</td>\n",
       "      <td>...</td>\n",
       "      <td>...</td>\n",
       "      <td>...</td>\n",
       "      <td>...</td>\n",
       "      <td>...</td>\n",
       "      <td>...</td>\n",
       "    </tr>\n",
       "    <tr>\n",
       "      <th>15835</th>\n",
       "      <td>15835</td>\n",
       "      <td>15835</td>\n",
       "      <td>15835</td>\n",
       "      <td>524</td>\n",
       "      <td>30</td>\n",
       "      <td>12</td>\n",
       "      <td>29</td>\n",
       "      <td>NaN</td>\n",
       "      <td>3-5-2021</td>\n",
       "      <td>18-5-2021</td>\n",
       "      <td>...</td>\n",
       "      <td>NaN</td>\n",
       "      <td>NaN</td>\n",
       "      <td>NaN</td>\n",
       "      <td>NaN</td>\n",
       "      <td>NaN</td>\n",
       "      <td>NaN</td>\n",
       "      <td>NaN</td>\n",
       "      <td>NaN</td>\n",
       "      <td>NaN</td>\n",
       "      <td>NaN</td>\n",
       "    </tr>\n",
       "    <tr>\n",
       "      <th>15836</th>\n",
       "      <td>15836</td>\n",
       "      <td>15836</td>\n",
       "      <td>15836</td>\n",
       "      <td>524</td>\n",
       "      <td>30</td>\n",
       "      <td>12</td>\n",
       "      <td>29</td>\n",
       "      <td>NaN</td>\n",
       "      <td>3-5-2021</td>\n",
       "      <td>18-5-2021</td>\n",
       "      <td>...</td>\n",
       "      <td>NaN</td>\n",
       "      <td>NaN</td>\n",
       "      <td>NaN</td>\n",
       "      <td>NaN</td>\n",
       "      <td>NaN</td>\n",
       "      <td>NaN</td>\n",
       "      <td>NaN</td>\n",
       "      <td>NaN</td>\n",
       "      <td>NaN</td>\n",
       "      <td>NaN</td>\n",
       "    </tr>\n",
       "    <tr>\n",
       "      <th>15837</th>\n",
       "      <td>15837</td>\n",
       "      <td>15837</td>\n",
       "      <td>15837</td>\n",
       "      <td>524</td>\n",
       "      <td>30</td>\n",
       "      <td>12</td>\n",
       "      <td>29</td>\n",
       "      <td>NaN</td>\n",
       "      <td>3-5-2021</td>\n",
       "      <td>18-5-2021</td>\n",
       "      <td>...</td>\n",
       "      <td>NaN</td>\n",
       "      <td>NaN</td>\n",
       "      <td>NaN</td>\n",
       "      <td>NaN</td>\n",
       "      <td>NaN</td>\n",
       "      <td>NaN</td>\n",
       "      <td>NaN</td>\n",
       "      <td>NaN</td>\n",
       "      <td>NaN</td>\n",
       "      <td>NaN</td>\n",
       "    </tr>\n",
       "    <tr>\n",
       "      <th>15838</th>\n",
       "      <td>15838</td>\n",
       "      <td>15838</td>\n",
       "      <td>15838</td>\n",
       "      <td>524</td>\n",
       "      <td>30</td>\n",
       "      <td>12</td>\n",
       "      <td>29</td>\n",
       "      <td>NaN</td>\n",
       "      <td>3-5-2021</td>\n",
       "      <td>18-5-2021</td>\n",
       "      <td>...</td>\n",
       "      <td>NaN</td>\n",
       "      <td>NaN</td>\n",
       "      <td>NaN</td>\n",
       "      <td>NaN</td>\n",
       "      <td>NaN</td>\n",
       "      <td>NaN</td>\n",
       "      <td>NaN</td>\n",
       "      <td>NaN</td>\n",
       "      <td>NaN</td>\n",
       "      <td>NaN</td>\n",
       "    </tr>\n",
       "    <tr>\n",
       "      <th>15839</th>\n",
       "      <td>15839</td>\n",
       "      <td>15839</td>\n",
       "      <td>15839</td>\n",
       "      <td>524</td>\n",
       "      <td>30</td>\n",
       "      <td>12</td>\n",
       "      <td>29</td>\n",
       "      <td>NaN</td>\n",
       "      <td>3-5-2021</td>\n",
       "      <td>18-5-2021</td>\n",
       "      <td>...</td>\n",
       "      <td>NaN</td>\n",
       "      <td>NaN</td>\n",
       "      <td>NaN</td>\n",
       "      <td>NaN</td>\n",
       "      <td>NaN</td>\n",
       "      <td>NaN</td>\n",
       "      <td>NaN</td>\n",
       "      <td>NaN</td>\n",
       "      <td>NaN</td>\n",
       "      <td>NaN</td>\n",
       "    </tr>\n",
       "  </tbody>\n",
       "</table>\n",
       "<p>15840 rows × 48 columns</p>\n",
       "</div>"
      ],
      "text/plain": [
       "       Unnamed: 0  Unnamed: 0.1  Unnamed: 0.1.1   ID  Age  FirstMenstrual  \\\n",
       "0               0             0               0  201   44              12   \n",
       "1               1             1               1  201   44              12   \n",
       "2               2             2               2  201   44              12   \n",
       "3               3             3               3  201   44              12   \n",
       "4               4             4               4  201   44              12   \n",
       "...           ...           ...             ...  ...  ...             ...   \n",
       "15835       15835         15835           15835  524   30              12   \n",
       "15836       15836         15836           15836  524   30              12   \n",
       "15837       15837         15837           15837  524   30              12   \n",
       "15838       15838         15838           15838  524   30              12   \n",
       "15839       15839         15839           15839  524   30              12   \n",
       "\n",
       "       MenstrualDuration  Exclusie TrueFollicular  TrueLuteal  ... PD_Mean  \\\n",
       "0                     29       NaN     15-11-2020  30-11-2020  ...     NaN   \n",
       "1                     29       NaN     15-11-2020  30-11-2020  ...     NaN   \n",
       "2                     29       NaN     15-11-2020  30-11-2020  ...     NaN   \n",
       "3                     29       NaN     15-11-2020  30-11-2020  ...     NaN   \n",
       "4                     29       NaN     15-11-2020  30-11-2020  ...     NaN   \n",
       "...                  ...       ...            ...         ...  ...     ...   \n",
       "15835                 29       NaN       3-5-2021   18-5-2021  ...     NaN   \n",
       "15836                 29       NaN       3-5-2021   18-5-2021  ...     NaN   \n",
       "15837                 29       NaN       3-5-2021   18-5-2021  ...     NaN   \n",
       "15838                 29       NaN       3-5-2021   18-5-2021  ...     NaN   \n",
       "15839                 29       NaN       3-5-2021   18-5-2021  ...     NaN   \n",
       "\n",
       "      PD_Std PD_Max headMovement  happy  sad  disgust  anger  scared  \\\n",
       "0        NaN    NaN          NaN    NaN  NaN      NaN    NaN     NaN   \n",
       "1        NaN    NaN          NaN    NaN  NaN      NaN    NaN     NaN   \n",
       "2        NaN    NaN          NaN    NaN  NaN      NaN    NaN     NaN   \n",
       "3        NaN    NaN          NaN    NaN  NaN      NaN    NaN     NaN   \n",
       "4        NaN    NaN          NaN    NaN  NaN      NaN    NaN     NaN   \n",
       "...      ...    ...          ...    ...  ...      ...    ...     ...   \n",
       "15835    NaN    NaN          NaN    NaN  NaN      NaN    NaN     NaN   \n",
       "15836    NaN    NaN          NaN    NaN  NaN      NaN    NaN     NaN   \n",
       "15837    NaN    NaN          NaN    NaN  NaN      NaN    NaN     NaN   \n",
       "15838    NaN    NaN          NaN    NaN  NaN      NaN    NaN     NaN   \n",
       "15839    NaN    NaN          NaN    NaN  NaN      NaN    NaN     NaN   \n",
       "\n",
       "       confidence  \n",
       "0             NaN  \n",
       "1             NaN  \n",
       "2             NaN  \n",
       "3             NaN  \n",
       "4             NaN  \n",
       "...           ...  \n",
       "15835         NaN  \n",
       "15836         NaN  \n",
       "15837         NaN  \n",
       "15838         NaN  \n",
       "15839         NaN  \n",
       "\n",
       "[15840 rows x 48 columns]"
      ]
     },
     "execution_count": 7,
     "metadata": {},
     "output_type": "execute_result"
    }
   ],
   "source": [
    "allData"
   ]
  },
  {
   "cell_type": "code",
   "execution_count": 7,
   "id": "f8e36113-c80c-49b1-90a9-7da2e9593fbf",
   "metadata": {},
   "outputs": [],
   "source": [
    "# os.chdir(os.path.join(data_dir,date_dir))\n",
    "# allData.to_csv('allPMSdata3.csv')"
   ]
  },
  {
   "cell_type": "code",
   "execution_count": 8,
   "id": "73a4e03f-d64c-4de9-b451-0a976f4a9f40",
   "metadata": {},
   "outputs": [],
   "source": [
    "allData.to_csv(str(data_dir) + '\\\\' + str(date_dir) + 'allPMSdata.csv')"
   ]
  },
  {
   "cell_type": "markdown",
   "id": "3f721086-ef96-4323-afff-ed11f90a38cc",
   "metadata": {},
   "source": [
    "# Where to start when stuff goes wrong"
   ]
  },
  {
   "cell_type": "code",
   "execution_count": null,
   "id": "5f581822-3487-4bec-996a-49686da710e6",
   "metadata": {},
   "outputs": [],
   "source": [
    "openface = pd.read_csv(fileDir, encoding = \"ISO-8859-1\") # Read openface output csv"
   ]
  },
  {
   "cell_type": "code",
   "execution_count": null,
   "id": "7acbc35a-0895-46c8-90bb-bbdb5a78647f",
   "metadata": {},
   "outputs": [],
   "source": [
    "# Get corresponding video file duration \n",
    "splits = fileDir.split('/video_features\\\\')\n",
    "fileduration = [value for key, value in durationsdata.items() if splits[0] in key.lower() and splits[1][23:len(splits[1])-4] in key.lower()] # Very weird formatting, but when checking for directory (10001/10002) and only the date (something with curly bracktes messes it up. \n",
    "frameduration = fileduration[0] / len(openface)\n",
    "openface.insert (3, \"timestamp2\", np.arange(0, fileduration[0], frameduration).tolist()[0:len(openface)]) # Add new timestamps right after the first timestamp || We're taking [0:len(openface)] here because due to rounding error, the newly created timestamps might be one longer than th array. \n",
    "videoOffset\n",
    "behaviorOffset = allData['startBeep'][idx[0]]\n",
    "correctedStarts = allData['startView'][idx] - behaviorOffset # startViews - offSet\n",
    "videoStarts = ((correctedStarts + videoOffset) / 1000).tolist() # These will be the timestamps in seconds because / 1000\n",
    "\n",
    "correctedEnds = allData['stopView'][idx] - behaviorOffset # startViews - offSet\n",
    "videoEnds = ((correctedEnds + videoOffset) / 1000).tolist()"
   ]
  },
  {
   "cell_type": "code",
   "execution_count": null,
   "id": "24b725ff-4746-424f-bf3c-f7705ef74d4a",
   "metadata": {},
   "outputs": [],
   "source": [
    "idx\n",
    "videoStarts"
   ]
  }
 ],
 "metadata": {
  "kernelspec": {
   "display_name": "Python 3 (ipykernel)",
   "language": "python",
   "name": "python3"
  },
  "language_info": {
   "codemirror_mode": {
    "name": "ipython",
    "version": 3
   },
   "file_extension": ".py",
   "mimetype": "text/x-python",
   "name": "python",
   "nbconvert_exporter": "python",
   "pygments_lexer": "ipython3",
   "version": "3.9.6"
  }
 },
 "nbformat": 4,
 "nbformat_minor": 5
}
