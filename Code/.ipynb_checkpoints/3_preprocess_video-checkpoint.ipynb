{
 "cells": [
  {
   "cell_type": "code",
   "execution_count": 53,
   "id": "5ba9c52b-b04a-4285-a676-768fc007bee8",
   "metadata": {},
   "outputs": [],
   "source": [
    "import glob\n",
    "import os\n",
    "import subprocess\n",
    "import numpy as np\n",
    "import pandas as pd\n",
    "import math\n",
    "\n",
    "from tqdm import tqdm\n",
    "from pathlib import Path\n",
    "\n",
    "import re"
   ]
  },
  {
   "cell_type": "markdown",
   "id": "08d55b34-48d7-4a12-8bef-167d0365462d",
   "metadata": {},
   "source": [
    "# What's happening here?\n",
    "\n",
    "In this script we will load in all the video's and analyze them using OpenFace. \n",
    "The starting point of the experiment will be read in manually and this will be used to sync the video with the behavioral data. \n",
    "\n",
    "When the behavioral data is loaded in, a subindex for each trial can be made. \n",
    "On this information, averages will be run\n",
    "\n",
    "This information will be stored in a df\n",
    "- Resulting in a ppt x trial dataframe\n",
    "-- Also containing every mean action unit for the duration of exposure ++ Date (from file name)\n",
    "\n"
   ]
  },
  {
   "cell_type": "markdown",
   "id": "0d7afd8a-2448-45b7-aa01-a09e0f56f096",
   "metadata": {},
   "source": [
    "# Set Paths"
   ]
  },
  {
   "cell_type": "code",
   "execution_count": 4,
   "id": "bb32c566-a869-4c4b-a2a5-7f34a59998bb",
   "metadata": {},
   "outputs": [],
   "source": [
    "# Declare all directories:\n",
    "\n",
    "data_dir = Path('Z:/shares/ghepmk_data/2020_Kappen_PMS')\n",
    "\n",
    "# Create all relevant directories\n",
    "date_dir = \"24082021/\"\n",
    "data_all_dir = os.path.join(data_dir, date_dir)\n",
    "data_A_dir = os.path.join(data_dir, Path('10001'))\n",
    "data_B_dir = os.path.join(data_dir, Path('10002'))"
   ]
  },
  {
   "cell_type": "markdown",
   "id": "31a0858d-fff6-4b72-9ca2-58fa9352daa7",
   "metadata": {},
   "source": [
    "# Testmoment A"
   ]
  },
  {
   "cell_type": "code",
   "execution_count": 27,
   "id": "78c5243d-1148-45b2-966d-eb8c01855255",
   "metadata": {},
   "outputs": [],
   "source": [
    "os.chdir(data_A_dir)\n",
    "AVid = glob.glob(\"video_{ParticipantNo*\" + \"*.webm\", recursive = True) # get all webm's in directory\n",
    "AVidID = []\n",
    "CSVy_n = []\n",
    "\n",
    "for index, item in enumerate(AVid):\n",
    "    AVidID.append(AVid[index].split(\"video_{ParticipantNo}_\")[1][0:3])\n",
    "        \n",
    "AVidID = set(AVidID)\n",
    "demographics = pd.read_csv(data_all_dir + \"cleanData.csv\", encoding = \"ISO-8859-1\")"
   ]
  },
  {
   "cell_type": "code",
   "execution_count": 40,
   "id": "364a0767-844c-4ef9-b8f8-d8d68ea9b450",
   "metadata": {},
   "outputs": [],
   "source": [
    "exclude = ['&à&', # Weird shit\n",
    "           '667', # Two files, 16-7 and 12-8. See also behavioral file\n",
    "           '546', # Two files, 12-5 and 1-6. However, didn't get flagged for behavioral data. Check\n",
    "           '661', # Two files, see behavioral file\n",
    "           '517', # Two files, 17-6 and 11-6. Not flagged in behavioral data. Check\n",
    "          ]"
   ]
  },
  {
   "cell_type": "code",
   "execution_count": 65,
   "id": "4f381ac1-67b5-4efb-953f-357d336c5858",
   "metadata": {},
   "outputs": [],
   "source": [
    "def extract_video(filename: str, moment: str, date: str):\n",
    "    if moment == 'A':\n",
    "        file = data_A_dir + filename\n",
    "        processed_dir = data_A_dir + '\\\\video_features'\n",
    "    elif moment == 'B':\n",
    "        file = data_B_dir + filename\n",
    "        processed_dir = data_B_dir + '\\\\video_features'\n",
    "    \n",
    "    # Run OpenSmile\n",
    "#     subprocess.run(['C:\\\\Users\\\\mitch\\\\OneDrive - UGent\\\\UGent\\\\Topics\\\\Facial\\\\OpenFace_2.2.0_win_x64_new\\\\FeatureExtraction.exe',\n",
    "#                         '-f', file, '-out_dir', processed_dir, \"-2Dfp\",   \"-3Dfp\", \"-pdmparams\", \"-pose\", \"-aus\", \"-gaze\", \"-hogalign\"])\n",
    "    subprocess.run(['D:\\\\UGent\\\\Topics\\\\Facial\\\\OpenFace_2.2.0_win_x64_new\\\\FeatureExtraction.exe',\n",
    "                        '-f', file, '-out_dir', processed_dir, \"-2Dfp\",   \"-3Dfp\", \"-pdmparams\", \"-pose\", \"-aus\", \"-gaze\", \"-hogalign\"])\n",
    "    \n",
    "    "
   ]
  },
  {
   "cell_type": "code",
   "execution_count": null,
   "id": "969819d4-6f8b-427f-95d6-1a7086a09a73",
   "metadata": {
    "scrolled": true,
    "tags": []
   },
   "outputs": [
    {
     "name": "stderr",
     "output_type": "stream",
     "text": [
      "  0%|                                                                                          | 0/263 [00:00<?, ?it/s]"
     ]
    },
    {
     "name": "stdout",
     "output_type": "stream",
     "text": [
      "yay one file\n"
     ]
    }
   ],
   "source": [
    "index = 0\n",
    "for pptnum in tqdm(AVidID): # Loop through all file ID's\n",
    "    if pptnum not in exclude: # Some participants messed up, so skip those. See earlier cell for descriptions of each\n",
    "        index += 1\n",
    "        indices = [i for i, s in enumerate(AVid) if pptnum in s] # Check per pptnum how many files are found\n",
    "        if len(indices) > 1: # if more than one, something is going wrong, figure out\n",
    "            print(\"Too many .webm files for ppt \" + pptnum + \".\")\n",
    "            break\n",
    "        elif len(indices) == 0: # if none, probably only saved before video, so check wCAM\n",
    "            print(\"No .webm files found for ppt \" + pptnum + \".\")\n",
    "        elif len(indices) == 1: # if one, that is perfect, read it\n",
    "#             data = pd.read_csv(ACsv[indices[0]])\n",
    "            filename = AVid[indices[0]]\n",
    "            print(\"Currently processing video features for: \" + filename)\n",
    "            date = re.search(pptnum + '_(.*)webm', filename).group(1)\n",
    "            extract_video(filename, 'A', date)\n",
    "        break"
   ]
  },
  {
   "cell_type": "code",
   "execution_count": 24,
   "id": "b5364719-769f-4763-b826-f588037fc3de",
   "metadata": {},
   "outputs": [
    {
     "data": {
      "text/plain": [
       "670"
      ]
     },
     "execution_count": 24,
     "metadata": {},
     "output_type": "execute_result"
    }
   ],
   "source": []
  },
  {
   "cell_type": "code",
   "execution_count": 64,
   "id": "d18fb62c-1507-45bd-b32e-8d9e6ad2c344",
   "metadata": {},
   "outputs": [
    {
     "data": {
      "text/plain": [
       "'video_{ParticipantNo}_415_1-2-2021.webm'"
      ]
     },
     "execution_count": 64,
     "metadata": {},
     "output_type": "execute_result"
    }
   ],
   "source": [
    "C:\\Users\\mitch\\OneDrive - UGent\\UGent\\Topics\\Facial\\OpenFace_2.2.0_win_x64_new\n",
    "\n",
    "\n",
    "subprocess.run(['C:\\\\Users\\\\mitch\\\\OneDrive - UGent\\\\UGent\\\\Topics\\\\Facial\\\\OpenFace_2.2.0_win_x64_new\\\\FeatureExtraction.exe',\n",
    "                        '-f', file, '-out_dir', processed_dir, \"-2Dfp\",   \"-3Dfp\", \"-pdmparams\", \"-pose\", \"-aus\", \"-gaze\", \"-hogalign\"])"
   ]
  },
  {
   "cell_type": "code",
   "execution_count": 52,
   "id": "2a3a918e-0d79-410f-9e8c-248335c16afe",
   "metadata": {},
   "outputs": [
    {
     "ename": "TypeError",
     "evalue": "'str' object cannot be interpreted as an integer",
     "output_type": "error",
     "traceback": [
      "\u001b[1;31m---------------------------------------------------------------------------\u001b[0m",
      "\u001b[1;31mTypeError\u001b[0m                                 Traceback (most recent call last)",
      "\u001b[1;32m~\\AppData\\Local\\Temp/ipykernel_13480/3367862832.py\u001b[0m in \u001b[0;36m<module>\u001b[1;34m\u001b[0m\n\u001b[1;32m----> 1\u001b[1;33m \u001b[0mfilename\u001b[0m\u001b[1;33m.\u001b[0m\u001b[0msplit\u001b[0m\u001b[1;33m(\u001b[0m\u001b[0mpptnum\u001b[0m\u001b[1;33m,\u001b[0m \u001b[1;34m'webm'\u001b[0m\u001b[1;33m)\u001b[0m\u001b[1;33m[\u001b[0m\u001b[1;36m1\u001b[0m\u001b[1;33m]\u001b[0m\u001b[1;33m\u001b[0m\u001b[1;33m\u001b[0m\u001b[0m\n\u001b[0m",
      "\u001b[1;31mTypeError\u001b[0m: 'str' object cannot be interpreted as an integer"
     ]
    }
   ],
   "source": [
    "filename.split(pptnum + '*webm')[1]\n",
    "\n",
    "\n",
    "\n",
    "s = 'asdf=5;iwantthis123jasd'\n",
    "result = re.search('asdf=5;(.*)123jasd', s)\n",
    "print(result.group(1))"
   ]
  },
  {
   "cell_type": "code",
   "execution_count": 62,
   "id": "8e846723-25fc-4360-b130-91685f647d66",
   "metadata": {},
   "outputs": [
    {
     "data": {
      "text/plain": [
       "'1-2-2021.'"
      ]
     },
     "execution_count": 62,
     "metadata": {},
     "output_type": "execute_result"
    }
   ],
   "source": [
    "result = re.search(pptnum + '_(.*)webm', filename)\n",
    "result.group(1)"
   ]
  },
  {
   "cell_type": "code",
   "execution_count": 63,
   "id": "1ae2548d-ac3f-4686-9529-b121c0616ea3",
   "metadata": {},
   "outputs": [
    {
     "data": {
      "text/plain": [
       "'1-2-2021.'"
      ]
     },
     "execution_count": 63,
     "metadata": {},
     "output_type": "execute_result"
    }
   ],
   "source": [
    "re.search(pptnum + '_(.*)webm', filename).group(1)"
   ]
  },
  {
   "cell_type": "code",
   "execution_count": null,
   "id": "c9ea3b18-e576-49b8-80e5-6a51db786717",
   "metadata": {},
   "outputs": [],
   "source": [
    "def add_to_block(block_name: str, feat_name: str, sig_data: Union[List, pd.Series]):\n",
    "    # block = 'baseline', 'control', or 'stress'\n",
    "    # feat_name = name of the feature\n",
    "    # sig_data -> the corresponding da\n",
    "    if block_name in tmp_user_dict.keys():\n",
    "        if feat_name not in tmp_user_dict[block_name].keys():\n",
    "            tmp_user_dict[block_name][feat_name] = []\n",
    "        tmp_user_dict[block_name][feat_name].append(sig_data)\n",
    "    else:\n",
    "        tmp_user_dict[block_name] = {}\n",
    "        tmp_user_dict[block_name][feat_name] = []\n",
    "        tmp_user_dict[block_name][feat_name].append(sig_data)"
   ]
  }
 ],
 "metadata": {
  "kernelspec": {
   "display_name": "Python 3 (ipykernel)",
   "language": "python",
   "name": "python3"
  },
  "language_info": {
   "codemirror_mode": {
    "name": "ipython",
    "version": 3
   },
   "file_extension": ".py",
   "mimetype": "text/x-python",
   "name": "python",
   "nbconvert_exporter": "python",
   "pygments_lexer": "ipython3",
   "version": "3.9.6"
  }
 },
 "nbformat": 4,
 "nbformat_minor": 5
}
