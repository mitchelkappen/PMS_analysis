{
 "cells": [
  {
   "cell_type": "code",
   "execution_count": 1,
   "id": "5ba9c52b-b04a-4285-a676-768fc007bee8",
   "metadata": {},
   "outputs": [],
   "source": [
    "import glob\n",
    "import os\n",
    "import subprocess\n",
    "import numpy as np\n",
    "import pandas as pd\n",
    "import math\n",
    "import time\n",
    "\n",
    "from tqdm import tqdm\n",
    "from pathlib import Path\n",
    "\n",
    "import re"
   ]
  },
  {
   "cell_type": "markdown",
   "id": "08d55b34-48d7-4a12-8bef-167d0365462d",
   "metadata": {},
   "source": [
    "# What's happening here?\n",
    "\n",
    "In this script we will load in all the video's and analyze them using OpenFace. \n",
    "The starting point of the experiment will be read in manually and this will be used to sync the video with the behavioral data. \n",
    "\n",
    "When the behavioral data is loaded in, a subindex for each trial can be made. \n",
    "On this information, averages will be run\n",
    "\n",
    "This information will be stored in a df\n",
    "- Resulting in a ppt x trial dataframe\n",
    "-- Also containing every mean action unit for the duration of exposure ++ Date (from file name)\n",
    "\n"
   ]
  },
  {
   "cell_type": "markdown",
   "id": "0d7afd8a-2448-45b7-aa01-a09e0f56f096",
   "metadata": {},
   "source": [
    "# Set Paths"
   ]
  },
  {
   "cell_type": "code",
   "execution_count": 2,
   "id": "bb32c566-a869-4c4b-a2a5-7f34a59998bb",
   "metadata": {},
   "outputs": [],
   "source": [
    "# Declare all directories:\n",
    "\n",
    "data_dir = Path('Z:/shares/ghepmk_data/2020_Kappen_PMS')\n",
    "\n",
    "# Create all relevant directories\n",
    "date_dir = \"24082021/\"\n",
    "data_all_dir = os.path.join(data_dir, date_dir)\n",
    "data_A_dir = os.path.join(data_dir, Path('10001'))\n",
    "data_B_dir = os.path.join(data_dir, Path('10002'))"
   ]
  },
  {
   "cell_type": "code",
   "execution_count": null,
   "id": "5a1deb23-ac56-4214-ab8a-5e2e3754c82a",
   "metadata": {},
   "outputs": [],
   "source": [
    "def extract_video(filename: str, moment: str, date: str):\n",
    "    if moment == 'A':\n",
    "        file = data_A_dir + \"\\\\\" + filename\n",
    "        processed_dir = data_A_dir + '\\\\video_features'\n",
    "    elif moment == 'B':\n",
    "        file = data_B_dir + \"\\\\\" + filename\n",
    "        processed_dir = data_B_dir + '\\\\video_features'\n",
    "\n",
    "    if not os.path.isfile(processed_dir + \"\\\\\" + filename[0:-5] + \".csv\"): # Check if the file not yet exists to be savvy about computing power\n",
    "        t = time.time()\n",
    "        # Run OpenSmile\n",
    "    #     subprocess.run(['C:\\\\Users\\\\mitch\\\\OneDrive - UGent\\\\UGent\\\\Topics\\\\Facial\\\\OpenFace_2.2.0_win_x64_new\\\\FeatureExtraction.exe',\n",
    "    #                         '-f', file, '-out_dir', processed_dir, \"-2Dfp\",   \"-3Dfp\", \"-pdmparams\", \"-pose\", \"-aus\", \"-gaze\", \"-hogalign\"])\n",
    "        subprocess.run(['D:\\\\UGent\\\\Topics\\\\Facial\\\\OpenFace_2.2.0_win_x64_new\\\\FeatureExtraction.exe',\n",
    "                            '-f', file, '-out_dir', processed_dir, \"-2Dfp\",   \"-3Dfp\", \"-pdmparams\", \"-pose\", \"-aus\", \"-gaze\", \"-hogalign\"])\n",
    "        if time.time() - t < 120: # check if it took less than 120 (this is an estimate of a good cut-off) seconds to analyze\n",
    "                print(\"Very fast processing video features for: \" + filename + \". Check whether everything has gone well!\")\n",
    "    "
   ]
  },
  {
   "cell_type": "markdown",
   "id": "31a0858d-fff6-4b72-9ca2-58fa9352daa7",
   "metadata": {},
   "source": [
    "# Testmoment A"
   ]
  },
  {
   "cell_type": "code",
   "execution_count": 3,
   "id": "78c5243d-1148-45b2-966d-eb8c01855255",
   "metadata": {},
   "outputs": [],
   "source": [
    "os.chdir(data_A_dir)\n",
    "AVid = glob.glob(\"video_{ParticipantNo*\" + \"*.webm\", recursive = True) # get all webm's in directory\n",
    "AVidID = []\n",
    "CSVy_n = []\n",
    "\n",
    "for index, item in enumerate(AVid):\n",
    "    AVidID.append(AVid[index].split(\"video_{ParticipantNo}_\")[1][0:3])\n",
    "        \n",
    "AVidID = set(AVidID)\n",
    "demographics = pd.read_csv(data_all_dir + \"cleanData.csv\", encoding = \"ISO-8859-1\")"
   ]
  },
  {
   "cell_type": "code",
   "execution_count": 4,
   "id": "364a0767-844c-4ef9-b8f8-d8d68ea9b450",
   "metadata": {},
   "outputs": [],
   "source": [
    "exclude = ['&à&', # Weird shit\n",
    "           '667', # Two files, 16-7 and 12-8. See also behavioral file\n",
    "           '546', # Two files, 12-5 and 1-6. However, didn't get flagged for behavioral data. Check\n",
    "           '661', # Two files, see behavioral file\n",
    "           '517', # Two files, 17-6 and 11-6. Not flagged in behavioral data. Check\n",
    "          ]"
   ]
  },
  {
   "cell_type": "code",
   "execution_count": 6,
   "id": "969819d4-6f8b-427f-95d6-1a7086a09a73",
   "metadata": {
    "scrolled": true,
    "tags": []
   },
   "outputs": [
    {
     "name": "stderr",
     "output_type": "stream",
     "text": [
      "  0%|                                                                                                                         | 0/263 [00:00<?, ?it/s]"
     ]
    },
    {
     "name": "stdout",
     "output_type": "stream",
     "text": [
      "Currently processing video features for: video_{ParticipantNo}_607_28-4-2021.webm\n",
      "Currently processing video features for: video_{ParticipantNo}_278_2-12-2020.webm\n",
      "Currently processing video features for: video_{ParticipantNo}_238_7-12-2020.webm\n",
      "Currently processing video features for: video_{ParticipantNo}_630_14-5-2021.webm\n",
      "Currently processing video features for: video_{ParticipantNo}_166_26-11-2020.webm\n",
      "Currently processing video features for: video_{ParticipantNo}_499_28-4-2021.webm\n",
      "Currently processing video features for: video_{ParticipantNo}_542_21-5-2021.webm\n",
      "Currently processing video features for: video_{ParticipantNo}_622_30-4-2021.webm\n",
      "Currently processing video features for: video_{ParticipantNo}_505_17-5-2021.webm\n",
      "Currently processing video features for: video_{ParticipantNo}_383_10-1-2021.webm\n"
     ]
    },
    {
     "name": "stderr",
     "output_type": "stream",
     "text": [
      "  8%|█████████▎                                                                                                      | 22/263 [00:36<10:15,  2.55s/it]"
     ]
    },
    {
     "name": "stdout",
     "output_type": "stream",
     "text": [
      "Very fast processing video features for: video_{ParticipantNo}_383_10-1-2021.webm. Check whether everything has gone well!\n",
      "Currently processing video features for: video_{ParticipantNo}_398_11-2-2021.webm\n",
      "Currently processing video features for: video_{ParticipantNo}_543_13-5-2021.webm\n",
      "Currently processing video features for: video_{ParticipantNo}_349_6-2-2021.webm\n",
      "Currently processing video features for: video_{ParticipantNo}_603_27-5-2021.webm\n",
      "Currently processing video features for: video_{ParticipantNo}_295_8-12-2020.webm\n",
      "Currently processing video features for: video_{ParticipantNo}_557_18-6-2021.webm\n",
      "Currently processing video features for: video_{ParticipantNo}_634_30-5-2021.webm\n",
      "Currently processing video features for: video_{ParticipantNo}_638_15-5-2021.webm\n",
      "Currently processing video features for: video_{ParticipantNo}_334_7-11-2020.webm\n",
      "Currently processing video features for: video_{ParticipantNo}_552_12-6-2021.webm\n",
      "Currently processing video features for: video_{ParticipantNo}_537_6-5-2021.webm\n",
      "Currently processing video features for: video_{ParticipantNo}_621_14-6-2021.webm\n",
      "Currently processing video features for: video_{ParticipantNo}_148_2-11-2020.webm\n",
      "Currently processing video features for: video_{ParticipantNo}_444_9-4-2021.webm\n",
      "Currently processing video features for: video_{ParticipantNo}_657_8-6-2021.webm\n",
      "Currently processing video features for: video_{ParticipantNo}_324_11-12-2020.webm\n",
      "Currently processing video features for: video_{ParticipantNo}_231_30-11-2020.webm\n",
      "Currently processing video features for: video_{ParticipantNo}_644_25-5-2021.webm\n",
      "Currently processing video features for: video_{ParticipantNo}_170_1-11-2020.webm\n",
      "Currently processing video features for: video_{ParticipantNo}_207_5-12-2020.webm\n"
     ]
    },
    {
     "name": "stderr",
     "output_type": "stream",
     "text": [
      " 17%|███████████████████▏                                                                                            | 45/263 [00:36<04:33,  1.26s/it]"
     ]
    },
    {
     "name": "stdout",
     "output_type": "stream",
     "text": [
      "Currently processing video features for: video_{ParticipantNo}_407_8-2-2021.webm\n",
      "Currently processing video features for: video_{ParticipantNo}_411_1-2-2021.webm\n",
      "Currently processing video features for: video_{ParticipantNo}_294_8-11-2020.webm\n",
      "Currently processing video features for: video_{ParticipantNo}_665_28-7-2021.webm\n",
      "Currently processing video features for: video_{ParticipantNo}_189_25-11-2020.webm\n",
      "Currently processing video features for: video_{ParticipantNo}_526_26-4-2021.webm\n",
      "Currently processing video features for: video_{ParticipantNo}_571_21-6-2021.webm\n",
      "Currently processing video features for: video_{ParticipantNo}_601_17-5-2021.webm\n",
      "Currently processing video features for: video_{ParticipantNo}_327_5-12-2020.webm\n",
      "Currently processing video features for: video_{ParticipantNo}_399_11-1-2021.webm\n",
      "Currently processing video features for: video_{ParticipantNo}_263_4-12-2020.webm\n",
      "Currently processing video features for: video_{ParticipantNo}_350_21-1-2021.webm\n",
      "Currently processing video features for: video_{ParticipantNo}_186_26-11-2020.webm\n",
      "Currently processing video features for: video_{ParticipantNo}_302_3-11-2020.webm\n",
      "Currently processing video features for: video_{ParticipantNo}_308_4-12-2020.webm\n",
      "Currently processing video features for: video_{ParticipantNo}_392_20-1-2021.webm\n",
      "Currently processing video features for: video_{ParticipantNo}_562_1-5-2021.webm\n",
      "Currently processing video features for: video_{ParticipantNo}_293_9-11-2020.webm\n",
      "Currently processing video features for: video_{ParticipantNo}_172_4-12-2020.webm\n",
      "Currently processing video features for: video_{ParticipantNo}_502_9-5-2021.webm\n"
     ]
    },
    {
     "name": "stderr",
     "output_type": "stream",
     "text": [
      " 23%|█████████████████████████▉                                                                                      | 61/263 [01:09<06:42,  1.99s/it]"
     ]
    },
    {
     "name": "stdout",
     "output_type": "stream",
     "text": [
      "Very fast processing video features for: video_{ParticipantNo}_502_9-5-2021.webm. Check whether everything has gone well!\n",
      "Currently processing video features for: video_{ParticipantNo}_458_18-3-2021.webm\n",
      "Currently processing video features for: video_{ParticipantNo}_488_25-5-2021.webm\n",
      "Currently processing video features for: video_{ParticipantNo}_503_19-5-2021.webm\n",
      "Currently processing video features for: video_{ParticipantNo}_498_25-5-2021.webm\n",
      "Currently processing video features for: video_{ParticipantNo}_437_8-3-2021.webm\n",
      "Currently processing video features for: video_{ParticipantNo}_388_17-1-2021.webm\n",
      "Currently processing video features for: video_{ParticipantNo}_567_8-5-2021.webm\n",
      "Currently processing video features for: video_{ParticipantNo}_427_25-2-2021.webm\n",
      "Currently processing video features for: video_{ParticipantNo}_211_2-11-2020.webm\n",
      "Currently processing video features for: video_{ParticipantNo}_534_9-6-2021.webm\n"
     ]
    },
    {
     "name": "stderr",
     "output_type": "stream",
     "text": [
      " 28%|███████████████████████████████▌                                                                                | 74/263 [01:42<24:32,  7.79s/it]"
     ]
    },
    {
     "name": "stdout",
     "output_type": "stream",
     "text": [
      "Very fast processing video features for: video_{ParticipantNo}_534_9-6-2021.webm. Check whether everything has gone well!\n",
      "Currently processing video features for: video_{ParticipantNo}_617_22-5-2021.webm\n",
      "Currently processing video features for: video_{ParticipantNo}_197_30-11-2020.webm\n",
      "Currently processing video features for: video_{ParticipantNo}_221_6-11-2020.webm\n",
      "Currently processing video features for: video_{ParticipantNo}_156_8-11-2020.webm\n",
      "Currently processing video features for: video_{ParticipantNo}_340_10-12-2020.webm\n",
      "Currently processing video features for: video_{ParticipantNo}_491_14-5-2021.webm\n",
      "Currently processing video features for: video_{ParticipantNo}_446_28-3-2021.webm\n",
      "Currently processing video features for: video_{ParticipantNo}_283_25-11-2020.webm\n",
      "Currently processing video features for: video_{ParticipantNo}_608_4-6-2021.webm\n",
      "Currently processing video features for: video_{ParticipantNo}_134_3-10-2020.webm\n",
      "Currently processing video features for: video_{ParticipantNo}_489_24-4-2021.webm\n",
      "Currently processing video features for: video_{ParticipantNo}_338_10-12-2020.webm\n",
      "Currently processing video features for: video_{ParticipantNo}_598_2-6-2021.webm\n",
      "Currently processing video features for: video_{ParticipantNo}_289_13-12-2020.webm\n",
      "Currently processing video features for: video_{ParticipantNo}_225_12-11-2020.webm\n",
      "Currently processing video features for: video_{ParticipantNo}_465_25-3-2021.webm\n",
      "Currently processing video features for: video_{ParticipantNo}_551_27-4-2021.webm\n",
      "Currently processing video features for: video_{ParticipantNo}_282_14-1-2021.webm\n",
      "Currently processing video features for: video_{ParticipantNo}_457_27-3-2021.webm\n",
      "Currently processing video features for: video_{ParticipantNo}_288_7-11-2020.webm\n",
      "Currently processing video features for: video_{ParticipantNo}_548_1-6-2021.webm\n",
      "Currently processing video features for: video_{ParticipantNo}_468_17-4-2021.webm\n"
     ]
    },
    {
     "name": "stderr",
     "output_type": "stream",
     "text": [
      " 37%|█████████████████████████████████████████▎                                                                      | 97/263 [01:42<10:34,  3.82s/it]"
     ]
    },
    {
     "name": "stdout",
     "output_type": "stream",
     "text": [
      "Currently processing video features for: video_{ParticipantNo}_588_19-5-2021.webm\n",
      "Currently processing video features for: video_{ParticipantNo}_574_5-5-2021.webm\n",
      "Currently processing video features for: video_{ParticipantNo}_321_25-11-2020.webm\n",
      "Currently processing video features for: video_{ParticipantNo}_387_20-1-2021.webm\n",
      "Currently processing video features for: video_{ParticipantNo}_436_21-3-2021.webm\n",
      "Currently processing video features for: video_{ParticipantNo}_618_24-5-2021.webm\n",
      "Currently processing video features for: video_{ParticipantNo}_631_16-5-2021.webm\n",
      "Currently processing video features for: video_{ParticipantNo}_560_6-5-2021.webm\n",
      "Currently processing video features for: video_{ParticipantNo}_431_6-3-2021.webm\n",
      "Currently processing video features for: video_{ParticipantNo}_291_30-11-2020.webm\n",
      "Currently processing video features for: video_{ParticipantNo}_176_10-12-2020.webm\n",
      "Currently processing video features for: video_{ParticipantNo}_339_2-12-2020.webm\n",
      "Currently processing video features for: video_{ParticipantNo}_414_3-2-2021.webm\n",
      "Currently processing video features for: video_{ParticipantNo}_271_4-12-2020.webm\n",
      "Currently processing video features for: video_{ParticipantNo}_650_25-5-2021.webm\n",
      "Currently processing video features for: video_{ParticipantNo}_144_1-11-2020.webm\n",
      "Currently processing video features for: video_{ParticipantNo}_105_25-9-2020.webm\n",
      "Currently processing video features for: video_{ParticipantNo}_270_30-11-2020.webm\n",
      "Currently processing video features for: video_{ParticipantNo}_408_1-2-2021.webm\n",
      "Currently processing video features for: video_{ParticipantNo}_447_5-4-2021.webm\n"
     ]
    },
    {
     "name": "stderr",
     "output_type": "stream",
     "text": [
      " 46%|███████████████████████████████████████████████████                                                            | 121/263 [01:42<04:26,  1.88s/it]"
     ]
    },
    {
     "name": "stdout",
     "output_type": "stream",
     "text": [
      "Currently processing video features for: video_{ParticipantNo}_529_15-5-2021.webm\n",
      "Currently processing video features for: video_{ParticipantNo}_596_27-5-2021.webm\n",
      "Currently processing video features for: video_{ParticipantNo}_307_29-11-2020.webm\n",
      "Currently processing video features for: video_{ParticipantNo}_504_27-5-2021.webm\n",
      "Currently processing video features for: video_{ParticipantNo}_150_21-5-2021.webm\n",
      "Currently processing video features for: video_{ParticipantNo}_127_17-9-2020.webm\n",
      "Currently processing video features for: video_{ParticipantNo}_480_4-4-2021.webm\n",
      "Currently processing video features for: video_{ParticipantNo}_143_11-11-2020.webm\n",
      "Currently processing video features for: video_{ParticipantNo}_326_16-12-2020.webm\n",
      "Currently processing video features for: video_{ParticipantNo}_518_29-4-2021.webm\n",
      "Currently processing video features for: video_{ParticipantNo}_198_8-12-2020.webm\n",
      "Currently processing video features for: video_{ParticipantNo}_485_17-5-2021.webm\n",
      "Currently processing video features for: video_{ParticipantNo}_248_26-11-2020.webm\n",
      "Currently processing video features for: video_{ParticipantNo}_454_18-3-2021.webm\n",
      "Currently processing video features for: video_{ParticipantNo}_435_26-3-2021.webm\n",
      "Currently processing video features for: video_{ParticipantNo}_595_29-4-2021.webm\n",
      "Currently processing video features for: video_{ParticipantNo}_664_1-7-2021.webm\n",
      "Currently processing video features for: video_{ParticipantNo}_317_6-12-2020.webm\n",
      "Currently processing video features for: video_{ParticipantNo}_213_18-12-2020.webm\n",
      "Currently processing video features for: video_{ParticipantNo}_649_28-5-2021.webm\n",
      "Currently processing video features for: video_{ParticipantNo}_467_15-3-2021.webm\n"
     ]
    },
    {
     "name": "stderr",
     "output_type": "stream",
     "text": [
      " 48%|█████████████████████████████████████████████████████▏                                                         | 126/263 [02:14<07:24,  3.24s/it]"
     ]
    },
    {
     "name": "stdout",
     "output_type": "stream",
     "text": [
      "Very fast processing video features for: video_{ParticipantNo}_467_15-3-2021.webm. Check whether everything has gone well!\n",
      "Currently processing video features for: video_{ParticipantNo}_515_13-5-2021.webm\n",
      "Currently processing video features for: video_{ParticipantNo}_583_10-5-2021.webm\n"
     ]
    },
    {
     "name": "stderr",
     "output_type": "stream",
     "text": [
      " 49%|██████████████████████████████████████████████████████                                                         | 128/263 [02:17<06:01,  2.68s/it]"
     ]
    },
    {
     "name": "stdout",
     "output_type": "stream",
     "text": [
      "Very fast processing video features for: video_{ParticipantNo}_583_10-5-2021.webm. Check whether everything has gone well!\n",
      "Currently processing video features for: video_{ParticipantNo}_441_26-2-2021.webm\n",
      "Currently processing video features for: video_{ParticipantNo}_394_28-1-2021.webm\n",
      "Currently processing video features for: video_{ParticipantNo}_561_26-4-2021.webm\n",
      "Currently processing video features for: video_{ParticipantNo}_535_7-5-2021.webm\n",
      "Currently processing video features for: video_{ParticipantNo}_514_16-5-2021.webm\n"
     ]
    },
    {
     "name": "stderr",
     "output_type": "stream",
     "text": [
      " 55%|████████████████████████████████████████████████████████████▊                                                  | 144/263 [02:49<04:50,  2.44s/it]"
     ]
    },
    {
     "name": "stdout",
     "output_type": "stream",
     "text": [
      "Very fast processing video features for: video_{ParticipantNo}_514_16-5-2021.webm. Check whether everything has gone well!\n",
      "Currently processing video features for: video_{ParticipantNo}_266_27-11-2020.webm\n",
      "Currently processing video features for: video_{ParticipantNo}_390_9-1-2021.webm\n",
      "Currently processing video features for: video_{ParticipantNo}_479_17-5-2021.webm\n",
      "Currently processing video features for: video_{ParticipantNo}_119_6-9-2020.webm\n",
      "Currently processing video features for: video_{ParticipantNo}_135_12-10-2020.webm\n",
      "Currently processing video features for: video_{ParticipantNo}_507_26-4-2021.webm\n",
      "Currently processing video features for: video_{ParticipantNo}_335_2-12-2020.webm\n",
      "Currently processing video features for: video_{ParticipantNo}_285_9-11-2020.webm\n",
      "Currently processing video features for: video_{ParticipantNo}_579_2-5-2021.webm\n",
      "Currently processing video features for: video_{ParticipantNo}_329_8-12-2020.webm\n",
      "Currently processing video features for: video_{ParticipantNo}_589_25-4-2021.webm\n",
      "Currently processing video features for: video_{ParticipantNo}_169_26-11-2020.webm\n",
      "Currently processing video features for: video_{ParticipantNo}_262_15-1-2021.webm\n",
      "Currently processing video features for: video_{ParticipantNo}_341_16-12-2020.webm\n",
      "Currently processing video features for: video_{ParticipantNo}_511_10-5-2021.webm\n",
      "Currently processing video features for: video_{ParticipantNo}_459_19-3-2021.webm\n",
      "Currently processing video features for: video_{ParticipantNo}_428_4-3-2021.webm\n",
      "Currently processing video features for: video_{ParticipantNo}_199_6-11-2020.webm\n",
      "Currently processing video features for: video_{ParticipantNo}_477_22-4-2021.webm\n",
      "Currently processing video features for: video_{ParticipantNo}_586_10-5-2021.webm\n"
     ]
    },
    {
     "name": "stderr",
     "output_type": "stream",
     "text": [
      " 63%|█████████████████████████████████████████████████████████████████████▋                                         | 165/263 [02:49<01:57,  1.20s/it]"
     ]
    },
    {
     "name": "stdout",
     "output_type": "stream",
     "text": [
      "Currently processing video features for: video_{ParticipantNo}_296_11-11-2020.webm\n",
      "Currently processing video features for: video_{ParticipantNo}_587_28-4-2021.webm\n",
      "Currently processing video features for: video_{ParticipantNo}_615_29-6-2021.webm\n",
      "Currently processing video features for: video_{ParticipantNo}_642_5-5-2021.webm\n",
      "Currently processing video features for: video_{ParticipantNo}_461_23-3-2021.webm\n",
      "Currently processing video features for: video_{ParticipantNo}_192_7-11-2020.webm\n",
      "Currently processing video features for: video_{ParticipantNo}_469_19-3-2021.webm\n",
      "Currently processing video features for: video_{ParticipantNo}_261_25-1-2021.webm\n",
      "Currently processing video features for: video_{ParticipantNo}_525_4-6-2021.webm\n",
      "Currently processing video features for: video_{ParticipantNo}_279_29-11-2020.webm\n",
      "Currently processing video features for: video_{ParticipantNo}_573_15-5-2021.webm\n",
      "Currently processing video features for: video_{ParticipantNo}_124_24-8-2020.webm\n",
      "Currently processing video features for: video_{ParticipantNo}_609_21-5-2021.webm\n",
      "Currently processing video features for: video_{ParticipantNo}_612_5-5-2021.webm\n",
      "Currently processing video features for: video_{ParticipantNo}_559_12-5-2021.webm\n",
      "Currently processing video features for: video_{ParticipantNo}_422_29-1-2021.webm\n",
      "Currently processing video features for: video_{ParticipantNo}_274_29-11-2020.webm\n",
      "Currently processing video features for: video_{ParticipantNo}_381_6-1-2021.webm\n",
      "Currently processing video features for: video_{ParticipantNo}_145_1-11-2020.webm\n"
     ]
    },
    {
     "name": "stderr",
     "output_type": "stream",
     "text": [
      " 70%|██████████████████████████████████████████████████████████████████████████████                                 | 185/263 [02:50<00:46,  1.69it/s]"
     ]
    },
    {
     "name": "stdout",
     "output_type": "stream",
     "text": [
      "Currently processing video features for: video_{ParticipantNo}_162_6-11-2020.webm\n",
      "Currently processing video features for: video_{ParticipantNo}_247_5-11-2020.webm\n",
      "Currently processing video features for: video_{ParticipantNo}_544_20-5-2021.webm\n",
      "Currently processing video features for: video_{ParticipantNo}_361_16-1-2021.webm\n",
      "Currently processing video features for: video_{ParticipantNo}_575_11-5-2021.webm\n",
      "Currently processing video features for: video_{ParticipantNo}_382_22-1-2021.webm\n",
      "Currently processing video features for: video_{ParticipantNo}_556_2-6-2021.webm\n",
      "Currently processing video features for: video_{ParticipantNo}_203_8-11-2020.webm\n",
      "Currently processing video features for: video_{ParticipantNo}_173_2-12-2020.webm\n",
      "Currently processing video features for: video_{ParticipantNo}_155_28-10-2020.webm\n",
      "Currently processing video features for: video_{ParticipantNo}_610_28-4-2021.webm\n",
      "Currently processing video features for: video_{ParticipantNo}_181_4-12-2020.webm\n",
      "Currently processing video features for: video_{ParticipantNo}_416_7-2-2021.webm\n",
      "Currently processing video features for: video_{ParticipantNo}_243_2-12-2020.webm\n",
      "Currently processing video features for: video_{ParticipantNo}_147_5-2-2021.webm\n",
      "Currently processing video features for: video_{ParticipantNo}_606_30-4-2021.webm\n",
      "Currently processing video features for: video_{ParticipantNo}_512_17-5-2021.webm\n",
      "Currently processing video features for: video_{ParticipantNo}_532_29-5-2021.webm\n",
      "Currently processing video features for: video_{ParticipantNo}_487_6-6-2021.webm\n"
     ]
    },
    {
     "name": "stderr",
     "output_type": "stream",
     "text": [
      " 78%|██████████████████████████████████████████████████████████████████████████████████████▌                        | 205/263 [02:50<00:17,  3.38it/s]"
     ]
    },
    {
     "name": "stdout",
     "output_type": "stream",
     "text": [
      "Currently processing video features for: video_{ParticipantNo}_524_19-5-2021.webm\n",
      "Currently processing video features for: video_{ParticipantNo}_363_23-1-2021.webm\n",
      "Currently processing video features for: video_{ParticipantNo}_564_13-5-2021.webm\n",
      "Currently processing video features for: video_{ParticipantNo}_569_21-5-2021.webm\n",
      "Currently processing video features for: video_{ParticipantNo}_194_5-12-2020.webm\n",
      "Currently processing video features for: video_{ParticipantNo}_362_28-1-2021.webm\n",
      "Currently processing video features for: video_{ParticipantNo}_157_30-11-2020.webm\n",
      "Currently processing video features for: video_{ParticipantNo}_605_20-5-2021.webm\n",
      "Currently processing video features for: video_{ParticipantNo}_640_22-5-2021.webm\n",
      "Currently processing video features for: video_{ParticipantNo}_179_12-12-2020.webm\n",
      "Currently processing video features for: video_{ParticipantNo}_538_23-5-2021.webm\n",
      "Currently processing video features for: video_{ParticipantNo}_402_3-2-2021.webm\n",
      "Currently processing video features for: video_{ParticipantNo}_676_7-8-2021.webm\n",
      "Currently processing video features for: video_{ParticipantNo}_168_6-11-2020.webm\n",
      "Currently processing video features for: video_{ParticipantNo}_154_30-10-2020.webm\n",
      "Currently processing video features for: video_{ParticipantNo}_214_27-11-2020.webm\n",
      "Currently processing video features for: video_{ParticipantNo}_256_5-12-2020.webm\n",
      "Currently processing video features for: video_{ParticipantNo}_315_30-11-2020.webm\n",
      "Currently processing video features for: video_{ParticipantNo}_471_18-4-2021.webm\n",
      "Currently processing video features for: video_{ParticipantNo}_521_9-6-2021.webm\n"
     ]
    },
    {
     "name": "stderr",
     "output_type": "stream",
     "text": [
      " 85%|██████████████████████████████████████████████████████████████████████████████████████████████▌                | 224/263 [03:22<00:43,  1.11s/it]"
     ]
    },
    {
     "name": "stdout",
     "output_type": "stream",
     "text": [
      "Very fast processing video features for: video_{ParticipantNo}_521_9-6-2021.webm. Check whether everything has gone well!\n",
      "Currently processing video features for: video_{ParticipantNo}_415_1-2-2021.webm\n",
      "Currently processing video features for: video_{ParticipantNo}_219_1-12-2020.webm\n",
      "Currently processing video features for: video_{ParticipantNo}_242_5-11-2020.webm\n",
      "Currently processing video features for: video_{ParticipantNo}_410_11-2-2021.webm\n",
      "Currently processing video features for: video_{ParticipantNo}_662_5-6-2021.webm\n",
      "Currently processing video features for: video_{ParticipantNo}_182_5-12-2020.webm\n",
      "Currently processing video features for: video_{ParticipantNo}_496_28-4-2021.webm\n",
      "Currently processing video features for: video_{ParticipantNo}_370_11-1-2021.webm\n",
      "Currently processing video features for: video_{ParticipantNo}_490_10-5-2021.webm\n",
      "Currently processing video features for: video_{ParticipantNo}_576_2-5-2021.webm\n",
      "Currently processing video features for: video_{ParticipantNo}_481_29-4-2021.webm\n",
      "Currently processing video features for: video_{ParticipantNo}_318_28-11-2020.webm\n",
      "Currently processing video features for: video_{ParticipantNo}_258_13-12-2020.webm\n",
      "Currently processing video features for: video_{ParticipantNo}_554_7-5-2021.webm\n",
      "Currently processing video features for: video_{ParticipantNo}_639_7-6-2021.webm\n",
      "Currently processing video features for: video_{ParticipantNo}_466_14-3-2021.webm\n",
      "Currently processing video features for: video_{ParticipantNo}_409_30-1-2021.webm\n",
      "Currently processing video features for: video_{ParticipantNo}_355_8-1-2021.webm\n",
      "Currently processing video features for: video_{ParticipantNo}_290_30-11-2020.webm\n",
      "Currently processing video features for: video_{ParticipantNo}_137_9-11-2020.webm\n",
      "Currently processing video features for: video_{ParticipantNo}_442_16-3-2021.webm\n"
     ]
    },
    {
     "name": "stderr",
     "output_type": "stream",
     "text": [
      " 94%|████████████████████████████████████████████████████████████████████████████████████████████████████████▋      | 248/263 [03:22<00:08,  1.82it/s]"
     ]
    },
    {
     "name": "stdout",
     "output_type": "stream",
     "text": [
      "Currently processing video features for: video_{ParticipantNo}_671_16-8-2021.webm\n",
      "Currently processing video features for: video_{ParticipantNo}_391_19-1-2021.webm\n",
      "Currently processing video features for: video_{ParticipantNo}_158_26-11-2020.webm\n",
      "Currently processing video features for: video_{ParticipantNo}_250_2-12-2020.webm\n",
      "Currently processing video features for: video_{ParticipantNo}_419_23-2-2021.webm\n",
      "Currently processing video features for: video_{ParticipantNo}_628_27-5-2021.webm\n",
      "Currently processing video features for: video_{ParticipantNo}_281_1-12-2020.webm\n",
      "Currently processing video features for: video_{ParticipantNo}_659_4-6-2021.webm\n",
      "Currently processing video features for: video_{ParticipantNo}_342_11-12-2020.webm\n",
      "Currently processing video features for: video_{ParticipantNo}_125_6-9-2020.webm\n",
      "Currently processing video features for: video_{ParticipantNo}_500_16-5-2021.webm\n",
      "Currently processing video features for: video_{ParticipantNo}_553_8-6-2021.webm\n",
      "Currently processing video features for: video_{ParticipantNo}_332_9-11-2020.webm\n",
      "Currently processing video features for: video_{ParticipantNo}_584_16-5-2021.webm\n",
      "Currently processing video features for: video_{ParticipantNo}_519_17-5-2021.webm\n",
      "Currently processing video features for: video_{ParticipantNo}_445_10-3-2021.webm\n",
      "Currently processing video features for: video_{ParticipantNo}_577_22-5-2021.webm\n",
      "Currently processing video features for: video_{ParticipantNo}_522_16-6-2021.webm\n",
      "Currently processing video features for: video_{ParticipantNo}_580_25-4-2021.webm\n",
      "Currently processing video features for: video_{ParticipantNo}_653_4-6-2021.webm\n",
      "Currently processing video features for: video_{ParticipantNo}_123_28-8-2020.webm\n",
      "Currently processing video features for: video_{ParticipantNo}_495_13-5-2021.webm\n"
     ]
    },
    {
     "name": "stderr",
     "output_type": "stream",
     "text": [
      "100%|███████████████████████████████████████████████████████████████████████████████████████████████████████████████| 263/263 [03:55<00:00,  1.12it/s]"
     ]
    },
    {
     "name": "stdout",
     "output_type": "stream",
     "text": [
      "Very fast processing video features for: video_{ParticipantNo}_495_13-5-2021.webm. Check whether everything has gone well!\n",
      "Currently processing video features for: video_{ParticipantNo}_550_30-6-2021.webm\n",
      "Currently processing video features for: video_{ParticipantNo}_645_5-5-2021.webm\n",
      "Currently processing video features for: video_{ParticipantNo}_229_3-12-2020.webm\n",
      "Currently processing video features for: video_{ParticipantNo}_516_13-5-2021.webm\n",
      "Currently processing video features for: video_{ParticipantNo}_420_25-1-2021.webm\n",
      "Currently processing video features for: video_{ParticipantNo}_597_26-5-2021.webm\n",
      "Currently processing video features for: video_{ParticipantNo}_572_28-4-2021.webm\n"
     ]
    },
    {
     "name": "stderr",
     "output_type": "stream",
     "text": [
      "\n"
     ]
    }
   ],
   "source": [
    "index = 0\n",
    "for pptnum in tqdm(AVidID): # Loop through all file ID's\n",
    "    if pptnum not in exclude: # Some participants messed up, so skip those. See earlier cell for descriptions of each\n",
    "        index += 1\n",
    "        indices = [i for i, s in enumerate(AVid) if pptnum in s] # Check per pptnum how many files are found\n",
    "        if len(indices) > 1: # if more than one, something is going wrong, figure out\n",
    "            print(\"Too many .webm files for ppt \" + pptnum + \".\")\n",
    "            break\n",
    "        elif len(indices) == 0: # if none, probably only saved before video, so check wCAM\n",
    "            print(\"No .webm files found for ppt \" + pptnum + \".\")\n",
    "        elif len(indices) == 1: # if one, that is perfect, read it\n",
    "#             data = pd.read_csv(ACsv[indices[0]])\n",
    "            filename = AVid[indices[0]]\n",
    "            print(\"Currently processing video features for: \" + filename)\n",
    "            date = re.search(pptnum + '_(.*)webm', filename).group(1)\n",
    "            extract_video(filename, 'A', date)\n",
    "\n",
    "#         break\n",
    "#     if index > 10:\n",
    "#         break"
   ]
  },
  {
   "cell_type": "markdown",
   "id": "4a400a37-c0a4-4799-88b2-df907c907b1a",
   "metadata": {},
   "source": [
    "# Testmoment B"
   ]
  },
  {
   "cell_type": "code",
   "execution_count": null,
   "id": "422bc000-ff5b-48ad-a58a-a950a06056c7",
   "metadata": {},
   "outputs": [],
   "source": [
    "os.chdir(data_B_dir)\n",
    "BVid = glob.glob(\"video_{ParticipantNo*\" + \"*.webm\", recursive = True) # get all webm's in directory\n",
    "BVidID = []\n",
    "CSVy_n = []\n",
    "\n",
    "for index, item in enumerate(AVid):\n",
    "    BVidID.append(AVid[index].split(\"video_{ParticipantNo}_\")[1][0:3])\n",
    "        \n",
    "BVidID = set(BVidID)\n",
    "demographics = pd.read_csv(data_all_dir + \"cleanData.csv\", encoding = \"ISO-8859-1\")"
   ]
  },
  {
   "cell_type": "code",
   "execution_count": 17,
   "id": "430459c9-d1f9-4be1-bcb2-be032a9759b4",
   "metadata": {},
   "outputs": [
    {
     "data": {
      "text/plain": [
       "12.03211236000061"
      ]
     },
     "execution_count": 17,
     "metadata": {},
     "output_type": "execute_result"
    }
   ],
   "source": [
    "exclude = ['&à&', # Weird shit\n",
    "\n",
    "          ]"
   ]
  },
  {
   "cell_type": "code",
   "execution_count": null,
   "id": "687114d3-6167-4e37-b3f9-0af94a8beef8",
   "metadata": {},
   "outputs": [],
   "source": [
    "index = 0\n",
    "for pptnum in tqdm(BVidID): # Loop through all file ID's\n",
    "    if pptnum not in exclude: # Some participants messed up, so skip those. See earlier cell for descriptions of each\n",
    "        index += 1\n",
    "        indices = [i for i, s in enumerate(BVid) if pptnum in s] # Check per pptnum how many files are found\n",
    "        if len(indices) > 1: # if more than one, something is going wrong, figure out\n",
    "            print(\"Too many .webm files for ppt \" + pptnum + \".\")\n",
    "            break\n",
    "        elif len(indices) == 0: # if none, probably only saved before video, so check wCAM\n",
    "            print(\"No .webm files found for ppt \" + pptnum + \".\")\n",
    "        elif len(indices) == 1: # if one, that is perfect, read it\n",
    "#             data = pd.read_csv(ACsv[indices[0]])\n",
    "            filename = AVid[indices[0]]\n",
    "            print(\"Currently processing video features for: \" + filename)\n",
    "            date = re.search(pptnum + '_(.*)webm', filename).group(1)\n",
    "            extract_video(filename, 'B', date)"
   ]
  }
 ],
 "metadata": {
  "kernelspec": {
   "display_name": "Python 3 (ipykernel)",
   "language": "python",
   "name": "python3"
  },
  "language_info": {
   "codemirror_mode": {
    "name": "ipython",
    "version": 3
   },
   "file_extension": ".py",
   "mimetype": "text/x-python",
   "name": "python",
   "nbconvert_exporter": "python",
   "pygments_lexer": "ipython3",
   "version": "3.9.6"
  }
 },
 "nbformat": 4,
 "nbformat_minor": 5
}
