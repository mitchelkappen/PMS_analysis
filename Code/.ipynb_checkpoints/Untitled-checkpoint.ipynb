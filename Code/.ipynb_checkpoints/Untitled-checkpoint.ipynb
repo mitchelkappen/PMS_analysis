{
 "cells": [
  {
   "cell_type": "code",
   "execution_count": 7,
   "id": "e0ba0402-d02d-4391-a1ab-21ee2ba85794",
   "metadata": {
    "tags": []
   },
   "outputs": [
    {
     "name": "stdout",
     "output_type": "stream",
     "text": [
      "hello world\n"
     ]
    }
   ],
   "source": [
    "import time\n",
    "time.sleep(3)\n",
    "print(\"hello world\")"
   ]
  },
  {
   "cell_type": "code",
   "execution_count": 1,
   "id": "628e4012-3441-494e-9977-2e39cb66cfff",
   "metadata": {
    "execution": {
     "iopub.execute_input": "2021-10-20T18:05:24.687987Z",
     "iopub.status.busy": "2021-10-20T18:05:24.687987Z",
     "iopub.status.idle": "2021-10-20T18:05:34.711389Z",
     "shell.execute_reply": "2021-10-20T18:05:34.710385Z",
     "shell.execute_reply.started": "2021-10-20T18:05:24.687987Z"
    },
    "tags": []
   },
   "outputs": [
    {
     "name": "stdout",
     "output_type": "stream",
     "text": [
      "Finished!\n"
     ]
    }
   ],
   "source": [
    "# %%notify\n",
    "import time\n",
    "time.sleep(10)\n",
    "print('Finished!')"
   ]
  },
  {
   "cell_type": "code",
   "execution_count": 3,
   "id": "f52cf0b7-8f50-4edb-be51-2ec2e6c7301d",
   "metadata": {
    "execution": {
     "iopub.execute_input": "2021-10-20T18:11:56.704764Z",
     "iopub.status.busy": "2021-10-20T18:11:56.703772Z",
     "iopub.status.idle": "2021-10-20T18:11:56.747500Z",
     "shell.execute_reply": "2021-10-20T18:11:56.746538Z",
     "shell.execute_reply.started": "2021-10-20T18:11:56.704764Z"
    },
    "tags": []
   },
   "outputs": [
    {
     "name": "stdout",
     "output_type": "stream",
     "text": [
      "hello world!\n"
     ]
    },
    {
     "name": "stderr",
     "output_type": "stream",
     "text": [
      "'sleep' is not recognized as an internal or external command,\n",
      "operable program or batch file.\n"
     ]
    }
   ],
   "source": [
    "!sleep 11\n",
    "print(\"hello world!\")"
   ]
  },
  {
   "cell_type": "code",
   "execution_count": 1,
   "id": "332c898c-7423-439d-a02b-bd6881a20929",
   "metadata": {},
   "outputs": [],
   "source": []
  }
 ],
 "metadata": {
  "kernelspec": {
   "display_name": "Python 3 (ipykernel)",
   "language": "python",
   "name": "python3"
  },
  "language_info": {
   "codemirror_mode": {
    "name": "ipython",
    "version": 3
   },
   "file_extension": ".py",
   "mimetype": "text/x-python",
   "name": "python",
   "nbconvert_exporter": "python",
   "pygments_lexer": "ipython3",
   "version": "3.9.6"
  }
 },
 "nbformat": 4,
 "nbformat_minor": 5
}
