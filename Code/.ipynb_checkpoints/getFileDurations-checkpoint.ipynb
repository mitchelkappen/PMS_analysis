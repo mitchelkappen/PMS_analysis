{
 "cells": [
  {
   "cell_type": "markdown",
   "id": "0e8d13f6-3941-4dd9-9b6c-a8fea1e4e6fd",
   "metadata": {},
   "source": [
    "# File durations\n",
    "\n",
    "In this short script we wll copy all files and then read their durations\n",
    "As shown in top answer here:\n",
    "    https://stackoverflow.com/questions/34118013/how-to-determine-webm-duration-using-ffprobe"
   ]
  },
  {
   "cell_type": "code",
   "execution_count": 18,
   "id": "10abbb81-4c0a-45ef-9714-947e93993389",
   "metadata": {},
   "outputs": [],
   "source": [
    "import glob\n",
    "import os\n",
    "import subprocess\n",
    "import numpy as np\n",
    "import pandas as pd\n",
    "import json\n",
    "\n",
    "from tqdm import tqdm\n",
    "\n",
    "from pathlib import Path\n"
   ]
  },
  {
   "cell_type": "code",
   "execution_count": 19,
   "id": "46d45e3c-b7f4-453a-8094-a2f1fe1cf565",
   "metadata": {},
   "outputs": [],
   "source": [
    "data_dir = Path('Z:/shares/ghepmk_data/2020_Kappen_PMS')\n",
    "date_dir = \"\\\\06102021\\\\\"\n",
    "os.chdir(data_dir)\n",
    "\n",
    "# AFiles = glob.glob(\"10001/\" + \"*ParticipantNo*\" + \"*.webm\", recursive = True) # get all csv's in directory\n",
    "# BFiles = glob.glob(\"10002/\" + \"*ParticipantNo*\" + \"*.webm\", recursive = True) # get all csv's in directory\n",
    "\n",
    "allVids = glob.glob(\"*/\" + \"*ParticipantNo*\" + \"*.webm\", recursive = True) # get all csv's in directory"
   ]
  },
  {
   "cell_type": "code",
   "execution_count": 20,
   "id": "bf4916d2-19ca-4dca-a09e-797f5d7d92a8",
   "metadata": {},
   "outputs": [],
   "source": [
    "def get_length(input_video): # Function to get the duration of video's using ffprob - does have to be converted first though, see 'command' next block\n",
    "    result = subprocess.run(['ffprobe', '-v', 'error', '-show_entries', 'format=duration', '-of', 'default=noprint_wrappers=1:nokey=1', input_video], stdout=subprocess.PIPE, stderr=subprocess.STDOUT)\n",
    "    return float(result.stdout)"
   ]
  },
  {
   "cell_type": "code",
   "execution_count": null,
   "id": "ea8710da-3b7d-480e-9bcd-c3d3184a0504",
   "metadata": {
    "scrolled": true,
    "tags": []
   },
   "outputs": [
    {
     "name": "stderr",
     "output_type": "stream",
     "text": [
      "  0%|                                                                                          | 0/568 [00:00<?, ?it/s]"
     ]
    },
    {
     "name": "stdout",
     "output_type": "stream",
     "text": [
      "10001\\video_{ParticipantNo}_&à&ààà_15-3-2021.webm\n",
      "10001\\video_{ParticipantNo}_105_25-9-2020.webm\n"
     ]
    },
    {
     "name": "stderr",
     "output_type": "stream",
     "text": [
      "  0%|▎                                                                                 | 2/568 [00:00<02:08,  4.40it/s]"
     ]
    },
    {
     "name": "stdout",
     "output_type": "stream",
     "text": [
      "10001\\video_{ParticipantNo}_119_6-9-2020.webm\n"
     ]
    },
    {
     "name": "stderr",
     "output_type": "stream",
     "text": [
      "  1%|▍                                                                                 | 3/568 [00:00<02:11,  4.28it/s]"
     ]
    },
    {
     "name": "stdout",
     "output_type": "stream",
     "text": [
      "10001\\video_{ParticipantNo}_123_28-8-2020.webm\n"
     ]
    },
    {
     "name": "stderr",
     "output_type": "stream",
     "text": [
      "  1%|▌                                                                                 | 4/568 [00:01<02:29,  3.78it/s]"
     ]
    },
    {
     "name": "stdout",
     "output_type": "stream",
     "text": [
      "10001\\video_{ParticipantNo}_124_24-8-2020.webm\n"
     ]
    },
    {
     "name": "stderr",
     "output_type": "stream",
     "text": [
      "  1%|▋                                                                                 | 5/568 [00:01<02:31,  3.73it/s]"
     ]
    },
    {
     "name": "stdout",
     "output_type": "stream",
     "text": [
      "10001\\video_{ParticipantNo}_125_6-9-2020.webm\n"
     ]
    },
    {
     "name": "stderr",
     "output_type": "stream",
     "text": [
      "  1%|█                                                                                 | 7/568 [00:01<02:11,  4.26it/s]"
     ]
    },
    {
     "name": "stdout",
     "output_type": "stream",
     "text": [
      "10001\\video_{ParticipantNo}_127_17-9-2020.webm\n"
     ]
    },
    {
     "name": "stderr",
     "output_type": "stream",
     "text": [
      "  1%|█▏                                                                                | 8/568 [00:01<01:50,  5.07it/s]"
     ]
    },
    {
     "name": "stdout",
     "output_type": "stream",
     "text": [
      "10001\\video_{ParticipantNo}_134_3-10-2020.webm\n",
      "10001\\video_{ParticipantNo}_135_12-10-2020.webm\n"
     ]
    },
    {
     "name": "stderr",
     "output_type": "stream",
     "text": [
      "  2%|█▍                                                                               | 10/568 [00:02<01:41,  5.51it/s]"
     ]
    },
    {
     "name": "stdout",
     "output_type": "stream",
     "text": [
      "10001\\video_{ParticipantNo}_137_9-11-2020.webm\n",
      "10001\\video_{ParticipantNo}_143_11-11-2020.webm\n"
     ]
    },
    {
     "name": "stderr",
     "output_type": "stream",
     "text": [
      "  2%|█▋                                                                               | 12/568 [00:02<01:31,  6.05it/s]"
     ]
    },
    {
     "name": "stdout",
     "output_type": "stream",
     "text": [
      "10001\\video_{ParticipantNo}_144_1-11-2020.webm\n",
      "10001\\video_{ParticipantNo}_145_1-11-2020.webm\n"
     ]
    },
    {
     "name": "stderr",
     "output_type": "stream",
     "text": [
      "  2%|█▉                                                                               | 14/568 [00:02<01:24,  6.59it/s]"
     ]
    },
    {
     "name": "stdout",
     "output_type": "stream",
     "text": [
      "10001\\video_{ParticipantNo}_147_5-2-2021.webm\n",
      "10001\\video_{ParticipantNo}_148_2-11-2020.webm\n"
     ]
    },
    {
     "name": "stderr",
     "output_type": "stream",
     "text": [
      "  3%|██▎                                                                              | 16/568 [00:03<01:19,  6.92it/s]"
     ]
    },
    {
     "name": "stdout",
     "output_type": "stream",
     "text": [
      "10001\\video_{ParticipantNo}_150_21-5-2021.webm\n",
      "10001\\video_{ParticipantNo}_154_30-10-2020.webm\n"
     ]
    },
    {
     "name": "stderr",
     "output_type": "stream",
     "text": [
      "  3%|██▌                                                                              | 18/568 [00:03<01:16,  7.21it/s]"
     ]
    },
    {
     "name": "stdout",
     "output_type": "stream",
     "text": [
      "10001\\video_{ParticipantNo}_155_28-10-2020.webm\n",
      "10001\\video_{ParticipantNo}_156_8-11-2020.webm\n"
     ]
    },
    {
     "name": "stderr",
     "output_type": "stream",
     "text": [
      "  4%|██▊                                                                              | 20/568 [00:03<01:11,  7.65it/s]"
     ]
    },
    {
     "name": "stdout",
     "output_type": "stream",
     "text": [
      "10001\\video_{ParticipantNo}_157_30-11-2020.webm\n",
      "10001\\video_{ParticipantNo}_158_26-11-2020.webm\n"
     ]
    },
    {
     "name": "stderr",
     "output_type": "stream",
     "text": [
      "  4%|███▏                                                                             | 22/568 [00:03<01:12,  7.49it/s]"
     ]
    },
    {
     "name": "stdout",
     "output_type": "stream",
     "text": [
      "10001\\video_{ParticipantNo}_162_6-11-2020.webm\n",
      "10001\\video_{ParticipantNo}_166_26-11-2020.webm\n"
     ]
    },
    {
     "name": "stderr",
     "output_type": "stream",
     "text": [
      "  4%|███▎                                                                             | 23/568 [00:03<01:07,  8.02it/s]"
     ]
    },
    {
     "name": "stdout",
     "output_type": "stream",
     "text": [
      "10001\\video_{ParticipantNo}_168_6-11-2020.webm\n"
     ]
    },
    {
     "name": "stderr",
     "output_type": "stream",
     "text": [
      "  4%|███▌                                                                             | 25/568 [00:04<01:28,  6.15it/s]"
     ]
    },
    {
     "name": "stdout",
     "output_type": "stream",
     "text": [
      "10001\\video_{ParticipantNo}_169_26-11-2020.webm\n",
      "10001\\video_{ParticipantNo}_170_1-11-2020.webm\n"
     ]
    },
    {
     "name": "stderr",
     "output_type": "stream",
     "text": [
      "  5%|███▊                                                                             | 27/568 [00:04<01:12,  7.48it/s]"
     ]
    },
    {
     "name": "stdout",
     "output_type": "stream",
     "text": [
      "10001\\video_{ParticipantNo}_172_4-12-2020.webm\n",
      "10001\\video_{ParticipantNo}_173_2-12-2020.webm\n"
     ]
    },
    {
     "name": "stderr",
     "output_type": "stream",
     "text": [
      "  5%|████▏                                                                            | 29/568 [00:04<01:09,  7.77it/s]"
     ]
    },
    {
     "name": "stdout",
     "output_type": "stream",
     "text": [
      "10001\\video_{ParticipantNo}_176_10-12-2020.webm\n",
      "10001\\video_{ParticipantNo}_179_12-12-2020.webm\n"
     ]
    },
    {
     "name": "stderr",
     "output_type": "stream",
     "text": [
      "  5%|████▎                                                                            | 30/568 [00:04<01:12,  7.42it/s]"
     ]
    },
    {
     "name": "stdout",
     "output_type": "stream",
     "text": [
      "10001\\video_{ParticipantNo}_181_4-12-2020.webm\n",
      "10001\\video_{ParticipantNo}_182_5-12-2020.webm\n"
     ]
    },
    {
     "name": "stderr",
     "output_type": "stream",
     "text": [
      "  6%|████▋                                                                            | 33/568 [00:05<01:09,  7.70it/s]"
     ]
    },
    {
     "name": "stdout",
     "output_type": "stream",
     "text": [
      "10001\\video_{ParticipantNo}_186_26-11-2020.webm\n",
      "10001\\video_{ParticipantNo}_189_25-11-2020.webm\n"
     ]
    },
    {
     "name": "stderr",
     "output_type": "stream",
     "text": [
      "  6%|████▉                                                                            | 35/568 [00:05<01:09,  7.61it/s]"
     ]
    },
    {
     "name": "stdout",
     "output_type": "stream",
     "text": [
      "10001\\video_{ParticipantNo}_192_7-11-2020.webm\n",
      "10001\\video_{ParticipantNo}_194_5-12-2020.webm\n"
     ]
    },
    {
     "name": "stderr",
     "output_type": "stream",
     "text": [
      "  7%|█████▎                                                                           | 37/568 [00:05<01:04,  8.26it/s]"
     ]
    },
    {
     "name": "stdout",
     "output_type": "stream",
     "text": [
      "10001\\video_{ParticipantNo}_197_30-11-2020.webm\n",
      "10001\\video_{ParticipantNo}_198_8-12-2020.webm\n"
     ]
    },
    {
     "name": "stderr",
     "output_type": "stream",
     "text": [
      "  7%|█████▌                                                                           | 39/568 [00:06<01:12,  7.28it/s]"
     ]
    },
    {
     "name": "stdout",
     "output_type": "stream",
     "text": [
      "10001\\video_{ParticipantNo}_199_6-11-2020.webm\n",
      "10001\\video_{ParticipantNo}_203_8-11-2020.webm\n"
     ]
    },
    {
     "name": "stderr",
     "output_type": "stream",
     "text": [
      "  7%|█████▊                                                                           | 41/568 [00:06<01:11,  7.41it/s]"
     ]
    },
    {
     "name": "stdout",
     "output_type": "stream",
     "text": [
      "10001\\video_{ParticipantNo}_207_5-12-2020.webm\n",
      "10001\\video_{ParticipantNo}_211_2-11-2020.webm\n"
     ]
    },
    {
     "name": "stderr",
     "output_type": "stream",
     "text": [
      "  8%|██████▏                                                                          | 43/568 [00:06<01:06,  7.87it/s]"
     ]
    },
    {
     "name": "stdout",
     "output_type": "stream",
     "text": [
      "10001\\video_{ParticipantNo}_213_18-12-2020.webm\n",
      "10001\\video_{ParticipantNo}_214_27-11-2020.webm\n"
     ]
    },
    {
     "name": "stderr",
     "output_type": "stream",
     "text": [
      "  8%|██████▍                                                                          | 45/568 [00:07<01:21,  6.43it/s]"
     ]
    },
    {
     "name": "stdout",
     "output_type": "stream",
     "text": [
      "10001\\video_{ParticipantNo}_219_1-12-2020.webm\n",
      "10001\\video_{ParticipantNo}_221_6-11-2020.webm\n"
     ]
    },
    {
     "name": "stderr",
     "output_type": "stream",
     "text": [
      "  8%|██████▋                                                                          | 47/568 [00:07<01:20,  6.50it/s]"
     ]
    },
    {
     "name": "stdout",
     "output_type": "stream",
     "text": [
      "10001\\video_{ParticipantNo}_225_12-11-2020.webm\n",
      "10001\\video_{ParticipantNo}_229_3-12-2020.webm\n"
     ]
    }
   ],
   "source": [
    "ffmpeg_dir = Path('C:\\\\Users\\\\mitch\\\\OneDrive - UGent\\\\UGent\\\\Topics\\\\Facial\\\\ffmpeg-2021-10-18-git-d04c005021-full_build\\\\ffmpeg-2021-10-18-git-d04c005021-full_build\\\\bin')\n",
    "os.chdir(ffmpeg_dir)\n",
    "\n",
    "durations = {}\n",
    "\n",
    "index = 0 # initiate counter\n",
    "for file in tqdm(allVids):\n",
    "    index += 1\n",
    "    print(file)\n",
    "    \n",
    "   \n",
    "    inputfile = os.path.join(data_dir, Path(file))\n",
    "    outputfile = os.path.join(data_dir, Path(\"ffmpeg\"), Path(file))\n",
    "    \n",
    "    \n",
    "    if '&' not in inputfile and '514' not in inputfile and '583' not in inputfile and '342' not in inputfile and '4888' not in inputfile: # '&': This is something that gives errors, '383': Corrupted file, '467': same, '495': same, '502': same\n",
    "        if not os.path.isfile(outputfile): # Be sure to not use unneccessary precious computer time\n",
    "            command = '\"C:\\\\Users\\\\mitch\\\\OneDrive - UGent\\\\UGent\\\\Topics\\\\Facial\\\\ffmpeg-2021-10-18-git-d04c005021-full_build\\\\ffmpeg-2021-10-18-git-d04c005021-full_build\\\\bin\\\\ffmpeg.exe\" -i ' + inputfile + ' -vcodec copy -acodec copy ' + outputfile\n",
    "            subprocess.call(command, shell=True)\n",
    "        \n",
    "        # There are a few files that wouldn't allow for automatic video duration extraction, so these are manually labeled and entered here\n",
    "        if outputfile == 'Z:\\\\shares\\\\ghepmk_data\\\\2020_Kappen_PMS\\\\ffmpeg\\\\10001\\\\video_{ParticipantNo}_270_30-11-2020.webm': # unable to read the duration for this file automatically\n",
    "            durations[inputfile] = 439\n",
    "        elif outputfile == 'Z:\\\\shares\\\\ghepmk_data\\\\2020_Kappen_PMS\\\\ffmpeg\\\\10001\\\\video_{ParticipantNo}_383_30-11-2020.webm':\n",
    "            durations[inputfile] = 411\n",
    "        elif outputfile == 'Z:\\\\shares\\\\ghepmk_data\\\\2020_Kappen_PMS\\\\ffmpeg\\\\10001\\\\video_{ParticipantNo}_467_30-11-2020.webm':\n",
    "            durations[inputfile] = 451\n",
    "        elif outputfile == 'Z:\\\\shares\\\\ghepmk_data\\\\2020_Kappen_PMS\\\\ffmpeg\\\\10001\\\\video_{ParticipantNo}_495_30-11-2020.webm':\n",
    "            durations[inputfile] = 386\n",
    "        elif outputfile == 'Z:\\\\shares\\\\ghepmk_data\\\\2020_Kappen_PMS\\\\ffmpeg\\\\10001\\\\video_{ParticipantNo}_502_30-11-2020.webm':\n",
    "            durations[inputfile] = 390\n",
    "        elif outputfile == 'Z:\\\\shares\\\\ghepmk_data\\\\2020_Kappen_PMS\\\\ffmpeg\\\\10001\\\\video_{ParticipantNo}_521_30-11-2020.webm':\n",
    "            durations[inputfile] = 409\n",
    "        elif outputfile == 'Z:\\\\shares\\\\ghepmk_data\\\\2020_Kappen_PMS\\\\ffmpeg\\\\10001\\\\video_{ParticipantNo}_534_30-11-2020.webm':\n",
    "            durations[inputfile] = 428\n",
    "        elif outputfile == 'Z:\\\\shares\\\\ghepmk_data\\\\2020_Kappen_PMS\\\\ffmpeg\\\\10001\\\\video_{ParticipantNo}_678_30-11-2020.webm':\n",
    "            durations[inputfile] = 360\n",
    "        elif outputfile == 'Z:\\\\shares\\\\ghepmk_data\\\\2020_Kappen_PMS\\\\ffmpeg\\\\10002\\\\video_{ParticipantNo}_315_30-11-2020.webm':\n",
    "            durations[inputfile] = 519\n",
    "        elif outputfile == 'Z:\\\\shares\\\\ghepmk_data\\\\2020_Kappen_PMS\\\\ffmpeg\\\\10002\\\\video_{ParticipantNo}_487_30-11-2020.webm':\n",
    "            durations[inputfile] = 334\n",
    "        elif outputfile == 'Z:\\\\shares\\\\ghepmk_data\\\\2020_Kappen_PMS\\\\ffmpeg\\\\10002\\\\video_{ParticipantNo}_542_30-11-2020.webm':\n",
    "            durations[inputfile] = 97\n",
    "        elif outputfile == 'Z:\\\\shares\\\\ghepmk_data\\\\2020_Kappen_PMS\\\\ffmpeg\\\\10002\\\\video_{ParticipantNo}_584_30-11-2020.webm':\n",
    "            durations[inputfile] = 423\n",
    "        elif outputfile == 'Z:\\\\shares\\\\ghepmk_data\\\\2020_Kappen_PMS\\\\ffmpeg\\\\10002\\\\video_{ParticipantNo}_649_30-11-2020.webm':\n",
    "            durations[inputfile] = 406\n",
    "        elif outputfile == 'Z:\\\\shares\\\\ghepmk_data\\\\2020_Kappen_PMS\\\\ffmpeg\\\\10002\\\\video_{ParticipantNo}_661_30-11-2020.webm':\n",
    "            durations[inputfile] = 381\n",
    "        else:\n",
    "            durations[inputfile] = get_length(outputfile) # Get file duration and add it to dict\n",
    "\n",
    "#     if index > 5:\n",
    "#         break\n",
    "        \n",
    "with open(str(data_dir) + date_dir + 'video_durations.json', 'w') as fp: # Write dict to json to impot for 4_link_video_behavior.ipynb\n",
    "    json.dump(durations, fp)"
   ]
  },
  {
   "cell_type": "code",
   "execution_count": 17,
   "id": "e284b713-6a33-4f30-bbe2-055f22334d4e",
   "metadata": {},
   "outputs": [
    {
     "data": {
      "text/plain": [
       "533"
      ]
     },
     "execution_count": 17,
     "metadata": {},
     "output_type": "execute_result"
    }
   ],
   "source": [
    "len(durations)"
   ]
  },
  {
   "cell_type": "code",
   "execution_count": 160,
   "id": "00679da8-3c63-4a09-9f05-85fe44470bb5",
   "metadata": {},
   "outputs": [
    {
     "name": "stdout",
     "output_type": "stream",
     "text": [
      "Z:\\shares\\ghepmk_data\\2020_Kappen_PMS\\10001\\video_{ParticipantNo}_383_10-1-2021.webm\n"
     ]
    }
   ],
   "source": [
    "print(inputfile)\n",
    "if '&' not in inputfile and '383' not in inputfile: # '&': This is something that gives errors, '383': Corrupted file\n",
    "    print('hi')\n",
    "\n",
    "    \n"
   ]
  }
 ],
 "metadata": {
  "kernelspec": {
   "display_name": "Python 3 (ipykernel)",
   "language": "python",
   "name": "python3"
  },
  "language_info": {
   "codemirror_mode": {
    "name": "ipython",
    "version": 3
   },
   "file_extension": ".py",
   "mimetype": "text/x-python",
   "name": "python",
   "nbconvert_exporter": "python",
   "pygments_lexer": "ipython3",
   "version": "3.9.6"
  }
 },
 "nbformat": 4,
 "nbformat_minor": 5
}
