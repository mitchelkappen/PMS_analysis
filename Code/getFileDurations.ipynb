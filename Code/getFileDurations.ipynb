{
 "cells": [
  {
   "cell_type": "markdown",
   "id": "0e8d13f6-3941-4dd9-9b6c-a8fea1e4e6fd",
   "metadata": {},
   "source": [
    "# File durations\n",
    "\n",
    "In this short script we wll copy all files and then read their durations\n",
    "As shown in top answer here:\n",
    "    https://stackoverflow.com/questions/34118013/how-to-determine-webm-duration-using-ffprobe"
   ]
  },
  {
   "cell_type": "code",
   "execution_count": 1,
   "id": "10abbb81-4c0a-45ef-9714-947e93993389",
   "metadata": {},
   "outputs": [],
   "source": [
    "import glob\n",
    "import os\n",
    "import subprocess\n",
    "import numpy as np\n",
    "import pandas as pd\n",
    "import json\n",
    "\n",
    "from tqdm import tqdm\n",
    "\n",
    "from pathlib import Path\n"
   ]
  },
  {
   "cell_type": "code",
   "execution_count": 2,
   "id": "46d45e3c-b7f4-453a-8094-a2f1fe1cf565",
   "metadata": {},
   "outputs": [],
   "source": [
    "data_dir = Path('Z:/shares/ghepmk_data/2020_Kappen_PMS')\n",
    "date_dir = \"\\\\06102021\\\\\"\n",
    "os.chdir(data_dir)\n",
    "\n",
    "# AFiles = glob.glob(\"10001/\" + \"*ParticipantNo*\" + \"*.webm\", recursive = True) # get all csv's in directory\n",
    "# BFiles = glob.glob(\"10002/\" + \"*ParticipantNo*\" + \"*.webm\", recursive = True) # get all csv's in directory\n",
    "\n",
    "allVids = glob.glob(\"*/\" + \"*ParticipantNo*\" + \"*.webm\", recursive = True) # get all csv's in directory"
   ]
  },
  {
   "cell_type": "code",
   "execution_count": 3,
   "id": "bf4916d2-19ca-4dca-a09e-797f5d7d92a8",
   "metadata": {},
   "outputs": [],
   "source": [
    "def get_length(input_video): # Function to get the duration of video's using ffprob - does have to be converted first though, see 'command' next block\n",
    "    result = subprocess.run(['ffprobe', '-v', 'error', '-show_entries', 'format=duration', '-of', 'default=noprint_wrappers=1:nokey=1', input_video], stdout=subprocess.PIPE, stderr=subprocess.STDOUT)\n",
    "    return float(result.stdout)"
   ]
  },
  {
   "cell_type": "code",
   "execution_count": 16,
   "id": "ea8710da-3b7d-480e-9bcd-c3d3184a0504",
   "metadata": {
    "scrolled": true,
    "tags": []
   },
   "outputs": [
    {
     "name": "stderr",
     "output_type": "stream",
     "text": [
      "  0%|▎                                                                                 | 2/568 [00:00<00:31, 17.84it/s]"
     ]
    },
    {
     "name": "stdout",
     "output_type": "stream",
     "text": [
      "10001\\video_{ParticipantNo}_105_25-9-2020.webm\n",
      "10001\\video_{ParticipantNo}_119_6-9-2020.webm\n"
     ]
    },
    {
     "name": "stderr",
     "output_type": "stream",
     "text": [
      "  1%|▌                                                                                 | 4/568 [00:00<00:57,  9.87it/s]"
     ]
    },
    {
     "name": "stdout",
     "output_type": "stream",
     "text": [
      "10001\\video_{ParticipantNo}_123_28-8-2020.webm\n",
      "10001\\video_{ParticipantNo}_124_24-8-2020.webm\n"
     ]
    },
    {
     "name": "stderr",
     "output_type": "stream",
     "text": [
      "  1%|▊                                                                                 | 6/568 [00:00<01:04,  8.69it/s]"
     ]
    },
    {
     "name": "stdout",
     "output_type": "stream",
     "text": [
      "10001\\video_{ParticipantNo}_125_6-9-2020.webm\n",
      "10001\\video_{ParticipantNo}_127_17-9-2020.webm\n"
     ]
    },
    {
     "name": "stderr",
     "output_type": "stream",
     "text": [
      "  1%|█                                                                                 | 7/568 [00:00<01:10,  7.95it/s]"
     ]
    },
    {
     "name": "stdout",
     "output_type": "stream",
     "text": [
      "10001\\video_{ParticipantNo}_134_3-10-2020.webm\n",
      "10001\\video_{ParticipantNo}_135_12-10-2020.webm\n"
     ]
    },
    {
     "name": "stderr",
     "output_type": "stream",
     "text": [
      "  2%|█▍                                                                               | 10/568 [00:01<01:09,  7.98it/s]"
     ]
    },
    {
     "name": "stdout",
     "output_type": "stream",
     "text": [
      "10001\\video_{ParticipantNo}_137_9-11-2020.webm\n",
      "10001\\video_{ParticipantNo}_143_11-11-2020.webm\n"
     ]
    },
    {
     "name": "stderr",
     "output_type": "stream",
     "text": [
      "  2%|█▋                                                                               | 12/568 [00:01<01:13,  7.60it/s]"
     ]
    },
    {
     "name": "stdout",
     "output_type": "stream",
     "text": [
      "10001\\video_{ParticipantNo}_144_1-11-2020.webm\n",
      "10001\\video_{ParticipantNo}_145_1-11-2020.webm\n"
     ]
    },
    {
     "name": "stderr",
     "output_type": "stream",
     "text": [
      "  2%|█▉                                                                               | 14/568 [00:01<01:07,  8.23it/s]"
     ]
    },
    {
     "name": "stdout",
     "output_type": "stream",
     "text": [
      "10001\\video_{ParticipantNo}_147_5-2-2021.webm\n",
      "10001\\video_{ParticipantNo}_148_2-11-2020.webm\n"
     ]
    },
    {
     "name": "stderr",
     "output_type": "stream",
     "text": [
      "  3%|██▎                                                                              | 16/568 [00:01<01:07,  8.20it/s]"
     ]
    },
    {
     "name": "stdout",
     "output_type": "stream",
     "text": [
      "10001\\video_{ParticipantNo}_150_21-5-2021.webm\n",
      "10001\\video_{ParticipantNo}_154_30-10-2020.webm\n"
     ]
    },
    {
     "name": "stderr",
     "output_type": "stream",
     "text": [
      "  3%|██▌                                                                              | 18/568 [00:02<01:09,  7.94it/s]"
     ]
    },
    {
     "name": "stdout",
     "output_type": "stream",
     "text": [
      "10001\\video_{ParticipantNo}_155_28-10-2020.webm\n",
      "10001\\video_{ParticipantNo}_156_8-11-2020.webm\n"
     ]
    },
    {
     "name": "stderr",
     "output_type": "stream",
     "text": [
      "  3%|██▋                                                                              | 19/568 [00:02<01:06,  8.31it/s]"
     ]
    },
    {
     "name": "stdout",
     "output_type": "stream",
     "text": [
      "10001\\video_{ParticipantNo}_157_30-11-2020.webm\n",
      "10001\\video_{ParticipantNo}_158_26-11-2020.webm\n"
     ]
    },
    {
     "name": "stderr",
     "output_type": "stream",
     "text": [
      "  4%|███▎                                                                             | 23/568 [00:02<01:01,  8.92it/s]"
     ]
    },
    {
     "name": "stdout",
     "output_type": "stream",
     "text": [
      "10001\\video_{ParticipantNo}_162_6-11-2020.webm\n",
      "10001\\video_{ParticipantNo}_166_26-11-2020.webm\n",
      "10001\\video_{ParticipantNo}_168_6-11-2020.webm\n"
     ]
    },
    {
     "name": "stderr",
     "output_type": "stream",
     "text": [
      "  4%|███▌                                                                             | 25/568 [00:03<01:20,  6.71it/s]"
     ]
    },
    {
     "name": "stdout",
     "output_type": "stream",
     "text": [
      "10001\\video_{ParticipantNo}_169_26-11-2020.webm\n",
      "10001\\video_{ParticipantNo}_170_1-11-2020.webm\n"
     ]
    },
    {
     "name": "stderr",
     "output_type": "stream",
     "text": [
      "  5%|███▊                                                                             | 27/568 [00:03<01:07,  8.00it/s]"
     ]
    },
    {
     "name": "stdout",
     "output_type": "stream",
     "text": [
      "10001\\video_{ParticipantNo}_172_4-12-2020.webm\n",
      "10001\\video_{ParticipantNo}_173_2-12-2020.webm\n"
     ]
    },
    {
     "name": "stderr",
     "output_type": "stream",
     "text": [
      "  5%|████▏                                                                            | 29/568 [00:03<01:05,  8.27it/s]"
     ]
    },
    {
     "name": "stdout",
     "output_type": "stream",
     "text": [
      "10001\\video_{ParticipantNo}_176_10-12-2020.webm\n",
      "10001\\video_{ParticipantNo}_179_12-12-2020.webm\n"
     ]
    },
    {
     "name": "stderr",
     "output_type": "stream",
     "text": [
      "  5%|████▎                                                                            | 30/568 [00:03<01:08,  7.87it/s]"
     ]
    },
    {
     "name": "stdout",
     "output_type": "stream",
     "text": [
      "10001\\video_{ParticipantNo}_181_4-12-2020.webm\n",
      "10001\\video_{ParticipantNo}_182_5-12-2020.webm\n"
     ]
    },
    {
     "name": "stderr",
     "output_type": "stream",
     "text": [
      "  6%|████▋                                                                            | 33/568 [00:04<01:06,  8.04it/s]"
     ]
    },
    {
     "name": "stdout",
     "output_type": "stream",
     "text": [
      "10001\\video_{ParticipantNo}_186_26-11-2020.webm\n",
      "10001\\video_{ParticipantNo}_189_25-11-2020.webm\n"
     ]
    },
    {
     "name": "stderr",
     "output_type": "stream",
     "text": [
      "  6%|████▉                                                                            | 35/568 [00:04<01:05,  8.15it/s]"
     ]
    },
    {
     "name": "stdout",
     "output_type": "stream",
     "text": [
      "10001\\video_{ParticipantNo}_192_7-11-2020.webm\n",
      "10001\\video_{ParticipantNo}_194_5-12-2020.webm\n"
     ]
    },
    {
     "name": "stderr",
     "output_type": "stream",
     "text": [
      "  7%|█████▎                                                                           | 37/568 [00:04<01:01,  8.69it/s]"
     ]
    },
    {
     "name": "stdout",
     "output_type": "stream",
     "text": [
      "10001\\video_{ParticipantNo}_197_30-11-2020.webm\n",
      "10001\\video_{ParticipantNo}_198_8-12-2020.webm\n"
     ]
    },
    {
     "name": "stderr",
     "output_type": "stream",
     "text": [
      "  7%|█████▌                                                                           | 39/568 [00:04<01:06,  7.90it/s]"
     ]
    },
    {
     "name": "stdout",
     "output_type": "stream",
     "text": [
      "10001\\video_{ParticipantNo}_199_6-11-2020.webm\n",
      "10001\\video_{ParticipantNo}_203_8-11-2020.webm\n"
     ]
    },
    {
     "name": "stderr",
     "output_type": "stream",
     "text": [
      "  7%|█████▉                                                                           | 42/568 [00:05<01:03,  8.25it/s]"
     ]
    },
    {
     "name": "stdout",
     "output_type": "stream",
     "text": [
      "10001\\video_{ParticipantNo}_207_5-12-2020.webm\n",
      "10001\\video_{ParticipantNo}_211_2-11-2020.webm\n"
     ]
    },
    {
     "name": "stderr",
     "output_type": "stream",
     "text": [
      "  8%|██████▏                                                                          | 43/568 [00:05<01:04,  8.14it/s]"
     ]
    },
    {
     "name": "stdout",
     "output_type": "stream",
     "text": [
      "10001\\video_{ParticipantNo}_213_18-12-2020.webm\n",
      "10001\\video_{ParticipantNo}_214_27-11-2020.webm\n"
     ]
    },
    {
     "name": "stderr",
     "output_type": "stream",
     "text": [
      "  8%|██████▍                                                                          | 45/568 [00:05<01:12,  7.18it/s]"
     ]
    },
    {
     "name": "stdout",
     "output_type": "stream",
     "text": [
      "10001\\video_{ParticipantNo}_219_1-12-2020.webm\n",
      "10001\\video_{ParticipantNo}_221_6-11-2020.webm\n"
     ]
    },
    {
     "name": "stderr",
     "output_type": "stream",
     "text": [
      "  8%|██████▌                                                                          | 46/568 [00:05<01:26,  6.04it/s]"
     ]
    },
    {
     "name": "stdout",
     "output_type": "stream",
     "text": [
      "10001\\video_{ParticipantNo}_225_12-11-2020.webm\n",
      "10001\\video_{ParticipantNo}_229_3-12-2020.webm\n"
     ]
    },
    {
     "name": "stderr",
     "output_type": "stream",
     "text": [
      "  9%|██████▉                                                                          | 49/568 [00:06<01:16,  6.82it/s]"
     ]
    },
    {
     "name": "stdout",
     "output_type": "stream",
     "text": [
      "10001\\video_{ParticipantNo}_231_30-11-2020.webm\n",
      "10001\\video_{ParticipantNo}_238_7-12-2020.webm\n"
     ]
    },
    {
     "name": "stderr",
     "output_type": "stream",
     "text": [
      "  9%|███████▎                                                                         | 51/568 [00:06<01:25,  6.04it/s]"
     ]
    },
    {
     "name": "stdout",
     "output_type": "stream",
     "text": [
      "10001\\video_{ParticipantNo}_242_5-11-2020.webm\n",
      "10001\\video_{ParticipantNo}_243_2-12-2020.webm\n"
     ]
    },
    {
     "name": "stderr",
     "output_type": "stream",
     "text": [
      "  9%|███████▌                                                                         | 53/568 [00:06<01:18,  6.55it/s]"
     ]
    },
    {
     "name": "stdout",
     "output_type": "stream",
     "text": [
      "10001\\video_{ParticipantNo}_247_5-11-2020.webm\n",
      "10001\\video_{ParticipantNo}_248_26-11-2020.webm\n"
     ]
    },
    {
     "name": "stderr",
     "output_type": "stream",
     "text": [
      " 10%|███████▊                                                                         | 55/568 [00:07<01:12,  7.09it/s]"
     ]
    },
    {
     "name": "stdout",
     "output_type": "stream",
     "text": [
      "10001\\video_{ParticipantNo}_250_2-12-2020.webm\n",
      "10001\\video_{ParticipantNo}_256_5-12-2020.webm\n"
     ]
    },
    {
     "name": "stderr",
     "output_type": "stream",
     "text": [
      " 10%|████████▏                                                                        | 57/568 [00:07<01:04,  7.89it/s]"
     ]
    },
    {
     "name": "stdout",
     "output_type": "stream",
     "text": [
      "10001\\video_{ParticipantNo}_258_13-12-2020.webm\n",
      "10001\\video_{ParticipantNo}_261_25-1-2021.webm\n"
     ]
    },
    {
     "name": "stderr",
     "output_type": "stream",
     "text": [
      " 10%|████████▍                                                                        | 59/568 [00:07<01:05,  7.78it/s]"
     ]
    },
    {
     "name": "stdout",
     "output_type": "stream",
     "text": [
      "10001\\video_{ParticipantNo}_262_15-1-2021.webm\n",
      "10001\\video_{ParticipantNo}_263_4-12-2020.webm\n"
     ]
    },
    {
     "name": "stderr",
     "output_type": "stream",
     "text": [
      " 11%|████████▋                                                                        | 61/568 [00:07<01:09,  7.28it/s]"
     ]
    },
    {
     "name": "stdout",
     "output_type": "stream",
     "text": [
      "10001\\video_{ParticipantNo}_266_27-11-2020.webm\n",
      "10001\\video_{ParticipantNo}_271_4-12-2020.webm\n"
     ]
    },
    {
     "name": "stderr",
     "output_type": "stream",
     "text": [
      " 11%|█████████▏                                                                       | 64/568 [00:08<00:58,  8.57it/s]"
     ]
    },
    {
     "name": "stdout",
     "output_type": "stream",
     "text": [
      "10001\\video_{ParticipantNo}_274_29-11-2020.webm\n",
      "10001\\video_{ParticipantNo}_278_2-12-2020.webm\n"
     ]
    },
    {
     "name": "stderr",
     "output_type": "stream",
     "text": [
      " 12%|█████████▍                                                                       | 66/568 [00:08<00:59,  8.49it/s]"
     ]
    },
    {
     "name": "stdout",
     "output_type": "stream",
     "text": [
      "10001\\video_{ParticipantNo}_279_29-11-2020.webm\n",
      "10001\\video_{ParticipantNo}_281_1-12-2020.webm\n"
     ]
    },
    {
     "name": "stderr",
     "output_type": "stream",
     "text": [
      " 12%|█████████▋                                                                       | 68/568 [00:08<00:55,  9.09it/s]"
     ]
    },
    {
     "name": "stdout",
     "output_type": "stream",
     "text": [
      "10001\\video_{ParticipantNo}_282_14-1-2021.webm\n",
      "10001\\video_{ParticipantNo}_283_25-11-2020.webm\n"
     ]
    },
    {
     "name": "stderr",
     "output_type": "stream",
     "text": [
      " 12%|█████████▉                                                                       | 70/568 [00:08<01:01,  8.12it/s]"
     ]
    },
    {
     "name": "stdout",
     "output_type": "stream",
     "text": [
      "10001\\video_{ParticipantNo}_285_9-11-2020.webm\n",
      "10001\\video_{ParticipantNo}_288_7-11-2020.webm\n"
     ]
    },
    {
     "name": "stderr",
     "output_type": "stream",
     "text": [
      " 13%|██████████▎                                                                      | 72/568 [00:08<00:58,  8.44it/s]"
     ]
    },
    {
     "name": "stdout",
     "output_type": "stream",
     "text": [
      "10001\\video_{ParticipantNo}_289_13-12-2020.webm\n",
      "10001\\video_{ParticipantNo}_290_30-11-2020.webm\n"
     ]
    },
    {
     "name": "stderr",
     "output_type": "stream",
     "text": [
      " 13%|██████████▌                                                                      | 74/568 [00:09<01:05,  7.56it/s]"
     ]
    },
    {
     "name": "stdout",
     "output_type": "stream",
     "text": [
      "10001\\video_{ParticipantNo}_291_30-11-2020.webm\n",
      "10001\\video_{ParticipantNo}_293_9-11-2020.webm\n"
     ]
    },
    {
     "name": "stderr",
     "output_type": "stream",
     "text": [
      " 13%|██████████▊                                                                      | 76/568 [00:09<01:04,  7.67it/s]"
     ]
    },
    {
     "name": "stdout",
     "output_type": "stream",
     "text": [
      "10001\\video_{ParticipantNo}_294_8-11-2020.webm\n",
      "10001\\video_{ParticipantNo}_295_8-12-2020.webm\n"
     ]
    },
    {
     "name": "stderr",
     "output_type": "stream",
     "text": [
      " 14%|███████████                                                                      | 78/568 [00:09<01:01,  7.93it/s]"
     ]
    },
    {
     "name": "stdout",
     "output_type": "stream",
     "text": [
      "10001\\video_{ParticipantNo}_296_11-11-2020.webm\n",
      "10001\\video_{ParticipantNo}_302_3-11-2020.webm\n"
     ]
    },
    {
     "name": "stderr",
     "output_type": "stream",
     "text": [
      " 14%|███████████▍                                                                     | 80/568 [00:10<00:57,  8.42it/s]"
     ]
    },
    {
     "name": "stdout",
     "output_type": "stream",
     "text": [
      "10001\\video_{ParticipantNo}_307_29-11-2020.webm\n",
      "10001\\video_{ParticipantNo}_308_4-12-2020.webm\n"
     ]
    },
    {
     "name": "stderr",
     "output_type": "stream",
     "text": [
      " 15%|███████████▊                                                                     | 83/568 [00:10<00:57,  8.45it/s]"
     ]
    },
    {
     "name": "stdout",
     "output_type": "stream",
     "text": [
      "10001\\video_{ParticipantNo}_315_30-11-2020.webm\n",
      "10001\\video_{ParticipantNo}_317_6-12-2020.webm\n"
     ]
    },
    {
     "name": "stderr",
     "output_type": "stream",
     "text": [
      " 15%|████████████                                                                     | 85/568 [00:10<00:53,  8.99it/s]"
     ]
    },
    {
     "name": "stdout",
     "output_type": "stream",
     "text": [
      "10001\\video_{ParticipantNo}_318_28-11-2020.webm\n",
      "10001\\video_{ParticipantNo}_321_25-11-2020.webm\n",
      "10001\\video_{ParticipantNo}_324_11-12-2020.webm\n",
      "10001\\video_{ParticipantNo}_326_16-12-2020.webm\n"
     ]
    },
    {
     "name": "stderr",
     "output_type": "stream",
     "text": [
      " 15%|████████████▍                                                                    | 87/568 [00:10<00:53,  9.03it/s]"
     ]
    },
    {
     "name": "stdout",
     "output_type": "stream",
     "text": [
      "10001\\video_{ParticipantNo}_327_5-12-2020.webm\n",
      "10001\\video_{ParticipantNo}_329_8-12-2020.webm\n"
     ]
    },
    {
     "name": "stderr",
     "output_type": "stream",
     "text": [
      " 16%|████████████▊                                                                    | 90/568 [00:11<00:58,  8.14it/s]"
     ]
    },
    {
     "name": "stdout",
     "output_type": "stream",
     "text": [
      "10001\\video_{ParticipantNo}_332_9-11-2020.webm\n",
      "10001\\video_{ParticipantNo}_334_7-11-2020.webm\n"
     ]
    },
    {
     "name": "stderr",
     "output_type": "stream",
     "text": [
      " 16%|█████████████                                                                    | 92/568 [00:11<00:59,  7.95it/s]"
     ]
    },
    {
     "name": "stdout",
     "output_type": "stream",
     "text": [
      "10001\\video_{ParticipantNo}_335_2-12-2020.webm\n",
      "10001\\video_{ParticipantNo}_338_10-12-2020.webm\n"
     ]
    },
    {
     "name": "stderr",
     "output_type": "stream",
     "text": [
      " 17%|█████████████▌                                                                   | 95/568 [00:11<00:57,  8.22it/s]"
     ]
    },
    {
     "name": "stdout",
     "output_type": "stream",
     "text": [
      "10001\\video_{ParticipantNo}_339_2-12-2020.webm\n",
      "10001\\video_{ParticipantNo}_340_10-12-2020.webm\n"
     ]
    },
    {
     "name": "stderr",
     "output_type": "stream",
     "text": [
      " 17%|█████████████▉                                                                   | 98/568 [00:11<00:49,  9.56it/s]"
     ]
    },
    {
     "name": "stdout",
     "output_type": "stream",
     "text": [
      "10001\\video_{ParticipantNo}_341_16-12-2020.webm\n",
      "10001\\video_{ParticipantNo}_349_6-2-2021.webm\n",
      "10001\\video_{ParticipantNo}_350_21-1-2021.webm\n",
      "10001\\video_{ParticipantNo}_355_8-1-2021.webm\n"
     ]
    },
    {
     "name": "stderr",
     "output_type": "stream",
     "text": [
      " 18%|██████████████▏                                                                 | 101/568 [00:12<00:58,  7.92it/s]"
     ]
    },
    {
     "name": "stdout",
     "output_type": "stream",
     "text": [
      "10001\\video_{ParticipantNo}_361_16-1-2021.webm\n",
      "10001\\video_{ParticipantNo}_362_28-1-2021.webm\n"
     ]
    },
    {
     "name": "stderr",
     "output_type": "stream",
     "text": [
      " 18%|██████████████▌                                                                 | 103/568 [00:12<01:01,  7.53it/s]"
     ]
    },
    {
     "name": "stdout",
     "output_type": "stream",
     "text": [
      "10001\\video_{ParticipantNo}_363_23-1-2021.webm\n",
      "10001\\video_{ParticipantNo}_370_11-1-2021.webm\n"
     ]
    },
    {
     "name": "stderr",
     "output_type": "stream",
     "text": [
      " 18%|██████████████▊                                                                 | 105/568 [00:12<00:59,  7.73it/s]"
     ]
    },
    {
     "name": "stdout",
     "output_type": "stream",
     "text": [
      "10001\\video_{ParticipantNo}_381_6-1-2021.webm\n",
      "10001\\video_{ParticipantNo}_382_22-1-2021.webm\n"
     ]
    },
    {
     "name": "stderr",
     "output_type": "stream",
     "text": [
      " 19%|███████████████▏                                                                | 108/568 [00:13<00:47,  9.62it/s]"
     ]
    },
    {
     "name": "stdout",
     "output_type": "stream",
     "text": [
      "10001\\video_{ParticipantNo}_387_20-1-2021.webm\n",
      "10001\\video_{ParticipantNo}_388_17-1-2021.webm\n"
     ]
    },
    {
     "name": "stderr",
     "output_type": "stream",
     "text": [
      " 19%|███████████████▍                                                                | 110/568 [00:13<00:49,  9.31it/s]"
     ]
    },
    {
     "name": "stdout",
     "output_type": "stream",
     "text": [
      "10001\\video_{ParticipantNo}_390_9-1-2021.webm\n",
      "10001\\video_{ParticipantNo}_391_19-1-2021.webm\n"
     ]
    },
    {
     "name": "stderr",
     "output_type": "stream",
     "text": [
      " 20%|███████████████▊                                                                | 112/568 [00:13<00:55,  8.23it/s]"
     ]
    },
    {
     "name": "stdout",
     "output_type": "stream",
     "text": [
      "10001\\video_{ParticipantNo}_392_20-1-2021.webm\n",
      "10001\\video_{ParticipantNo}_394_28-1-2021.webm\n"
     ]
    },
    {
     "name": "stderr",
     "output_type": "stream",
     "text": [
      " 20%|████████████████                                                                | 114/568 [00:13<01:00,  7.52it/s]"
     ]
    },
    {
     "name": "stdout",
     "output_type": "stream",
     "text": [
      "10001\\video_{ParticipantNo}_398_11-2-2021.webm\n",
      "10001\\video_{ParticipantNo}_399_11-1-2021.webm\n"
     ]
    },
    {
     "name": "stderr",
     "output_type": "stream",
     "text": [
      " 20%|████████████████▎                                                               | 116/568 [00:14<01:09,  6.53it/s]"
     ]
    },
    {
     "name": "stdout",
     "output_type": "stream",
     "text": [
      "10001\\video_{ParticipantNo}_402_3-2-2021.webm\n",
      "10001\\video_{ParticipantNo}_407_8-2-2021.webm\n"
     ]
    },
    {
     "name": "stderr",
     "output_type": "stream",
     "text": [
      " 21%|████████████████▌                                                               | 118/568 [00:14<01:03,  7.07it/s]"
     ]
    },
    {
     "name": "stdout",
     "output_type": "stream",
     "text": [
      "10001\\video_{ParticipantNo}_408_1-2-2021.webm\n",
      "10001\\video_{ParticipantNo}_409_30-1-2021.webm\n"
     ]
    },
    {
     "name": "stderr",
     "output_type": "stream",
     "text": [
      " 21%|████████████████▉                                                               | 120/568 [00:14<01:00,  7.46it/s]"
     ]
    },
    {
     "name": "stdout",
     "output_type": "stream",
     "text": [
      "10001\\video_{ParticipantNo}_410_11-2-2021.webm\n",
      "10001\\video_{ParticipantNo}_411_1-2-2021.webm\n"
     ]
    },
    {
     "name": "stderr",
     "output_type": "stream",
     "text": [
      " 21%|█████████████████▏                                                              | 122/568 [00:15<00:56,  7.88it/s]"
     ]
    },
    {
     "name": "stdout",
     "output_type": "stream",
     "text": [
      "10001\\video_{ParticipantNo}_414_3-2-2021.webm\n",
      "10001\\video_{ParticipantNo}_415_1-2-2021.webm\n"
     ]
    },
    {
     "name": "stderr",
     "output_type": "stream",
     "text": [
      " 22%|█████████████████▍                                                              | 124/568 [00:15<00:59,  7.50it/s]"
     ]
    },
    {
     "name": "stdout",
     "output_type": "stream",
     "text": [
      "10001\\video_{ParticipantNo}_416_7-2-2021.webm\n",
      "10001\\video_{ParticipantNo}_419_23-2-2021.webm\n"
     ]
    },
    {
     "name": "stderr",
     "output_type": "stream",
     "text": [
      " 22%|█████████████████▋                                                              | 126/568 [00:15<01:04,  6.84it/s]"
     ]
    },
    {
     "name": "stdout",
     "output_type": "stream",
     "text": [
      "10001\\video_{ParticipantNo}_420_25-1-2021.webm\n",
      "10001\\video_{ParticipantNo}_422_29-1-2021.webm\n"
     ]
    },
    {
     "name": "stderr",
     "output_type": "stream",
     "text": [
      " 23%|██████████████████                                                              | 128/568 [00:15<00:56,  7.82it/s]"
     ]
    },
    {
     "name": "stdout",
     "output_type": "stream",
     "text": [
      "10001\\video_{ParticipantNo}_427_25-2-2021.webm\n",
      "10001\\video_{ParticipantNo}_428_4-3-2021.webm\n"
     ]
    },
    {
     "name": "stderr",
     "output_type": "stream",
     "text": [
      " 23%|██████████████████▎                                                             | 130/568 [00:16<00:59,  7.41it/s]"
     ]
    },
    {
     "name": "stdout",
     "output_type": "stream",
     "text": [
      "10001\\video_{ParticipantNo}_431_6-3-2021.webm\n",
      "10001\\video_{ParticipantNo}_435_26-3-2021.webm\n"
     ]
    },
    {
     "name": "stderr",
     "output_type": "stream",
     "text": [
      " 23%|██████████████████▌                                                             | 132/568 [00:16<00:57,  7.60it/s]"
     ]
    },
    {
     "name": "stdout",
     "output_type": "stream",
     "text": [
      "10001\\video_{ParticipantNo}_436_21-3-2021.webm\n",
      "10001\\video_{ParticipantNo}_437_8-3-2021.webm\n"
     ]
    },
    {
     "name": "stderr",
     "output_type": "stream",
     "text": [
      " 24%|██████████████████▊                                                             | 134/568 [00:16<00:54,  7.98it/s]"
     ]
    },
    {
     "name": "stdout",
     "output_type": "stream",
     "text": [
      "10001\\video_{ParticipantNo}_441_26-2-2021.webm\n",
      "10001\\video_{ParticipantNo}_442_16-3-2021.webm\n"
     ]
    },
    {
     "name": "stderr",
     "output_type": "stream",
     "text": [
      " 24%|███████████████████▏                                                            | 136/568 [00:16<00:52,  8.16it/s]"
     ]
    },
    {
     "name": "stdout",
     "output_type": "stream",
     "text": [
      "10001\\video_{ParticipantNo}_444_9-4-2021.webm\n",
      "10001\\video_{ParticipantNo}_445_10-3-2021.webm\n"
     ]
    },
    {
     "name": "stderr",
     "output_type": "stream",
     "text": [
      " 24%|███████████████████▍                                                            | 138/568 [00:17<00:54,  7.96it/s]"
     ]
    },
    {
     "name": "stdout",
     "output_type": "stream",
     "text": [
      "10001\\video_{ParticipantNo}_446_28-3-2021.webm\n",
      "10001\\video_{ParticipantNo}_447_5-4-2021.webm\n"
     ]
    },
    {
     "name": "stderr",
     "output_type": "stream",
     "text": [
      " 25%|███████████████████▋                                                            | 140/568 [00:17<00:53,  7.96it/s]"
     ]
    },
    {
     "name": "stdout",
     "output_type": "stream",
     "text": [
      "10001\\video_{ParticipantNo}_454_18-3-2021.webm\n",
      "10001\\video_{ParticipantNo}_457_27-3-2021.webm\n"
     ]
    },
    {
     "name": "stderr",
     "output_type": "stream",
     "text": [
      " 25%|████████████████████                                                            | 142/568 [00:17<00:58,  7.26it/s]"
     ]
    },
    {
     "name": "stdout",
     "output_type": "stream",
     "text": [
      "10001\\video_{ParticipantNo}_458_18-3-2021.webm\n",
      "10001\\video_{ParticipantNo}_459_19-3-2021.webm\n"
     ]
    },
    {
     "name": "stderr",
     "output_type": "stream",
     "text": [
      " 26%|████████████████████▍                                                           | 145/568 [00:18<00:54,  7.78it/s]"
     ]
    },
    {
     "name": "stdout",
     "output_type": "stream",
     "text": [
      "10001\\video_{ParticipantNo}_461_23-3-2021.webm\n",
      "10001\\video_{ParticipantNo}_465_25-3-2021.webm\n"
     ]
    },
    {
     "name": "stderr",
     "output_type": "stream",
     "text": [
      " 26%|████████████████████▌                                                           | 146/568 [00:18<00:56,  7.49it/s]"
     ]
    },
    {
     "name": "stdout",
     "output_type": "stream",
     "text": [
      "10001\\video_{ParticipantNo}_466_14-3-2021.webm\n",
      "10001\\video_{ParticipantNo}_468_17-4-2021.webm\n"
     ]
    },
    {
     "name": "stderr",
     "output_type": "stream",
     "text": [
      " 26%|████████████████████▉                                                           | 149/568 [00:18<00:51,  8.14it/s]"
     ]
    },
    {
     "name": "stdout",
     "output_type": "stream",
     "text": [
      "10001\\video_{ParticipantNo}_469_19-3-2021.webm\n",
      "10001\\video_{ParticipantNo}_471_18-4-2021.webm\n"
     ]
    },
    {
     "name": "stderr",
     "output_type": "stream",
     "text": [
      " 26%|█████████████████████▏                                                          | 150/568 [00:18<00:54,  7.63it/s]"
     ]
    },
    {
     "name": "stdout",
     "output_type": "stream",
     "text": [
      "10001\\video_{ParticipantNo}_477_22-4-2021.webm\n",
      "10001\\video_{ParticipantNo}_479_17-5-2021.webm\n"
     ]
    },
    {
     "name": "stderr",
     "output_type": "stream",
     "text": [
      " 27%|█████████████████████▌                                                          | 153/568 [00:18<00:53,  7.69it/s]"
     ]
    },
    {
     "name": "stdout",
     "output_type": "stream",
     "text": [
      "10001\\video_{ParticipantNo}_480_4-4-2021.webm\n",
      "10001\\video_{ParticipantNo}_481_29-4-2021.webm\n"
     ]
    },
    {
     "name": "stderr",
     "output_type": "stream",
     "text": [
      " 27%|█████████████████████▊                                                          | 155/568 [00:19<00:56,  7.33it/s]"
     ]
    },
    {
     "name": "stdout",
     "output_type": "stream",
     "text": [
      "10001\\video_{ParticipantNo}_485_17-5-2021.webm\n",
      "10001\\video_{ParticipantNo}_487_6-6-2021.webm\n"
     ]
    },
    {
     "name": "stderr",
     "output_type": "stream",
     "text": [
      " 28%|██████████████████████▎                                                         | 158/568 [00:19<00:59,  6.85it/s]"
     ]
    },
    {
     "name": "stdout",
     "output_type": "stream",
     "text": [
      "10001\\video_{ParticipantNo}_488_25-5-2021.webm\n",
      "10001\\video_{ParticipantNo}_489_24-4-2021.webm\n"
     ]
    },
    {
     "name": "stderr",
     "output_type": "stream",
     "text": [
      " 28%|██████████████████████▍                                                         | 159/568 [00:19<00:56,  7.18it/s]"
     ]
    },
    {
     "name": "stdout",
     "output_type": "stream",
     "text": [
      "10001\\video_{ParticipantNo}_490_10-5-2021.webm\n",
      "10001\\video_{ParticipantNo}_491_14-5-2021.webm\n"
     ]
    },
    {
     "name": "stderr",
     "output_type": "stream",
     "text": [
      " 29%|██████████████████████▊                                                         | 162/568 [00:20<00:49,  8.20it/s]"
     ]
    },
    {
     "name": "stdout",
     "output_type": "stream",
     "text": [
      "10001\\video_{ParticipantNo}_496_28-4-2021.webm\n",
      "10001\\video_{ParticipantNo}_498_25-5-2021.webm\n"
     ]
    },
    {
     "name": "stderr",
     "output_type": "stream",
     "text": [
      " 29%|███████████████████████                                                         | 164/568 [00:20<00:52,  7.66it/s]"
     ]
    },
    {
     "name": "stdout",
     "output_type": "stream",
     "text": [
      "10001\\video_{ParticipantNo}_499_28-4-2021.webm\n",
      "10001\\video_{ParticipantNo}_500_16-5-2021.webm\n"
     ]
    },
    {
     "name": "stderr",
     "output_type": "stream",
     "text": [
      " 29%|███████████████████████▌                                                        | 167/568 [00:20<00:43,  9.29it/s]"
     ]
    },
    {
     "name": "stdout",
     "output_type": "stream",
     "text": [
      "10001\\video_{ParticipantNo}_503_19-5-2021.webm\n",
      "10001\\video_{ParticipantNo}_504_27-5-2021.webm\n"
     ]
    },
    {
     "name": "stderr",
     "output_type": "stream",
     "text": [
      " 30%|███████████████████████▊                                                        | 169/568 [00:20<00:44,  8.96it/s]"
     ]
    },
    {
     "name": "stdout",
     "output_type": "stream",
     "text": [
      "10001\\video_{ParticipantNo}_505_17-5-2021.webm\n",
      "10001\\video_{ParticipantNo}_507_26-4-2021.webm\n"
     ]
    },
    {
     "name": "stderr",
     "output_type": "stream",
     "text": [
      " 30%|████████████████████████                                                        | 171/568 [00:21<00:51,  7.67it/s]"
     ]
    },
    {
     "name": "stdout",
     "output_type": "stream",
     "text": [
      "10001\\video_{ParticipantNo}_511_10-5-2021.webm\n",
      "10001\\video_{ParticipantNo}_512_17-5-2021.webm\n"
     ]
    },
    {
     "name": "stderr",
     "output_type": "stream",
     "text": [
      " 31%|████████████████████████▌                                                       | 174/568 [00:21<00:44,  8.84it/s]"
     ]
    },
    {
     "name": "stdout",
     "output_type": "stream",
     "text": [
      "10001\\video_{ParticipantNo}_515_13-5-2021.webm\n",
      "10001\\video_{ParticipantNo}_516_13-5-2021.webm\n"
     ]
    },
    {
     "name": "stderr",
     "output_type": "stream",
     "text": [
      " 31%|████████████████████████▊                                                       | 176/568 [00:21<00:47,  8.21it/s]"
     ]
    },
    {
     "name": "stdout",
     "output_type": "stream",
     "text": [
      "10001\\video_{ParticipantNo}_517_11-6-2021.webm\n",
      "10001\\video_{ParticipantNo}_517_17-5-2021.webm\n"
     ]
    },
    {
     "name": "stderr",
     "output_type": "stream",
     "text": [
      " 31%|█████████████████████████                                                       | 178/568 [00:21<00:51,  7.56it/s]"
     ]
    },
    {
     "name": "stdout",
     "output_type": "stream",
     "text": [
      "10001\\video_{ParticipantNo}_518_29-4-2021.webm\n",
      "10001\\video_{ParticipantNo}_519_17-5-2021.webm\n"
     ]
    },
    {
     "name": "stderr",
     "output_type": "stream",
     "text": [
      " 32%|█████████████████████████▍                                                      | 181/568 [00:22<00:44,  8.61it/s]"
     ]
    },
    {
     "name": "stdout",
     "output_type": "stream",
     "text": [
      "10001\\video_{ParticipantNo}_522_16-6-2021.webm\n",
      "10001\\video_{ParticipantNo}_524_19-5-2021.webm\n"
     ]
    },
    {
     "name": "stderr",
     "output_type": "stream",
     "text": [
      " 32%|█████████████████████████▊                                                      | 183/568 [00:22<00:58,  6.62it/s]"
     ]
    },
    {
     "name": "stdout",
     "output_type": "stream",
     "text": [
      "10001\\video_{ParticipantNo}_525_4-6-2021.webm\n",
      "10001\\video_{ParticipantNo}_526_26-4-2021.webm\n"
     ]
    },
    {
     "name": "stderr",
     "output_type": "stream",
     "text": [
      " 33%|██████████████████████████                                                      | 185/568 [00:22<00:53,  7.21it/s]"
     ]
    },
    {
     "name": "stdout",
     "output_type": "stream",
     "text": [
      "10001\\video_{ParticipantNo}_529_15-5-2021.webm\n",
      "10001\\video_{ParticipantNo}_532_29-5-2021.webm\n"
     ]
    },
    {
     "name": "stderr",
     "output_type": "stream",
     "text": [
      " 33%|██████████████████████████▍                                                     | 188/568 [00:23<00:46,  8.23it/s]"
     ]
    },
    {
     "name": "stdout",
     "output_type": "stream",
     "text": [
      "10001\\video_{ParticipantNo}_535_7-5-2021.webm\n",
      "10001\\video_{ParticipantNo}_537_6-5-2021.webm\n"
     ]
    },
    {
     "name": "stderr",
     "output_type": "stream",
     "text": [
      " 33%|██████████████████████████▊                                                     | 190/568 [00:23<00:48,  7.80it/s]"
     ]
    },
    {
     "name": "stdout",
     "output_type": "stream",
     "text": [
      "10001\\video_{ParticipantNo}_538_23-5-2021.webm\n",
      "10001\\video_{ParticipantNo}_542_21-5-2021.webm\n"
     ]
    },
    {
     "name": "stderr",
     "output_type": "stream",
     "text": [
      " 34%|███████████████████████████                                                     | 192/568 [00:23<00:50,  7.47it/s]"
     ]
    },
    {
     "name": "stdout",
     "output_type": "stream",
     "text": [
      "10001\\video_{ParticipantNo}_543_13-5-2021.webm\n",
      "10001\\video_{ParticipantNo}_544_20-5-2021.webm\n"
     ]
    },
    {
     "name": "stderr",
     "output_type": "stream",
     "text": [
      " 34%|███████████████████████████▎                                                    | 194/568 [00:23<00:48,  7.77it/s]"
     ]
    },
    {
     "name": "stdout",
     "output_type": "stream",
     "text": [
      "10001\\video_{ParticipantNo}_546_12-5-2021.webm\n",
      "10001\\video_{ParticipantNo}_546_26-5-2021.webm\n"
     ]
    },
    {
     "name": "stderr",
     "output_type": "stream",
     "text": [
      " 35%|███████████████████████████▌                                                    | 196/568 [00:24<00:48,  7.62it/s]"
     ]
    },
    {
     "name": "stdout",
     "output_type": "stream",
     "text": [
      "10001\\video_{ParticipantNo}_548_1-6-2021.webm\n",
      "10001\\video_{ParticipantNo}_550_30-6-2021.webm\n"
     ]
    },
    {
     "name": "stderr",
     "output_type": "stream",
     "text": [
      " 35%|███████████████████████████▉                                                    | 198/568 [00:24<00:48,  7.63it/s]"
     ]
    },
    {
     "name": "stdout",
     "output_type": "stream",
     "text": [
      "10001\\video_{ParticipantNo}_551_27-4-2021.webm\n",
      "10001\\video_{ParticipantNo}_552_12-6-2021.webm\n"
     ]
    },
    {
     "name": "stderr",
     "output_type": "stream",
     "text": [
      " 35%|████████████████████████████▏                                                   | 200/568 [00:24<00:50,  7.30it/s]"
     ]
    },
    {
     "name": "stdout",
     "output_type": "stream",
     "text": [
      "10001\\video_{ParticipantNo}_553_8-6-2021.webm\n",
      "10001\\video_{ParticipantNo}_554_7-5-2021.webm\n"
     ]
    },
    {
     "name": "stderr",
     "output_type": "stream",
     "text": [
      " 36%|████████████████████████████▍                                                   | 202/568 [00:25<00:49,  7.36it/s]"
     ]
    },
    {
     "name": "stdout",
     "output_type": "stream",
     "text": [
      "10001\\video_{ParticipantNo}_556_2-6-2021.webm\n",
      "10001\\video_{ParticipantNo}_557_18-6-2021.webm\n"
     ]
    },
    {
     "name": "stderr",
     "output_type": "stream",
     "text": [
      " 36%|████████████████████████████▌                                                   | 203/568 [00:25<00:54,  6.73it/s]"
     ]
    },
    {
     "name": "stdout",
     "output_type": "stream",
     "text": [
      "10001\\video_{ParticipantNo}_559_12-5-2021.webm\n"
     ]
    },
    {
     "name": "stderr",
     "output_type": "stream",
     "text": [
      " 36%|████████████████████████████▊                                                   | 205/568 [00:25<01:01,  5.93it/s]"
     ]
    },
    {
     "name": "stdout",
     "output_type": "stream",
     "text": [
      "10001\\video_{ParticipantNo}_560_6-5-2021.webm\n",
      "10001\\video_{ParticipantNo}_561_26-4-2021.webm\n"
     ]
    },
    {
     "name": "stderr",
     "output_type": "stream",
     "text": [
      " 36%|█████████████████████████████▏                                                  | 207/568 [00:25<00:53,  6.76it/s]"
     ]
    },
    {
     "name": "stdout",
     "output_type": "stream",
     "text": [
      "10001\\video_{ParticipantNo}_562_1-5-2021.webm\n",
      "10001\\video_{ParticipantNo}_564_13-5-2021.webm\n"
     ]
    },
    {
     "name": "stderr",
     "output_type": "stream",
     "text": [
      " 37%|█████████████████████████████▍                                                  | 209/568 [00:26<00:52,  6.85it/s]"
     ]
    },
    {
     "name": "stdout",
     "output_type": "stream",
     "text": [
      "10001\\video_{ParticipantNo}_567_8-5-2021.webm\n",
      "10001\\video_{ParticipantNo}_569_21-5-2021.webm\n"
     ]
    },
    {
     "name": "stderr",
     "output_type": "stream",
     "text": [
      " 37%|█████████████████████████████▋                                                  | 211/568 [00:26<00:47,  7.56it/s]"
     ]
    },
    {
     "name": "stdout",
     "output_type": "stream",
     "text": [
      "10001\\video_{ParticipantNo}_571_21-6-2021.webm\n",
      "10001\\video_{ParticipantNo}_572_28-4-2021.webm\n"
     ]
    },
    {
     "name": "stderr",
     "output_type": "stream",
     "text": [
      " 38%|██████████████████████████████                                                  | 213/568 [00:26<00:50,  6.99it/s]"
     ]
    },
    {
     "name": "stdout",
     "output_type": "stream",
     "text": [
      "10001\\video_{ParticipantNo}_573_15-5-2021.webm\n",
      "10001\\video_{ParticipantNo}_574_5-5-2021.webm\n"
     ]
    },
    {
     "name": "stderr",
     "output_type": "stream",
     "text": [
      " 38%|██████████████████████████████▎                                                 | 215/568 [00:26<00:47,  7.37it/s]"
     ]
    },
    {
     "name": "stdout",
     "output_type": "stream",
     "text": [
      "10001\\video_{ParticipantNo}_575_11-5-2021.webm\n",
      "10001\\video_{ParticipantNo}_576_2-5-2021.webm\n"
     ]
    },
    {
     "name": "stderr",
     "output_type": "stream",
     "text": [
      " 38%|██████████████████████████████▌                                                 | 217/568 [00:27<00:46,  7.51it/s]"
     ]
    },
    {
     "name": "stdout",
     "output_type": "stream",
     "text": [
      "10001\\video_{ParticipantNo}_577_22-5-2021.webm\n",
      "10001\\video_{ParticipantNo}_579_2-5-2021.webm\n"
     ]
    },
    {
     "name": "stderr",
     "output_type": "stream",
     "text": [
      " 39%|██████████████████████████████▊                                                 | 219/568 [00:27<00:47,  7.29it/s]"
     ]
    },
    {
     "name": "stdout",
     "output_type": "stream",
     "text": [
      "10001\\video_{ParticipantNo}_580_25-4-2021.webm\n",
      "10001\\video_{ParticipantNo}_584_16-5-2021.webm\n"
     ]
    },
    {
     "name": "stderr",
     "output_type": "stream",
     "text": [
      " 39%|███████████████████████████████▎                                                | 222/568 [00:27<00:43,  8.00it/s]"
     ]
    },
    {
     "name": "stdout",
     "output_type": "stream",
     "text": [
      "10001\\video_{ParticipantNo}_586_10-5-2021.webm\n",
      "10001\\video_{ParticipantNo}_587_28-4-2021.webm\n"
     ]
    },
    {
     "name": "stderr",
     "output_type": "stream",
     "text": [
      " 39%|███████████████████████████████▌                                                | 224/568 [00:28<00:42,  8.00it/s]"
     ]
    },
    {
     "name": "stdout",
     "output_type": "stream",
     "text": [
      "10001\\video_{ParticipantNo}_588_19-5-2021.webm\n",
      "10001\\video_{ParticipantNo}_589_25-4-2021.webm\n"
     ]
    },
    {
     "name": "stderr",
     "output_type": "stream",
     "text": [
      " 40%|███████████████████████████████▊                                                | 226/568 [00:28<00:43,  7.82it/s]"
     ]
    },
    {
     "name": "stdout",
     "output_type": "stream",
     "text": [
      "10001\\video_{ParticipantNo}_595_29-4-2021.webm\n",
      "10001\\video_{ParticipantNo}_596_27-5-2021.webm\n"
     ]
    },
    {
     "name": "stderr",
     "output_type": "stream",
     "text": [
      " 40%|████████████████████████████████                                                | 228/568 [00:28<00:48,  7.02it/s]"
     ]
    },
    {
     "name": "stdout",
     "output_type": "stream",
     "text": [
      "10001\\video_{ParticipantNo}_597_26-5-2021.webm\n",
      "10001\\video_{ParticipantNo}_598_2-6-2021.webm\n"
     ]
    },
    {
     "name": "stderr",
     "output_type": "stream",
     "text": [
      " 40%|████████████████████████████████▍                                               | 230/568 [00:29<00:55,  6.06it/s]"
     ]
    },
    {
     "name": "stdout",
     "output_type": "stream",
     "text": [
      "10001\\video_{ParticipantNo}_601_17-5-2021.webm\n",
      "10001\\video_{ParticipantNo}_603_27-5-2021.webm\n"
     ]
    },
    {
     "name": "stderr",
     "output_type": "stream",
     "text": [
      " 41%|████████████████████████████████▌                                               | 231/568 [00:29<00:53,  6.27it/s]"
     ]
    },
    {
     "name": "stdout",
     "output_type": "stream",
     "text": [
      "10001\\video_{ParticipantNo}_605_20-5-2021.webm\n"
     ]
    },
    {
     "name": "stderr",
     "output_type": "stream",
     "text": [
      " 41%|████████████████████████████████▊                                               | 233/568 [00:29<00:53,  6.22it/s]"
     ]
    },
    {
     "name": "stdout",
     "output_type": "stream",
     "text": [
      "10001\\video_{ParticipantNo}_606_30-4-2021.webm\n",
      "10001\\video_{ParticipantNo}_607_28-4-2021.webm\n"
     ]
    },
    {
     "name": "stderr",
     "output_type": "stream",
     "text": [
      " 41%|█████████████████████████████████                                               | 235/568 [00:29<00:58,  5.73it/s]"
     ]
    },
    {
     "name": "stdout",
     "output_type": "stream",
     "text": [
      "10001\\video_{ParticipantNo}_608_4-6-2021.webm\n",
      "10001\\video_{ParticipantNo}_609_21-5-2021.webm\n"
     ]
    },
    {
     "name": "stderr",
     "output_type": "stream",
     "text": [
      " 42%|█████████████████████████████████▍                                              | 237/568 [00:30<00:51,  6.40it/s]"
     ]
    },
    {
     "name": "stdout",
     "output_type": "stream",
     "text": [
      "10001\\video_{ParticipantNo}_610_28-4-2021.webm\n",
      "10001\\video_{ParticipantNo}_612_5-5-2021.webm\n"
     ]
    },
    {
     "name": "stderr",
     "output_type": "stream",
     "text": [
      " 42%|█████████████████████████████████▋                                              | 239/568 [00:30<00:44,  7.35it/s]"
     ]
    },
    {
     "name": "stdout",
     "output_type": "stream",
     "text": [
      "10001\\video_{ParticipantNo}_615_29-6-2021.webm\n",
      "10001\\video_{ParticipantNo}_617_22-5-2021.webm\n"
     ]
    },
    {
     "name": "stderr",
     "output_type": "stream",
     "text": [
      " 42%|█████████████████████████████████▉                                              | 241/568 [00:30<00:48,  6.68it/s]"
     ]
    },
    {
     "name": "stdout",
     "output_type": "stream",
     "text": [
      "10001\\video_{ParticipantNo}_618_24-5-2021.webm\n",
      "10001\\video_{ParticipantNo}_621_14-6-2021.webm\n"
     ]
    },
    {
     "name": "stderr",
     "output_type": "stream",
     "text": [
      " 43%|██████████████████████████████████▏                                             | 243/568 [00:30<00:43,  7.40it/s]"
     ]
    },
    {
     "name": "stdout",
     "output_type": "stream",
     "text": [
      "10001\\video_{ParticipantNo}_622_30-4-2021.webm\n",
      "10001\\video_{ParticipantNo}_628_27-5-2021.webm\n"
     ]
    },
    {
     "name": "stderr",
     "output_type": "stream",
     "text": [
      " 43%|██████████████████████████████████▎                                             | 244/568 [00:31<00:40,  7.99it/s]"
     ]
    },
    {
     "name": "stdout",
     "output_type": "stream",
     "text": [
      "10001\\video_{ParticipantNo}_630_14-5-2021.webm\n",
      "10001\\video_{ParticipantNo}_631_16-5-2021.webm\n"
     ]
    },
    {
     "name": "stderr",
     "output_type": "stream",
     "text": [
      " 43%|██████████████████████████████████▊                                             | 247/568 [00:31<00:37,  8.52it/s]"
     ]
    },
    {
     "name": "stdout",
     "output_type": "stream",
     "text": [
      "10001\\video_{ParticipantNo}_634_30-5-2021.webm\n",
      "10001\\video_{ParticipantNo}_638_15-5-2021.webm\n"
     ]
    },
    {
     "name": "stderr",
     "output_type": "stream",
     "text": [
      " 44%|███████████████████████████████████                                             | 249/568 [00:31<00:40,  7.84it/s]"
     ]
    },
    {
     "name": "stdout",
     "output_type": "stream",
     "text": [
      "10001\\video_{ParticipantNo}_639_7-6-2021.webm\n",
      "10001\\video_{ParticipantNo}_640_22-5-2021.webm\n"
     ]
    },
    {
     "name": "stderr",
     "output_type": "stream",
     "text": [
      " 44%|███████████████████████████████████▎                                            | 251/568 [00:31<00:38,  8.33it/s]"
     ]
    },
    {
     "name": "stdout",
     "output_type": "stream",
     "text": [
      "10001\\video_{ParticipantNo}_642_5-5-2021.webm\n",
      "10001\\video_{ParticipantNo}_644_25-5-2021.webm\n"
     ]
    },
    {
     "name": "stderr",
     "output_type": "stream",
     "text": [
      " 45%|███████████████████████████████████▋                                            | 253/568 [00:32<00:37,  8.29it/s]"
     ]
    },
    {
     "name": "stdout",
     "output_type": "stream",
     "text": [
      "10001\\video_{ParticipantNo}_645_5-5-2021.webm\n",
      "10001\\video_{ParticipantNo}_649_28-5-2021.webm\n"
     ]
    },
    {
     "name": "stderr",
     "output_type": "stream",
     "text": [
      " 45%|███████████████████████████████████▉                                            | 255/568 [00:32<00:42,  7.29it/s]"
     ]
    },
    {
     "name": "stdout",
     "output_type": "stream",
     "text": [
      "10001\\video_{ParticipantNo}_650_25-5-2021.webm\n",
      "10001\\video_{ParticipantNo}_653_4-6-2021.webm\n"
     ]
    },
    {
     "name": "stderr",
     "output_type": "stream",
     "text": [
      " 45%|████████████████████████████████████▏                                           | 257/568 [00:32<00:41,  7.47it/s]"
     ]
    },
    {
     "name": "stdout",
     "output_type": "stream",
     "text": [
      "10001\\video_{ParticipantNo}_657_8-6-2021.webm\n",
      "10001\\video_{ParticipantNo}_659_4-6-2021.webm\n"
     ]
    },
    {
     "name": "stderr",
     "output_type": "stream",
     "text": [
      " 46%|████████████████████████████████████▍                                           | 259/568 [00:33<00:40,  7.69it/s]"
     ]
    },
    {
     "name": "stdout",
     "output_type": "stream",
     "text": [
      "10001\\video_{ParticipantNo}_661_1-6-2021.webm\n",
      "10001\\video_{ParticipantNo}_661_17-6-2021.webm\n"
     ]
    },
    {
     "name": "stderr",
     "output_type": "stream",
     "text": [
      " 46%|████████████████████████████████████▊                                           | 261/568 [00:33<00:38,  8.03it/s]"
     ]
    },
    {
     "name": "stdout",
     "output_type": "stream",
     "text": [
      "10001\\video_{ParticipantNo}_662_5-6-2021.webm\n",
      "10001\\video_{ParticipantNo}_664_1-7-2021.webm\n"
     ]
    },
    {
     "name": "stderr",
     "output_type": "stream",
     "text": [
      " 46%|█████████████████████████████████████                                           | 263/568 [00:33<00:34,  8.79it/s]"
     ]
    },
    {
     "name": "stdout",
     "output_type": "stream",
     "text": [
      "10001\\video_{ParticipantNo}_665_28-7-2021.webm\n",
      "10001\\video_{ParticipantNo}_667_12-8-2021.webm\n"
     ]
    },
    {
     "name": "stderr",
     "output_type": "stream",
     "text": [
      " 47%|█████████████████████████████████████▎                                          | 265/568 [00:33<00:42,  7.15it/s]"
     ]
    },
    {
     "name": "stdout",
     "output_type": "stream",
     "text": [
      "10001\\video_{ParticipantNo}_667_16-7-2021.webm\n",
      "10001\\video_{ParticipantNo}_671_16-8-2021.webm\n"
     ]
    },
    {
     "name": "stderr",
     "output_type": "stream",
     "text": [
      " 47%|█████████████████████████████████████▌                                          | 267/568 [00:34<00:42,  7.12it/s]"
     ]
    },
    {
     "name": "stdout",
     "output_type": "stream",
     "text": [
      "10001\\video_{ParticipantNo}_674_31-8-2021.webm\n",
      "10001\\video_{ParticipantNo}_676_7-8-2021.webm\n"
     ]
    },
    {
     "name": "stderr",
     "output_type": "stream",
     "text": [
      " 48%|██████████████████████████████████████                                          | 270/568 [00:34<00:32,  9.19it/s]"
     ]
    },
    {
     "name": "stdout",
     "output_type": "stream",
     "text": [
      "10001\\video_{ParticipantNo}_679_30-9-2021.webm\n",
      "10002\\video_{ParticipantNo}_1000000_15-3-2021.webm\n"
     ]
    },
    {
     "name": "stderr",
     "output_type": "stream",
     "text": [
      " 48%|██████████████████████████████████████▎                                         | 272/568 [00:34<00:32,  8.97it/s]"
     ]
    },
    {
     "name": "stdout",
     "output_type": "stream",
     "text": [
      "10002\\video_{ParticipantNo}_106_31-8-2020.webm\n",
      "10002\\video_{ParticipantNo}_119_23-9-2020.webm\n"
     ]
    },
    {
     "name": "stderr",
     "output_type": "stream",
     "text": [
      " 48%|██████████████████████████████████████▌                                         | 274/568 [00:34<00:37,  7.87it/s]"
     ]
    },
    {
     "name": "stdout",
     "output_type": "stream",
     "text": [
      "10002\\video_{ParticipantNo}_123_7-9-2020.webm\n",
      "10002\\video_{ParticipantNo}_124_11-9-2020.webm\n"
     ]
    },
    {
     "name": "stderr",
     "output_type": "stream",
     "text": [
      " 49%|██████████████████████████████████████▊                                         | 276/568 [00:35<00:37,  7.69it/s]"
     ]
    },
    {
     "name": "stdout",
     "output_type": "stream",
     "text": [
      "10002\\video_{ParticipantNo}_125_20-9-2020.webm\n",
      "10002\\video_{ParticipantNo}_126_13-10-2020.webm\n"
     ]
    },
    {
     "name": "stderr",
     "output_type": "stream",
     "text": [
      " 49%|███████████████████████████████████████▏                                        | 278/568 [00:35<00:39,  7.28it/s]"
     ]
    },
    {
     "name": "stdout",
     "output_type": "stream",
     "text": [
      "10002\\video_{ParticipantNo}_127_4-10-2020.webm\n",
      "10002\\video_{ParticipantNo}_129_9-10-2020.webm\n"
     ]
    },
    {
     "name": "stderr",
     "output_type": "stream",
     "text": [
      " 49%|███████████████████████████████████████▍                                        | 280/568 [00:35<00:38,  7.40it/s]"
     ]
    },
    {
     "name": "stdout",
     "output_type": "stream",
     "text": [
      "10002\\video_{ParticipantNo}_131_2-11-2020.webm\n",
      "10002\\video_{ParticipantNo}_134_16-10-2020.webm\n"
     ]
    },
    {
     "name": "stderr",
     "output_type": "stream",
     "text": [
      " 50%|███████████████████████████████████████▋                                        | 282/568 [00:35<00:37,  7.64it/s]"
     ]
    },
    {
     "name": "stdout",
     "output_type": "stream",
     "text": [
      "10002\\video_{ParticipantNo}_135_5-10-2020.webm\n",
      "10002\\video_{ParticipantNo}_140_31-10-2020.webm\n"
     ]
    },
    {
     "name": "stderr",
     "output_type": "stream",
     "text": [
      " 50%|████████████████████████████████████████                                        | 284/568 [00:36<00:35,  7.89it/s]"
     ]
    },
    {
     "name": "stdout",
     "output_type": "stream",
     "text": [
      "10002\\video_{ParticipantNo}_144_15-11-2020.webm\n",
      "10002\\video_{ParticipantNo}_145_15-11-2020.webm\n"
     ]
    },
    {
     "name": "stderr",
     "output_type": "stream",
     "text": [
      " 50%|████████████████████████████████████████▎                                       | 286/568 [00:36<00:38,  7.23it/s]"
     ]
    },
    {
     "name": "stdout",
     "output_type": "stream",
     "text": [
      "10002\\video_{ParticipantNo}_147_9-11-2020.webm\n",
      "10002\\video_{ParticipantNo}_148_17-11-2020.webm\n"
     ]
    },
    {
     "name": "stderr",
     "output_type": "stream",
     "text": [
      " 51%|████████████████████████████████████████▋                                       | 289/568 [00:36<00:33,  8.30it/s]"
     ]
    },
    {
     "name": "stdout",
     "output_type": "stream",
     "text": [
      "10002\\video_{ParticipantNo}_14_27-8-2020.webm\n",
      "10002\\video_{ParticipantNo}_154_13-11-2020.webm\n"
     ]
    },
    {
     "name": "stderr",
     "output_type": "stream",
     "text": [
      " 51%|████████████████████████████████████████▊                                       | 290/568 [00:36<00:33,  8.26it/s]"
     ]
    },
    {
     "name": "stdout",
     "output_type": "stream",
     "text": [
      "10002\\video_{ParticipantNo}_155_12-11-2020.webm\n",
      "10002\\video_{ParticipantNo}_156_31-10-2020.webm\n"
     ]
    },
    {
     "name": "stderr",
     "output_type": "stream",
     "text": [
      " 51%|█████████████████████████████████████████▏                                      | 292/568 [00:37<00:37,  7.28it/s]"
     ]
    },
    {
     "name": "stdout",
     "output_type": "stream",
     "text": [
      "10002\\video_{ParticipantNo}_157_17-11-2020.webm\n",
      "10002\\video_{ParticipantNo}_158_15-12-2020.webm\n"
     ]
    },
    {
     "name": "stderr",
     "output_type": "stream",
     "text": [
      " 52%|█████████████████████████████████████████▍                                      | 294/568 [00:37<00:38,  7.11it/s]"
     ]
    },
    {
     "name": "stdout",
     "output_type": "stream",
     "text": [
      "10002\\video_{ParticipantNo}_159_27-11-2020.webm\n",
      "10002\\video_{ParticipantNo}_161_11-11-2020.webm\n"
     ]
    },
    {
     "name": "stderr",
     "output_type": "stream",
     "text": [
      " 52%|█████████████████████████████████████████▋                                      | 296/568 [00:37<00:41,  6.63it/s]"
     ]
    },
    {
     "name": "stdout",
     "output_type": "stream",
     "text": [
      "10002\\video_{ParticipantNo}_163_9-11-2020.webm\n",
      "10002\\video_{ParticipantNo}_165_5-12-2020.webm\n"
     ]
    },
    {
     "name": "stderr",
     "output_type": "stream",
     "text": [
      " 52%|█████████████████████████████████████████▉                                      | 298/568 [00:38<00:38,  7.10it/s]"
     ]
    },
    {
     "name": "stdout",
     "output_type": "stream",
     "text": [
      "10002\\video_{ParticipantNo}_166_9-11-2020.webm\n",
      "10002\\video_{ParticipantNo}_167_15-11-2020.webm\n"
     ]
    },
    {
     "name": "stderr",
     "output_type": "stream",
     "text": [
      " 53%|██████████████████████████████████████████                                      | 299/568 [00:38<00:36,  7.35it/s]"
     ]
    },
    {
     "name": "stdout",
     "output_type": "stream",
     "text": [
      "10002\\video_{ParticipantNo}_168_18-11-2020.webm\n"
     ]
    },
    {
     "name": "stderr",
     "output_type": "stream",
     "text": [
      " 53%|██████████████████████████████████████████▍                                     | 301/568 [00:38<00:45,  5.84it/s]"
     ]
    },
    {
     "name": "stdout",
     "output_type": "stream",
     "text": [
      "10002\\video_{ParticipantNo}_169_10-12-2020.webm\n",
      "10002\\video_{ParticipantNo}_170_9-11-2020.webm\n"
     ]
    },
    {
     "name": "stderr",
     "output_type": "stream",
     "text": [
      " 53%|██████████████████████████████████████████▋                                     | 303/568 [00:38<00:41,  6.41it/s]"
     ]
    },
    {
     "name": "stdout",
     "output_type": "stream",
     "text": [
      "10002\\video_{ParticipantNo}_171_9-11-2020.webm\n",
      "10002\\video_{ParticipantNo}_172_19-11-2020.webm\n"
     ]
    },
    {
     "name": "stderr",
     "output_type": "stream",
     "text": [
      " 54%|██████████████████████████████████████████▉                                     | 305/568 [00:39<00:36,  7.23it/s]"
     ]
    },
    {
     "name": "stdout",
     "output_type": "stream",
     "text": [
      "10002\\video_{ParticipantNo}_173_18-11-2020.webm\n",
      "10002\\video_{ParticipantNo}_176_26-11-2020.webm\n"
     ]
    },
    {
     "name": "stderr",
     "output_type": "stream",
     "text": [
      " 54%|███████████████████████████████████████████▏                                    | 307/568 [00:39<00:35,  7.28it/s]"
     ]
    },
    {
     "name": "stdout",
     "output_type": "stream",
     "text": [
      "10002\\video_{ParticipantNo}_177_12-11-2020.webm\n",
      "10002\\video_{ParticipantNo}_178_3-11-2020.webm\n"
     ]
    },
    {
     "name": "stderr",
     "output_type": "stream",
     "text": [
      " 54%|███████████████████████████████████████████▌                                    | 309/568 [00:39<00:33,  7.62it/s]"
     ]
    },
    {
     "name": "stdout",
     "output_type": "stream",
     "text": [
      "10002\\video_{ParticipantNo}_180_4-11-2020.webm\n",
      "10002\\video_{ParticipantNo}_181_22-11-2020.webm\n"
     ]
    },
    {
     "name": "stderr",
     "output_type": "stream",
     "text": [
      " 55%|███████████████████████████████████████████▊                                    | 311/568 [00:39<00:36,  7.03it/s]"
     ]
    },
    {
     "name": "stdout",
     "output_type": "stream",
     "text": [
      "10002\\video_{ParticipantNo}_182_21-11-2020.webm\n",
      "10002\\video_{ParticipantNo}_185_4-12-2020.webm\n"
     ]
    },
    {
     "name": "stderr",
     "output_type": "stream",
     "text": [
      " 55%|████████████████████████████████████████████                                    | 313/568 [00:40<00:33,  7.53it/s]"
     ]
    },
    {
     "name": "stdout",
     "output_type": "stream",
     "text": [
      "10002\\video_{ParticipantNo}_187_14-11-2020.webm\n",
      "10002\\video_{ParticipantNo}_189_8-12-2020.webm\n"
     ]
    },
    {
     "name": "stderr",
     "output_type": "stream",
     "text": [
      " 55%|████████████████████████████████████████████▎                                   | 315/568 [00:40<00:33,  7.52it/s]"
     ]
    },
    {
     "name": "stdout",
     "output_type": "stream",
     "text": [
      "10002\\video_{ParticipantNo}_193_3-11-2020.webm\n",
      "10002\\video_{ParticipantNo}_194_19-11-2020.webm\n"
     ]
    },
    {
     "name": "stderr",
     "output_type": "stream",
     "text": [
      " 56%|████████████████████████████████████████████▋                                   | 317/568 [00:40<00:34,  7.19it/s]"
     ]
    },
    {
     "name": "stdout",
     "output_type": "stream",
     "text": [
      "10002\\video_{ParticipantNo}_195_4-12-2020.webm\n",
      "10002\\video_{ParticipantNo}_197_13-12-2020.webm\n"
     ]
    },
    {
     "name": "stderr",
     "output_type": "stream",
     "text": [
      " 56%|████████████████████████████████████████████▉                                   | 319/568 [00:40<00:35,  7.09it/s]"
     ]
    },
    {
     "name": "stdout",
     "output_type": "stream",
     "text": [
      "10002\\video_{ParticipantNo}_198_24-11-2020.webm\n",
      "10002\\video_{ParticipantNo}_199_18-11-2020.webm\n"
     ]
    },
    {
     "name": "stderr",
     "output_type": "stream",
     "text": [
      " 56%|█████████████████████████████████████████████                                   | 320/568 [00:41<00:36,  6.87it/s]"
     ]
    },
    {
     "name": "stdout",
     "output_type": "stream",
     "text": [
      "10002\\video_{ParticipantNo}_200_11-11-2020.webm\n",
      "10002\\video_{ParticipantNo}_201_30-11-2020.webm\n"
     ]
    },
    {
     "name": "stderr",
     "output_type": "stream",
     "text": [
      " 57%|█████████████████████████████████████████████▎                                  | 322/568 [00:41<00:36,  6.75it/s]"
     ]
    },
    {
     "name": "stdout",
     "output_type": "stream",
     "text": [
      "10002\\video_{ParticipantNo}_206_2-11-2020.webm\n"
     ]
    },
    {
     "name": "stderr",
     "output_type": "stream",
     "text": [
      " 57%|█████████████████████████████████████████████▊                                  | 325/568 [00:41<00:40,  5.94it/s]"
     ]
    },
    {
     "name": "stdout",
     "output_type": "stream",
     "text": [
      "10002\\video_{ParticipantNo}_207_22-11-2020.webm\n",
      "10002\\video_{ParticipantNo}_211_17-11-2020.webm\n"
     ]
    },
    {
     "name": "stderr",
     "output_type": "stream",
     "text": [
      " 57%|█████████████████████████████████████████████▉                                  | 326/568 [00:42<00:40,  6.03it/s]"
     ]
    },
    {
     "name": "stdout",
     "output_type": "stream",
     "text": [
      "10002\\video_{ParticipantNo}_214_11-12-2020.webm\n",
      "10002\\video_{ParticipantNo}_215_22-11-2020.webm\n"
     ]
    },
    {
     "name": "stderr",
     "output_type": "stream",
     "text": [
      " 58%|██████████████████████████████████████████████▏                                 | 328/568 [00:42<00:36,  6.60it/s]"
     ]
    },
    {
     "name": "stdout",
     "output_type": "stream",
     "text": [
      "10002\\video_{ParticipantNo}_216_9-12-2020.webm\n",
      "10002\\video_{ParticipantNo}_221_24-11-2020.webm\n"
     ]
    },
    {
     "name": "stderr",
     "output_type": "stream",
     "text": [
      " 58%|██████████████████████████████████████████████▍                                 | 330/568 [00:42<00:33,  7.18it/s]"
     ]
    },
    {
     "name": "stdout",
     "output_type": "stream",
     "text": [
      "10002\\video_{ParticipantNo}_222_5-11-2020.webm\n",
      "10002\\video_{ParticipantNo}_223_1-12-2020.webm\n"
     ]
    },
    {
     "name": "stderr",
     "output_type": "stream",
     "text": [
      " 59%|██████████████████████████████████████████████▉                                 | 333/568 [00:42<00:28,  8.38it/s]"
     ]
    },
    {
     "name": "stdout",
     "output_type": "stream",
     "text": [
      "10002\\video_{ParticipantNo}_224_5-11-2020.webm\n",
      "10002\\video_{ParticipantNo}_225_27-11-2020.webm\n",
      "10002\\video_{ParticipantNo}_226_5-11-2020.webm\n",
      "10002\\video_{ParticipantNo}_227_10-12-2020.webm\n"
     ]
    },
    {
     "name": "stderr",
     "output_type": "stream",
     "text": [
      " 59%|███████████████████████████████████████████████▎                                | 336/568 [00:43<00:28,  8.18it/s]"
     ]
    },
    {
     "name": "stdout",
     "output_type": "stream",
     "text": [
      "10002\\video_{ParticipantNo}_230_7-11-2020.webm\n",
      "10002\\video_{ParticipantNo}_231_18-11-2020.webm\n"
     ]
    },
    {
     "name": "stderr",
     "output_type": "stream",
     "text": [
      " 59%|███████████████████████████████████████████████▍                                | 337/568 [00:43<00:30,  7.59it/s]"
     ]
    },
    {
     "name": "stdout",
     "output_type": "stream",
     "text": [
      "10002\\video_{ParticipantNo}_233_4-11-2020.webm\n",
      "10002\\video_{ParticipantNo}_239_2-12-2020.webm\n"
     ]
    },
    {
     "name": "stderr",
     "output_type": "stream",
     "text": [
      " 60%|███████████████████████████████████████████████▉                                | 340/568 [00:43<00:29,  7.73it/s]"
     ]
    },
    {
     "name": "stdout",
     "output_type": "stream",
     "text": [
      "10002\\video_{ParticipantNo}_241_11-12-2020.webm\n",
      "10002\\video_{ParticipantNo}_242_19-11-2020.webm\n"
     ]
    },
    {
     "name": "stderr",
     "output_type": "stream",
     "text": [
      " 60%|████████████████████████████████████████████████▏                               | 342/568 [00:44<00:32,  6.91it/s]"
     ]
    },
    {
     "name": "stdout",
     "output_type": "stream",
     "text": [
      "10002\\video_{ParticipantNo}_243_18-11-2020.webm\n",
      "10002\\video_{ParticipantNo}_246_14-11-2020.webm\n"
     ]
    },
    {
     "name": "stderr",
     "output_type": "stream",
     "text": [
      " 61%|████████████████████████████████████████████████▍                               | 344/568 [00:44<00:29,  7.62it/s]"
     ]
    },
    {
     "name": "stdout",
     "output_type": "stream",
     "text": [
      "10002\\video_{ParticipantNo}_247_18-11-2020.webm\n",
      "10002\\video_{ParticipantNo}_248_9-12-2020.webm\n"
     ]
    },
    {
     "name": "stderr",
     "output_type": "stream",
     "text": [
      " 61%|████████████████████████████████████████████████▋                               | 346/568 [00:44<00:28,  7.91it/s]"
     ]
    },
    {
     "name": "stdout",
     "output_type": "stream",
     "text": [
      "10002\\video_{ParticipantNo}_250_16-12-2020.webm\n",
      "10002\\video_{ParticipantNo}_251_4-12-2020.webm\n"
     ]
    },
    {
     "name": "stderr",
     "output_type": "stream",
     "text": [
      " 61%|█████████████████████████████████████████████████                               | 348/568 [00:44<00:31,  6.94it/s]"
     ]
    },
    {
     "name": "stdout",
     "output_type": "stream",
     "text": [
      "10002\\video_{ParticipantNo}_252_27-11-2020.webm\n",
      "10002\\video_{ParticipantNo}_253_2-12-2020.webm\n"
     ]
    },
    {
     "name": "stderr",
     "output_type": "stream",
     "text": [
      " 62%|█████████████████████████████████████████████████▎                              | 350/568 [00:45<00:30,  7.19it/s]"
     ]
    },
    {
     "name": "stdout",
     "output_type": "stream",
     "text": [
      "10002\\video_{ParticipantNo}_254_25-11-2020.webm\n",
      "10002\\video_{ParticipantNo}_255_20-11-2020.webm\n"
     ]
    },
    {
     "name": "stderr",
     "output_type": "stream",
     "text": [
      " 62%|█████████████████████████████████████████████████▍                              | 351/568 [00:45<00:30,  7.22it/s]"
     ]
    },
    {
     "name": "stdout",
     "output_type": "stream",
     "text": [
      "10002\\video_{ParticipantNo}_255_6-11-2020.webm\n"
     ]
    },
    {
     "name": "stderr",
     "output_type": "stream",
     "text": [
      " 62%|█████████████████████████████████████████████████▊                              | 354/568 [00:45<00:32,  6.61it/s]"
     ]
    },
    {
     "name": "stdout",
     "output_type": "stream",
     "text": [
      "10002\\video_{ParticipantNo}_256_26-11-2020.webm\n",
      "10002\\video_{ParticipantNo}_258_29-11-2020.webm\n",
      "10002\\video_{ParticipantNo}_260_6-11-2020.webm\n"
     ]
    },
    {
     "name": "stderr",
     "output_type": "stream",
     "text": [
      " 63%|██████████████████████████████████████████████████▏                             | 356/568 [00:46<00:29,  7.08it/s]"
     ]
    },
    {
     "name": "stdout",
     "output_type": "stream",
     "text": [
      "10002\\video_{ParticipantNo}_261_7-1-2021.webm\n",
      "10002\\video_{ParticipantNo}_263_19-11-2020.webm\n"
     ]
    },
    {
     "name": "stderr",
     "output_type": "stream",
     "text": [
      " 63%|██████████████████████████████████████████████████▍                             | 358/568 [00:46<00:27,  7.61it/s]"
     ]
    },
    {
     "name": "stdout",
     "output_type": "stream",
     "text": [
      "10002\\video_{ParticipantNo}_265_8-11-2020.webm\n",
      "10002\\video_{ParticipantNo}_266_7-12-2020.webm\n"
     ]
    },
    {
     "name": "stderr",
     "output_type": "stream",
     "text": [
      " 63%|██████████████████████████████████████████████████▋                             | 360/568 [00:46<00:26,  7.75it/s]"
     ]
    },
    {
     "name": "stdout",
     "output_type": "stream",
     "text": [
      "10002\\video_{ParticipantNo}_269_9-11-2020.webm\n",
      "10002\\video_{ParticipantNo}_271_19-11-2020.webm\n"
     ]
    },
    {
     "name": "stderr",
     "output_type": "stream",
     "text": [
      " 64%|██████████████████████████████████████████████████▉                             | 362/568 [00:46<00:25,  7.98it/s]"
     ]
    },
    {
     "name": "stdout",
     "output_type": "stream",
     "text": [
      "10002\\video_{ParticipantNo}_273_9-11-2020.webm\n",
      "10002\\video_{ParticipantNo}_274_15-12-2020.webm\n"
     ]
    },
    {
     "name": "stderr",
     "output_type": "stream",
     "text": [
      " 64%|███████████████████████████████████████████████████▎                            | 364/568 [00:47<00:26,  7.73it/s]"
     ]
    },
    {
     "name": "stdout",
     "output_type": "stream",
     "text": [
      "10002\\video_{ParticipantNo}_275_4-11-2020.webm\n",
      "10002\\video_{ParticipantNo}_277_6-11-2020.webm\n"
     ]
    },
    {
     "name": "stderr",
     "output_type": "stream",
     "text": [
      " 64%|███████████████████████████████████████████████████▌                            | 366/568 [00:47<00:25,  7.82it/s]"
     ]
    },
    {
     "name": "stdout",
     "output_type": "stream",
     "text": [
      "10002\\video_{ParticipantNo}_279_18-11-2020.webm\n",
      "10002\\video_{ParticipantNo}_280_30-11-2020.webm\n"
     ]
    },
    {
     "name": "stderr",
     "output_type": "stream",
     "text": [
      " 65%|███████████████████████████████████████████████████▊                            | 368/568 [00:47<00:27,  7.24it/s]"
     ]
    },
    {
     "name": "stdout",
     "output_type": "stream",
     "text": [
      "10002\\video_{ParticipantNo}_282_2-2-2021.webm\n",
      "10002\\video_{ParticipantNo}_283_11-12-2020.webm\n"
     ]
    },
    {
     "name": "stderr",
     "output_type": "stream",
     "text": [
      " 65%|████████████████████████████████████████████████████                            | 370/568 [00:47<00:24,  8.24it/s]"
     ]
    },
    {
     "name": "stdout",
     "output_type": "stream",
     "text": [
      "10002\\video_{ParticipantNo}_286_9-11-2020.webm\n",
      "10002\\video_{ParticipantNo}_290_15-12-2020.webm\n"
     ]
    },
    {
     "name": "stderr",
     "output_type": "stream",
     "text": [
      " 65%|████████████████████████████████████████████████████▎                           | 371/568 [00:47<00:24,  8.04it/s]"
     ]
    },
    {
     "name": "stdout",
     "output_type": "stream",
     "text": [
      "10002\\video_{ParticipantNo}_293_22-11-2020.webm\n",
      "10002\\video_{ParticipantNo}_294_24-11-2020.webm\n"
     ]
    },
    {
     "name": "stderr",
     "output_type": "stream",
     "text": [
      " 66%|████████████████████████████████████████████████████▋                           | 374/568 [00:48<00:27,  7.09it/s]"
     ]
    },
    {
     "name": "stdout",
     "output_type": "stream",
     "text": [
      "10002\\video_{ParticipantNo}_295_22-11-2020.webm\n",
      "10002\\video_{ParticipantNo}_296_25-11-2020.webm\n"
     ]
    },
    {
     "name": "stderr",
     "output_type": "stream",
     "text": [
      " 66%|████████████████████████████████████████████████████▊                           | 375/568 [00:48<00:26,  7.30it/s]"
     ]
    },
    {
     "name": "stdout",
     "output_type": "stream",
     "text": [
      "10002\\video_{ParticipantNo}_297_7-11-2020.webm\n",
      "10002\\video_{ParticipantNo}_299_4-11-2020.webm\n"
     ]
    },
    {
     "name": "stderr",
     "output_type": "stream",
     "text": [
      " 67%|█████████████████████████████████████████████████████▍                          | 379/568 [00:48<00:22,  8.32it/s]"
     ]
    },
    {
     "name": "stdout",
     "output_type": "stream",
     "text": [
      "10002\\video_{ParticipantNo}_300_28-11-2020.webm\n",
      "10002\\video_{ParticipantNo}_302_16-11-2020.webm\n"
     ]
    },
    {
     "name": "stderr",
     "output_type": "stream",
     "text": [
      " 67%|█████████████████████████████████████████████████████▌                          | 380/568 [00:49<00:24,  7.65it/s]"
     ]
    },
    {
     "name": "stdout",
     "output_type": "stream",
     "text": [
      "10002\\video_{ParticipantNo}_303_1-12-2020.webm\n",
      "10002\\video_{ParticipantNo}_304_30-11-2020.webm\n"
     ]
    },
    {
     "name": "stderr",
     "output_type": "stream",
     "text": [
      " 67%|█████████████████████████████████████████████████████▊                          | 382/568 [00:49<00:26,  7.02it/s]"
     ]
    },
    {
     "name": "stdout",
     "output_type": "stream",
     "text": [
      "10002\\video_{ParticipantNo}_308_24-11-2020.webm\n",
      "10002\\video_{ParticipantNo}_316_9-12-2020.webm\n"
     ]
    },
    {
     "name": "stderr",
     "output_type": "stream",
     "text": [
      " 68%|██████████████████████████████████████████████████████                          | 384/568 [00:49<00:21,  8.67it/s]"
     ]
    },
    {
     "name": "stdout",
     "output_type": "stream",
     "text": [
      "10002\\video_{ParticipantNo}_318_14-11-2020.webm\n",
      "10002\\video_{ParticipantNo}_319_9-12-2020.webm\n"
     ]
    },
    {
     "name": "stderr",
     "output_type": "stream",
     "text": [
      " 68%|██████████████████████████████████████████████████████▎                         | 386/568 [00:49<00:20,  8.77it/s]"
     ]
    },
    {
     "name": "stdout",
     "output_type": "stream",
     "text": [
      "10002\\video_{ParticipantNo}_323_4-11-2020.webm\n",
      "10002\\video_{ParticipantNo}_326_2-12-2020.webm\n"
     ]
    },
    {
     "name": "stderr",
     "output_type": "stream",
     "text": [
      " 69%|██████████████████████████████████████████████████████▉                         | 390/568 [00:50<00:19,  8.93it/s]"
     ]
    },
    {
     "name": "stdout",
     "output_type": "stream",
     "text": [
      "10002\\video_{ParticipantNo}_327_17-11-2020.webm\n",
      "10002\\video_{ParticipantNo}_329_23-11-2020.webm\n"
     ]
    },
    {
     "name": "stderr",
     "output_type": "stream",
     "text": [
      " 69%|███████████████████████████████████████████████████████                         | 391/568 [00:50<00:20,  8.46it/s]"
     ]
    },
    {
     "name": "stdout",
     "output_type": "stream",
     "text": [
      "10002\\video_{ParticipantNo}_330_9-12-2020.webm\n",
      "10002\\video_{ParticipantNo}_331_18-11-2020.webm\n"
     ]
    },
    {
     "name": "stderr",
     "output_type": "stream",
     "text": [
      " 69%|███████████████████████████████████████████████████████▎                        | 393/568 [00:50<00:25,  6.86it/s]"
     ]
    },
    {
     "name": "stdout",
     "output_type": "stream",
     "text": [
      "10002\\video_{ParticipantNo}_333_12-12-2020.webm\n",
      "10002\\video_{ParticipantNo}_338_16-1-2021.webm\n"
     ]
    },
    {
     "name": "stderr",
     "output_type": "stream",
     "text": [
      " 70%|███████████████████████████████████████████████████████▋                        | 395/568 [00:50<00:22,  7.54it/s]"
     ]
    },
    {
     "name": "stdout",
     "output_type": "stream",
     "text": [
      "10002\\video_{ParticipantNo}_339_18-11-2020.webm\n",
      "10002\\video_{ParticipantNo}_340_30-11-2020.webm\n"
     ]
    },
    {
     "name": "stderr",
     "output_type": "stream",
     "text": [
      " 70%|████████████████████████████████████████████████████████▏                       | 399/568 [00:51<00:16,  9.94it/s]"
     ]
    },
    {
     "name": "stdout",
     "output_type": "stream",
     "text": [
      "10002\\video_{ParticipantNo}_341_26-11-2020.webm\n",
      "10002\\video_{ParticipantNo}_343_2-12-2020.webm\n",
      "10002\\video_{ParticipantNo}_344_11-12-2020.webm\n",
      "10002\\video_{ParticipantNo}_346_10-1-2021.webm\n"
     ]
    },
    {
     "name": "stderr",
     "output_type": "stream",
     "text": [
      " 71%|████████████████████████████████████████████████████████▍                       | 401/568 [00:51<00:19,  8.78it/s]"
     ]
    },
    {
     "name": "stdout",
     "output_type": "stream",
     "text": [
      "10002\\video_{ParticipantNo}_347_15-1-2021.webm\n",
      "10002\\video_{ParticipantNo}_348_15-12-2020.webm\n"
     ]
    },
    {
     "name": "stderr",
     "output_type": "stream",
     "text": [
      " 71%|████████████████████████████████████████████████████████▊                       | 403/568 [00:51<00:18,  8.97it/s]"
     ]
    },
    {
     "name": "stdout",
     "output_type": "stream",
     "text": [
      "10002\\video_{ParticipantNo}_349_23-2-2021.webm\n",
      "10002\\video_{ParticipantNo}_350_7-1-2021.webm\n"
     ]
    },
    {
     "name": "stderr",
     "output_type": "stream",
     "text": [
      " 71%|█████████████████████████████████████████████████████████▏                      | 406/568 [00:52<00:19,  8.48it/s]"
     ]
    },
    {
     "name": "stdout",
     "output_type": "stream",
     "text": [
      "10002\\video_{ParticipantNo}_360_12-1-2021.webm\n",
      "10002\\video_{ParticipantNo}_363_6-1-2021.webm\n"
     ]
    },
    {
     "name": "stderr",
     "output_type": "stream",
     "text": [
      " 72%|█████████████████████████████████████████████████████████▍                      | 408/568 [00:52<00:17,  8.95it/s]"
     ]
    },
    {
     "name": "stdout",
     "output_type": "stream",
     "text": [
      "10002\\video_{ParticipantNo}_376_5-2-2021.webm\n",
      "10002\\video_{ParticipantNo}_380_19-1-2021.webm\n"
     ]
    },
    {
     "name": "stderr",
     "output_type": "stream",
     "text": [
      " 73%|██████████████████████████████████████████████████████████                      | 412/568 [00:52<00:16,  9.42it/s]"
     ]
    },
    {
     "name": "stdout",
     "output_type": "stream",
     "text": [
      "10002\\video_{ParticipantNo}_387_3-2-2021.webm\n",
      "10002\\video_{ParticipantNo}_388_30-1-2021.webm\n",
      "10002\\video_{ParticipantNo}_390_20-1-2021.webm\n",
      "10002\\video_{ParticipantNo}_392_31-1-2021.webm\n"
     ]
    },
    {
     "name": "stderr",
     "output_type": "stream",
     "text": [
      " 73%|██████████████████████████████████████████████████████████▍                     | 415/568 [00:53<00:19,  7.91it/s]"
     ]
    },
    {
     "name": "stdout",
     "output_type": "stream",
     "text": [
      "10002\\video_{ParticipantNo}_394_11-2-2021.webm\n",
      "10002\\video_{ParticipantNo}_396_10-1-2021.webm\n"
     ]
    },
    {
     "name": "stderr",
     "output_type": "stream",
     "text": [
      " 73%|██████████████████████████████████████████████████████████▋                     | 417/568 [00:53<00:20,  7.50it/s]"
     ]
    },
    {
     "name": "stdout",
     "output_type": "stream",
     "text": [
      "10002\\video_{ParticipantNo}_398_31-1-2021.webm\n",
      "10002\\video_{ParticipantNo}_399_25-1-2021.webm\n"
     ]
    },
    {
     "name": "stderr",
     "output_type": "stream",
     "text": [
      " 74%|███████████████████████████████████████████████████████████                     | 419/568 [00:53<00:22,  6.63it/s]"
     ]
    },
    {
     "name": "stdout",
     "output_type": "stream",
     "text": [
      "10002\\video_{ParticipantNo}_402_24-1-2021.webm\n",
      "10002\\video_{ParticipantNo}_403_18-1-2021.webm\n"
     ]
    },
    {
     "name": "stderr",
     "output_type": "stream",
     "text": [
      " 74%|███████████████████████████████████████████████████████████▎                    | 421/568 [00:53<00:23,  6.36it/s]"
     ]
    },
    {
     "name": "stdout",
     "output_type": "stream",
     "text": [
      "10002\\video_{ParticipantNo}_405_14-1-2021.webm\n",
      "10002\\video_{ParticipantNo}_405_24-1-2021.webm\n"
     ]
    },
    {
     "name": "stderr",
     "output_type": "stream",
     "text": [
      " 74%|███████████████████████████████████████████████████████████▌                    | 423/568 [00:54<00:23,  6.29it/s]"
     ]
    },
    {
     "name": "stdout",
     "output_type": "stream",
     "text": [
      "10002\\video_{ParticipantNo}_408_18-1-2021.webm\n",
      "10002\\video_{ParticipantNo}_409_13-2-2021.webm\n"
     ]
    },
    {
     "name": "stderr",
     "output_type": "stream",
     "text": [
      " 75%|███████████████████████████████████████████████████████████▊                    | 425/568 [00:54<00:20,  6.93it/s]"
     ]
    },
    {
     "name": "stdout",
     "output_type": "stream",
     "text": [
      "10002\\video_{ParticipantNo}_410_29-1-2021.webm\n",
      "10002\\video_{ParticipantNo}_411_11-2-2021.webm\n"
     ]
    },
    {
     "name": "stderr",
     "output_type": "stream",
     "text": [
      " 75%|████████████████████████████████████████████████████████████▏                   | 427/568 [00:54<00:20,  7.01it/s]"
     ]
    },
    {
     "name": "stdout",
     "output_type": "stream",
     "text": [
      "10002\\video_{ParticipantNo}_413_3-2-2021.webm\n",
      "10002\\video_{ParticipantNo}_414_21-1-2021.webm\n"
     ]
    },
    {
     "name": "stderr",
     "output_type": "stream",
     "text": [
      " 75%|████████████████████████████████████████████████████████████▎                   | 428/568 [00:54<00:19,  7.21it/s]"
     ]
    },
    {
     "name": "stdout",
     "output_type": "stream",
     "text": [
      "10002\\video_{ParticipantNo}_415_16-2-2021.webm\n",
      "10002\\video_{ParticipantNo}_419_11-2-2021.webm\n"
     ]
    },
    {
     "name": "stderr",
     "output_type": "stream",
     "text": [
      " 76%|████████████████████████████████████████████████████████████▋                   | 431/568 [00:55<00:17,  7.98it/s]"
     ]
    },
    {
     "name": "stdout",
     "output_type": "stream",
     "text": [
      "10002\\video_{ParticipantNo}_420_10-2-2021.webm\n",
      "10002\\video_{ParticipantNo}_423_14-2-2021.webm\n"
     ]
    },
    {
     "name": "stderr",
     "output_type": "stream",
     "text": [
      " 76%|████████████████████████████████████████████████████████████▊                   | 432/568 [00:55<00:17,  7.72it/s]"
     ]
    },
    {
     "name": "stdout",
     "output_type": "stream",
     "text": [
      "10002\\video_{ParticipantNo}_428_18-2-2021.webm\n",
      "10002\\video_{ParticipantNo}_431_20-2-2021.webm\n"
     ]
    },
    {
     "name": "stderr",
     "output_type": "stream",
     "text": [
      " 77%|█████████████████████████████████████████████████████████████▎                  | 435/568 [00:55<00:17,  7.76it/s]"
     ]
    },
    {
     "name": "stdout",
     "output_type": "stream",
     "text": [
      "10002\\video_{ParticipantNo}_434_4-4-2021.webm\n",
      "10002\\video_{ParticipantNo}_435_12-3-2021.webm\n"
     ]
    },
    {
     "name": "stderr",
     "output_type": "stream",
     "text": [
      " 77%|█████████████████████████████████████████████████████████████▌                  | 437/568 [00:56<00:17,  7.49it/s]"
     ]
    },
    {
     "name": "stdout",
     "output_type": "stream",
     "text": [
      "10002\\video_{ParticipantNo}_437_22-2-2021.webm\n",
      "10002\\video_{ParticipantNo}_438_15-3-2021.webm\n"
     ]
    },
    {
     "name": "stderr",
     "output_type": "stream",
     "text": [
      " 77%|█████████████████████████████████████████████████████████████▊                  | 439/568 [00:56<00:17,  7.36it/s]"
     ]
    },
    {
     "name": "stdout",
     "output_type": "stream",
     "text": [
      "10002\\video_{ParticipantNo}_441_10-3-2021.webm\n",
      "10002\\video_{ParticipantNo}_444_27-4-2021.webm\n"
     ]
    },
    {
     "name": "stderr",
     "output_type": "stream",
     "text": [
      " 78%|██████████████████████████████████████████████████████████████▎                 | 442/568 [00:56<00:17,  7.41it/s]"
     ]
    },
    {
     "name": "stdout",
     "output_type": "stream",
     "text": [
      "10002\\video_{ParticipantNo}_445_26-2-2021.webm\n",
      "10002\\video_{ParticipantNo}_446_15-3-2021.webm\n"
     ]
    },
    {
     "name": "stderr",
     "output_type": "stream",
     "text": [
      " 78%|██████████████████████████████████████████████████████████████▍                 | 443/568 [00:56<00:16,  7.49it/s]"
     ]
    },
    {
     "name": "stdout",
     "output_type": "stream",
     "text": [
      "10002\\video_{ParticipantNo}_450_30-3-2021.webm\n",
      "10002\\video_{ParticipantNo}_454_1-4-2021.webm\n"
     ]
    },
    {
     "name": "stderr",
     "output_type": "stream",
     "text": [
      " 78%|██████████████████████████████████████████████████████████████▋                 | 445/568 [00:57<00:18,  6.68it/s]"
     ]
    },
    {
     "name": "stdout",
     "output_type": "stream",
     "text": [
      "10002\\video_{ParticipantNo}_456_26-3-2021.webm\n"
     ]
    },
    {
     "name": "stderr",
     "output_type": "stream",
     "text": [
      " 79%|██████████████████████████████████████████████████████████████▊                 | 446/568 [00:57<00:17,  6.83it/s]"
     ]
    },
    {
     "name": "stdout",
     "output_type": "stream",
     "text": [
      "10002\\video_{ParticipantNo}_457_12-4-2021.webm\n",
      "10002\\video_{ParticipantNo}_458_1-4-2021.webm\n"
     ]
    },
    {
     "name": "stderr",
     "output_type": "stream",
     "text": [
      " 79%|███████████████████████████████████████████████████████████████                 | 448/568 [00:57<00:17,  6.85it/s]"
     ]
    },
    {
     "name": "stdout",
     "output_type": "stream",
     "text": [
      "10002\\video_{ParticipantNo}_462_29-3-2021.webm\n",
      "10002\\video_{ParticipantNo}_465_13-3-2021.webm\n"
     ]
    },
    {
     "name": "stderr",
     "output_type": "stream",
     "text": [
      " 79%|███████████████████████████████████████████████████████████████▍                | 450/568 [00:57<00:15,  7.42it/s]"
     ]
    },
    {
     "name": "stdout",
     "output_type": "stream",
     "text": [
      "10002\\video_{ParticipantNo}_466_27-3-2021.webm\n",
      "10002\\video_{ParticipantNo}_467_27-3-2021.webm\n"
     ]
    },
    {
     "name": "stderr",
     "output_type": "stream",
     "text": [
      " 80%|███████████████████████████████████████████████████████████████▋                | 452/568 [00:58<00:14,  7.97it/s]"
     ]
    },
    {
     "name": "stdout",
     "output_type": "stream",
     "text": [
      "10002\\video_{ParticipantNo}_468_2-4-2021.webm\n",
      "10002\\video_{ParticipantNo}_477_10-4-2021.webm\n"
     ]
    },
    {
     "name": "stderr",
     "output_type": "stream",
     "text": [
      " 80%|███████████████████████████████████████████████████████████████▉                | 454/568 [00:58<00:13,  8.18it/s]"
     ]
    },
    {
     "name": "stdout",
     "output_type": "stream",
     "text": [
      "10002\\video_{ParticipantNo}_478_30-4-2021.webm\n",
      "10002\\video_{ParticipantNo}_479_31-5-2021.webm\n"
     ]
    },
    {
     "name": "stderr",
     "output_type": "stream",
     "text": [
      " 80%|████████████████████████████████████████████████████████████████▏               | 456/568 [00:58<00:14,  7.56it/s]"
     ]
    },
    {
     "name": "stdout",
     "output_type": "stream",
     "text": [
      "10002\\video_{ParticipantNo}_480_18-4-2021.webm\n",
      "10002\\video_{ParticipantNo}_481_12-4-2021.webm\n"
     ]
    },
    {
     "name": "stderr",
     "output_type": "stream",
     "text": [
      " 81%|████████████████████████████████████████████████████████████████▌               | 458/568 [00:58<00:13,  7.88it/s]"
     ]
    },
    {
     "name": "stdout",
     "output_type": "stream",
     "text": [
      "10002\\video_{ParticipantNo}_482_28-4-2021.webm\n",
      "10002\\video_{ParticipantNo}_489_10-5-2021.webm\n"
     ]
    },
    {
     "name": "stderr",
     "output_type": "stream",
     "text": [
      " 81%|████████████████████████████████████████████████████████████████▉               | 461/568 [00:58<00:10,  9.87it/s]"
     ]
    },
    {
     "name": "stdout",
     "output_type": "stream",
     "text": [
      "10002\\video_{ParticipantNo}_490_24-5-2021.webm\n",
      "10002\\video_{ParticipantNo}_491_23-5-2021.webm\n"
     ]
    },
    {
     "name": "stderr",
     "output_type": "stream",
     "text": [
      " 82%|█████████████████████████████████████████████████████████████████▍              | 465/568 [00:59<00:10,  9.83it/s]"
     ]
    },
    {
     "name": "stdout",
     "output_type": "stream",
     "text": [
      "10002\\video_{ParticipantNo}_493_26-4-2021.webm\n",
      "10002\\video_{ParticipantNo}_495_1-5-2021.webm\n",
      "10002\\video_{ParticipantNo}_498_8-5-2021.webm\n"
     ]
    },
    {
     "name": "stderr",
     "output_type": "stream",
     "text": [
      " 82%|█████████████████████████████████████████████████████████████████▊              | 467/568 [00:59<00:11,  8.60it/s]"
     ]
    },
    {
     "name": "stdout",
     "output_type": "stream",
     "text": [
      "10002\\video_{ParticipantNo}_499_9-5-2021.webm\n",
      "10002\\video_{ParticipantNo}_503_30-5-2021.webm\n"
     ]
    },
    {
     "name": "stderr",
     "output_type": "stream",
     "text": [
      " 83%|██████████████████████████████████████████████████████████████████▎             | 471/568 [01:00<00:10,  9.63it/s]"
     ]
    },
    {
     "name": "stdout",
     "output_type": "stream",
     "text": [
      "10002\\video_{ParticipantNo}_504_1-5-2021.webm\n",
      "10002\\video_{ParticipantNo}_505_1-5-2021.webm\n",
      "10002\\video_{ParticipantNo}_508_18-5-2021.webm\n",
      "10002\\video_{ParticipantNo}_510_8-5-2021.webm\n"
     ]
    },
    {
     "name": "stderr",
     "output_type": "stream",
     "text": [
      " 84%|███████████████████████████████████████████████████████████████████             | 476/568 [01:00<00:08, 10.27it/s]"
     ]
    },
    {
     "name": "stdout",
     "output_type": "stream",
     "text": [
      "10002\\video_{ParticipantNo}_511_24-5-2021.webm\n",
      "10002\\video_{ParticipantNo}_515_29-4-2021.webm\n",
      "10002\\video_{ParticipantNo}_516_25-4-2021.webm\n"
     ]
    },
    {
     "name": "stderr",
     "output_type": "stream",
     "text": [
      " 84%|███████████████████████████████████████████████████████████████████▎            | 478/568 [01:00<00:09,  9.80it/s]"
     ]
    },
    {
     "name": "stdout",
     "output_type": "stream",
     "text": [
      "10002\\video_{ParticipantNo}_519_1-6-2021.webm\n",
      "10002\\video_{ParticipantNo}_524_3-5-2021.webm\n"
     ]
    },
    {
     "name": "stderr",
     "output_type": "stream",
     "text": [
      " 85%|███████████████████████████████████████████████████████████████████▋            | 481/568 [01:01<00:10,  8.32it/s]"
     ]
    },
    {
     "name": "stdout",
     "output_type": "stream",
     "text": [
      "10002\\video_{ParticipantNo}_525_19-5-2021.webm\n",
      "10002\\video_{ParticipantNo}_526_3-5-2021.webm\n"
     ]
    },
    {
     "name": "stderr",
     "output_type": "stream",
     "text": [
      " 85%|████████████████████████████████████████████████████████████████████            | 483/568 [01:01<00:10,  7.83it/s]"
     ]
    },
    {
     "name": "stdout",
     "output_type": "stream",
     "text": [
      "10002\\video_{ParticipantNo}_527_28-6-2021.webm\n",
      "10002\\video_{ParticipantNo}_532_19-5-2021.webm\n"
     ]
    },
    {
     "name": "stderr",
     "output_type": "stream",
     "text": [
      " 85%|████████████████████████████████████████████████████████████████████▎           | 485/568 [01:01<00:11,  7.48it/s]"
     ]
    },
    {
     "name": "stdout",
     "output_type": "stream",
     "text": [
      "10002\\video_{ParticipantNo}_533_17-5-2021.webm\n",
      "10002\\video_{ParticipantNo}_537_20-5-2021.webm\n"
     ]
    },
    {
     "name": "stderr",
     "output_type": "stream",
     "text": [
      " 86%|████████████████████████████████████████████████████████████████████▋           | 488/568 [01:01<00:08,  9.04it/s]"
     ]
    },
    {
     "name": "stdout",
     "output_type": "stream",
     "text": [
      "10002\\video_{ParticipantNo}_538_9-5-2021.webm\n",
      "10002\\video_{ParticipantNo}_540_17-5-2021.webm\n"
     ]
    },
    {
     "name": "stderr",
     "output_type": "stream",
     "text": [
      " 86%|█████████████████████████████████████████████████████████████████████▏          | 491/568 [01:02<00:07, 10.30it/s]"
     ]
    },
    {
     "name": "stdout",
     "output_type": "stream",
     "text": [
      "10002\\video_{ParticipantNo}_544_3-6-2021.webm\n",
      "10002\\video_{ParticipantNo}_549_19-7-2021.webm\n"
     ]
    },
    {
     "name": "stderr",
     "output_type": "stream",
     "text": [
      " 87%|█████████████████████████████████████████████████████████████████████▍          | 493/568 [01:02<00:07,  9.63it/s]"
     ]
    },
    {
     "name": "stdout",
     "output_type": "stream",
     "text": [
      "10002\\video_{ParticipantNo}_550_14-7-2021.webm\n",
      "10002\\video_{ParticipantNo}_553_25-6-2021.webm\n"
     ]
    },
    {
     "name": "stderr",
     "output_type": "stream",
     "text": [
      " 87%|█████████████████████████████████████████████████████████████████████▋          | 495/568 [01:02<00:08,  8.60it/s]"
     ]
    },
    {
     "name": "stdout",
     "output_type": "stream",
     "text": [
      "10002\\video_{ParticipantNo}_554_24-5-2021.webm\n",
      "10002\\video_{ParticipantNo}_555_9-5-2021.webm\n"
     ]
    },
    {
     "name": "stderr",
     "output_type": "stream",
     "text": [
      " 88%|██████████████████████████████████████████████████████████████████████          | 497/568 [01:02<00:09,  7.85it/s]"
     ]
    },
    {
     "name": "stdout",
     "output_type": "stream",
     "text": [
      "10002\\video_{ParticipantNo}_557_31-5-2021.webm\n",
      "10002\\video_{ParticipantNo}_559_26-5-2021.webm\n"
     ]
    },
    {
     "name": "stderr",
     "output_type": "stream",
     "text": [
      " 88%|██████████████████████████████████████████████████████████████████████▎         | 499/568 [01:03<00:10,  6.47it/s]"
     ]
    },
    {
     "name": "stdout",
     "output_type": "stream",
     "text": [
      "10002\\video_{ParticipantNo}_560_26-4-2021.webm\n",
      "10002\\video_{ParticipantNo}_561_12-5-2021.webm\n"
     ]
    },
    {
     "name": "stderr",
     "output_type": "stream",
     "text": [
      " 88%|██████████████████████████████████████████████████████████████████████▌         | 501/568 [01:03<00:09,  7.18it/s]"
     ]
    },
    {
     "name": "stdout",
     "output_type": "stream",
     "text": [
      "10002\\video_{ParticipantNo}_562_12-5-2021.webm\n",
      "10002\\video_{ParticipantNo}_563_10-5-2021.webm\n"
     ]
    },
    {
     "name": "stderr",
     "output_type": "stream",
     "text": [
      " 89%|██████████████████████████████████████████████████████████████████████▊         | 503/568 [01:03<00:08,  7.54it/s]"
     ]
    },
    {
     "name": "stdout",
     "output_type": "stream",
     "text": [
      "10002\\video_{ParticipantNo}_564_28-5-2021.webm\n",
      "10002\\video_{ParticipantNo}_567_25-4-2021.webm\n"
     ]
    },
    {
     "name": "stderr",
     "output_type": "stream",
     "text": [
      " 89%|███████████████████████████████████████████████████████████████████████▏        | 505/568 [01:04<00:08,  7.11it/s]"
     ]
    },
    {
     "name": "stdout",
     "output_type": "stream",
     "text": [
      "10002\\video_{ParticipantNo}_574_17-5-2021.webm\n",
      "10002\\video_{ParticipantNo}_576_16-5-2021.webm\n"
     ]
    },
    {
     "name": "stderr",
     "output_type": "stream",
     "text": [
      " 89%|███████████████████████████████████████████████████████████████████████▍        | 507/568 [01:04<00:09,  6.75it/s]"
     ]
    },
    {
     "name": "stdout",
     "output_type": "stream",
     "text": [
      "10002\\video_{ParticipantNo}_579_16-5-2021.webm\n",
      "10002\\video_{ParticipantNo}_580_11-5-2021.webm\n"
     ]
    },
    {
     "name": "stderr",
     "output_type": "stream",
     "text": [
      " 90%|███████████████████████████████████████████████████████████████████████▉        | 511/568 [01:04<00:06,  8.65it/s]"
     ]
    },
    {
     "name": "stdout",
     "output_type": "stream",
     "text": [
      "10002\\video_{ParticipantNo}_586_21-5-2021.webm\n",
      "10002\\video_{ParticipantNo}_587_4-5-2021.webm\n"
     ]
    },
    {
     "name": "stderr",
     "output_type": "stream",
     "text": [
      " 90%|████████████████████████████████████████████████████████████████████████▎       | 513/568 [01:04<00:06,  8.47it/s]"
     ]
    },
    {
     "name": "stdout",
     "output_type": "stream",
     "text": [
      "10002\\video_{ParticipantNo}_588_5-5-2021.webm\n",
      "10002\\video_{ParticipantNo}_589_8-5-2021.webm\n"
     ]
    },
    {
     "name": "stderr",
     "output_type": "stream",
     "text": [
      " 91%|████████████████████████████████████████████████████████████████████████▌       | 515/568 [01:05<00:06,  8.55it/s]"
     ]
    },
    {
     "name": "stdout",
     "output_type": "stream",
     "text": [
      "10002\\video_{ParticipantNo}_590_30-4-2021.webm\n",
      "10002\\video_{ParticipantNo}_594_18-5-2021.webm\n"
     ]
    },
    {
     "name": "stderr",
     "output_type": "stream",
     "text": [
      " 91%|████████████████████████████████████████████████████████████████████████▊       | 517/568 [01:05<00:05,  8.57it/s]"
     ]
    },
    {
     "name": "stdout",
     "output_type": "stream",
     "text": [
      "10002\\video_{ParticipantNo}_596_17-5-2021.webm\n",
      "10002\\video_{ParticipantNo}_597_13-6-2021.webm\n"
     ]
    },
    {
     "name": "stderr",
     "output_type": "stream",
     "text": [
      " 91%|█████████████████████████████████████████████████████████████████████████       | 519/568 [01:05<00:06,  7.78it/s]"
     ]
    },
    {
     "name": "stdout",
     "output_type": "stream",
     "text": [
      "10002\\video_{ParticipantNo}_599_10-5-2021.webm\n",
      "10002\\video_{ParticipantNo}_601_31-5-2021.webm\n"
     ]
    },
    {
     "name": "stderr",
     "output_type": "stream",
     "text": [
      " 92%|█████████████████████████████████████████████████████████████████████████▏      | 520/568 [01:05<00:06,  7.59it/s]"
     ]
    },
    {
     "name": "stdout",
     "output_type": "stream",
     "text": [
      "10002\\video_{ParticipantNo}_603_13-5-2021.webm\n",
      "10002\\video_{ParticipantNo}_605_1-6-2021.webm\n"
     ]
    },
    {
     "name": "stderr",
     "output_type": "stream",
     "text": [
      " 92%|█████████████████████████████████████████████████████████████████████████▋      | 523/568 [01:06<00:05,  8.27it/s]"
     ]
    },
    {
     "name": "stdout",
     "output_type": "stream",
     "text": [
      "10002\\video_{ParticipantNo}_606_14-5-2021.webm\n",
      "10002\\video_{ParticipantNo}_608_20-5-2021.webm\n"
     ]
    },
    {
     "name": "stderr",
     "output_type": "stream",
     "text": [
      " 92%|█████████████████████████████████████████████████████████████████████████▉      | 525/568 [01:06<00:05,  8.21it/s]"
     ]
    },
    {
     "name": "stdout",
     "output_type": "stream",
     "text": [
      "10002\\video_{ParticipantNo}_609_1-5-2021.webm\n",
      "10002\\video_{ParticipantNo}_610_14-5-2021.webm\n"
     ]
    },
    {
     "name": "stderr",
     "output_type": "stream",
     "text": [
      " 93%|██████████████████████████████████████████████████████████████████████████▏     | 527/568 [01:06<00:05,  7.96it/s]"
     ]
    },
    {
     "name": "stdout",
     "output_type": "stream",
     "text": [
      "10002\\video_{ParticipantNo}_611_27-5-2021.webm\n",
      "10002\\video_{ParticipantNo}_612_16-5-2021.webm\n"
     ]
    },
    {
     "name": "stderr",
     "output_type": "stream",
     "text": [
      " 93%|██████████████████████████████████████████████████████████████████████████▌     | 529/568 [01:06<00:05,  7.44it/s]"
     ]
    },
    {
     "name": "stdout",
     "output_type": "stream",
     "text": [
      "10002\\video_{ParticipantNo}_615_14-6-2021.webm\n",
      "10002\\video_{ParticipantNo}_616_21-5-2021.webm\n"
     ]
    },
    {
     "name": "stderr",
     "output_type": "stream",
     "text": [
      " 93%|██████████████████████████████████████████████████████████████████████████▊     | 531/568 [01:07<00:04,  7.96it/s]"
     ]
    },
    {
     "name": "stdout",
     "output_type": "stream",
     "text": [
      "10002\\video_{ParticipantNo}_617_8-5-2021.webm\n",
      "10002\\video_{ParticipantNo}_618_11-5-2021.webm\n"
     ]
    },
    {
     "name": "stderr",
     "output_type": "stream",
     "text": [
      " 94%|███████████████████████████████████████████████████████████████████████████     | 533/568 [01:07<00:05,  6.71it/s]"
     ]
    },
    {
     "name": "stdout",
     "output_type": "stream",
     "text": [
      "10002\\video_{ParticipantNo}_621_2-6-2021.webm\n"
     ]
    },
    {
     "name": "stderr",
     "output_type": "stream",
     "text": [
      " 94%|███████████████████████████████████████████████████████████████████████████▏    | 534/568 [01:07<00:05,  6.31it/s]"
     ]
    },
    {
     "name": "stdout",
     "output_type": "stream",
     "text": [
      "10002\\video_{ParticipantNo}_622_14-5-2021.webm\n",
      "10002\\video_{ParticipantNo}_626_24-6-2021.webm\n"
     ]
    },
    {
     "name": "stderr",
     "output_type": "stream",
     "text": [
      " 94%|███████████████████████████████████████████████████████████████████████████▍    | 536/568 [01:07<00:04,  6.71it/s]"
     ]
    },
    {
     "name": "stdout",
     "output_type": "stream",
     "text": [
      "10002\\video_{ParticipantNo}_627_30-4-2021.webm\n",
      "10002\\video_{ParticipantNo}_628_13-5-2021.webm\n"
     ]
    },
    {
     "name": "stderr",
     "output_type": "stream",
     "text": [
      " 95%|███████████████████████████████████████████████████████████████████████████▊    | 538/568 [01:08<00:04,  6.66it/s]"
     ]
    },
    {
     "name": "stdout",
     "output_type": "stream",
     "text": [
      "10002\\video_{ParticipantNo}_630_29-5-2021.webm\n",
      "10002\\video_{ParticipantNo}_632_18-5-2021.webm\n"
     ]
    },
    {
     "name": "stderr",
     "output_type": "stream",
     "text": [
      " 95%|████████████████████████████████████████████████████████████████████████████    | 540/568 [01:08<00:03,  7.51it/s]"
     ]
    },
    {
     "name": "stdout",
     "output_type": "stream",
     "text": [
      "10002\\video_{ParticipantNo}_634_18-5-2021.webm\n",
      "10002\\video_{ParticipantNo}_638_1-5-2021.webm\n"
     ]
    },
    {
     "name": "stderr",
     "output_type": "stream",
     "text": [
      " 95%|████████████████████████████████████████████████████████████████████████████▎   | 542/568 [01:08<00:03,  7.35it/s]"
     ]
    },
    {
     "name": "stdout",
     "output_type": "stream",
     "text": [
      "10002\\video_{ParticipantNo}_639_19-5-2021.webm\n",
      "10002\\video_{ParticipantNo}_640_3-6-2021.webm\n"
     ]
    },
    {
     "name": "stderr",
     "output_type": "stream",
     "text": [
      " 96%|████████████████████████████████████████████████████████████████████████████▌   | 544/568 [01:09<00:03,  7.82it/s]"
     ]
    },
    {
     "name": "stdout",
     "output_type": "stream",
     "text": [
      "10002\\video_{ParticipantNo}_642_17-5-2021.webm\n",
      "10002\\video_{ParticipantNo}_650_9-5-2021.webm\n"
     ]
    },
    {
     "name": "stderr",
     "output_type": "stream",
     "text": [
      " 96%|████████████████████████████████████████████████████████████████████████████▉   | 546/568 [01:09<00:02,  9.26it/s]"
     ]
    },
    {
     "name": "stdout",
     "output_type": "stream",
     "text": [
      "10002\\video_{ParticipantNo}_651_8-5-2021.webm\n",
      "10002\\video_{ParticipantNo}_654_12-5-2021.webm\n"
     ]
    },
    {
     "name": "stderr",
     "output_type": "stream",
     "text": [
      " 97%|█████████████████████████████████████████████████████████████████████████████▎  | 549/568 [01:09<00:02,  8.32it/s]"
     ]
    },
    {
     "name": "stdout",
     "output_type": "stream",
     "text": [
      "10002\\video_{ParticipantNo}_657_25-5-2021.webm\n",
      "10002\\video_{ParticipantNo}_659_19-5-2021.webm\n"
     ]
    },
    {
     "name": "stderr",
     "output_type": "stream",
     "text": [
      " 97%|█████████████████████████████████████████████████████████████████████████████▋  | 552/568 [01:09<00:01,  8.74it/s]"
     ]
    },
    {
     "name": "stdout",
     "output_type": "stream",
     "text": [
      "10002\\video_{ParticipantNo}_662_23-6-2021.webm\n",
      "10002\\video_{ParticipantNo}_663_31-5-2021.webm\n"
     ]
    },
    {
     "name": "stderr",
     "output_type": "stream",
     "text": [
      " 98%|██████████████████████████████████████████████████████████████████████████████  | 554/568 [01:10<00:01,  8.46it/s]"
     ]
    },
    {
     "name": "stdout",
     "output_type": "stream",
     "text": [
      "10002\\video_{ParticipantNo}_664_14-7-2021.webm\n",
      "10002\\video_{ParticipantNo}_665_15-7-2021.webm\n"
     ]
    },
    {
     "name": "stderr",
     "output_type": "stream",
     "text": [
      " 98%|██████████████████████████████████████████████████████████████████████████████▎ | 556/568 [01:10<00:01,  8.54it/s]"
     ]
    },
    {
     "name": "stdout",
     "output_type": "stream",
     "text": [
      "10002\\video_{ParticipantNo}_6677_16-9-2020.webm\n",
      "10002\\video_{ParticipantNo}_667_16-7-2021.webm\n"
     ]
    },
    {
     "name": "stderr",
     "output_type": "stream",
     "text": [
      " 98%|██████████████████████████████████████████████████████████████████████████████▌ | 558/568 [01:10<00:01,  8.10it/s]"
     ]
    },
    {
     "name": "stdout",
     "output_type": "stream",
     "text": [
      "10002\\video_{ParticipantNo}_667_2-9-2021.webm\n",
      "10002\\video_{ParticipantNo}_66_28-9-2020.webm\n"
     ]
    },
    {
     "name": "stderr",
     "output_type": "stream",
     "text": [
      " 99%|██████████████████████████████████████████████████████████████████████████████▊ | 560/568 [01:10<00:00,  8.58it/s]"
     ]
    },
    {
     "name": "stdout",
     "output_type": "stream",
     "text": [
      "10002\\video_{ParticipantNo}_671_5-8-2021.webm\n",
      "10002\\video_{ParticipantNo}_672_30-7-2021.webm\n"
     ]
    },
    {
     "name": "stderr",
     "output_type": "stream",
     "text": [
      " 99%|███████████████████████████████████████████████████████████████████████████████▏| 562/568 [01:11<00:00,  7.71it/s]"
     ]
    },
    {
     "name": "stdout",
     "output_type": "stream",
     "text": [
      "10002\\video_{ParticipantNo}_674_16-8-2021.webm\n",
      "10002\\video_{ParticipantNo}_676_22-8-2021.webm\n"
     ]
    },
    {
     "name": "stderr",
     "output_type": "stream",
     "text": [
      " 99%|███████████████████████████████████████████████████████████████████████████████▌| 565/568 [01:11<00:00,  9.27it/s]"
     ]
    },
    {
     "name": "stdout",
     "output_type": "stream",
     "text": [
      "10002\\video_{ParticipantNo}_679_13-9-2021.webm\n",
      "10002\\video_{ParticipantNo}_77887788_11-9-2020.webm\n"
     ]
    },
    {
     "name": "stderr",
     "output_type": "stream",
     "text": [
      "100%|███████████████████████████████████████████████████████████████████████████████▊| 567/568 [01:11<00:00,  8.73it/s]"
     ]
    },
    {
     "name": "stdout",
     "output_type": "stream",
     "text": [
      "10002\\video_{ParticipantNo}_99999_11-9-2020.webm\n",
      "10002\\video_{ParticipantNo}__28-9-2020.webm\n"
     ]
    },
    {
     "name": "stderr",
     "output_type": "stream",
     "text": [
      "100%|████████████████████████████████████████████████████████████████████████████████| 568/568 [01:11<00:00,  7.92it/s]\n"
     ]
    }
   ],
   "source": [
    "ffmpeg_dir = Path('C:\\\\Users\\\\mitch\\\\OneDrive - UGent\\\\UGent\\\\Topics\\\\Facial\\\\ffmpeg-2021-10-18-git-d04c005021-full_build\\\\ffmpeg-2021-10-18-git-d04c005021-full_build\\\\bin')\n",
    "os.chdir(ffmpeg_dir)\n",
    "\n",
    "durations = {}\n",
    "\n",
    "index = 0 # initiate counter\n",
    "for file in tqdm(allVids):\n",
    "    index += 1\n",
    "    \n",
    "    \n",
    "   \n",
    "    inputfile = os.path.join(data_dir, Path(file))\n",
    "    outputfile = os.path.join(data_dir, Path(\"ffmpeg\"), Path(file))\n",
    "    \n",
    "    \n",
    "    if '&' not in inputfile and '514' not in inputfile and '583' not in inputfile and '342' not in inputfile and '4888' not in inputfile: # '&': This is something that gives errors, '383': Corrupted file, '467': same, '495': same, '502': same\n",
    "        \n",
    "        # There are a few files that wouldn't allow for automatic video duration extraction, so these are manually labeled and entered here\n",
    "        if outputfile == 'Z:\\\\shares\\\\ghepmk_data\\\\2020_Kappen_PMS\\\\ffmpeg\\\\10001\\\\video_{ParticipantNo}_270_30-11-2020.webm': # unable to read the duration for this file automatically\n",
    "            durations[inputfile] = 439\n",
    "        elif outputfile == 'Z:\\\\shares\\\\ghepmk_data\\\\2020_Kappen_PMS\\\\ffmpeg\\\\10001\\\\video_{ParticipantNo}_383_10-1-2021.webm':\n",
    "            durations[inputfile] = 411\n",
    "        elif outputfile == 'Z:\\\\shares\\\\ghepmk_data\\\\2020_Kappen_PMS\\\\ffmpeg\\\\10001\\\\video_{ParticipantNo}_467_15-3-2021.webm':\n",
    "            durations[inputfile] = 451\n",
    "        elif outputfile == 'Z:\\\\shares\\\\ghepmk_data\\\\2020_Kappen_PMS\\\\ffmpeg\\\\10001\\\\video_{ParticipantNo}_495_13-5-2021.webm':\n",
    "            durations[inputfile] = 386\n",
    "        elif outputfile == 'Z:\\\\shares\\\\ghepmk_data\\\\2020_Kappen_PMS\\\\ffmpeg\\\\10001\\\\video_{ParticipantNo}_502_9-5-2021.webm':\n",
    "            durations[inputfile] = 390\n",
    "        elif outputfile == 'Z:\\\\shares\\\\ghepmk_data\\\\2020_Kappen_PMS\\\\ffmpeg\\\\10001\\\\video_{ParticipantNo}_514_16-5-2021.webm':\n",
    "            durations[inputfile] = 397\n",
    "        elif outputfile == 'Z:\\\\shares\\\\ghepmk_data\\\\2020_Kappen_PMS\\\\ffmpeg\\\\10001\\\\video_{ParticipantNo}_521_9-6-2021.webm':\n",
    "            durations[inputfile] = 409\n",
    "        elif outputfile == 'Z:\\\\shares\\\\ghepmk_data\\\\2020_Kappen_PMS\\\\ffmpeg\\\\10001\\\\video_{ParticipantNo}_534_9-6-2021.webm':\n",
    "            durations[inputfile] = 428\n",
    "        elif outputfile == 'Z:\\\\shares\\\\ghepmk_data\\\\2020_Kappen_PMS\\\\ffmpeg\\\\10001\\\\video_{ParticipantNo}_678_24-9-2021.webm':\n",
    "            durations[inputfile] = 360\n",
    "\n",
    "        elif outputfile == 'Z:\\\\shares\\\\ghepmk_data\\\\2020_Kappen_PMS\\\\ffmpeg\\\\10002\\\\video_{ParticipantNo}_315_19-11-2020.webm':\n",
    "            durations[inputfile] = 519\n",
    "        elif outputfile == 'Z:\\\\shares\\\\ghepmk_data\\\\2020_Kappen_PMS\\\\ffmpeg\\\\10002\\\\video_{ParticipantNo}_383_24-1-2021.webm':\n",
    "            durations[inputfile] = 405\n",
    "        elif outputfile == 'Z:\\\\shares\\\\ghepmk_data\\\\2020_Kappen_PMS\\\\ffmpeg\\\\10002\\\\video_{ParticipantNo}_487_21-6-2021.webm':\n",
    "            durations[inputfile] = 334\n",
    "        elif outputfile == 'Z:\\\\shares\\\\ghepmk_data\\\\2020_Kappen_PMS\\\\ffmpeg\\\\10002\\\\video_{ParticipantNo}_502_22-5-2021.webm':\n",
    "            durations[inputfile] = 391\n",
    "        elif outputfile == 'Z:\\\\shares\\\\ghepmk_data\\\\2020_Kappen_PMS\\\\ffmpeg\\\\10002\\\\video_{ParticipantNo}_521_24-5-2021.webm':\n",
    "            durations[inputfile] = 115\n",
    "        elif outputfile == 'Z:\\\\shares\\\\ghepmk_data\\\\2020_Kappen_PMS\\\\ffmpeg\\\\10002\\\\video_{ParticipantNo}_534_22-6-2021.webm':\n",
    "            durations[inputfile] = 371\n",
    "        elif outputfile == 'Z:\\\\shares\\\\ghepmk_data\\\\2020_Kappen_PMS\\\\ffmpeg\\\\10002\\\\video_{ParticipantNo}_542_9-5-2021.webm':\n",
    "            durations[inputfile] = 97\n",
    "        elif outputfile == 'Z:\\\\shares\\\\ghepmk_data\\\\2020_Kappen_PMS\\\\ffmpeg\\\\10002\\\\video_{ParticipantNo}_584_30-4-2021.webm':\n",
    "            durations[inputfile] = 423\n",
    "        elif outputfile == 'Z:\\\\shares\\\\ghepmk_data\\\\2020_Kappen_PMS\\\\ffmpeg\\\\10002\\\\video_{ParticipantNo}_649_10-6-2021.webm':\n",
    "            durations[inputfile] = 406\n",
    "        elif outputfile == 'Z:\\\\shares\\\\ghepmk_data\\\\2020_Kappen_PMS\\\\ffmpeg\\\\10002\\\\video_{ParticipantNo}_661_17-6-2021.webm':\n",
    "            durations[inputfile] = 381\n",
    "        elif outputfile == 'Z:\\\\shares\\\\ghepmk_data\\\\2020_Kappen_PMS\\\\ffmpeg\\\\10002\\\\video_{ParticipantNo}_678_10-9-2021.webm':\n",
    "            durations[inputfile] = 366\n",
    "        else: # If it is an ordinary file, just run it and add it\n",
    "            if not os.path.isfile(outputfile): # Be sure to not use unneccessary precious computer time\n",
    "                command = '\"C:\\\\Users\\\\mitch\\\\OneDrive - UGent\\\\UGent\\\\Topics\\\\Facial\\\\ffmpeg-2021-10-18-git-d04c005021-full_build\\\\ffmpeg-2021-10-18-git-d04c005021-full_build\\\\bin\\\\ffmpeg.exe\" -i ' + inputfile + ' -vcodec copy -acodec copy ' + outputfile\n",
    "                subprocess.call(command, shell=True)\n",
    "            print(file)\n",
    "            durations[inputfile] = get_length(outputfile) # Get file duration and add it to dict\n",
    "\n",
    "#     if index > 5:\n",
    "#         break\n",
    "        \n",
    "with open(str(data_dir) + date_dir + 'video_durations.json', 'w') as fp: # Write dict to json to impot for 4_link_video_behavior.ipynb\n",
    "    json.dump(durations, fp)"
   ]
  },
  {
   "cell_type": "code",
   "execution_count": null,
   "id": "e284b713-6a33-4f30-bbe2-055f22334d4e",
   "metadata": {},
   "outputs": [],
   "source": []
  }
 ],
 "metadata": {
  "kernelspec": {
   "display_name": "Python 3 (ipykernel)",
   "language": "python",
   "name": "python3"
  },
  "language_info": {
   "codemirror_mode": {
    "name": "ipython",
    "version": 3
   },
   "file_extension": ".py",
   "mimetype": "text/x-python",
   "name": "python",
   "nbconvert_exporter": "python",
   "pygments_lexer": "ipython3",
   "version": "3.9.6"
  }
 },
 "nbformat": 4,
 "nbformat_minor": 5
}
