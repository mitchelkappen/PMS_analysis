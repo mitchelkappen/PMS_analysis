{
 "cells": [
  {
   "cell_type": "markdown",
   "id": "0e8d13f6-3941-4dd9-9b6c-a8fea1e4e6fd",
   "metadata": {},
   "source": [
    "# File durations\n",
    "\n",
    "In this short script we wll copy all files and then read their durations\n",
    "As shown in top answer here:\n",
    "    https://stackoverflow.com/questions/34118013/how-to-determine-webm-duration-using-ffprobe"
   ]
  },
  {
   "cell_type": "code",
   "execution_count": 3,
   "id": "10abbb81-4c0a-45ef-9714-947e93993389",
   "metadata": {},
   "outputs": [],
   "source": [
    "import glob\n",
    "import os\n",
    "import subprocess\n",
    "import numpy as np\n",
    "import pandas as pd\n",
    "import json\n",
    "\n",
    "from tqdm import tqdm\n",
    "\n",
    "from pathlib import Path\n"
   ]
  },
  {
   "cell_type": "code",
   "execution_count": 146,
   "id": "46d45e3c-b7f4-453a-8094-a2f1fe1cf565",
   "metadata": {},
   "outputs": [],
   "source": [
    "data_dir = Path('Z:/shares/ghepmk_data/2020_Kappen_PMS')\n",
    "date_dir = \"\\\\06102021\\\\\"\n",
    "os.chdir(data_dir)\n",
    "\n",
    "# AFiles = glob.glob(\"10001/\" + \"*ParticipantNo*\" + \"*.webm\", recursive = True) # get all csv's in directory\n",
    "# BFiles = glob.glob(\"10002/\" + \"*ParticipantNo*\" + \"*.webm\", recursive = True) # get all csv's in directory\n",
    "\n",
    "allVids = glob.glob(\"*/\" + \"*ParticipantNo*\" + \"*.webm\", recursive = True) # get all csv's in directory"
   ]
  },
  {
   "cell_type": "code",
   "execution_count": null,
   "id": "bf4916d2-19ca-4dca-a09e-797f5d7d92a8",
   "metadata": {},
   "outputs": [],
   "source": [
    "def get_length(input_video): # Function to get the duration of video's using ffprob - does have to be converted first though, see 'command' next block\n",
    "    result = subprocess.run(['ffprobe', '-v', 'error', '-show_entries', 'format=duration', '-of', 'default=noprint_wrappers=1:nokey=1', input_video], stdout=subprocess.PIPE, stderr=subprocess.STDOUT)\n",
    "    return float(result.stdout)"
   ]
  },
  {
   "cell_type": "code",
   "execution_count": null,
   "id": "ea8710da-3b7d-480e-9bcd-c3d3184a0504",
   "metadata": {
    "scrolled": true,
    "tags": []
   },
   "outputs": [
    {
     "name": "stderr",
     "output_type": "stream",
     "text": [
      "  0%|▎                                                                                 | 2/568 [00:00<00:31, 18.12it/s]"
     ]
    },
    {
     "name": "stdout",
     "output_type": "stream",
     "text": [
      "10001\\video_{ParticipantNo}_&à&ààà_15-3-2021.webm\n",
      "10001\\video_{ParticipantNo}_105_25-9-2020.webm\n",
      "10001\\video_{ParticipantNo}_119_6-9-2020.webm\n"
     ]
    },
    {
     "name": "stderr",
     "output_type": "stream",
     "text": [
      "  1%|▍                                                                                 | 3/568 [00:00<00:50, 11.15it/s]"
     ]
    },
    {
     "name": "stdout",
     "output_type": "stream",
     "text": [
      "10001\\video_{ParticipantNo}_123_28-8-2020.webm\n"
     ]
    },
    {
     "name": "stderr",
     "output_type": "stream",
     "text": [
      "  1%|▌                                                                                 | 4/568 [00:00<01:36,  5.84it/s]"
     ]
    },
    {
     "name": "stdout",
     "output_type": "stream",
     "text": [
      "10001\\video_{ParticipantNo}_124_24-8-2020.webm\n"
     ]
    },
    {
     "name": "stderr",
     "output_type": "stream",
     "text": [
      "  1%|▋                                                                                 | 5/568 [00:00<01:57,  4.77it/s]"
     ]
    },
    {
     "name": "stdout",
     "output_type": "stream",
     "text": [
      "10001\\video_{ParticipantNo}_125_6-9-2020.webm\n"
     ]
    },
    {
     "name": "stderr",
     "output_type": "stream",
     "text": [
      "  1%|▊                                                                                 | 6/568 [00:01<02:08,  4.36it/s]"
     ]
    },
    {
     "name": "stdout",
     "output_type": "stream",
     "text": [
      "10001\\video_{ParticipantNo}_127_17-9-2020.webm\n"
     ]
    },
    {
     "name": "stderr",
     "output_type": "stream",
     "text": [
      "  1%|█                                                                                 | 7/568 [00:01<02:40,  3.49it/s]"
     ]
    },
    {
     "name": "stdout",
     "output_type": "stream",
     "text": [
      "10001\\video_{ParticipantNo}_134_3-10-2020.webm\n",
      "10001\\video_{ParticipantNo}_135_12-10-2020.webm\n"
     ]
    },
    {
     "name": "stderr",
     "output_type": "stream",
     "text": [
      "  2%|█▎                                                                                | 9/568 [00:01<02:21,  3.95it/s]"
     ]
    },
    {
     "name": "stdout",
     "output_type": "stream",
     "text": [
      "10001\\video_{ParticipantNo}_137_9-11-2020.webm\n"
     ]
    },
    {
     "name": "stderr",
     "output_type": "stream",
     "text": [
      "  2%|█▍                                                                               | 10/568 [00:02<02:19,  4.00it/s]"
     ]
    },
    {
     "name": "stdout",
     "output_type": "stream",
     "text": [
      "10001\\video_{ParticipantNo}_143_11-11-2020.webm\n"
     ]
    },
    {
     "name": "stderr",
     "output_type": "stream",
     "text": [
      "  2%|█▌                                                                               | 11/568 [00:02<02:33,  3.64it/s]"
     ]
    },
    {
     "name": "stdout",
     "output_type": "stream",
     "text": [
      "10001\\video_{ParticipantNo}_144_1-11-2020.webm\n"
     ]
    },
    {
     "name": "stderr",
     "output_type": "stream",
     "text": [
      "  2%|█▊                                                                               | 13/568 [00:03<02:12,  4.19it/s]"
     ]
    },
    {
     "name": "stdout",
     "output_type": "stream",
     "text": [
      "10001\\video_{ParticipantNo}_145_1-11-2020.webm\n",
      "10001\\video_{ParticipantNo}_147_5-2-2021.webm\n"
     ]
    },
    {
     "name": "stderr",
     "output_type": "stream",
     "text": [
      "  2%|█▉                                                                               | 14/568 [00:03<02:21,  3.93it/s]"
     ]
    },
    {
     "name": "stdout",
     "output_type": "stream",
     "text": [
      "10001\\video_{ParticipantNo}_148_2-11-2020.webm\n"
     ]
    },
    {
     "name": "stderr",
     "output_type": "stream",
     "text": [
      "  3%|██▏                                                                              | 15/568 [00:03<02:18,  4.00it/s]"
     ]
    },
    {
     "name": "stdout",
     "output_type": "stream",
     "text": [
      "10001\\video_{ParticipantNo}_150_21-5-2021.webm\n"
     ]
    },
    {
     "name": "stderr",
     "output_type": "stream",
     "text": [
      "  3%|██▍                                                                              | 17/568 [00:03<01:58,  4.63it/s]"
     ]
    },
    {
     "name": "stdout",
     "output_type": "stream",
     "text": [
      "10001\\video_{ParticipantNo}_154_30-10-2020.webm\n",
      "10001\\video_{ParticipantNo}_155_28-10-2020.webm\n"
     ]
    },
    {
     "name": "stderr",
     "output_type": "stream",
     "text": [
      "  3%|██▋                                                                              | 19/568 [00:04<02:24,  3.80it/s]"
     ]
    },
    {
     "name": "stdout",
     "output_type": "stream",
     "text": [
      "10001\\video_{ParticipantNo}_156_8-11-2020.webm\n",
      "10001\\video_{ParticipantNo}_157_30-11-2020.webm\n",
      "10001\\video_{ParticipantNo}_158_26-11-2020.webm\n"
     ]
    },
    {
     "name": "stderr",
     "output_type": "stream",
     "text": [
      "  4%|███▎                                                                             | 23/568 [00:05<01:44,  5.21it/s]"
     ]
    },
    {
     "name": "stdout",
     "output_type": "stream",
     "text": [
      "10001\\video_{ParticipantNo}_162_6-11-2020.webm\n",
      "10001\\video_{ParticipantNo}_166_26-11-2020.webm\n",
      "10001\\video_{ParticipantNo}_168_6-11-2020.webm\n"
     ]
    },
    {
     "name": "stderr",
     "output_type": "stream",
     "text": [
      "  4%|███▍                                                                             | 24/568 [00:05<02:13,  4.07it/s]"
     ]
    },
    {
     "name": "stdout",
     "output_type": "stream",
     "text": [
      "10001\\video_{ParticipantNo}_169_26-11-2020.webm\n"
     ]
    },
    {
     "name": "stderr",
     "output_type": "stream",
     "text": [
      "  5%|███▊                                                                             | 27/568 [00:05<01:50,  4.88it/s]"
     ]
    },
    {
     "name": "stdout",
     "output_type": "stream",
     "text": [
      "10001\\video_{ParticipantNo}_170_1-11-2020.webm\n",
      "10001\\video_{ParticipantNo}_172_4-12-2020.webm\n"
     ]
    },
    {
     "name": "stderr",
     "output_type": "stream",
     "text": [
      "  5%|███▉                                                                             | 28/568 [00:06<01:34,  5.74it/s]"
     ]
    },
    {
     "name": "stdout",
     "output_type": "stream",
     "text": [
      "10001\\video_{ParticipantNo}_173_2-12-2020.webm\n",
      "10001\\video_{ParticipantNo}_176_10-12-2020.webm\n"
     ]
    },
    {
     "name": "stderr",
     "output_type": "stream",
     "text": [
      "  5%|████▏                                                                            | 29/568 [00:06<01:47,  5.00it/s]"
     ]
    },
    {
     "name": "stdout",
     "output_type": "stream",
     "text": [
      "10001\\video_{ParticipantNo}_179_12-12-2020.webm\n"
     ]
    },
    {
     "name": "stderr",
     "output_type": "stream",
     "text": [
      "  5%|████▎                                                                            | 30/568 [00:06<02:10,  4.13it/s]"
     ]
    },
    {
     "name": "stdout",
     "output_type": "stream",
     "text": [
      "10001\\video_{ParticipantNo}_181_4-12-2020.webm\n",
      "10001\\video_{ParticipantNo}_182_5-12-2020.webm\n"
     ]
    },
    {
     "name": "stderr",
     "output_type": "stream",
     "text": [
      "  6%|████▌                                                                            | 32/568 [00:07<02:02,  4.36it/s]"
     ]
    },
    {
     "name": "stdout",
     "output_type": "stream",
     "text": [
      "10001\\video_{ParticipantNo}_186_26-11-2020.webm\n"
     ]
    },
    {
     "name": "stderr",
     "output_type": "stream",
     "text": [
      "  6%|████▋                                                                            | 33/568 [00:07<02:02,  4.36it/s]"
     ]
    },
    {
     "name": "stdout",
     "output_type": "stream",
     "text": [
      "10001\\video_{ParticipantNo}_189_25-11-2020.webm\n"
     ]
    },
    {
     "name": "stderr",
     "output_type": "stream",
     "text": [
      "  6%|█████▏                                                                           | 36/568 [00:07<01:50,  4.80it/s]"
     ]
    },
    {
     "name": "stdout",
     "output_type": "stream",
     "text": [
      "10001\\video_{ParticipantNo}_192_7-11-2020.webm\n",
      "10001\\video_{ParticipantNo}_194_5-12-2020.webm\n",
      "10001\\video_{ParticipantNo}_197_30-11-2020.webm\n",
      "10001\\video_{ParticipantNo}_198_8-12-2020.webm\n"
     ]
    },
    {
     "name": "stderr",
     "output_type": "stream",
     "text": [
      "  7%|█████▍                                                                           | 38/568 [00:08<01:53,  4.66it/s]"
     ]
    },
    {
     "name": "stdout",
     "output_type": "stream",
     "text": [
      "10001\\video_{ParticipantNo}_199_6-11-2020.webm\n"
     ]
    },
    {
     "name": "stderr",
     "output_type": "stream",
     "text": [
      "  7%|█████▌                                                                           | 39/568 [00:08<02:29,  3.54it/s]"
     ]
    },
    {
     "name": "stdout",
     "output_type": "stream",
     "text": [
      "10001\\video_{ParticipantNo}_203_8-11-2020.webm\n"
     ]
    },
    {
     "name": "stderr",
     "output_type": "stream",
     "text": [
      "  7%|█████▉                                                                           | 42/568 [00:09<02:03,  4.26it/s]"
     ]
    },
    {
     "name": "stdout",
     "output_type": "stream",
     "text": [
      "10001\\video_{ParticipantNo}_207_5-12-2020.webm\n",
      "10001\\video_{ParticipantNo}_211_2-11-2020.webm\n",
      "10001\\video_{ParticipantNo}_213_18-12-2020.webm\n"
     ]
    },
    {
     "name": "stderr",
     "output_type": "stream",
     "text": [
      "  8%|██████▏                                                                          | 43/568 [00:09<02:15,  3.88it/s]"
     ]
    },
    {
     "name": "stdout",
     "output_type": "stream",
     "text": [
      "10001\\video_{ParticipantNo}_214_27-11-2020.webm\n"
     ]
    },
    {
     "name": "stderr",
     "output_type": "stream",
     "text": [
      "  8%|██████▎                                                                          | 44/568 [00:09<02:20,  3.74it/s]"
     ]
    },
    {
     "name": "stdout",
     "output_type": "stream",
     "text": [
      "10001\\video_{ParticipantNo}_219_1-12-2020.webm\n"
     ]
    },
    {
     "name": "stderr",
     "output_type": "stream",
     "text": [
      "  8%|██████▍                                                                          | 45/568 [00:10<02:28,  3.53it/s]"
     ]
    },
    {
     "name": "stdout",
     "output_type": "stream",
     "text": [
      "10001\\video_{ParticipantNo}_221_6-11-2020.webm\n"
     ]
    },
    {
     "name": "stderr",
     "output_type": "stream",
     "text": [
      "  8%|██████▌                                                                          | 46/568 [00:10<02:46,  3.14it/s]"
     ]
    },
    {
     "name": "stdout",
     "output_type": "stream",
     "text": [
      "10001\\video_{ParticipantNo}_225_12-11-2020.webm\n",
      "10001\\video_{ParticipantNo}_229_3-12-2020.webm\n"
     ]
    },
    {
     "name": "stderr",
     "output_type": "stream",
     "text": [
      "  8%|██████▊                                                                          | 48/568 [00:10<02:19,  3.74it/s]"
     ]
    },
    {
     "name": "stdout",
     "output_type": "stream",
     "text": [
      "10001\\video_{ParticipantNo}_231_30-11-2020.webm\n"
     ]
    },
    {
     "name": "stderr",
     "output_type": "stream",
     "text": [
      "  9%|██████▉                                                                          | 49/568 [00:11<02:27,  3.51it/s]"
     ]
    },
    {
     "name": "stdout",
     "output_type": "stream",
     "text": [
      "10001\\video_{ParticipantNo}_238_7-12-2020.webm\n"
     ]
    },
    {
     "name": "stderr",
     "output_type": "stream",
     "text": [
      "  9%|███████▏                                                                         | 50/568 [00:11<02:32,  3.41it/s]"
     ]
    },
    {
     "name": "stdout",
     "output_type": "stream",
     "text": [
      "10001\\video_{ParticipantNo}_242_5-11-2020.webm\n"
     ]
    },
    {
     "name": "stderr",
     "output_type": "stream",
     "text": [
      "  9%|███████▎                                                                         | 51/568 [00:11<02:32,  3.39it/s]"
     ]
    },
    {
     "name": "stdout",
     "output_type": "stream",
     "text": [
      "10001\\video_{ParticipantNo}_243_2-12-2020.webm\n"
     ]
    },
    {
     "name": "stderr",
     "output_type": "stream",
     "text": [
      "  9%|███████▍                                                                         | 52/568 [00:12<02:41,  3.20it/s]"
     ]
    },
    {
     "name": "stdout",
     "output_type": "stream",
     "text": [
      "10001\\video_{ParticipantNo}_247_5-11-2020.webm\n"
     ]
    },
    {
     "name": "stderr",
     "output_type": "stream",
     "text": [
      "  9%|███████▌                                                                         | 53/568 [00:12<03:06,  2.76it/s]"
     ]
    },
    {
     "name": "stdout",
     "output_type": "stream",
     "text": [
      "10001\\video_{ParticipantNo}_248_26-11-2020.webm\n",
      "10001\\video_{ParticipantNo}_250_2-12-2020.webm\n"
     ]
    },
    {
     "name": "stderr",
     "output_type": "stream",
     "text": [
      " 10%|███████▊                                                                         | 55/568 [00:12<02:35,  3.29it/s]"
     ]
    },
    {
     "name": "stdout",
     "output_type": "stream",
     "text": [
      "10001\\video_{ParticipantNo}_256_5-12-2020.webm\n"
     ]
    },
    {
     "name": "stderr",
     "output_type": "stream",
     "text": [
      " 10%|███████▉                                                                         | 56/568 [00:13<02:23,  3.56it/s]"
     ]
    },
    {
     "name": "stdout",
     "output_type": "stream",
     "text": [
      "10001\\video_{ParticipantNo}_258_13-12-2020.webm\n",
      "10001\\video_{ParticipantNo}_261_25-1-2021.webm\n"
     ]
    },
    {
     "name": "stderr",
     "output_type": "stream",
     "text": [
      " 10%|████████▎                                                                        | 58/568 [00:13<02:08,  3.97it/s]"
     ]
    },
    {
     "name": "stdout",
     "output_type": "stream",
     "text": [
      "10001\\video_{ParticipantNo}_262_15-1-2021.webm\n"
     ]
    },
    {
     "name": "stderr",
     "output_type": "stream",
     "text": [
      " 10%|████████▍                                                                        | 59/568 [00:13<02:18,  3.67it/s]"
     ]
    },
    {
     "name": "stdout",
     "output_type": "stream",
     "text": [
      "10001\\video_{ParticipantNo}_263_4-12-2020.webm\n"
     ]
    },
    {
     "name": "stderr",
     "output_type": "stream",
     "text": [
      " 11%|████████▌                                                                        | 60/568 [00:14<02:09,  3.93it/s]"
     ]
    },
    {
     "name": "stdout",
     "output_type": "stream",
     "text": [
      "10001\\video_{ParticipantNo}_266_27-11-2020.webm\n"
     ]
    },
    {
     "name": "stderr",
     "output_type": "stream",
     "text": [
      " 11%|████████▋                                                                        | 61/568 [00:14<02:17,  3.70it/s]"
     ]
    },
    {
     "name": "stdout",
     "output_type": "stream",
     "text": [
      "10001\\video_{ParticipantNo}_270_30-11-2020.webm\n",
      "10001\\video_{ParticipantNo}_271_4-12-2020.webm\n"
     ]
    },
    {
     "name": "stderr",
     "output_type": "stream",
     "text": [
      " 11%|████████▉                                                                        | 63/568 [00:14<01:59,  4.21it/s]"
     ]
    },
    {
     "name": "stdout",
     "output_type": "stream",
     "text": [
      "10001\\video_{ParticipantNo}_274_29-11-2020.webm\n"
     ]
    },
    {
     "name": "stderr",
     "output_type": "stream",
     "text": [
      " 11%|█████████▎                                                                       | 65/568 [00:15<01:51,  4.53it/s]"
     ]
    },
    {
     "name": "stdout",
     "output_type": "stream",
     "text": [
      "10001\\video_{ParticipantNo}_278_2-12-2020.webm\n"
     ]
    },
    {
     "name": "stderr",
     "output_type": "stream",
     "text": [
      " 12%|█████████▍                                                                       | 66/568 [00:15<01:44,  4.79it/s]"
     ]
    },
    {
     "name": "stdout",
     "output_type": "stream",
     "text": [
      "10001\\video_{ParticipantNo}_279_29-11-2020.webm\n",
      "10001\\video_{ParticipantNo}_281_1-12-2020.webm\n"
     ]
    },
    {
     "name": "stderr",
     "output_type": "stream",
     "text": [
      " 12%|█████████▋                                                                       | 68/568 [00:15<01:41,  4.93it/s]"
     ]
    },
    {
     "name": "stdout",
     "output_type": "stream",
     "text": [
      "10001\\video_{ParticipantNo}_282_14-1-2021.webm\n",
      "10001\\video_{ParticipantNo}_283_25-11-2020.webm\n"
     ]
    },
    {
     "name": "stderr",
     "output_type": "stream",
     "text": [
      " 12%|█████████▊                                                                       | 69/568 [00:16<02:27,  3.38it/s]"
     ]
    },
    {
     "name": "stdout",
     "output_type": "stream",
     "text": [
      "10001\\video_{ParticipantNo}_285_9-11-2020.webm\n"
     ]
    },
    {
     "name": "stderr",
     "output_type": "stream",
     "text": [
      " 12%|██████████▏                                                                      | 71/568 [00:16<01:53,  4.39it/s]"
     ]
    },
    {
     "name": "stdout",
     "output_type": "stream",
     "text": [
      "10001\\video_{ParticipantNo}_288_7-11-2020.webm\n",
      "10001\\video_{ParticipantNo}_289_13-12-2020.webm\n"
     ]
    },
    {
     "name": "stderr",
     "output_type": "stream",
     "text": [
      " 13%|██████████▎                                                                      | 72/568 [00:16<01:53,  4.39it/s]"
     ]
    },
    {
     "name": "stdout",
     "output_type": "stream",
     "text": [
      "10001\\video_{ParticipantNo}_290_30-11-2020.webm\n"
     ]
    },
    {
     "name": "stderr",
     "output_type": "stream",
     "text": [
      " 13%|██████████▍                                                                      | 73/568 [00:17<02:07,  3.87it/s]"
     ]
    },
    {
     "name": "stdout",
     "output_type": "stream",
     "text": [
      "10001\\video_{ParticipantNo}_291_30-11-2020.webm\n"
     ]
    },
    {
     "name": "stderr",
     "output_type": "stream",
     "text": [
      " 13%|██████████▌                                                                      | 74/568 [00:17<02:03,  4.00it/s]"
     ]
    },
    {
     "name": "stdout",
     "output_type": "stream",
     "text": [
      "10001\\video_{ParticipantNo}_293_9-11-2020.webm\n"
     ]
    },
    {
     "name": "stderr",
     "output_type": "stream",
     "text": [
      " 13%|██████████▋                                                                      | 75/568 [00:17<02:21,  3.49it/s]"
     ]
    },
    {
     "name": "stdout",
     "output_type": "stream",
     "text": [
      "10001\\video_{ParticipantNo}_294_8-11-2020.webm\n"
     ]
    },
    {
     "name": "stderr",
     "output_type": "stream",
     "text": [
      " 14%|██████████▉                                                                      | 77/568 [00:18<02:23,  3.41it/s]"
     ]
    },
    {
     "name": "stdout",
     "output_type": "stream",
     "text": [
      "10001\\video_{ParticipantNo}_295_8-12-2020.webm\n",
      "10001\\video_{ParticipantNo}_296_11-11-2020.webm\n"
     ]
    },
    {
     "name": "stderr",
     "output_type": "stream",
     "text": [
      " 14%|███████████                                                                      | 78/568 [00:18<02:10,  3.77it/s]"
     ]
    },
    {
     "name": "stdout",
     "output_type": "stream",
     "text": [
      "10001\\video_{ParticipantNo}_302_3-11-2020.webm\n"
     ]
    },
    {
     "name": "stderr",
     "output_type": "stream",
     "text": [
      " 14%|███████████▎                                                                     | 79/568 [00:18<02:06,  3.88it/s]"
     ]
    },
    {
     "name": "stdout",
     "output_type": "stream",
     "text": [
      "10001\\video_{ParticipantNo}_307_29-11-2020.webm\n",
      "10001\\video_{ParticipantNo}_308_4-12-2020.webm\n"
     ]
    },
    {
     "name": "stderr",
     "output_type": "stream",
     "text": [
      " 15%|███████████▊                                                                     | 83/568 [00:19<01:31,  5.31it/s]"
     ]
    },
    {
     "name": "stdout",
     "output_type": "stream",
     "text": [
      "10001\\video_{ParticipantNo}_315_30-11-2020.webm\n",
      "10001\\video_{ParticipantNo}_317_6-12-2020.webm\n"
     ]
    },
    {
     "name": "stderr",
     "output_type": "stream",
     "text": [
      " 15%|████████████                                                                     | 85/568 [00:19<01:16,  6.34it/s]"
     ]
    },
    {
     "name": "stdout",
     "output_type": "stream",
     "text": [
      "10001\\video_{ParticipantNo}_318_28-11-2020.webm\n",
      "10001\\video_{ParticipantNo}_321_25-11-2020.webm\n",
      "10001\\video_{ParticipantNo}_324_11-12-2020.webm\n"
     ]
    },
    {
     "name": "stderr",
     "output_type": "stream",
     "text": [
      " 15%|████████████▎                                                                    | 86/568 [00:19<01:08,  7.01it/s]"
     ]
    },
    {
     "name": "stdout",
     "output_type": "stream",
     "text": [
      "10001\\video_{ParticipantNo}_326_16-12-2020.webm\n"
     ]
    },
    {
     "name": "stderr",
     "output_type": "stream",
     "text": [
      " 15%|████████████▍                                                                    | 87/568 [00:19<01:25,  5.62it/s]"
     ]
    },
    {
     "name": "stdout",
     "output_type": "stream",
     "text": [
      "10001\\video_{ParticipantNo}_327_5-12-2020.webm\n",
      "10001\\video_{ParticipantNo}_329_8-12-2020.webm\n"
     ]
    },
    {
     "name": "stderr",
     "output_type": "stream",
     "text": [
      " 16%|████████████▋                                                                    | 89/568 [00:20<01:34,  5.04it/s]"
     ]
    },
    {
     "name": "stdout",
     "output_type": "stream",
     "text": [
      "10001\\video_{ParticipantNo}_332_9-11-2020.webm\n"
     ]
    },
    {
     "name": "stderr",
     "output_type": "stream",
     "text": [
      " 16%|████████████▊                                                                    | 90/568 [00:20<01:37,  4.89it/s]"
     ]
    },
    {
     "name": "stdout",
     "output_type": "stream",
     "text": [
      "10001\\video_{ParticipantNo}_334_7-11-2020.webm\n",
      "10001\\video_{ParticipantNo}_335_2-12-2020.webm\n"
     ]
    },
    {
     "name": "stderr",
     "output_type": "stream",
     "text": [
      " 16%|█████████████                                                                    | 92/568 [00:20<01:26,  5.48it/s]"
     ]
    },
    {
     "name": "stdout",
     "output_type": "stream",
     "text": [
      "10001\\video_{ParticipantNo}_338_10-12-2020.webm\n"
     ]
    },
    {
     "name": "stderr",
     "output_type": "stream",
     "text": [
      " 16%|█████████████▎                                                                   | 93/568 [00:21<01:37,  4.87it/s]"
     ]
    },
    {
     "name": "stdout",
     "output_type": "stream",
     "text": [
      "10001\\video_{ParticipantNo}_339_2-12-2020.webm\n",
      "10001\\video_{ParticipantNo}_340_10-12-2020.webm\n"
     ]
    },
    {
     "name": "stderr",
     "output_type": "stream",
     "text": [
      " 17%|█████████████▋                                                                   | 96/568 [00:21<01:49,  4.32it/s]"
     ]
    },
    {
     "name": "stdout",
     "output_type": "stream",
     "text": [
      "10001\\video_{ParticipantNo}_341_16-12-2020.webm\n",
      "10001\\video_{ParticipantNo}_342_11-12-2020.webm\n"
     ]
    },
    {
     "name": "stderr",
     "output_type": "stream",
     "text": [
      " 17%|█████████████▉                                                                   | 98/568 [00:22<02:27,  3.19it/s]"
     ]
    },
    {
     "name": "stdout",
     "output_type": "stream",
     "text": [
      "10001\\video_{ParticipantNo}_349_6-2-2021.webm\n",
      "10001\\video_{ParticipantNo}_350_21-1-2021.webm\n"
     ]
    },
    {
     "name": "stderr",
     "output_type": "stream",
     "text": [
      " 17%|██████████████                                                                   | 99/568 [00:23<02:26,  3.20it/s]"
     ]
    },
    {
     "name": "stdout",
     "output_type": "stream",
     "text": [
      "10001\\video_{ParticipantNo}_355_8-1-2021.webm\n"
     ]
    },
    {
     "name": "stderr",
     "output_type": "stream",
     "text": [
      " 18%|██████████████                                                                  | 100/568 [00:23<02:11,  3.55it/s]"
     ]
    },
    {
     "name": "stdout",
     "output_type": "stream",
     "text": [
      "10001\\video_{ParticipantNo}_361_16-1-2021.webm\n"
     ]
    },
    {
     "name": "stderr",
     "output_type": "stream",
     "text": [
      " 18%|██████████████▏                                                                 | 101/568 [00:23<02:25,  3.21it/s]"
     ]
    },
    {
     "name": "stdout",
     "output_type": "stream",
     "text": [
      "10001\\video_{ParticipantNo}_362_28-1-2021.webm\n"
     ]
    },
    {
     "name": "stderr",
     "output_type": "stream",
     "text": [
      " 18%|██████████████▎                                                                 | 102/568 [00:24<02:31,  3.07it/s]"
     ]
    },
    {
     "name": "stdout",
     "output_type": "stream",
     "text": [
      "10001\\video_{ParticipantNo}_363_23-1-2021.webm\n"
     ]
    },
    {
     "name": "stderr",
     "output_type": "stream",
     "text": [
      " 18%|██████████████▌                                                                 | 103/568 [00:24<02:26,  3.17it/s]"
     ]
    },
    {
     "name": "stdout",
     "output_type": "stream",
     "text": [
      "10001\\video_{ParticipantNo}_370_11-1-2021.webm\n",
      "10001\\video_{ParticipantNo}_381_6-1-2021.webm\n"
     ]
    },
    {
     "name": "stderr",
     "output_type": "stream",
     "text": [
      " 18%|██████████████▊                                                                 | 105/568 [00:24<02:13,  3.47it/s]"
     ]
    },
    {
     "name": "stdout",
     "output_type": "stream",
     "text": [
      "10001\\video_{ParticipantNo}_382_22-1-2021.webm\n"
     ]
    },
    {
     "name": "stderr",
     "output_type": "stream",
     "text": [
      " 19%|██████████████▉                                                                 | 106/568 [00:25<02:02,  3.77it/s]"
     ]
    },
    {
     "name": "stdout",
     "output_type": "stream",
     "text": [
      "10001\\video_{ParticipantNo}_383_10-1-2021.webm\n",
      "10001\\video_{ParticipantNo}_387_20-1-2021.webm\n"
     ]
    },
    {
     "name": "stderr",
     "output_type": "stream",
     "text": [
      " 19%|███████████████▏                                                                | 108/568 [00:47<26:45,  3.49s/it]"
     ]
    },
    {
     "name": "stdout",
     "output_type": "stream",
     "text": [
      "10001\\video_{ParticipantNo}_388_17-1-2021.webm\n"
     ]
    },
    {
     "name": "stderr",
     "output_type": "stream",
     "text": [
      " 19%|███████████████▎                                                                | 109/568 [01:03<56:41,  7.41s/it]"
     ]
    },
    {
     "name": "stdout",
     "output_type": "stream",
     "text": [
      "10001\\video_{ParticipantNo}_390_9-1-2021.webm\n"
     ]
    },
    {
     "name": "stderr",
     "output_type": "stream",
     "text": [
      " 19%|███████████████                                                               | 110/568 [01:23<1:25:42, 11.23s/it]"
     ]
    },
    {
     "name": "stdout",
     "output_type": "stream",
     "text": [
      "10001\\video_{ParticipantNo}_391_19-1-2021.webm\n"
     ]
    },
    {
     "name": "stderr",
     "output_type": "stream",
     "text": [
      " 20%|███████████████▏                                                              | 111/568 [01:53<2:08:37, 16.89s/it]"
     ]
    },
    {
     "name": "stdout",
     "output_type": "stream",
     "text": [
      "10001\\video_{ParticipantNo}_392_20-1-2021.webm\n"
     ]
    },
    {
     "name": "stderr",
     "output_type": "stream",
     "text": [
      " 20%|███████████████▍                                                              | 112/568 [02:14<2:16:41, 17.99s/it]"
     ]
    },
    {
     "name": "stdout",
     "output_type": "stream",
     "text": [
      "10001\\video_{ParticipantNo}_394_28-1-2021.webm\n"
     ]
    },
    {
     "name": "stderr",
     "output_type": "stream",
     "text": [
      " 20%|███████████████▌                                                              | 113/568 [02:46<2:48:29, 22.22s/it]"
     ]
    },
    {
     "name": "stdout",
     "output_type": "stream",
     "text": [
      "10001\\video_{ParticipantNo}_398_11-2-2021.webm\n"
     ]
    },
    {
     "name": "stderr",
     "output_type": "stream",
     "text": [
      " 20%|███████████████▋                                                              | 114/568 [03:14<3:02:13, 24.08s/it]"
     ]
    },
    {
     "name": "stdout",
     "output_type": "stream",
     "text": [
      "10001\\video_{ParticipantNo}_399_11-1-2021.webm\n"
     ]
    },
    {
     "name": "stderr",
     "output_type": "stream",
     "text": [
      " 20%|███████████████▊                                                              | 115/568 [03:35<2:53:31, 22.98s/it]"
     ]
    },
    {
     "name": "stdout",
     "output_type": "stream",
     "text": [
      "10001\\video_{ParticipantNo}_402_3-2-2021.webm\n"
     ]
    },
    {
     "name": "stderr",
     "output_type": "stream",
     "text": [
      " 20%|███████████████▉                                                              | 116/568 [04:05<3:10:09, 25.24s/it]"
     ]
    },
    {
     "name": "stdout",
     "output_type": "stream",
     "text": [
      "10001\\video_{ParticipantNo}_407_8-2-2021.webm\n"
     ]
    },
    {
     "name": "stderr",
     "output_type": "stream",
     "text": [
      " 21%|████████████████                                                              | 117/568 [04:21<2:48:37, 22.43s/it]"
     ]
    },
    {
     "name": "stdout",
     "output_type": "stream",
     "text": [
      "10001\\video_{ParticipantNo}_408_1-2-2021.webm\n"
     ]
    },
    {
     "name": "stderr",
     "output_type": "stream",
     "text": [
      " 21%|████████████████▏                                                             | 118/568 [04:41<2:41:50, 21.58s/it]"
     ]
    },
    {
     "name": "stdout",
     "output_type": "stream",
     "text": [
      "10001\\video_{ParticipantNo}_409_30-1-2021.webm\n"
     ]
    },
    {
     "name": "stderr",
     "output_type": "stream",
     "text": [
      " 21%|████████████████▎                                                             | 119/568 [05:04<2:45:24, 22.10s/it]"
     ]
    },
    {
     "name": "stdout",
     "output_type": "stream",
     "text": [
      "10001\\video_{ParticipantNo}_410_11-2-2021.webm\n"
     ]
    },
    {
     "name": "stderr",
     "output_type": "stream",
     "text": [
      " 21%|████████████████▍                                                             | 120/568 [05:23<2:37:40, 21.12s/it]"
     ]
    },
    {
     "name": "stdout",
     "output_type": "stream",
     "text": [
      "10001\\video_{ParticipantNo}_411_1-2-2021.webm\n"
     ]
    },
    {
     "name": "stderr",
     "output_type": "stream",
     "text": [
      " 21%|████████████████▌                                                             | 121/568 [05:49<2:48:19, 22.59s/it]"
     ]
    },
    {
     "name": "stdout",
     "output_type": "stream",
     "text": [
      "10001\\video_{ParticipantNo}_414_3-2-2021.webm\n"
     ]
    },
    {
     "name": "stderr",
     "output_type": "stream",
     "text": [
      " 21%|████████████████▊                                                             | 122/568 [06:03<2:28:05, 19.92s/it]"
     ]
    },
    {
     "name": "stdout",
     "output_type": "stream",
     "text": [
      "10001\\video_{ParticipantNo}_415_1-2-2021.webm\n"
     ]
    },
    {
     "name": "stderr",
     "output_type": "stream",
     "text": [
      " 22%|████████████████▉                                                             | 123/568 [06:23<2:28:21, 20.00s/it]"
     ]
    },
    {
     "name": "stdout",
     "output_type": "stream",
     "text": [
      "10001\\video_{ParticipantNo}_416_7-2-2021.webm\n"
     ]
    },
    {
     "name": "stderr",
     "output_type": "stream",
     "text": [
      " 22%|█████████████████                                                             | 124/568 [06:45<2:33:18, 20.72s/it]"
     ]
    },
    {
     "name": "stdout",
     "output_type": "stream",
     "text": [
      "10001\\video_{ParticipantNo}_419_23-2-2021.webm\n"
     ]
    },
    {
     "name": "stderr",
     "output_type": "stream",
     "text": [
      " 22%|█████████████████▏                                                            | 125/568 [07:04<2:29:25, 20.24s/it]"
     ]
    },
    {
     "name": "stdout",
     "output_type": "stream",
     "text": [
      "10001\\video_{ParticipantNo}_420_25-1-2021.webm\n"
     ]
    },
    {
     "name": "stderr",
     "output_type": "stream",
     "text": [
      " 22%|█████████████████▎                                                            | 126/568 [07:29<2:38:00, 21.45s/it]"
     ]
    },
    {
     "name": "stdout",
     "output_type": "stream",
     "text": [
      "10001\\video_{ParticipantNo}_422_29-1-2021.webm\n"
     ]
    },
    {
     "name": "stderr",
     "output_type": "stream",
     "text": [
      " 22%|█████████████████▍                                                            | 127/568 [07:43<2:21:07, 19.20s/it]"
     ]
    },
    {
     "name": "stdout",
     "output_type": "stream",
     "text": [
      "10001\\video_{ParticipantNo}_427_25-2-2021.webm\n"
     ]
    },
    {
     "name": "stderr",
     "output_type": "stream",
     "text": [
      " 23%|█████████████████▌                                                            | 128/568 [08:03<2:23:45, 19.60s/it]"
     ]
    },
    {
     "name": "stdout",
     "output_type": "stream",
     "text": [
      "10001\\video_{ParticipantNo}_428_4-3-2021.webm\n"
     ]
    },
    {
     "name": "stderr",
     "output_type": "stream",
     "text": [
      " 23%|█████████████████▋                                                            | 129/568 [08:16<2:08:24, 17.55s/it]"
     ]
    },
    {
     "name": "stdout",
     "output_type": "stream",
     "text": [
      "10001\\video_{ParticipantNo}_431_6-3-2021.webm\n"
     ]
    },
    {
     "name": "stderr",
     "output_type": "stream",
     "text": [
      " 23%|█████████████████▊                                                            | 130/568 [08:39<2:19:39, 19.13s/it]"
     ]
    },
    {
     "name": "stdout",
     "output_type": "stream",
     "text": [
      "10001\\video_{ParticipantNo}_435_26-3-2021.webm\n"
     ]
    },
    {
     "name": "stderr",
     "output_type": "stream",
     "text": [
      " 23%|█████████████████▉                                                            | 131/568 [08:55<2:13:13, 18.29s/it]"
     ]
    },
    {
     "name": "stdout",
     "output_type": "stream",
     "text": [
      "10001\\video_{ParticipantNo}_436_21-3-2021.webm\n"
     ]
    },
    {
     "name": "stderr",
     "output_type": "stream",
     "text": [
      " 23%|██████████████████▏                                                           | 132/568 [09:23<2:32:54, 21.04s/it]"
     ]
    },
    {
     "name": "stdout",
     "output_type": "stream",
     "text": [
      "10001\\video_{ParticipantNo}_437_8-3-2021.webm\n"
     ]
    },
    {
     "name": "stderr",
     "output_type": "stream",
     "text": [
      " 23%|██████████████████▎                                                           | 133/568 [09:58<3:04:18, 25.42s/it]"
     ]
    },
    {
     "name": "stdout",
     "output_type": "stream",
     "text": [
      "10001\\video_{ParticipantNo}_441_26-2-2021.webm\n"
     ]
    },
    {
     "name": "stderr",
     "output_type": "stream",
     "text": [
      " 24%|██████████████████▍                                                           | 134/568 [10:24<3:04:37, 25.52s/it]"
     ]
    },
    {
     "name": "stdout",
     "output_type": "stream",
     "text": [
      "10001\\video_{ParticipantNo}_442_16-3-2021.webm\n"
     ]
    },
    {
     "name": "stderr",
     "output_type": "stream",
     "text": [
      " 24%|██████████████████▌                                                           | 135/568 [10:46<2:55:58, 24.38s/it]"
     ]
    },
    {
     "name": "stdout",
     "output_type": "stream",
     "text": [
      "10001\\video_{ParticipantNo}_444_9-4-2021.webm\n"
     ]
    },
    {
     "name": "stderr",
     "output_type": "stream",
     "text": [
      " 24%|██████████████████▋                                                           | 136/568 [11:14<3:05:12, 25.72s/it]"
     ]
    },
    {
     "name": "stdout",
     "output_type": "stream",
     "text": [
      "10001\\video_{ParticipantNo}_445_10-3-2021.webm\n"
     ]
    },
    {
     "name": "stderr",
     "output_type": "stream",
     "text": [
      " 24%|██████████████████▊                                                           | 137/568 [11:32<2:47:49, 23.36s/it]"
     ]
    },
    {
     "name": "stdout",
     "output_type": "stream",
     "text": [
      "10001\\video_{ParticipantNo}_446_28-3-2021.webm\n"
     ]
    },
    {
     "name": "stderr",
     "output_type": "stream",
     "text": [
      " 24%|██████████████████▉                                                           | 138/568 [12:03<3:03:17, 25.58s/it]"
     ]
    },
    {
     "name": "stdout",
     "output_type": "stream",
     "text": [
      "10001\\video_{ParticipantNo}_447_5-4-2021.webm\n"
     ]
    },
    {
     "name": "stderr",
     "output_type": "stream",
     "text": [
      " 24%|███████████████████                                                           | 139/568 [12:36<3:19:28, 27.90s/it]"
     ]
    },
    {
     "name": "stdout",
     "output_type": "stream",
     "text": [
      "10001\\video_{ParticipantNo}_454_18-3-2021.webm\n"
     ]
    },
    {
     "name": "stderr",
     "output_type": "stream",
     "text": [
      " 25%|███████████████████▏                                                          | 140/568 [12:59<3:07:13, 26.25s/it]"
     ]
    },
    {
     "name": "stdout",
     "output_type": "stream",
     "text": [
      "10001\\video_{ParticipantNo}_457_27-3-2021.webm\n"
     ]
    },
    {
     "name": "stderr",
     "output_type": "stream",
     "text": [
      " 25%|███████████████████▎                                                          | 141/568 [13:47<3:53:44, 32.84s/it]"
     ]
    },
    {
     "name": "stdout",
     "output_type": "stream",
     "text": [
      "10001\\video_{ParticipantNo}_458_18-3-2021.webm\n"
     ]
    },
    {
     "name": "stderr",
     "output_type": "stream",
     "text": [
      " 25%|███████████████████▌                                                          | 142/568 [14:24<4:03:00, 34.23s/it]"
     ]
    },
    {
     "name": "stdout",
     "output_type": "stream",
     "text": [
      "10001\\video_{ParticipantNo}_459_19-3-2021.webm\n"
     ]
    },
    {
     "name": "stderr",
     "output_type": "stream",
     "text": [
      " 25%|███████████████████▋                                                          | 143/568 [14:51<3:45:08, 31.79s/it]"
     ]
    },
    {
     "name": "stdout",
     "output_type": "stream",
     "text": [
      "10001\\video_{ParticipantNo}_461_23-3-2021.webm\n"
     ]
    },
    {
     "name": "stderr",
     "output_type": "stream",
     "text": [
      " 25%|███████████████████▊                                                          | 144/568 [15:19<3:36:49, 30.68s/it]"
     ]
    },
    {
     "name": "stdout",
     "output_type": "stream",
     "text": [
      "10001\\video_{ParticipantNo}_465_25-3-2021.webm\n"
     ]
    },
    {
     "name": "stderr",
     "output_type": "stream",
     "text": [
      " 26%|███████████████████▉                                                          | 145/568 [15:44<3:24:48, 29.05s/it]"
     ]
    },
    {
     "name": "stdout",
     "output_type": "stream",
     "text": [
      "10001\\video_{ParticipantNo}_466_14-3-2021.webm\n"
     ]
    },
    {
     "name": "stderr",
     "output_type": "stream",
     "text": [
      " 26%|████████████████████                                                          | 146/568 [16:16<3:30:11, 29.88s/it]"
     ]
    },
    {
     "name": "stdout",
     "output_type": "stream",
     "text": [
      "10001\\video_{ParticipantNo}_467_15-3-2021.webm\n"
     ]
    }
   ],
   "source": [
    "ffmpeg_dir = Path('C:\\\\Users\\\\mitch\\\\OneDrive - UGent\\\\UGent\\\\Topics\\\\Facial\\\\ffmpeg-2021-10-18-git-d04c005021-full_build\\\\ffmpeg-2021-10-18-git-d04c005021-full_build\\\\bin')\n",
    "os.chdir(ffmpeg_dir)\n",
    "\n",
    "durations = {}\n",
    "\n",
    "index = 0 # initiate counter\n",
    "for file in tqdm(allVids):\n",
    "    index += 1\n",
    "    print(file)\n",
    "    \n",
    "   \n",
    "    inputfile = os.path.join(data_dir, Path(file))\n",
    "    outputfile = os.path.join(data_dir, Path(\"ffmpeg\"), Path(file))\n",
    "    \n",
    "    \n",
    "    if '&' not in inputfile and '383' not in inputfile: # '&': This is something that gives errors, '383': Corrupted file\n",
    "        if not os.path.isfile(outputfile): # Be sure to not use unneccessary precious computer time\n",
    "            command = '\"C:\\\\Users\\\\mitch\\\\OneDrive - UGent\\\\UGent\\\\Topics\\\\Facial\\\\ffmpeg-2021-10-18-git-d04c005021-full_build\\\\ffmpeg-2021-10-18-git-d04c005021-full_build\\\\bin\\\\ffmpeg.exe\" -i ' + inputfile + ' -vcodec copy -acodec copy ' + outputfile\n",
    "            subprocess.call(command, shell=True)\n",
    "        \n",
    "        if outputfile == 'Z:\\\\shares\\\\ghepmk_data\\\\2020_Kappen_PMS\\\\ffmpeg\\\\10001\\\\video_{ParticipantNo}_270_30-11-2020.webm': # unable to read the duration for this file automatically\n",
    "            durations[inputfile] = 439\n",
    "        else:\n",
    "            durations[inputfile] = get_length(outputfile) # Get file duration and add it to dict\n",
    "\n",
    "#     if index > 5:\n",
    "#         break\n",
    "        \n",
    "with open(str(data_dir) + date_dir + 'video_durations.json', 'w') as fp: # Write dict to json to impot for 4_link_video_behavior.ipynb\n",
    "    json.dump(durations, fp)"
   ]
  },
  {
   "cell_type": "code",
   "execution_count": 160,
   "id": "00679da8-3c63-4a09-9f05-85fe44470bb5",
   "metadata": {},
   "outputs": [
    {
     "name": "stdout",
     "output_type": "stream",
     "text": [
      "Z:\\shares\\ghepmk_data\\2020_Kappen_PMS\\10001\\video_{ParticipantNo}_383_10-1-2021.webm\n"
     ]
    }
   ],
   "source": [
    "print(inputfile)\n",
    "if '&' not in inputfile and '383' not in inputfile: # '&': This is something that gives errors, '383': Corrupted file\n",
    "    print('hi')\n",
    "\n",
    "    \n"
   ]
  }
 ],
 "metadata": {
  "kernelspec": {
   "display_name": "Python 3 (ipykernel)",
   "language": "python",
   "name": "python3"
  },
  "language_info": {
   "codemirror_mode": {
    "name": "ipython",
    "version": 3
   },
   "file_extension": ".py",
   "mimetype": "text/x-python",
   "name": "python",
   "nbconvert_exporter": "python",
   "pygments_lexer": "ipython3",
   "version": "3.9.6"
  }
 },
 "nbformat": 4,
 "nbformat_minor": 5
}
